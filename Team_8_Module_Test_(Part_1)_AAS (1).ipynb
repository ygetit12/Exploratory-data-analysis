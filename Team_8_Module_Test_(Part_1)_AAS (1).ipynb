{
  "nbformat": 4,
  "nbformat_minor": 0,
  "metadata": {
    "colab": {
      "provenance": []
    },
    "kernelspec": {
      "name": "python3",
      "display_name": "Python 3"
    },
    "language_info": {
      "name": "python"
    }
  },
  "cells": [
    {
      "cell_type": "markdown",
      "source": [
        "###Business Objectives\n",
        "This case study aims to identify patterns which indicate if a client has difficulty paying their installments which may be used for taking actions such as denying the loan, reducing the amount of loan, lending (to risky applicants) at a higher interest rate, etc. This will ensure that the consumers capable of repaying the loan are not rejected. Identification of such applicants using EDA is the aim of this case study.\n",
        " \n",
        "In other words, the company wants to understand the driving factors (or driver variables) behind loan default, i.e. the variables which are strong indicators of default.  The company can utilise this knowledge for its portfolio and risk assessment.\n",
        "To develop your understanding of the domain, you are advised to independently research a little about risk analytics - understanding the types of variables and their significance should be enough)\n"
      ],
      "metadata": {
        "id": "ry7xgrRTrBy2"
      }
    },
    {
      "cell_type": "markdown",
      "source": [
        "##Importing all Require libraries for the case study:"
      ],
      "metadata": {
        "id": "hc2zFs49gsrM"
      }
    },
    {
      "cell_type": "code",
      "source": [
        "import numpy as np\n",
        "import pandas as pd\n",
        "import os\n",
        "import matplotlib\n",
        "import matplotlib.pyplot as plt\n",
        "import seaborn as sns\n",
        "import sklearn\n",
        "from sklearn.model_selection import train_test_split\n",
        "import statsmodels\n",
        "import statsmodels.api as sm\n",
        "from scipy.stats import kurtosis\n",
        "import scipy\n"
      ],
      "metadata": {
        "id": "nsS0p9U6rCh5"
      },
      "execution_count": null,
      "outputs": []
    },
    {
      "cell_type": "markdown",
      "source": [
        "# Importing Data Sets"
      ],
      "metadata": {
        "id": "VhVNPTQxrwBm"
      }
    },
    {
      "cell_type": "code",
      "source": [
        "# 1. 'application_data.csv'  contains all the information of the client at the time of application.\n",
        "#The data is about whether a client has payment difficulties.\n",
        "\n",
        "df=pd.read_csv(\"application_data (1).csv\")"
      ],
      "metadata": {
        "id": "VQ1g_3xKrPlp"
      },
      "execution_count": null,
      "outputs": []
    },
    {
      "cell_type": "code",
      "source": [
        "#2. 'previous_application.csv' contains information about the client’s previous loan data.\n",
        "# It contains the data whether the previous application had been Approved, Canceled, Refused or Unused offer.\n",
        "\n",
        "pa_df=pd.read_csv(\"previous_application.csv\")"
      ],
      "metadata": {
        "id": "mDepthxEfAUM"
      },
      "execution_count": null,
      "outputs": []
    },
    {
      "cell_type": "code",
      "source": [
        "#3. 'columns_description.csv' is a data dictionary which describes the meaning of the variables.\n",
        "\n",
        "col_df=pd.read_csv(\"columns_description.csv\", encoding='latin1')"
      ],
      "metadata": {
        "id": "Qj1-9W0pfCe2"
      },
      "execution_count": null,
      "outputs": []
    },
    {
      "cell_type": "markdown",
      "source": [
        "###Viewing Data"
      ],
      "metadata": {
        "id": "H78Br2aalCkR"
      }
    },
    {
      "cell_type": "code",
      "source": [
        "#checking first 5 rows of columns description data set\n",
        "col_df.head()"
      ],
      "metadata": {
        "id": "DIrLqI5vfE0F",
        "colab": {
          "base_uri": "https://localhost:8080/",
          "height": 206
        },
        "outputId": "2ab79d08-2f00-427f-98cf-1080590c581a"
      },
      "execution_count": null,
      "outputs": [
        {
          "output_type": "execute_result",
          "data": {
            "text/plain": [
              "   Unnamed: 0             Table                 Row  \\\n",
              "0           1  application_data          SK_ID_CURR   \n",
              "1           2  application_data              TARGET   \n",
              "2           5  application_data  NAME_CONTRACT_TYPE   \n",
              "3           6  application_data         CODE_GENDER   \n",
              "4           7  application_data        FLAG_OWN_CAR   \n",
              "\n",
              "                                         Description Special  \n",
              "0                           ID of loan in our sample     NaN  \n",
              "1  Target variable (1 - client with payment diffi...     NaN  \n",
              "2        Identification if loan is cash or revolving     NaN  \n",
              "3                               Gender of the client     NaN  \n",
              "4                      Flag if the client owns a car     NaN  "
            ],
            "text/html": [
              "\n",
              "  <div id=\"df-5bd991a7-7dd8-4453-bc74-87f96f444fce\">\n",
              "    <div class=\"colab-df-container\">\n",
              "      <div>\n",
              "<style scoped>\n",
              "    .dataframe tbody tr th:only-of-type {\n",
              "        vertical-align: middle;\n",
              "    }\n",
              "\n",
              "    .dataframe tbody tr th {\n",
              "        vertical-align: top;\n",
              "    }\n",
              "\n",
              "    .dataframe thead th {\n",
              "        text-align: right;\n",
              "    }\n",
              "</style>\n",
              "<table border=\"1\" class=\"dataframe\">\n",
              "  <thead>\n",
              "    <tr style=\"text-align: right;\">\n",
              "      <th></th>\n",
              "      <th>Unnamed: 0</th>\n",
              "      <th>Table</th>\n",
              "      <th>Row</th>\n",
              "      <th>Description</th>\n",
              "      <th>Special</th>\n",
              "    </tr>\n",
              "  </thead>\n",
              "  <tbody>\n",
              "    <tr>\n",
              "      <th>0</th>\n",
              "      <td>1</td>\n",
              "      <td>application_data</td>\n",
              "      <td>SK_ID_CURR</td>\n",
              "      <td>ID of loan in our sample</td>\n",
              "      <td>NaN</td>\n",
              "    </tr>\n",
              "    <tr>\n",
              "      <th>1</th>\n",
              "      <td>2</td>\n",
              "      <td>application_data</td>\n",
              "      <td>TARGET</td>\n",
              "      <td>Target variable (1 - client with payment diffi...</td>\n",
              "      <td>NaN</td>\n",
              "    </tr>\n",
              "    <tr>\n",
              "      <th>2</th>\n",
              "      <td>5</td>\n",
              "      <td>application_data</td>\n",
              "      <td>NAME_CONTRACT_TYPE</td>\n",
              "      <td>Identification if loan is cash or revolving</td>\n",
              "      <td>NaN</td>\n",
              "    </tr>\n",
              "    <tr>\n",
              "      <th>3</th>\n",
              "      <td>6</td>\n",
              "      <td>application_data</td>\n",
              "      <td>CODE_GENDER</td>\n",
              "      <td>Gender of the client</td>\n",
              "      <td>NaN</td>\n",
              "    </tr>\n",
              "    <tr>\n",
              "      <th>4</th>\n",
              "      <td>7</td>\n",
              "      <td>application_data</td>\n",
              "      <td>FLAG_OWN_CAR</td>\n",
              "      <td>Flag if the client owns a car</td>\n",
              "      <td>NaN</td>\n",
              "    </tr>\n",
              "  </tbody>\n",
              "</table>\n",
              "</div>\n",
              "      <button class=\"colab-df-convert\" onclick=\"convertToInteractive('df-5bd991a7-7dd8-4453-bc74-87f96f444fce')\"\n",
              "              title=\"Convert this dataframe to an interactive table.\"\n",
              "              style=\"display:none;\">\n",
              "        \n",
              "  <svg xmlns=\"http://www.w3.org/2000/svg\" height=\"24px\"viewBox=\"0 0 24 24\"\n",
              "       width=\"24px\">\n",
              "    <path d=\"M0 0h24v24H0V0z\" fill=\"none\"/>\n",
              "    <path d=\"M18.56 5.44l.94 2.06.94-2.06 2.06-.94-2.06-.94-.94-2.06-.94 2.06-2.06.94zm-11 1L8.5 8.5l.94-2.06 2.06-.94-2.06-.94L8.5 2.5l-.94 2.06-2.06.94zm10 10l.94 2.06.94-2.06 2.06-.94-2.06-.94-.94-2.06-.94 2.06-2.06.94z\"/><path d=\"M17.41 7.96l-1.37-1.37c-.4-.4-.92-.59-1.43-.59-.52 0-1.04.2-1.43.59L10.3 9.45l-7.72 7.72c-.78.78-.78 2.05 0 2.83L4 21.41c.39.39.9.59 1.41.59.51 0 1.02-.2 1.41-.59l7.78-7.78 2.81-2.81c.8-.78.8-2.07 0-2.86zM5.41 20L4 18.59l7.72-7.72 1.47 1.35L5.41 20z\"/>\n",
              "  </svg>\n",
              "      </button>\n",
              "      \n",
              "  <style>\n",
              "    .colab-df-container {\n",
              "      display:flex;\n",
              "      flex-wrap:wrap;\n",
              "      gap: 12px;\n",
              "    }\n",
              "\n",
              "    .colab-df-convert {\n",
              "      background-color: #E8F0FE;\n",
              "      border: none;\n",
              "      border-radius: 50%;\n",
              "      cursor: pointer;\n",
              "      display: none;\n",
              "      fill: #1967D2;\n",
              "      height: 32px;\n",
              "      padding: 0 0 0 0;\n",
              "      width: 32px;\n",
              "    }\n",
              "\n",
              "    .colab-df-convert:hover {\n",
              "      background-color: #E2EBFA;\n",
              "      box-shadow: 0px 1px 2px rgba(60, 64, 67, 0.3), 0px 1px 3px 1px rgba(60, 64, 67, 0.15);\n",
              "      fill: #174EA6;\n",
              "    }\n",
              "\n",
              "    [theme=dark] .colab-df-convert {\n",
              "      background-color: #3B4455;\n",
              "      fill: #D2E3FC;\n",
              "    }\n",
              "\n",
              "    [theme=dark] .colab-df-convert:hover {\n",
              "      background-color: #434B5C;\n",
              "      box-shadow: 0px 1px 3px 1px rgba(0, 0, 0, 0.15);\n",
              "      filter: drop-shadow(0px 1px 2px rgba(0, 0, 0, 0.3));\n",
              "      fill: #FFFFFF;\n",
              "    }\n",
              "  </style>\n",
              "\n",
              "      <script>\n",
              "        const buttonEl =\n",
              "          document.querySelector('#df-5bd991a7-7dd8-4453-bc74-87f96f444fce button.colab-df-convert');\n",
              "        buttonEl.style.display =\n",
              "          google.colab.kernel.accessAllowed ? 'block' : 'none';\n",
              "\n",
              "        async function convertToInteractive(key) {\n",
              "          const element = document.querySelector('#df-5bd991a7-7dd8-4453-bc74-87f96f444fce');\n",
              "          const dataTable =\n",
              "            await google.colab.kernel.invokeFunction('convertToInteractive',\n",
              "                                                     [key], {});\n",
              "          if (!dataTable) return;\n",
              "\n",
              "          const docLinkHtml = 'Like what you see? Visit the ' +\n",
              "            '<a target=\"_blank\" href=https://colab.research.google.com/notebooks/data_table.ipynb>data table notebook</a>'\n",
              "            + ' to learn more about interactive tables.';\n",
              "          element.innerHTML = '';\n",
              "          dataTable['output_type'] = 'display_data';\n",
              "          await google.colab.output.renderOutput(dataTable, element);\n",
              "          const docLink = document.createElement('div');\n",
              "          docLink.innerHTML = docLinkHtml;\n",
              "          element.appendChild(docLink);\n",
              "        }\n",
              "      </script>\n",
              "    </div>\n",
              "  </div>\n",
              "  "
            ]
          },
          "metadata": {},
          "execution_count": 38
        }
      ]
    },
    {
      "cell_type": "code",
      "source": [
        "#Checking names of rows of all the data sets\n",
        "col_df['Row']"
      ],
      "metadata": {
        "colab": {
          "base_uri": "https://localhost:8080/"
        },
        "id": "BS5SKiMa5wfz",
        "outputId": "e32b20e2-7b96-47d4-c5a3-e314b03adab1"
      },
      "execution_count": null,
      "outputs": [
        {
          "output_type": "execute_result",
          "data": {
            "text/plain": [
              "0                     SK_ID_CURR\n",
              "1                         TARGET\n",
              "2             NAME_CONTRACT_TYPE\n",
              "3                    CODE_GENDER\n",
              "4                   FLAG_OWN_CAR\n",
              "                 ...            \n",
              "155               DAYS_FIRST_DUE\n",
              "156    DAYS_LAST_DUE_1ST_VERSION\n",
              "157                DAYS_LAST_DUE\n",
              "158             DAYS_TERMINATION\n",
              "159    NFLAG_INSURED_ON_APPROVAL\n",
              "Name: Row, Length: 160, dtype: object"
            ]
          },
          "metadata": {},
          "execution_count": 39
        }
      ]
    },
    {
      "cell_type": "code",
      "source": [
        "#chaking shape of columns description data set\n",
        "col_df.shape"
      ],
      "metadata": {
        "colab": {
          "base_uri": "https://localhost:8080/"
        },
        "id": "tz9O53G_6F_H",
        "outputId": "fa045cbf-9dd2-429a-d8f3-a7efa80710af"
      },
      "execution_count": null,
      "outputs": [
        {
          "output_type": "execute_result",
          "data": {
            "text/plain": [
              "(160, 5)"
            ]
          },
          "metadata": {},
          "execution_count": 44
        }
      ]
    },
    {
      "cell_type": "code",
      "source": [
        "#Displaying the column names, Non-Null Count in each column, and data type of respective column of dataframe using the function df.info\n",
        "col_df.info()"
      ],
      "metadata": {
        "colab": {
          "base_uri": "https://localhost:8080/"
        },
        "id": "9agR4lv1jQqP",
        "outputId": "723bec0c-ab13-405f-88aa-e25bed96af39"
      },
      "execution_count": null,
      "outputs": [
        {
          "output_type": "stream",
          "name": "stdout",
          "text": [
            "<class 'pandas.core.frame.DataFrame'>\n",
            "RangeIndex: 160 entries, 0 to 159\n",
            "Data columns (total 5 columns):\n",
            " #   Column       Non-Null Count  Dtype \n",
            "---  ------       --------------  ----- \n",
            " 0   Unnamed: 0   160 non-null    int64 \n",
            " 1   Table        160 non-null    object\n",
            " 2   Row          160 non-null    object\n",
            " 3   Description  160 non-null    object\n",
            " 4   Special      69 non-null     object\n",
            "dtypes: int64(1), object(4)\n",
            "memory usage: 6.4+ KB\n"
          ]
        }
      ]
    },
    {
      "cell_type": "code",
      "source": [
        "#Cheking first 5 rows of application_data\n",
        "df.head()"
      ],
      "metadata": {
        "colab": {
          "base_uri": "https://localhost:8080/",
          "height": 299
        },
        "id": "GU4dOP0TrgN9",
        "outputId": "7cf074b0-616d-4c87-f230-3ac2284f3686"
      },
      "execution_count": null,
      "outputs": [
        {
          "output_type": "execute_result",
          "data": {
            "text/plain": [
              "   SK_ID_CURR  TARGET NAME_CONTRACT_TYPE CODE_GENDER FLAG_OWN_CAR  \\\n",
              "0      100002       1         Cash loans           M            N   \n",
              "1      100003       0         Cash loans           F            N   \n",
              "2      100004       0    Revolving loans           M            Y   \n",
              "3      100006       0         Cash loans           F            N   \n",
              "4      100007       0         Cash loans           M            N   \n",
              "\n",
              "  FLAG_OWN_REALTY  CNT_CHILDREN  AMT_INCOME_TOTAL  AMT_CREDIT  AMT_ANNUITY  \\\n",
              "0               Y             0          202500.0    406597.5      24700.5   \n",
              "1               N             0          270000.0   1293502.5      35698.5   \n",
              "2               Y             0           67500.0    135000.0       6750.0   \n",
              "3               Y             0          135000.0    312682.5      29686.5   \n",
              "4               Y             0          121500.0    513000.0      21865.5   \n",
              "\n",
              "   ...  FLAG_DOCUMENT_18 FLAG_DOCUMENT_19 FLAG_DOCUMENT_20 FLAG_DOCUMENT_21  \\\n",
              "0  ...                 0                0                0                0   \n",
              "1  ...                 0                0                0                0   \n",
              "2  ...                 0                0                0                0   \n",
              "3  ...                 0                0                0                0   \n",
              "4  ...                 0                0                0                0   \n",
              "\n",
              "  AMT_REQ_CREDIT_BUREAU_HOUR AMT_REQ_CREDIT_BUREAU_DAY  \\\n",
              "0                        0.0                       0.0   \n",
              "1                        0.0                       0.0   \n",
              "2                        0.0                       0.0   \n",
              "3                        NaN                       NaN   \n",
              "4                        0.0                       0.0   \n",
              "\n",
              "   AMT_REQ_CREDIT_BUREAU_WEEK  AMT_REQ_CREDIT_BUREAU_MON  \\\n",
              "0                         0.0                        0.0   \n",
              "1                         0.0                        0.0   \n",
              "2                         0.0                        0.0   \n",
              "3                         NaN                        NaN   \n",
              "4                         0.0                        0.0   \n",
              "\n",
              "   AMT_REQ_CREDIT_BUREAU_QRT  AMT_REQ_CREDIT_BUREAU_YEAR  \n",
              "0                        0.0                         1.0  \n",
              "1                        0.0                         0.0  \n",
              "2                        0.0                         0.0  \n",
              "3                        NaN                         NaN  \n",
              "4                        0.0                         0.0  \n",
              "\n",
              "[5 rows x 122 columns]"
            ],
            "text/html": [
              "\n",
              "  <div id=\"df-1eed1736-e6b3-4797-8667-416dee547509\">\n",
              "    <div class=\"colab-df-container\">\n",
              "      <div>\n",
              "<style scoped>\n",
              "    .dataframe tbody tr th:only-of-type {\n",
              "        vertical-align: middle;\n",
              "    }\n",
              "\n",
              "    .dataframe tbody tr th {\n",
              "        vertical-align: top;\n",
              "    }\n",
              "\n",
              "    .dataframe thead th {\n",
              "        text-align: right;\n",
              "    }\n",
              "</style>\n",
              "<table border=\"1\" class=\"dataframe\">\n",
              "  <thead>\n",
              "    <tr style=\"text-align: right;\">\n",
              "      <th></th>\n",
              "      <th>SK_ID_CURR</th>\n",
              "      <th>TARGET</th>\n",
              "      <th>NAME_CONTRACT_TYPE</th>\n",
              "      <th>CODE_GENDER</th>\n",
              "      <th>FLAG_OWN_CAR</th>\n",
              "      <th>FLAG_OWN_REALTY</th>\n",
              "      <th>CNT_CHILDREN</th>\n",
              "      <th>AMT_INCOME_TOTAL</th>\n",
              "      <th>AMT_CREDIT</th>\n",
              "      <th>AMT_ANNUITY</th>\n",
              "      <th>...</th>\n",
              "      <th>FLAG_DOCUMENT_18</th>\n",
              "      <th>FLAG_DOCUMENT_19</th>\n",
              "      <th>FLAG_DOCUMENT_20</th>\n",
              "      <th>FLAG_DOCUMENT_21</th>\n",
              "      <th>AMT_REQ_CREDIT_BUREAU_HOUR</th>\n",
              "      <th>AMT_REQ_CREDIT_BUREAU_DAY</th>\n",
              "      <th>AMT_REQ_CREDIT_BUREAU_WEEK</th>\n",
              "      <th>AMT_REQ_CREDIT_BUREAU_MON</th>\n",
              "      <th>AMT_REQ_CREDIT_BUREAU_QRT</th>\n",
              "      <th>AMT_REQ_CREDIT_BUREAU_YEAR</th>\n",
              "    </tr>\n",
              "  </thead>\n",
              "  <tbody>\n",
              "    <tr>\n",
              "      <th>0</th>\n",
              "      <td>100002</td>\n",
              "      <td>1</td>\n",
              "      <td>Cash loans</td>\n",
              "      <td>M</td>\n",
              "      <td>N</td>\n",
              "      <td>Y</td>\n",
              "      <td>0</td>\n",
              "      <td>202500.0</td>\n",
              "      <td>406597.5</td>\n",
              "      <td>24700.5</td>\n",
              "      <td>...</td>\n",
              "      <td>0</td>\n",
              "      <td>0</td>\n",
              "      <td>0</td>\n",
              "      <td>0</td>\n",
              "      <td>0.0</td>\n",
              "      <td>0.0</td>\n",
              "      <td>0.0</td>\n",
              "      <td>0.0</td>\n",
              "      <td>0.0</td>\n",
              "      <td>1.0</td>\n",
              "    </tr>\n",
              "    <tr>\n",
              "      <th>1</th>\n",
              "      <td>100003</td>\n",
              "      <td>0</td>\n",
              "      <td>Cash loans</td>\n",
              "      <td>F</td>\n",
              "      <td>N</td>\n",
              "      <td>N</td>\n",
              "      <td>0</td>\n",
              "      <td>270000.0</td>\n",
              "      <td>1293502.5</td>\n",
              "      <td>35698.5</td>\n",
              "      <td>...</td>\n",
              "      <td>0</td>\n",
              "      <td>0</td>\n",
              "      <td>0</td>\n",
              "      <td>0</td>\n",
              "      <td>0.0</td>\n",
              "      <td>0.0</td>\n",
              "      <td>0.0</td>\n",
              "      <td>0.0</td>\n",
              "      <td>0.0</td>\n",
              "      <td>0.0</td>\n",
              "    </tr>\n",
              "    <tr>\n",
              "      <th>2</th>\n",
              "      <td>100004</td>\n",
              "      <td>0</td>\n",
              "      <td>Revolving loans</td>\n",
              "      <td>M</td>\n",
              "      <td>Y</td>\n",
              "      <td>Y</td>\n",
              "      <td>0</td>\n",
              "      <td>67500.0</td>\n",
              "      <td>135000.0</td>\n",
              "      <td>6750.0</td>\n",
              "      <td>...</td>\n",
              "      <td>0</td>\n",
              "      <td>0</td>\n",
              "      <td>0</td>\n",
              "      <td>0</td>\n",
              "      <td>0.0</td>\n",
              "      <td>0.0</td>\n",
              "      <td>0.0</td>\n",
              "      <td>0.0</td>\n",
              "      <td>0.0</td>\n",
              "      <td>0.0</td>\n",
              "    </tr>\n",
              "    <tr>\n",
              "      <th>3</th>\n",
              "      <td>100006</td>\n",
              "      <td>0</td>\n",
              "      <td>Cash loans</td>\n",
              "      <td>F</td>\n",
              "      <td>N</td>\n",
              "      <td>Y</td>\n",
              "      <td>0</td>\n",
              "      <td>135000.0</td>\n",
              "      <td>312682.5</td>\n",
              "      <td>29686.5</td>\n",
              "      <td>...</td>\n",
              "      <td>0</td>\n",
              "      <td>0</td>\n",
              "      <td>0</td>\n",
              "      <td>0</td>\n",
              "      <td>NaN</td>\n",
              "      <td>NaN</td>\n",
              "      <td>NaN</td>\n",
              "      <td>NaN</td>\n",
              "      <td>NaN</td>\n",
              "      <td>NaN</td>\n",
              "    </tr>\n",
              "    <tr>\n",
              "      <th>4</th>\n",
              "      <td>100007</td>\n",
              "      <td>0</td>\n",
              "      <td>Cash loans</td>\n",
              "      <td>M</td>\n",
              "      <td>N</td>\n",
              "      <td>Y</td>\n",
              "      <td>0</td>\n",
              "      <td>121500.0</td>\n",
              "      <td>513000.0</td>\n",
              "      <td>21865.5</td>\n",
              "      <td>...</td>\n",
              "      <td>0</td>\n",
              "      <td>0</td>\n",
              "      <td>0</td>\n",
              "      <td>0</td>\n",
              "      <td>0.0</td>\n",
              "      <td>0.0</td>\n",
              "      <td>0.0</td>\n",
              "      <td>0.0</td>\n",
              "      <td>0.0</td>\n",
              "      <td>0.0</td>\n",
              "    </tr>\n",
              "  </tbody>\n",
              "</table>\n",
              "<p>5 rows × 122 columns</p>\n",
              "</div>\n",
              "      <button class=\"colab-df-convert\" onclick=\"convertToInteractive('df-1eed1736-e6b3-4797-8667-416dee547509')\"\n",
              "              title=\"Convert this dataframe to an interactive table.\"\n",
              "              style=\"display:none;\">\n",
              "        \n",
              "  <svg xmlns=\"http://www.w3.org/2000/svg\" height=\"24px\"viewBox=\"0 0 24 24\"\n",
              "       width=\"24px\">\n",
              "    <path d=\"M0 0h24v24H0V0z\" fill=\"none\"/>\n",
              "    <path d=\"M18.56 5.44l.94 2.06.94-2.06 2.06-.94-2.06-.94-.94-2.06-.94 2.06-2.06.94zm-11 1L8.5 8.5l.94-2.06 2.06-.94-2.06-.94L8.5 2.5l-.94 2.06-2.06.94zm10 10l.94 2.06.94-2.06 2.06-.94-2.06-.94-.94-2.06-.94 2.06-2.06.94z\"/><path d=\"M17.41 7.96l-1.37-1.37c-.4-.4-.92-.59-1.43-.59-.52 0-1.04.2-1.43.59L10.3 9.45l-7.72 7.72c-.78.78-.78 2.05 0 2.83L4 21.41c.39.39.9.59 1.41.59.51 0 1.02-.2 1.41-.59l7.78-7.78 2.81-2.81c.8-.78.8-2.07 0-2.86zM5.41 20L4 18.59l7.72-7.72 1.47 1.35L5.41 20z\"/>\n",
              "  </svg>\n",
              "      </button>\n",
              "      \n",
              "  <style>\n",
              "    .colab-df-container {\n",
              "      display:flex;\n",
              "      flex-wrap:wrap;\n",
              "      gap: 12px;\n",
              "    }\n",
              "\n",
              "    .colab-df-convert {\n",
              "      background-color: #E8F0FE;\n",
              "      border: none;\n",
              "      border-radius: 50%;\n",
              "      cursor: pointer;\n",
              "      display: none;\n",
              "      fill: #1967D2;\n",
              "      height: 32px;\n",
              "      padding: 0 0 0 0;\n",
              "      width: 32px;\n",
              "    }\n",
              "\n",
              "    .colab-df-convert:hover {\n",
              "      background-color: #E2EBFA;\n",
              "      box-shadow: 0px 1px 2px rgba(60, 64, 67, 0.3), 0px 1px 3px 1px rgba(60, 64, 67, 0.15);\n",
              "      fill: #174EA6;\n",
              "    }\n",
              "\n",
              "    [theme=dark] .colab-df-convert {\n",
              "      background-color: #3B4455;\n",
              "      fill: #D2E3FC;\n",
              "    }\n",
              "\n",
              "    [theme=dark] .colab-df-convert:hover {\n",
              "      background-color: #434B5C;\n",
              "      box-shadow: 0px 1px 3px 1px rgba(0, 0, 0, 0.15);\n",
              "      filter: drop-shadow(0px 1px 2px rgba(0, 0, 0, 0.3));\n",
              "      fill: #FFFFFF;\n",
              "    }\n",
              "  </style>\n",
              "\n",
              "      <script>\n",
              "        const buttonEl =\n",
              "          document.querySelector('#df-1eed1736-e6b3-4797-8667-416dee547509 button.colab-df-convert');\n",
              "        buttonEl.style.display =\n",
              "          google.colab.kernel.accessAllowed ? 'block' : 'none';\n",
              "\n",
              "        async function convertToInteractive(key) {\n",
              "          const element = document.querySelector('#df-1eed1736-e6b3-4797-8667-416dee547509');\n",
              "          const dataTable =\n",
              "            await google.colab.kernel.invokeFunction('convertToInteractive',\n",
              "                                                     [key], {});\n",
              "          if (!dataTable) return;\n",
              "\n",
              "          const docLinkHtml = 'Like what you see? Visit the ' +\n",
              "            '<a target=\"_blank\" href=https://colab.research.google.com/notebooks/data_table.ipynb>data table notebook</a>'\n",
              "            + ' to learn more about interactive tables.';\n",
              "          element.innerHTML = '';\n",
              "          dataTable['output_type'] = 'display_data';\n",
              "          await google.colab.output.renderOutput(dataTable, element);\n",
              "          const docLink = document.createElement('div');\n",
              "          docLink.innerHTML = docLinkHtml;\n",
              "          element.appendChild(docLink);\n",
              "        }\n",
              "      </script>\n",
              "    </div>\n",
              "  </div>\n",
              "  "
            ]
          },
          "metadata": {},
          "execution_count": 42
        }
      ]
    },
    {
      "cell_type": "code",
      "source": [
        "#Cheking first 5 rows of previous_application data\n",
        "pa_df.head()"
      ],
      "metadata": {
        "colab": {
          "base_uri": "https://localhost:8080/",
          "height": 317
        },
        "id": "BYCfjk8VxU0O",
        "outputId": "2d88fb9a-9512-4f93-967a-3ac860576da8"
      },
      "execution_count": null,
      "outputs": [
        {
          "output_type": "execute_result",
          "data": {
            "text/plain": [
              "   SK_ID_PREV  SK_ID_CURR NAME_CONTRACT_TYPE  AMT_ANNUITY  AMT_APPLICATION  \\\n",
              "0     2030495      271877     Consumer loans     1730.430          17145.0   \n",
              "1     2802425      108129         Cash loans    25188.615         607500.0   \n",
              "2     2523466      122040         Cash loans    15060.735         112500.0   \n",
              "3     2819243      176158         Cash loans    47041.335         450000.0   \n",
              "4     1784265      202054         Cash loans    31924.395         337500.0   \n",
              "\n",
              "   AMT_CREDIT  AMT_DOWN_PAYMENT  AMT_GOODS_PRICE WEEKDAY_APPR_PROCESS_START  \\\n",
              "0     17145.0               0.0          17145.0                   SATURDAY   \n",
              "1    679671.0               NaN         607500.0                   THURSDAY   \n",
              "2    136444.5               NaN         112500.0                    TUESDAY   \n",
              "3    470790.0               NaN         450000.0                     MONDAY   \n",
              "4    404055.0               NaN         337500.0                   THURSDAY   \n",
              "\n",
              "   HOUR_APPR_PROCESS_START  ... NAME_SELLER_INDUSTRY  CNT_PAYMENT  \\\n",
              "0                     15.0  ...         Connectivity         12.0   \n",
              "1                     11.0  ...                  XNA         36.0   \n",
              "2                     11.0  ...                  XNA         12.0   \n",
              "3                      7.0  ...                  XNA         12.0   \n",
              "4                      9.0  ...                  XNA         24.0   \n",
              "\n",
              "   NAME_YIELD_GROUP       PRODUCT_COMBINATION  DAYS_FIRST_DRAWING  \\\n",
              "0            middle  POS mobile with interest            365243.0   \n",
              "1        low_action          Cash X-Sell: low            365243.0   \n",
              "2              high         Cash X-Sell: high            365243.0   \n",
              "3            middle       Cash X-Sell: middle            365243.0   \n",
              "4              high         Cash Street: high                 NaN   \n",
              "\n",
              "  DAYS_FIRST_DUE DAYS_LAST_DUE_1ST_VERSION  DAYS_LAST_DUE DAYS_TERMINATION  \\\n",
              "0          -42.0                     300.0          -42.0            -37.0   \n",
              "1         -134.0                     916.0       365243.0         365243.0   \n",
              "2         -271.0                      59.0       365243.0         365243.0   \n",
              "3         -482.0                    -152.0         -182.0           -177.0   \n",
              "4            NaN                       NaN            NaN              NaN   \n",
              "\n",
              "  NFLAG_INSURED_ON_APPROVAL  \n",
              "0                       0.0  \n",
              "1                       1.0  \n",
              "2                       1.0  \n",
              "3                       1.0  \n",
              "4                       NaN  \n",
              "\n",
              "[5 rows x 37 columns]"
            ],
            "text/html": [
              "\n",
              "  <div id=\"df-2e7a8a5b-7707-4c92-9ab8-242642a2dad2\">\n",
              "    <div class=\"colab-df-container\">\n",
              "      <div>\n",
              "<style scoped>\n",
              "    .dataframe tbody tr th:only-of-type {\n",
              "        vertical-align: middle;\n",
              "    }\n",
              "\n",
              "    .dataframe tbody tr th {\n",
              "        vertical-align: top;\n",
              "    }\n",
              "\n",
              "    .dataframe thead th {\n",
              "        text-align: right;\n",
              "    }\n",
              "</style>\n",
              "<table border=\"1\" class=\"dataframe\">\n",
              "  <thead>\n",
              "    <tr style=\"text-align: right;\">\n",
              "      <th></th>\n",
              "      <th>SK_ID_PREV</th>\n",
              "      <th>SK_ID_CURR</th>\n",
              "      <th>NAME_CONTRACT_TYPE</th>\n",
              "      <th>AMT_ANNUITY</th>\n",
              "      <th>AMT_APPLICATION</th>\n",
              "      <th>AMT_CREDIT</th>\n",
              "      <th>AMT_DOWN_PAYMENT</th>\n",
              "      <th>AMT_GOODS_PRICE</th>\n",
              "      <th>WEEKDAY_APPR_PROCESS_START</th>\n",
              "      <th>HOUR_APPR_PROCESS_START</th>\n",
              "      <th>...</th>\n",
              "      <th>NAME_SELLER_INDUSTRY</th>\n",
              "      <th>CNT_PAYMENT</th>\n",
              "      <th>NAME_YIELD_GROUP</th>\n",
              "      <th>PRODUCT_COMBINATION</th>\n",
              "      <th>DAYS_FIRST_DRAWING</th>\n",
              "      <th>DAYS_FIRST_DUE</th>\n",
              "      <th>DAYS_LAST_DUE_1ST_VERSION</th>\n",
              "      <th>DAYS_LAST_DUE</th>\n",
              "      <th>DAYS_TERMINATION</th>\n",
              "      <th>NFLAG_INSURED_ON_APPROVAL</th>\n",
              "    </tr>\n",
              "  </thead>\n",
              "  <tbody>\n",
              "    <tr>\n",
              "      <th>0</th>\n",
              "      <td>2030495</td>\n",
              "      <td>271877</td>\n",
              "      <td>Consumer loans</td>\n",
              "      <td>1730.430</td>\n",
              "      <td>17145.0</td>\n",
              "      <td>17145.0</td>\n",
              "      <td>0.0</td>\n",
              "      <td>17145.0</td>\n",
              "      <td>SATURDAY</td>\n",
              "      <td>15.0</td>\n",
              "      <td>...</td>\n",
              "      <td>Connectivity</td>\n",
              "      <td>12.0</td>\n",
              "      <td>middle</td>\n",
              "      <td>POS mobile with interest</td>\n",
              "      <td>365243.0</td>\n",
              "      <td>-42.0</td>\n",
              "      <td>300.0</td>\n",
              "      <td>-42.0</td>\n",
              "      <td>-37.0</td>\n",
              "      <td>0.0</td>\n",
              "    </tr>\n",
              "    <tr>\n",
              "      <th>1</th>\n",
              "      <td>2802425</td>\n",
              "      <td>108129</td>\n",
              "      <td>Cash loans</td>\n",
              "      <td>25188.615</td>\n",
              "      <td>607500.0</td>\n",
              "      <td>679671.0</td>\n",
              "      <td>NaN</td>\n",
              "      <td>607500.0</td>\n",
              "      <td>THURSDAY</td>\n",
              "      <td>11.0</td>\n",
              "      <td>...</td>\n",
              "      <td>XNA</td>\n",
              "      <td>36.0</td>\n",
              "      <td>low_action</td>\n",
              "      <td>Cash X-Sell: low</td>\n",
              "      <td>365243.0</td>\n",
              "      <td>-134.0</td>\n",
              "      <td>916.0</td>\n",
              "      <td>365243.0</td>\n",
              "      <td>365243.0</td>\n",
              "      <td>1.0</td>\n",
              "    </tr>\n",
              "    <tr>\n",
              "      <th>2</th>\n",
              "      <td>2523466</td>\n",
              "      <td>122040</td>\n",
              "      <td>Cash loans</td>\n",
              "      <td>15060.735</td>\n",
              "      <td>112500.0</td>\n",
              "      <td>136444.5</td>\n",
              "      <td>NaN</td>\n",
              "      <td>112500.0</td>\n",
              "      <td>TUESDAY</td>\n",
              "      <td>11.0</td>\n",
              "      <td>...</td>\n",
              "      <td>XNA</td>\n",
              "      <td>12.0</td>\n",
              "      <td>high</td>\n",
              "      <td>Cash X-Sell: high</td>\n",
              "      <td>365243.0</td>\n",
              "      <td>-271.0</td>\n",
              "      <td>59.0</td>\n",
              "      <td>365243.0</td>\n",
              "      <td>365243.0</td>\n",
              "      <td>1.0</td>\n",
              "    </tr>\n",
              "    <tr>\n",
              "      <th>3</th>\n",
              "      <td>2819243</td>\n",
              "      <td>176158</td>\n",
              "      <td>Cash loans</td>\n",
              "      <td>47041.335</td>\n",
              "      <td>450000.0</td>\n",
              "      <td>470790.0</td>\n",
              "      <td>NaN</td>\n",
              "      <td>450000.0</td>\n",
              "      <td>MONDAY</td>\n",
              "      <td>7.0</td>\n",
              "      <td>...</td>\n",
              "      <td>XNA</td>\n",
              "      <td>12.0</td>\n",
              "      <td>middle</td>\n",
              "      <td>Cash X-Sell: middle</td>\n",
              "      <td>365243.0</td>\n",
              "      <td>-482.0</td>\n",
              "      <td>-152.0</td>\n",
              "      <td>-182.0</td>\n",
              "      <td>-177.0</td>\n",
              "      <td>1.0</td>\n",
              "    </tr>\n",
              "    <tr>\n",
              "      <th>4</th>\n",
              "      <td>1784265</td>\n",
              "      <td>202054</td>\n",
              "      <td>Cash loans</td>\n",
              "      <td>31924.395</td>\n",
              "      <td>337500.0</td>\n",
              "      <td>404055.0</td>\n",
              "      <td>NaN</td>\n",
              "      <td>337500.0</td>\n",
              "      <td>THURSDAY</td>\n",
              "      <td>9.0</td>\n",
              "      <td>...</td>\n",
              "      <td>XNA</td>\n",
              "      <td>24.0</td>\n",
              "      <td>high</td>\n",
              "      <td>Cash Street: high</td>\n",
              "      <td>NaN</td>\n",
              "      <td>NaN</td>\n",
              "      <td>NaN</td>\n",
              "      <td>NaN</td>\n",
              "      <td>NaN</td>\n",
              "      <td>NaN</td>\n",
              "    </tr>\n",
              "  </tbody>\n",
              "</table>\n",
              "<p>5 rows × 37 columns</p>\n",
              "</div>\n",
              "      <button class=\"colab-df-convert\" onclick=\"convertToInteractive('df-2e7a8a5b-7707-4c92-9ab8-242642a2dad2')\"\n",
              "              title=\"Convert this dataframe to an interactive table.\"\n",
              "              style=\"display:none;\">\n",
              "        \n",
              "  <svg xmlns=\"http://www.w3.org/2000/svg\" height=\"24px\"viewBox=\"0 0 24 24\"\n",
              "       width=\"24px\">\n",
              "    <path d=\"M0 0h24v24H0V0z\" fill=\"none\"/>\n",
              "    <path d=\"M18.56 5.44l.94 2.06.94-2.06 2.06-.94-2.06-.94-.94-2.06-.94 2.06-2.06.94zm-11 1L8.5 8.5l.94-2.06 2.06-.94-2.06-.94L8.5 2.5l-.94 2.06-2.06.94zm10 10l.94 2.06.94-2.06 2.06-.94-2.06-.94-.94-2.06-.94 2.06-2.06.94z\"/><path d=\"M17.41 7.96l-1.37-1.37c-.4-.4-.92-.59-1.43-.59-.52 0-1.04.2-1.43.59L10.3 9.45l-7.72 7.72c-.78.78-.78 2.05 0 2.83L4 21.41c.39.39.9.59 1.41.59.51 0 1.02-.2 1.41-.59l7.78-7.78 2.81-2.81c.8-.78.8-2.07 0-2.86zM5.41 20L4 18.59l7.72-7.72 1.47 1.35L5.41 20z\"/>\n",
              "  </svg>\n",
              "      </button>\n",
              "      \n",
              "  <style>\n",
              "    .colab-df-container {\n",
              "      display:flex;\n",
              "      flex-wrap:wrap;\n",
              "      gap: 12px;\n",
              "    }\n",
              "\n",
              "    .colab-df-convert {\n",
              "      background-color: #E8F0FE;\n",
              "      border: none;\n",
              "      border-radius: 50%;\n",
              "      cursor: pointer;\n",
              "      display: none;\n",
              "      fill: #1967D2;\n",
              "      height: 32px;\n",
              "      padding: 0 0 0 0;\n",
              "      width: 32px;\n",
              "    }\n",
              "\n",
              "    .colab-df-convert:hover {\n",
              "      background-color: #E2EBFA;\n",
              "      box-shadow: 0px 1px 2px rgba(60, 64, 67, 0.3), 0px 1px 3px 1px rgba(60, 64, 67, 0.15);\n",
              "      fill: #174EA6;\n",
              "    }\n",
              "\n",
              "    [theme=dark] .colab-df-convert {\n",
              "      background-color: #3B4455;\n",
              "      fill: #D2E3FC;\n",
              "    }\n",
              "\n",
              "    [theme=dark] .colab-df-convert:hover {\n",
              "      background-color: #434B5C;\n",
              "      box-shadow: 0px 1px 3px 1px rgba(0, 0, 0, 0.15);\n",
              "      filter: drop-shadow(0px 1px 2px rgba(0, 0, 0, 0.3));\n",
              "      fill: #FFFFFF;\n",
              "    }\n",
              "  </style>\n",
              "\n",
              "      <script>\n",
              "        const buttonEl =\n",
              "          document.querySelector('#df-2e7a8a5b-7707-4c92-9ab8-242642a2dad2 button.colab-df-convert');\n",
              "        buttonEl.style.display =\n",
              "          google.colab.kernel.accessAllowed ? 'block' : 'none';\n",
              "\n",
              "        async function convertToInteractive(key) {\n",
              "          const element = document.querySelector('#df-2e7a8a5b-7707-4c92-9ab8-242642a2dad2');\n",
              "          const dataTable =\n",
              "            await google.colab.kernel.invokeFunction('convertToInteractive',\n",
              "                                                     [key], {});\n",
              "          if (!dataTable) return;\n",
              "\n",
              "          const docLinkHtml = 'Like what you see? Visit the ' +\n",
              "            '<a target=\"_blank\" href=https://colab.research.google.com/notebooks/data_table.ipynb>data table notebook</a>'\n",
              "            + ' to learn more about interactive tables.';\n",
              "          element.innerHTML = '';\n",
              "          dataTable['output_type'] = 'display_data';\n",
              "          await google.colab.output.renderOutput(dataTable, element);\n",
              "          const docLink = document.createElement('div');\n",
              "          docLink.innerHTML = docLinkHtml;\n",
              "          element.appendChild(docLink);\n",
              "        }\n",
              "      </script>\n",
              "    </div>\n",
              "  </div>\n",
              "  "
            ]
          },
          "metadata": {},
          "execution_count": 19
        }
      ]
    },
    {
      "cell_type": "code",
      "source": [
        "#chcking shape of Application data\n",
        "df.shape"
      ],
      "metadata": {
        "colab": {
          "base_uri": "https://localhost:8080/"
        },
        "id": "WItm4PK7r9T3",
        "outputId": "27ea7c42-88b8-4984-9dbb-73df236ed4b0"
      },
      "execution_count": null,
      "outputs": [
        {
          "output_type": "execute_result",
          "data": {
            "text/plain": [
              "(307511, 122)"
            ]
          },
          "metadata": {},
          "execution_count": 11
        }
      ]
    },
    {
      "cell_type": "code",
      "source": [
        "#checking Dimention of Application data\n",
        "df.ndim"
      ],
      "metadata": {
        "colab": {
          "base_uri": "https://localhost:8080/"
        },
        "id": "DDmcijBfsU9t",
        "outputId": "89a40c7f-6f4d-4db7-ff61-072e1d04157b"
      },
      "execution_count": null,
      "outputs": [
        {
          "output_type": "execute_result",
          "data": {
            "text/plain": [
              "2"
            ]
          },
          "metadata": {},
          "execution_count": 21
        }
      ]
    },
    {
      "cell_type": "code",
      "source": [
        "#Checking last 5 rows of Application data\n",
        "df.tail()"
      ],
      "metadata": {
        "colab": {
          "base_uri": "https://localhost:8080/",
          "height": 299
        },
        "id": "fa3p83x-s3QH",
        "outputId": "62cec185-dd1f-428b-9bb7-ffd280319bad"
      },
      "execution_count": null,
      "outputs": [
        {
          "output_type": "execute_result",
          "data": {
            "text/plain": [
              "        SK_ID_CURR  TARGET NAME_CONTRACT_TYPE CODE_GENDER FLAG_OWN_CAR  \\\n",
              "307506      456251       0         Cash loans           M            N   \n",
              "307507      456252       0         Cash loans           F            N   \n",
              "307508      456253       0         Cash loans           F            N   \n",
              "307509      456254       1         Cash loans           F            N   \n",
              "307510      456255       0         Cash loans           F            N   \n",
              "\n",
              "       FLAG_OWN_REALTY  CNT_CHILDREN  AMT_INCOME_TOTAL  AMT_CREDIT  \\\n",
              "307506               N             0          157500.0    254700.0   \n",
              "307507               Y             0           72000.0    269550.0   \n",
              "307508               Y             0          153000.0    677664.0   \n",
              "307509               Y             0          171000.0    370107.0   \n",
              "307510               N             0          157500.0    675000.0   \n",
              "\n",
              "        AMT_ANNUITY  ...  FLAG_DOCUMENT_18 FLAG_DOCUMENT_19 FLAG_DOCUMENT_20  \\\n",
              "307506      27558.0  ...                 0                0                0   \n",
              "307507      12001.5  ...                 0                0                0   \n",
              "307508      29979.0  ...                 0                0                0   \n",
              "307509      20205.0  ...                 0                0                0   \n",
              "307510      49117.5  ...                 0                0                0   \n",
              "\n",
              "       FLAG_DOCUMENT_21 AMT_REQ_CREDIT_BUREAU_HOUR AMT_REQ_CREDIT_BUREAU_DAY  \\\n",
              "307506                0                        NaN                       NaN   \n",
              "307507                0                        NaN                       NaN   \n",
              "307508                0                        1.0                       0.0   \n",
              "307509                0                        0.0                       0.0   \n",
              "307510                0                        0.0                       0.0   \n",
              "\n",
              "        AMT_REQ_CREDIT_BUREAU_WEEK  AMT_REQ_CREDIT_BUREAU_MON  \\\n",
              "307506                         NaN                        NaN   \n",
              "307507                         NaN                        NaN   \n",
              "307508                         0.0                        1.0   \n",
              "307509                         0.0                        0.0   \n",
              "307510                         0.0                        2.0   \n",
              "\n",
              "        AMT_REQ_CREDIT_BUREAU_QRT  AMT_REQ_CREDIT_BUREAU_YEAR  \n",
              "307506                        NaN                         NaN  \n",
              "307507                        NaN                         NaN  \n",
              "307508                        0.0                         1.0  \n",
              "307509                        0.0                         0.0  \n",
              "307510                        0.0                         1.0  \n",
              "\n",
              "[5 rows x 122 columns]"
            ],
            "text/html": [
              "\n",
              "  <div id=\"df-b7c44ba2-8fba-4919-912d-bc09e7eeccfc\">\n",
              "    <div class=\"colab-df-container\">\n",
              "      <div>\n",
              "<style scoped>\n",
              "    .dataframe tbody tr th:only-of-type {\n",
              "        vertical-align: middle;\n",
              "    }\n",
              "\n",
              "    .dataframe tbody tr th {\n",
              "        vertical-align: top;\n",
              "    }\n",
              "\n",
              "    .dataframe thead th {\n",
              "        text-align: right;\n",
              "    }\n",
              "</style>\n",
              "<table border=\"1\" class=\"dataframe\">\n",
              "  <thead>\n",
              "    <tr style=\"text-align: right;\">\n",
              "      <th></th>\n",
              "      <th>SK_ID_CURR</th>\n",
              "      <th>TARGET</th>\n",
              "      <th>NAME_CONTRACT_TYPE</th>\n",
              "      <th>CODE_GENDER</th>\n",
              "      <th>FLAG_OWN_CAR</th>\n",
              "      <th>FLAG_OWN_REALTY</th>\n",
              "      <th>CNT_CHILDREN</th>\n",
              "      <th>AMT_INCOME_TOTAL</th>\n",
              "      <th>AMT_CREDIT</th>\n",
              "      <th>AMT_ANNUITY</th>\n",
              "      <th>...</th>\n",
              "      <th>FLAG_DOCUMENT_18</th>\n",
              "      <th>FLAG_DOCUMENT_19</th>\n",
              "      <th>FLAG_DOCUMENT_20</th>\n",
              "      <th>FLAG_DOCUMENT_21</th>\n",
              "      <th>AMT_REQ_CREDIT_BUREAU_HOUR</th>\n",
              "      <th>AMT_REQ_CREDIT_BUREAU_DAY</th>\n",
              "      <th>AMT_REQ_CREDIT_BUREAU_WEEK</th>\n",
              "      <th>AMT_REQ_CREDIT_BUREAU_MON</th>\n",
              "      <th>AMT_REQ_CREDIT_BUREAU_QRT</th>\n",
              "      <th>AMT_REQ_CREDIT_BUREAU_YEAR</th>\n",
              "    </tr>\n",
              "  </thead>\n",
              "  <tbody>\n",
              "    <tr>\n",
              "      <th>307506</th>\n",
              "      <td>456251</td>\n",
              "      <td>0</td>\n",
              "      <td>Cash loans</td>\n",
              "      <td>M</td>\n",
              "      <td>N</td>\n",
              "      <td>N</td>\n",
              "      <td>0</td>\n",
              "      <td>157500.0</td>\n",
              "      <td>254700.0</td>\n",
              "      <td>27558.0</td>\n",
              "      <td>...</td>\n",
              "      <td>0</td>\n",
              "      <td>0</td>\n",
              "      <td>0</td>\n",
              "      <td>0</td>\n",
              "      <td>NaN</td>\n",
              "      <td>NaN</td>\n",
              "      <td>NaN</td>\n",
              "      <td>NaN</td>\n",
              "      <td>NaN</td>\n",
              "      <td>NaN</td>\n",
              "    </tr>\n",
              "    <tr>\n",
              "      <th>307507</th>\n",
              "      <td>456252</td>\n",
              "      <td>0</td>\n",
              "      <td>Cash loans</td>\n",
              "      <td>F</td>\n",
              "      <td>N</td>\n",
              "      <td>Y</td>\n",
              "      <td>0</td>\n",
              "      <td>72000.0</td>\n",
              "      <td>269550.0</td>\n",
              "      <td>12001.5</td>\n",
              "      <td>...</td>\n",
              "      <td>0</td>\n",
              "      <td>0</td>\n",
              "      <td>0</td>\n",
              "      <td>0</td>\n",
              "      <td>NaN</td>\n",
              "      <td>NaN</td>\n",
              "      <td>NaN</td>\n",
              "      <td>NaN</td>\n",
              "      <td>NaN</td>\n",
              "      <td>NaN</td>\n",
              "    </tr>\n",
              "    <tr>\n",
              "      <th>307508</th>\n",
              "      <td>456253</td>\n",
              "      <td>0</td>\n",
              "      <td>Cash loans</td>\n",
              "      <td>F</td>\n",
              "      <td>N</td>\n",
              "      <td>Y</td>\n",
              "      <td>0</td>\n",
              "      <td>153000.0</td>\n",
              "      <td>677664.0</td>\n",
              "      <td>29979.0</td>\n",
              "      <td>...</td>\n",
              "      <td>0</td>\n",
              "      <td>0</td>\n",
              "      <td>0</td>\n",
              "      <td>0</td>\n",
              "      <td>1.0</td>\n",
              "      <td>0.0</td>\n",
              "      <td>0.0</td>\n",
              "      <td>1.0</td>\n",
              "      <td>0.0</td>\n",
              "      <td>1.0</td>\n",
              "    </tr>\n",
              "    <tr>\n",
              "      <th>307509</th>\n",
              "      <td>456254</td>\n",
              "      <td>1</td>\n",
              "      <td>Cash loans</td>\n",
              "      <td>F</td>\n",
              "      <td>N</td>\n",
              "      <td>Y</td>\n",
              "      <td>0</td>\n",
              "      <td>171000.0</td>\n",
              "      <td>370107.0</td>\n",
              "      <td>20205.0</td>\n",
              "      <td>...</td>\n",
              "      <td>0</td>\n",
              "      <td>0</td>\n",
              "      <td>0</td>\n",
              "      <td>0</td>\n",
              "      <td>0.0</td>\n",
              "      <td>0.0</td>\n",
              "      <td>0.0</td>\n",
              "      <td>0.0</td>\n",
              "      <td>0.0</td>\n",
              "      <td>0.0</td>\n",
              "    </tr>\n",
              "    <tr>\n",
              "      <th>307510</th>\n",
              "      <td>456255</td>\n",
              "      <td>0</td>\n",
              "      <td>Cash loans</td>\n",
              "      <td>F</td>\n",
              "      <td>N</td>\n",
              "      <td>N</td>\n",
              "      <td>0</td>\n",
              "      <td>157500.0</td>\n",
              "      <td>675000.0</td>\n",
              "      <td>49117.5</td>\n",
              "      <td>...</td>\n",
              "      <td>0</td>\n",
              "      <td>0</td>\n",
              "      <td>0</td>\n",
              "      <td>0</td>\n",
              "      <td>0.0</td>\n",
              "      <td>0.0</td>\n",
              "      <td>0.0</td>\n",
              "      <td>2.0</td>\n",
              "      <td>0.0</td>\n",
              "      <td>1.0</td>\n",
              "    </tr>\n",
              "  </tbody>\n",
              "</table>\n",
              "<p>5 rows × 122 columns</p>\n",
              "</div>\n",
              "      <button class=\"colab-df-convert\" onclick=\"convertToInteractive('df-b7c44ba2-8fba-4919-912d-bc09e7eeccfc')\"\n",
              "              title=\"Convert this dataframe to an interactive table.\"\n",
              "              style=\"display:none;\">\n",
              "        \n",
              "  <svg xmlns=\"http://www.w3.org/2000/svg\" height=\"24px\"viewBox=\"0 0 24 24\"\n",
              "       width=\"24px\">\n",
              "    <path d=\"M0 0h24v24H0V0z\" fill=\"none\"/>\n",
              "    <path d=\"M18.56 5.44l.94 2.06.94-2.06 2.06-.94-2.06-.94-.94-2.06-.94 2.06-2.06.94zm-11 1L8.5 8.5l.94-2.06 2.06-.94-2.06-.94L8.5 2.5l-.94 2.06-2.06.94zm10 10l.94 2.06.94-2.06 2.06-.94-2.06-.94-.94-2.06-.94 2.06-2.06.94z\"/><path d=\"M17.41 7.96l-1.37-1.37c-.4-.4-.92-.59-1.43-.59-.52 0-1.04.2-1.43.59L10.3 9.45l-7.72 7.72c-.78.78-.78 2.05 0 2.83L4 21.41c.39.39.9.59 1.41.59.51 0 1.02-.2 1.41-.59l7.78-7.78 2.81-2.81c.8-.78.8-2.07 0-2.86zM5.41 20L4 18.59l7.72-7.72 1.47 1.35L5.41 20z\"/>\n",
              "  </svg>\n",
              "      </button>\n",
              "      \n",
              "  <style>\n",
              "    .colab-df-container {\n",
              "      display:flex;\n",
              "      flex-wrap:wrap;\n",
              "      gap: 12px;\n",
              "    }\n",
              "\n",
              "    .colab-df-convert {\n",
              "      background-color: #E8F0FE;\n",
              "      border: none;\n",
              "      border-radius: 50%;\n",
              "      cursor: pointer;\n",
              "      display: none;\n",
              "      fill: #1967D2;\n",
              "      height: 32px;\n",
              "      padding: 0 0 0 0;\n",
              "      width: 32px;\n",
              "    }\n",
              "\n",
              "    .colab-df-convert:hover {\n",
              "      background-color: #E2EBFA;\n",
              "      box-shadow: 0px 1px 2px rgba(60, 64, 67, 0.3), 0px 1px 3px 1px rgba(60, 64, 67, 0.15);\n",
              "      fill: #174EA6;\n",
              "    }\n",
              "\n",
              "    [theme=dark] .colab-df-convert {\n",
              "      background-color: #3B4455;\n",
              "      fill: #D2E3FC;\n",
              "    }\n",
              "\n",
              "    [theme=dark] .colab-df-convert:hover {\n",
              "      background-color: #434B5C;\n",
              "      box-shadow: 0px 1px 3px 1px rgba(0, 0, 0, 0.15);\n",
              "      filter: drop-shadow(0px 1px 2px rgba(0, 0, 0, 0.3));\n",
              "      fill: #FFFFFF;\n",
              "    }\n",
              "  </style>\n",
              "\n",
              "      <script>\n",
              "        const buttonEl =\n",
              "          document.querySelector('#df-b7c44ba2-8fba-4919-912d-bc09e7eeccfc button.colab-df-convert');\n",
              "        buttonEl.style.display =\n",
              "          google.colab.kernel.accessAllowed ? 'block' : 'none';\n",
              "\n",
              "        async function convertToInteractive(key) {\n",
              "          const element = document.querySelector('#df-b7c44ba2-8fba-4919-912d-bc09e7eeccfc');\n",
              "          const dataTable =\n",
              "            await google.colab.kernel.invokeFunction('convertToInteractive',\n",
              "                                                     [key], {});\n",
              "          if (!dataTable) return;\n",
              "\n",
              "          const docLinkHtml = 'Like what you see? Visit the ' +\n",
              "            '<a target=\"_blank\" href=https://colab.research.google.com/notebooks/data_table.ipynb>data table notebook</a>'\n",
              "            + ' to learn more about interactive tables.';\n",
              "          element.innerHTML = '';\n",
              "          dataTable['output_type'] = 'display_data';\n",
              "          await google.colab.output.renderOutput(dataTable, element);\n",
              "          const docLink = document.createElement('div');\n",
              "          docLink.innerHTML = docLinkHtml;\n",
              "          element.appendChild(docLink);\n",
              "        }\n",
              "      </script>\n",
              "    </div>\n",
              "  </div>\n",
              "  "
            ]
          },
          "metadata": {},
          "execution_count": 54
        }
      ]
    },
    {
      "cell_type": "code",
      "source": [
        "#checking Data types for Application Data\n",
        "df.dtypes"
      ],
      "metadata": {
        "colab": {
          "base_uri": "https://localhost:8080/"
        },
        "id": "aAd_2y_ttILB",
        "outputId": "5413ed19-92aa-45bb-cdac-cadfe72eccd6"
      },
      "execution_count": null,
      "outputs": [
        {
          "output_type": "execute_result",
          "data": {
            "text/plain": [
              "SK_ID_CURR                      int64\n",
              "TARGET                          int64\n",
              "NAME_CONTRACT_TYPE             object\n",
              "CODE_GENDER                    object\n",
              "FLAG_OWN_CAR                   object\n",
              "                               ...   \n",
              "AMT_REQ_CREDIT_BUREAU_DAY     float64\n",
              "AMT_REQ_CREDIT_BUREAU_WEEK    float64\n",
              "AMT_REQ_CREDIT_BUREAU_MON     float64\n",
              "AMT_REQ_CREDIT_BUREAU_QRT     float64\n",
              "AMT_REQ_CREDIT_BUREAU_YEAR    float64\n",
              "Length: 122, dtype: object"
            ]
          },
          "metadata": {},
          "execution_count": 23
        }
      ]
    },
    {
      "cell_type": "code",
      "source": [
        "#Checking the column names, Non-Null Count in each column, and data type of respective column of dataframe using the function df.info\n",
        "df.info()"
      ],
      "metadata": {
        "colab": {
          "base_uri": "https://localhost:8080/"
        },
        "id": "ML6u2IX1thyQ",
        "outputId": "b7004136-c636-4c95-d277-e1980c1654b4"
      },
      "execution_count": null,
      "outputs": [
        {
          "output_type": "stream",
          "name": "stdout",
          "text": [
            "<class 'pandas.core.frame.DataFrame'>\n",
            "RangeIndex: 307511 entries, 0 to 307510\n",
            "Columns: 122 entries, SK_ID_CURR to AMT_REQ_CREDIT_BUREAU_YEAR\n",
            "dtypes: float64(65), int64(41), object(16)\n",
            "memory usage: 286.2+ MB\n"
          ]
        }
      ]
    },
    {
      "cell_type": "code",
      "source": [
        "#Gives statestical Description of continues data\n",
        "df.describe()"
      ],
      "metadata": {
        "colab": {
          "base_uri": "https://localhost:8080/",
          "height": 394
        },
        "id": "ItDWFhQ6t6eO",
        "outputId": "1dc32d2f-43a0-4cc4-ac5f-ec3d8e2f92f6"
      },
      "execution_count": null,
      "outputs": [
        {
          "output_type": "execute_result",
          "data": {
            "text/plain": [
              "          SK_ID_CURR         TARGET   CNT_CHILDREN  AMT_INCOME_TOTAL  \\\n",
              "count  112568.000000  112568.000000  112568.000000      1.125680e+05   \n",
              "mean   165299.106735       0.081506       0.417916      1.693523e+05   \n",
              "std     37695.825512       0.273612       0.721349      3.633325e+05   \n",
              "min    100002.000000       0.000000       0.000000      2.565000e+04   \n",
              "25%    132708.750000       0.000000       0.000000      1.125000e+05   \n",
              "50%    165224.500000       0.000000       0.000000      1.440000e+05   \n",
              "75%    197943.250000       0.000000       1.000000      2.025000e+05   \n",
              "max    230577.000000       1.000000      12.000000      1.170000e+08   \n",
              "\n",
              "         AMT_CREDIT    AMT_ANNUITY  AMT_GOODS_PRICE  \\\n",
              "count  1.125680e+05  112561.000000     1.124800e+05   \n",
              "mean   5.988978e+05   27093.243721     5.382569e+05   \n",
              "std    4.022424e+05   14529.828326     3.696342e+05   \n",
              "min    4.500000e+04    1980.000000     4.500000e+04   \n",
              "25%    2.700000e+05   16488.000000     2.385000e+05   \n",
              "50%    5.124465e+05   24885.000000     4.500000e+05   \n",
              "75%    8.086500e+05   34596.000000     6.795000e+05   \n",
              "max    4.050000e+06  258025.500000     4.050000e+06   \n",
              "\n",
              "       REGION_POPULATION_RELATIVE     DAYS_BIRTH  DAYS_EMPLOYED  ...  \\\n",
              "count               112568.000000  112568.000000  112568.000000  ...   \n",
              "mean                     0.020857  -16031.682174   63559.335913  ...   \n",
              "std                      0.013828    4368.315130  141062.951776  ...   \n",
              "min                      0.000533  -25201.000000  -17531.000000  ...   \n",
              "25%                      0.010006  -19676.000000   -2759.000000  ...   \n",
              "50%                      0.018850  -15744.500000   -1217.000000  ...   \n",
              "75%                      0.028663  -12393.000000    -289.000000  ...   \n",
              "max                      0.072508   -7676.000000  365243.000000  ...   \n",
              "\n",
              "       FLAG_DOCUMENT_18  FLAG_DOCUMENT_19  FLAG_DOCUMENT_20  FLAG_DOCUMENT_21  \\\n",
              "count     112567.000000     112567.000000     112567.000000     112567.000000   \n",
              "mean           0.008271          0.000640          0.000515          0.000311   \n",
              "std            0.090567          0.025283          0.022693          0.017630   \n",
              "min            0.000000          0.000000          0.000000          0.000000   \n",
              "25%            0.000000          0.000000          0.000000          0.000000   \n",
              "50%            0.000000          0.000000          0.000000          0.000000   \n",
              "75%            0.000000          0.000000          0.000000          0.000000   \n",
              "max            1.000000          1.000000          1.000000          1.000000   \n",
              "\n",
              "       AMT_REQ_CREDIT_BUREAU_HOUR  AMT_REQ_CREDIT_BUREAU_DAY  \\\n",
              "count                97426.000000               97426.000000   \n",
              "mean                     0.006672                   0.007236   \n",
              "std                      0.086423                   0.109394   \n",
              "min                      0.000000                   0.000000   \n",
              "25%                      0.000000                   0.000000   \n",
              "50%                      0.000000                   0.000000   \n",
              "75%                      0.000000                   0.000000   \n",
              "max                      3.000000                   9.000000   \n",
              "\n",
              "       AMT_REQ_CREDIT_BUREAU_WEEK  AMT_REQ_CREDIT_BUREAU_MON  \\\n",
              "count                97426.000000               97426.000000   \n",
              "mean                     0.033656                   0.267085   \n",
              "std                      0.203198                   0.917826   \n",
              "min                      0.000000                   0.000000   \n",
              "25%                      0.000000                   0.000000   \n",
              "50%                      0.000000                   0.000000   \n",
              "75%                      0.000000                   0.000000   \n",
              "max                      8.000000                  24.000000   \n",
              "\n",
              "       AMT_REQ_CREDIT_BUREAU_QRT  AMT_REQ_CREDIT_BUREAU_YEAR  \n",
              "count               97426.000000                97426.000000  \n",
              "mean                    0.266140                    1.892185  \n",
              "std                     0.613627                    1.872578  \n",
              "min                     0.000000                    0.000000  \n",
              "25%                     0.000000                    0.000000  \n",
              "50%                     0.000000                    1.000000  \n",
              "75%                     0.000000                    3.000000  \n",
              "max                     8.000000                   25.000000  \n",
              "\n",
              "[8 rows x 106 columns]"
            ],
            "text/html": [
              "\n",
              "  <div id=\"df-eb051df8-856e-425d-b69f-0c97fa5989fe\">\n",
              "    <div class=\"colab-df-container\">\n",
              "      <div>\n",
              "<style scoped>\n",
              "    .dataframe tbody tr th:only-of-type {\n",
              "        vertical-align: middle;\n",
              "    }\n",
              "\n",
              "    .dataframe tbody tr th {\n",
              "        vertical-align: top;\n",
              "    }\n",
              "\n",
              "    .dataframe thead th {\n",
              "        text-align: right;\n",
              "    }\n",
              "</style>\n",
              "<table border=\"1\" class=\"dataframe\">\n",
              "  <thead>\n",
              "    <tr style=\"text-align: right;\">\n",
              "      <th></th>\n",
              "      <th>SK_ID_CURR</th>\n",
              "      <th>TARGET</th>\n",
              "      <th>CNT_CHILDREN</th>\n",
              "      <th>AMT_INCOME_TOTAL</th>\n",
              "      <th>AMT_CREDIT</th>\n",
              "      <th>AMT_ANNUITY</th>\n",
              "      <th>AMT_GOODS_PRICE</th>\n",
              "      <th>REGION_POPULATION_RELATIVE</th>\n",
              "      <th>DAYS_BIRTH</th>\n",
              "      <th>DAYS_EMPLOYED</th>\n",
              "      <th>...</th>\n",
              "      <th>FLAG_DOCUMENT_18</th>\n",
              "      <th>FLAG_DOCUMENT_19</th>\n",
              "      <th>FLAG_DOCUMENT_20</th>\n",
              "      <th>FLAG_DOCUMENT_21</th>\n",
              "      <th>AMT_REQ_CREDIT_BUREAU_HOUR</th>\n",
              "      <th>AMT_REQ_CREDIT_BUREAU_DAY</th>\n",
              "      <th>AMT_REQ_CREDIT_BUREAU_WEEK</th>\n",
              "      <th>AMT_REQ_CREDIT_BUREAU_MON</th>\n",
              "      <th>AMT_REQ_CREDIT_BUREAU_QRT</th>\n",
              "      <th>AMT_REQ_CREDIT_BUREAU_YEAR</th>\n",
              "    </tr>\n",
              "  </thead>\n",
              "  <tbody>\n",
              "    <tr>\n",
              "      <th>count</th>\n",
              "      <td>112568.000000</td>\n",
              "      <td>112568.000000</td>\n",
              "      <td>112568.000000</td>\n",
              "      <td>1.125680e+05</td>\n",
              "      <td>1.125680e+05</td>\n",
              "      <td>112561.000000</td>\n",
              "      <td>1.124800e+05</td>\n",
              "      <td>112568.000000</td>\n",
              "      <td>112568.000000</td>\n",
              "      <td>112568.000000</td>\n",
              "      <td>...</td>\n",
              "      <td>112567.000000</td>\n",
              "      <td>112567.000000</td>\n",
              "      <td>112567.000000</td>\n",
              "      <td>112567.000000</td>\n",
              "      <td>97426.000000</td>\n",
              "      <td>97426.000000</td>\n",
              "      <td>97426.000000</td>\n",
              "      <td>97426.000000</td>\n",
              "      <td>97426.000000</td>\n",
              "      <td>97426.000000</td>\n",
              "    </tr>\n",
              "    <tr>\n",
              "      <th>mean</th>\n",
              "      <td>165299.106735</td>\n",
              "      <td>0.081506</td>\n",
              "      <td>0.417916</td>\n",
              "      <td>1.693523e+05</td>\n",
              "      <td>5.988978e+05</td>\n",
              "      <td>27093.243721</td>\n",
              "      <td>5.382569e+05</td>\n",
              "      <td>0.020857</td>\n",
              "      <td>-16031.682174</td>\n",
              "      <td>63559.335913</td>\n",
              "      <td>...</td>\n",
              "      <td>0.008271</td>\n",
              "      <td>0.000640</td>\n",
              "      <td>0.000515</td>\n",
              "      <td>0.000311</td>\n",
              "      <td>0.006672</td>\n",
              "      <td>0.007236</td>\n",
              "      <td>0.033656</td>\n",
              "      <td>0.267085</td>\n",
              "      <td>0.266140</td>\n",
              "      <td>1.892185</td>\n",
              "    </tr>\n",
              "    <tr>\n",
              "      <th>std</th>\n",
              "      <td>37695.825512</td>\n",
              "      <td>0.273612</td>\n",
              "      <td>0.721349</td>\n",
              "      <td>3.633325e+05</td>\n",
              "      <td>4.022424e+05</td>\n",
              "      <td>14529.828326</td>\n",
              "      <td>3.696342e+05</td>\n",
              "      <td>0.013828</td>\n",
              "      <td>4368.315130</td>\n",
              "      <td>141062.951776</td>\n",
              "      <td>...</td>\n",
              "      <td>0.090567</td>\n",
              "      <td>0.025283</td>\n",
              "      <td>0.022693</td>\n",
              "      <td>0.017630</td>\n",
              "      <td>0.086423</td>\n",
              "      <td>0.109394</td>\n",
              "      <td>0.203198</td>\n",
              "      <td>0.917826</td>\n",
              "      <td>0.613627</td>\n",
              "      <td>1.872578</td>\n",
              "    </tr>\n",
              "    <tr>\n",
              "      <th>min</th>\n",
              "      <td>100002.000000</td>\n",
              "      <td>0.000000</td>\n",
              "      <td>0.000000</td>\n",
              "      <td>2.565000e+04</td>\n",
              "      <td>4.500000e+04</td>\n",
              "      <td>1980.000000</td>\n",
              "      <td>4.500000e+04</td>\n",
              "      <td>0.000533</td>\n",
              "      <td>-25201.000000</td>\n",
              "      <td>-17531.000000</td>\n",
              "      <td>...</td>\n",
              "      <td>0.000000</td>\n",
              "      <td>0.000000</td>\n",
              "      <td>0.000000</td>\n",
              "      <td>0.000000</td>\n",
              "      <td>0.000000</td>\n",
              "      <td>0.000000</td>\n",
              "      <td>0.000000</td>\n",
              "      <td>0.000000</td>\n",
              "      <td>0.000000</td>\n",
              "      <td>0.000000</td>\n",
              "    </tr>\n",
              "    <tr>\n",
              "      <th>25%</th>\n",
              "      <td>132708.750000</td>\n",
              "      <td>0.000000</td>\n",
              "      <td>0.000000</td>\n",
              "      <td>1.125000e+05</td>\n",
              "      <td>2.700000e+05</td>\n",
              "      <td>16488.000000</td>\n",
              "      <td>2.385000e+05</td>\n",
              "      <td>0.010006</td>\n",
              "      <td>-19676.000000</td>\n",
              "      <td>-2759.000000</td>\n",
              "      <td>...</td>\n",
              "      <td>0.000000</td>\n",
              "      <td>0.000000</td>\n",
              "      <td>0.000000</td>\n",
              "      <td>0.000000</td>\n",
              "      <td>0.000000</td>\n",
              "      <td>0.000000</td>\n",
              "      <td>0.000000</td>\n",
              "      <td>0.000000</td>\n",
              "      <td>0.000000</td>\n",
              "      <td>0.000000</td>\n",
              "    </tr>\n",
              "    <tr>\n",
              "      <th>50%</th>\n",
              "      <td>165224.500000</td>\n",
              "      <td>0.000000</td>\n",
              "      <td>0.000000</td>\n",
              "      <td>1.440000e+05</td>\n",
              "      <td>5.124465e+05</td>\n",
              "      <td>24885.000000</td>\n",
              "      <td>4.500000e+05</td>\n",
              "      <td>0.018850</td>\n",
              "      <td>-15744.500000</td>\n",
              "      <td>-1217.000000</td>\n",
              "      <td>...</td>\n",
              "      <td>0.000000</td>\n",
              "      <td>0.000000</td>\n",
              "      <td>0.000000</td>\n",
              "      <td>0.000000</td>\n",
              "      <td>0.000000</td>\n",
              "      <td>0.000000</td>\n",
              "      <td>0.000000</td>\n",
              "      <td>0.000000</td>\n",
              "      <td>0.000000</td>\n",
              "      <td>1.000000</td>\n",
              "    </tr>\n",
              "    <tr>\n",
              "      <th>75%</th>\n",
              "      <td>197943.250000</td>\n",
              "      <td>0.000000</td>\n",
              "      <td>1.000000</td>\n",
              "      <td>2.025000e+05</td>\n",
              "      <td>8.086500e+05</td>\n",
              "      <td>34596.000000</td>\n",
              "      <td>6.795000e+05</td>\n",
              "      <td>0.028663</td>\n",
              "      <td>-12393.000000</td>\n",
              "      <td>-289.000000</td>\n",
              "      <td>...</td>\n",
              "      <td>0.000000</td>\n",
              "      <td>0.000000</td>\n",
              "      <td>0.000000</td>\n",
              "      <td>0.000000</td>\n",
              "      <td>0.000000</td>\n",
              "      <td>0.000000</td>\n",
              "      <td>0.000000</td>\n",
              "      <td>0.000000</td>\n",
              "      <td>0.000000</td>\n",
              "      <td>3.000000</td>\n",
              "    </tr>\n",
              "    <tr>\n",
              "      <th>max</th>\n",
              "      <td>230577.000000</td>\n",
              "      <td>1.000000</td>\n",
              "      <td>12.000000</td>\n",
              "      <td>1.170000e+08</td>\n",
              "      <td>4.050000e+06</td>\n",
              "      <td>258025.500000</td>\n",
              "      <td>4.050000e+06</td>\n",
              "      <td>0.072508</td>\n",
              "      <td>-7676.000000</td>\n",
              "      <td>365243.000000</td>\n",
              "      <td>...</td>\n",
              "      <td>1.000000</td>\n",
              "      <td>1.000000</td>\n",
              "      <td>1.000000</td>\n",
              "      <td>1.000000</td>\n",
              "      <td>3.000000</td>\n",
              "      <td>9.000000</td>\n",
              "      <td>8.000000</td>\n",
              "      <td>24.000000</td>\n",
              "      <td>8.000000</td>\n",
              "      <td>25.000000</td>\n",
              "    </tr>\n",
              "  </tbody>\n",
              "</table>\n",
              "<p>8 rows × 106 columns</p>\n",
              "</div>\n",
              "      <button class=\"colab-df-convert\" onclick=\"convertToInteractive('df-eb051df8-856e-425d-b69f-0c97fa5989fe')\"\n",
              "              title=\"Convert this dataframe to an interactive table.\"\n",
              "              style=\"display:none;\">\n",
              "        \n",
              "  <svg xmlns=\"http://www.w3.org/2000/svg\" height=\"24px\"viewBox=\"0 0 24 24\"\n",
              "       width=\"24px\">\n",
              "    <path d=\"M0 0h24v24H0V0z\" fill=\"none\"/>\n",
              "    <path d=\"M18.56 5.44l.94 2.06.94-2.06 2.06-.94-2.06-.94-.94-2.06-.94 2.06-2.06.94zm-11 1L8.5 8.5l.94-2.06 2.06-.94-2.06-.94L8.5 2.5l-.94 2.06-2.06.94zm10 10l.94 2.06.94-2.06 2.06-.94-2.06-.94-.94-2.06-.94 2.06-2.06.94z\"/><path d=\"M17.41 7.96l-1.37-1.37c-.4-.4-.92-.59-1.43-.59-.52 0-1.04.2-1.43.59L10.3 9.45l-7.72 7.72c-.78.78-.78 2.05 0 2.83L4 21.41c.39.39.9.59 1.41.59.51 0 1.02-.2 1.41-.59l7.78-7.78 2.81-2.81c.8-.78.8-2.07 0-2.86zM5.41 20L4 18.59l7.72-7.72 1.47 1.35L5.41 20z\"/>\n",
              "  </svg>\n",
              "      </button>\n",
              "      \n",
              "  <style>\n",
              "    .colab-df-container {\n",
              "      display:flex;\n",
              "      flex-wrap:wrap;\n",
              "      gap: 12px;\n",
              "    }\n",
              "\n",
              "    .colab-df-convert {\n",
              "      background-color: #E8F0FE;\n",
              "      border: none;\n",
              "      border-radius: 50%;\n",
              "      cursor: pointer;\n",
              "      display: none;\n",
              "      fill: #1967D2;\n",
              "      height: 32px;\n",
              "      padding: 0 0 0 0;\n",
              "      width: 32px;\n",
              "    }\n",
              "\n",
              "    .colab-df-convert:hover {\n",
              "      background-color: #E2EBFA;\n",
              "      box-shadow: 0px 1px 2px rgba(60, 64, 67, 0.3), 0px 1px 3px 1px rgba(60, 64, 67, 0.15);\n",
              "      fill: #174EA6;\n",
              "    }\n",
              "\n",
              "    [theme=dark] .colab-df-convert {\n",
              "      background-color: #3B4455;\n",
              "      fill: #D2E3FC;\n",
              "    }\n",
              "\n",
              "    [theme=dark] .colab-df-convert:hover {\n",
              "      background-color: #434B5C;\n",
              "      box-shadow: 0px 1px 3px 1px rgba(0, 0, 0, 0.15);\n",
              "      filter: drop-shadow(0px 1px 2px rgba(0, 0, 0, 0.3));\n",
              "      fill: #FFFFFF;\n",
              "    }\n",
              "  </style>\n",
              "\n",
              "      <script>\n",
              "        const buttonEl =\n",
              "          document.querySelector('#df-eb051df8-856e-425d-b69f-0c97fa5989fe button.colab-df-convert');\n",
              "        buttonEl.style.display =\n",
              "          google.colab.kernel.accessAllowed ? 'block' : 'none';\n",
              "\n",
              "        async function convertToInteractive(key) {\n",
              "          const element = document.querySelector('#df-eb051df8-856e-425d-b69f-0c97fa5989fe');\n",
              "          const dataTable =\n",
              "            await google.colab.kernel.invokeFunction('convertToInteractive',\n",
              "                                                     [key], {});\n",
              "          if (!dataTable) return;\n",
              "\n",
              "          const docLinkHtml = 'Like what you see? Visit the ' +\n",
              "            '<a target=\"_blank\" href=https://colab.research.google.com/notebooks/data_table.ipynb>data table notebook</a>'\n",
              "            + ' to learn more about interactive tables.';\n",
              "          element.innerHTML = '';\n",
              "          dataTable['output_type'] = 'display_data';\n",
              "          await google.colab.output.renderOutput(dataTable, element);\n",
              "          const docLink = document.createElement('div');\n",
              "          docLink.innerHTML = docLinkHtml;\n",
              "          element.appendChild(docLink);\n",
              "        }\n",
              "      </script>\n",
              "    </div>\n",
              "  </div>\n",
              "  "
            ]
          },
          "metadata": {},
          "execution_count": 25
        }
      ]
    },
    {
      "cell_type": "code",
      "source": [
        "#Gives statestical Description of all columns including categorical data \n",
        "df.describe(include='all')\n"
      ],
      "metadata": {
        "colab": {
          "base_uri": "https://localhost:8080/",
          "height": 488
        },
        "id": "Pw0t-boyu8eE",
        "outputId": "c1eacf95-4457-489e-ebed-68f326e01e5e"
      },
      "execution_count": null,
      "outputs": [
        {
          "output_type": "execute_result",
          "data": {
            "text/plain": [
              "           SK_ID_CURR         TARGET NAME_CONTRACT_TYPE CODE_GENDER  \\\n",
              "count   307511.000000  307511.000000             307511      307511   \n",
              "unique            NaN            NaN                  2           3   \n",
              "top               NaN            NaN         Cash loans           F   \n",
              "freq              NaN            NaN             278232      202448   \n",
              "mean    278180.518577       0.080729                NaN         NaN   \n",
              "std     102790.175348       0.272419                NaN         NaN   \n",
              "min     100002.000000       0.000000                NaN         NaN   \n",
              "25%     189145.500000       0.000000                NaN         NaN   \n",
              "50%     278202.000000       0.000000                NaN         NaN   \n",
              "75%     367142.500000       0.000000                NaN         NaN   \n",
              "max     456255.000000       1.000000                NaN         NaN   \n",
              "\n",
              "       FLAG_OWN_CAR FLAG_OWN_REALTY   CNT_CHILDREN  AMT_INCOME_TOTAL  \\\n",
              "count        307511          307511  307511.000000      3.075110e+05   \n",
              "unique            2               2            NaN               NaN   \n",
              "top               N               Y            NaN               NaN   \n",
              "freq         202924          213312            NaN               NaN   \n",
              "mean            NaN             NaN       0.417052      1.687979e+05   \n",
              "std             NaN             NaN       0.722121      2.371231e+05   \n",
              "min             NaN             NaN       0.000000      2.565000e+04   \n",
              "25%             NaN             NaN       0.000000      1.125000e+05   \n",
              "50%             NaN             NaN       0.000000      1.471500e+05   \n",
              "75%             NaN             NaN       1.000000      2.025000e+05   \n",
              "max             NaN             NaN      19.000000      1.170000e+08   \n",
              "\n",
              "          AMT_CREDIT    AMT_ANNUITY  ...  FLAG_DOCUMENT_18 FLAG_DOCUMENT_19  \\\n",
              "count   3.075110e+05  307499.000000  ...     307511.000000    307511.000000   \n",
              "unique           NaN            NaN  ...               NaN              NaN   \n",
              "top              NaN            NaN  ...               NaN              NaN   \n",
              "freq             NaN            NaN  ...               NaN              NaN   \n",
              "mean    5.990260e+05   27108.573909  ...          0.008130         0.000595   \n",
              "std     4.024908e+05   14493.737315  ...          0.089798         0.024387   \n",
              "min     4.500000e+04    1615.500000  ...          0.000000         0.000000   \n",
              "25%     2.700000e+05   16524.000000  ...          0.000000         0.000000   \n",
              "50%     5.135310e+05   24903.000000  ...          0.000000         0.000000   \n",
              "75%     8.086500e+05   34596.000000  ...          0.000000         0.000000   \n",
              "max     4.050000e+06  258025.500000  ...          1.000000         1.000000   \n",
              "\n",
              "       FLAG_DOCUMENT_20 FLAG_DOCUMENT_21 AMT_REQ_CREDIT_BUREAU_HOUR  \\\n",
              "count     307511.000000    307511.000000              265992.000000   \n",
              "unique              NaN              NaN                        NaN   \n",
              "top                 NaN              NaN                        NaN   \n",
              "freq                NaN              NaN                        NaN   \n",
              "mean           0.000507         0.000335                   0.006402   \n",
              "std            0.022518         0.018299                   0.083849   \n",
              "min            0.000000         0.000000                   0.000000   \n",
              "25%            0.000000         0.000000                   0.000000   \n",
              "50%            0.000000         0.000000                   0.000000   \n",
              "75%            0.000000         0.000000                   0.000000   \n",
              "max            1.000000         1.000000                   4.000000   \n",
              "\n",
              "       AMT_REQ_CREDIT_BUREAU_DAY  AMT_REQ_CREDIT_BUREAU_WEEK  \\\n",
              "count              265992.000000               265992.000000   \n",
              "unique                       NaN                         NaN   \n",
              "top                          NaN                         NaN   \n",
              "freq                         NaN                         NaN   \n",
              "mean                    0.007000                    0.034362   \n",
              "std                     0.110757                    0.204685   \n",
              "min                     0.000000                    0.000000   \n",
              "25%                     0.000000                    0.000000   \n",
              "50%                     0.000000                    0.000000   \n",
              "75%                     0.000000                    0.000000   \n",
              "max                     9.000000                    8.000000   \n",
              "\n",
              "        AMT_REQ_CREDIT_BUREAU_MON  AMT_REQ_CREDIT_BUREAU_QRT  \\\n",
              "count               265992.000000              265992.000000   \n",
              "unique                        NaN                        NaN   \n",
              "top                           NaN                        NaN   \n",
              "freq                          NaN                        NaN   \n",
              "mean                     0.267395                   0.265474   \n",
              "std                      0.916002                   0.794056   \n",
              "min                      0.000000                   0.000000   \n",
              "25%                      0.000000                   0.000000   \n",
              "50%                      0.000000                   0.000000   \n",
              "75%                      0.000000                   0.000000   \n",
              "max                     27.000000                 261.000000   \n",
              "\n",
              "        AMT_REQ_CREDIT_BUREAU_YEAR  \n",
              "count                265992.000000  \n",
              "unique                         NaN  \n",
              "top                            NaN  \n",
              "freq                           NaN  \n",
              "mean                      1.899974  \n",
              "std                       1.869295  \n",
              "min                       0.000000  \n",
              "25%                       0.000000  \n",
              "50%                       1.000000  \n",
              "75%                       3.000000  \n",
              "max                      25.000000  \n",
              "\n",
              "[11 rows x 122 columns]"
            ],
            "text/html": [
              "\n",
              "  <div id=\"df-2647a15b-9555-45f4-9a30-c90fe051b757\">\n",
              "    <div class=\"colab-df-container\">\n",
              "      <div>\n",
              "<style scoped>\n",
              "    .dataframe tbody tr th:only-of-type {\n",
              "        vertical-align: middle;\n",
              "    }\n",
              "\n",
              "    .dataframe tbody tr th {\n",
              "        vertical-align: top;\n",
              "    }\n",
              "\n",
              "    .dataframe thead th {\n",
              "        text-align: right;\n",
              "    }\n",
              "</style>\n",
              "<table border=\"1\" class=\"dataframe\">\n",
              "  <thead>\n",
              "    <tr style=\"text-align: right;\">\n",
              "      <th></th>\n",
              "      <th>SK_ID_CURR</th>\n",
              "      <th>TARGET</th>\n",
              "      <th>NAME_CONTRACT_TYPE</th>\n",
              "      <th>CODE_GENDER</th>\n",
              "      <th>FLAG_OWN_CAR</th>\n",
              "      <th>FLAG_OWN_REALTY</th>\n",
              "      <th>CNT_CHILDREN</th>\n",
              "      <th>AMT_INCOME_TOTAL</th>\n",
              "      <th>AMT_CREDIT</th>\n",
              "      <th>AMT_ANNUITY</th>\n",
              "      <th>...</th>\n",
              "      <th>FLAG_DOCUMENT_18</th>\n",
              "      <th>FLAG_DOCUMENT_19</th>\n",
              "      <th>FLAG_DOCUMENT_20</th>\n",
              "      <th>FLAG_DOCUMENT_21</th>\n",
              "      <th>AMT_REQ_CREDIT_BUREAU_HOUR</th>\n",
              "      <th>AMT_REQ_CREDIT_BUREAU_DAY</th>\n",
              "      <th>AMT_REQ_CREDIT_BUREAU_WEEK</th>\n",
              "      <th>AMT_REQ_CREDIT_BUREAU_MON</th>\n",
              "      <th>AMT_REQ_CREDIT_BUREAU_QRT</th>\n",
              "      <th>AMT_REQ_CREDIT_BUREAU_YEAR</th>\n",
              "    </tr>\n",
              "  </thead>\n",
              "  <tbody>\n",
              "    <tr>\n",
              "      <th>count</th>\n",
              "      <td>307511.000000</td>\n",
              "      <td>307511.000000</td>\n",
              "      <td>307511</td>\n",
              "      <td>307511</td>\n",
              "      <td>307511</td>\n",
              "      <td>307511</td>\n",
              "      <td>307511.000000</td>\n",
              "      <td>3.075110e+05</td>\n",
              "      <td>3.075110e+05</td>\n",
              "      <td>307499.000000</td>\n",
              "      <td>...</td>\n",
              "      <td>307511.000000</td>\n",
              "      <td>307511.000000</td>\n",
              "      <td>307511.000000</td>\n",
              "      <td>307511.000000</td>\n",
              "      <td>265992.000000</td>\n",
              "      <td>265992.000000</td>\n",
              "      <td>265992.000000</td>\n",
              "      <td>265992.000000</td>\n",
              "      <td>265992.000000</td>\n",
              "      <td>265992.000000</td>\n",
              "    </tr>\n",
              "    <tr>\n",
              "      <th>unique</th>\n",
              "      <td>NaN</td>\n",
              "      <td>NaN</td>\n",
              "      <td>2</td>\n",
              "      <td>3</td>\n",
              "      <td>2</td>\n",
              "      <td>2</td>\n",
              "      <td>NaN</td>\n",
              "      <td>NaN</td>\n",
              "      <td>NaN</td>\n",
              "      <td>NaN</td>\n",
              "      <td>...</td>\n",
              "      <td>NaN</td>\n",
              "      <td>NaN</td>\n",
              "      <td>NaN</td>\n",
              "      <td>NaN</td>\n",
              "      <td>NaN</td>\n",
              "      <td>NaN</td>\n",
              "      <td>NaN</td>\n",
              "      <td>NaN</td>\n",
              "      <td>NaN</td>\n",
              "      <td>NaN</td>\n",
              "    </tr>\n",
              "    <tr>\n",
              "      <th>top</th>\n",
              "      <td>NaN</td>\n",
              "      <td>NaN</td>\n",
              "      <td>Cash loans</td>\n",
              "      <td>F</td>\n",
              "      <td>N</td>\n",
              "      <td>Y</td>\n",
              "      <td>NaN</td>\n",
              "      <td>NaN</td>\n",
              "      <td>NaN</td>\n",
              "      <td>NaN</td>\n",
              "      <td>...</td>\n",
              "      <td>NaN</td>\n",
              "      <td>NaN</td>\n",
              "      <td>NaN</td>\n",
              "      <td>NaN</td>\n",
              "      <td>NaN</td>\n",
              "      <td>NaN</td>\n",
              "      <td>NaN</td>\n",
              "      <td>NaN</td>\n",
              "      <td>NaN</td>\n",
              "      <td>NaN</td>\n",
              "    </tr>\n",
              "    <tr>\n",
              "      <th>freq</th>\n",
              "      <td>NaN</td>\n",
              "      <td>NaN</td>\n",
              "      <td>278232</td>\n",
              "      <td>202448</td>\n",
              "      <td>202924</td>\n",
              "      <td>213312</td>\n",
              "      <td>NaN</td>\n",
              "      <td>NaN</td>\n",
              "      <td>NaN</td>\n",
              "      <td>NaN</td>\n",
              "      <td>...</td>\n",
              "      <td>NaN</td>\n",
              "      <td>NaN</td>\n",
              "      <td>NaN</td>\n",
              "      <td>NaN</td>\n",
              "      <td>NaN</td>\n",
              "      <td>NaN</td>\n",
              "      <td>NaN</td>\n",
              "      <td>NaN</td>\n",
              "      <td>NaN</td>\n",
              "      <td>NaN</td>\n",
              "    </tr>\n",
              "    <tr>\n",
              "      <th>mean</th>\n",
              "      <td>278180.518577</td>\n",
              "      <td>0.080729</td>\n",
              "      <td>NaN</td>\n",
              "      <td>NaN</td>\n",
              "      <td>NaN</td>\n",
              "      <td>NaN</td>\n",
              "      <td>0.417052</td>\n",
              "      <td>1.687979e+05</td>\n",
              "      <td>5.990260e+05</td>\n",
              "      <td>27108.573909</td>\n",
              "      <td>...</td>\n",
              "      <td>0.008130</td>\n",
              "      <td>0.000595</td>\n",
              "      <td>0.000507</td>\n",
              "      <td>0.000335</td>\n",
              "      <td>0.006402</td>\n",
              "      <td>0.007000</td>\n",
              "      <td>0.034362</td>\n",
              "      <td>0.267395</td>\n",
              "      <td>0.265474</td>\n",
              "      <td>1.899974</td>\n",
              "    </tr>\n",
              "    <tr>\n",
              "      <th>std</th>\n",
              "      <td>102790.175348</td>\n",
              "      <td>0.272419</td>\n",
              "      <td>NaN</td>\n",
              "      <td>NaN</td>\n",
              "      <td>NaN</td>\n",
              "      <td>NaN</td>\n",
              "      <td>0.722121</td>\n",
              "      <td>2.371231e+05</td>\n",
              "      <td>4.024908e+05</td>\n",
              "      <td>14493.737315</td>\n",
              "      <td>...</td>\n",
              "      <td>0.089798</td>\n",
              "      <td>0.024387</td>\n",
              "      <td>0.022518</td>\n",
              "      <td>0.018299</td>\n",
              "      <td>0.083849</td>\n",
              "      <td>0.110757</td>\n",
              "      <td>0.204685</td>\n",
              "      <td>0.916002</td>\n",
              "      <td>0.794056</td>\n",
              "      <td>1.869295</td>\n",
              "    </tr>\n",
              "    <tr>\n",
              "      <th>min</th>\n",
              "      <td>100002.000000</td>\n",
              "      <td>0.000000</td>\n",
              "      <td>NaN</td>\n",
              "      <td>NaN</td>\n",
              "      <td>NaN</td>\n",
              "      <td>NaN</td>\n",
              "      <td>0.000000</td>\n",
              "      <td>2.565000e+04</td>\n",
              "      <td>4.500000e+04</td>\n",
              "      <td>1615.500000</td>\n",
              "      <td>...</td>\n",
              "      <td>0.000000</td>\n",
              "      <td>0.000000</td>\n",
              "      <td>0.000000</td>\n",
              "      <td>0.000000</td>\n",
              "      <td>0.000000</td>\n",
              "      <td>0.000000</td>\n",
              "      <td>0.000000</td>\n",
              "      <td>0.000000</td>\n",
              "      <td>0.000000</td>\n",
              "      <td>0.000000</td>\n",
              "    </tr>\n",
              "    <tr>\n",
              "      <th>25%</th>\n",
              "      <td>189145.500000</td>\n",
              "      <td>0.000000</td>\n",
              "      <td>NaN</td>\n",
              "      <td>NaN</td>\n",
              "      <td>NaN</td>\n",
              "      <td>NaN</td>\n",
              "      <td>0.000000</td>\n",
              "      <td>1.125000e+05</td>\n",
              "      <td>2.700000e+05</td>\n",
              "      <td>16524.000000</td>\n",
              "      <td>...</td>\n",
              "      <td>0.000000</td>\n",
              "      <td>0.000000</td>\n",
              "      <td>0.000000</td>\n",
              "      <td>0.000000</td>\n",
              "      <td>0.000000</td>\n",
              "      <td>0.000000</td>\n",
              "      <td>0.000000</td>\n",
              "      <td>0.000000</td>\n",
              "      <td>0.000000</td>\n",
              "      <td>0.000000</td>\n",
              "    </tr>\n",
              "    <tr>\n",
              "      <th>50%</th>\n",
              "      <td>278202.000000</td>\n",
              "      <td>0.000000</td>\n",
              "      <td>NaN</td>\n",
              "      <td>NaN</td>\n",
              "      <td>NaN</td>\n",
              "      <td>NaN</td>\n",
              "      <td>0.000000</td>\n",
              "      <td>1.471500e+05</td>\n",
              "      <td>5.135310e+05</td>\n",
              "      <td>24903.000000</td>\n",
              "      <td>...</td>\n",
              "      <td>0.000000</td>\n",
              "      <td>0.000000</td>\n",
              "      <td>0.000000</td>\n",
              "      <td>0.000000</td>\n",
              "      <td>0.000000</td>\n",
              "      <td>0.000000</td>\n",
              "      <td>0.000000</td>\n",
              "      <td>0.000000</td>\n",
              "      <td>0.000000</td>\n",
              "      <td>1.000000</td>\n",
              "    </tr>\n",
              "    <tr>\n",
              "      <th>75%</th>\n",
              "      <td>367142.500000</td>\n",
              "      <td>0.000000</td>\n",
              "      <td>NaN</td>\n",
              "      <td>NaN</td>\n",
              "      <td>NaN</td>\n",
              "      <td>NaN</td>\n",
              "      <td>1.000000</td>\n",
              "      <td>2.025000e+05</td>\n",
              "      <td>8.086500e+05</td>\n",
              "      <td>34596.000000</td>\n",
              "      <td>...</td>\n",
              "      <td>0.000000</td>\n",
              "      <td>0.000000</td>\n",
              "      <td>0.000000</td>\n",
              "      <td>0.000000</td>\n",
              "      <td>0.000000</td>\n",
              "      <td>0.000000</td>\n",
              "      <td>0.000000</td>\n",
              "      <td>0.000000</td>\n",
              "      <td>0.000000</td>\n",
              "      <td>3.000000</td>\n",
              "    </tr>\n",
              "    <tr>\n",
              "      <th>max</th>\n",
              "      <td>456255.000000</td>\n",
              "      <td>1.000000</td>\n",
              "      <td>NaN</td>\n",
              "      <td>NaN</td>\n",
              "      <td>NaN</td>\n",
              "      <td>NaN</td>\n",
              "      <td>19.000000</td>\n",
              "      <td>1.170000e+08</td>\n",
              "      <td>4.050000e+06</td>\n",
              "      <td>258025.500000</td>\n",
              "      <td>...</td>\n",
              "      <td>1.000000</td>\n",
              "      <td>1.000000</td>\n",
              "      <td>1.000000</td>\n",
              "      <td>1.000000</td>\n",
              "      <td>4.000000</td>\n",
              "      <td>9.000000</td>\n",
              "      <td>8.000000</td>\n",
              "      <td>27.000000</td>\n",
              "      <td>261.000000</td>\n",
              "      <td>25.000000</td>\n",
              "    </tr>\n",
              "  </tbody>\n",
              "</table>\n",
              "<p>11 rows × 122 columns</p>\n",
              "</div>\n",
              "      <button class=\"colab-df-convert\" onclick=\"convertToInteractive('df-2647a15b-9555-45f4-9a30-c90fe051b757')\"\n",
              "              title=\"Convert this dataframe to an interactive table.\"\n",
              "              style=\"display:none;\">\n",
              "        \n",
              "  <svg xmlns=\"http://www.w3.org/2000/svg\" height=\"24px\"viewBox=\"0 0 24 24\"\n",
              "       width=\"24px\">\n",
              "    <path d=\"M0 0h24v24H0V0z\" fill=\"none\"/>\n",
              "    <path d=\"M18.56 5.44l.94 2.06.94-2.06 2.06-.94-2.06-.94-.94-2.06-.94 2.06-2.06.94zm-11 1L8.5 8.5l.94-2.06 2.06-.94-2.06-.94L8.5 2.5l-.94 2.06-2.06.94zm10 10l.94 2.06.94-2.06 2.06-.94-2.06-.94-.94-2.06-.94 2.06-2.06.94z\"/><path d=\"M17.41 7.96l-1.37-1.37c-.4-.4-.92-.59-1.43-.59-.52 0-1.04.2-1.43.59L10.3 9.45l-7.72 7.72c-.78.78-.78 2.05 0 2.83L4 21.41c.39.39.9.59 1.41.59.51 0 1.02-.2 1.41-.59l7.78-7.78 2.81-2.81c.8-.78.8-2.07 0-2.86zM5.41 20L4 18.59l7.72-7.72 1.47 1.35L5.41 20z\"/>\n",
              "  </svg>\n",
              "      </button>\n",
              "      \n",
              "  <style>\n",
              "    .colab-df-container {\n",
              "      display:flex;\n",
              "      flex-wrap:wrap;\n",
              "      gap: 12px;\n",
              "    }\n",
              "\n",
              "    .colab-df-convert {\n",
              "      background-color: #E8F0FE;\n",
              "      border: none;\n",
              "      border-radius: 50%;\n",
              "      cursor: pointer;\n",
              "      display: none;\n",
              "      fill: #1967D2;\n",
              "      height: 32px;\n",
              "      padding: 0 0 0 0;\n",
              "      width: 32px;\n",
              "    }\n",
              "\n",
              "    .colab-df-convert:hover {\n",
              "      background-color: #E2EBFA;\n",
              "      box-shadow: 0px 1px 2px rgba(60, 64, 67, 0.3), 0px 1px 3px 1px rgba(60, 64, 67, 0.15);\n",
              "      fill: #174EA6;\n",
              "    }\n",
              "\n",
              "    [theme=dark] .colab-df-convert {\n",
              "      background-color: #3B4455;\n",
              "      fill: #D2E3FC;\n",
              "    }\n",
              "\n",
              "    [theme=dark] .colab-df-convert:hover {\n",
              "      background-color: #434B5C;\n",
              "      box-shadow: 0px 1px 3px 1px rgba(0, 0, 0, 0.15);\n",
              "      filter: drop-shadow(0px 1px 2px rgba(0, 0, 0, 0.3));\n",
              "      fill: #FFFFFF;\n",
              "    }\n",
              "  </style>\n",
              "\n",
              "      <script>\n",
              "        const buttonEl =\n",
              "          document.querySelector('#df-2647a15b-9555-45f4-9a30-c90fe051b757 button.colab-df-convert');\n",
              "        buttonEl.style.display =\n",
              "          google.colab.kernel.accessAllowed ? 'block' : 'none';\n",
              "\n",
              "        async function convertToInteractive(key) {\n",
              "          const element = document.querySelector('#df-2647a15b-9555-45f4-9a30-c90fe051b757');\n",
              "          const dataTable =\n",
              "            await google.colab.kernel.invokeFunction('convertToInteractive',\n",
              "                                                     [key], {});\n",
              "          if (!dataTable) return;\n",
              "\n",
              "          const docLinkHtml = 'Like what you see? Visit the ' +\n",
              "            '<a target=\"_blank\" href=https://colab.research.google.com/notebooks/data_table.ipynb>data table notebook</a>'\n",
              "            + ' to learn more about interactive tables.';\n",
              "          element.innerHTML = '';\n",
              "          dataTable['output_type'] = 'display_data';\n",
              "          await google.colab.output.renderOutput(dataTable, element);\n",
              "          const docLink = document.createElement('div');\n",
              "          docLink.innerHTML = docLinkHtml;\n",
              "          element.appendChild(docLink);\n",
              "        }\n",
              "      </script>\n",
              "    </div>\n",
              "  </div>\n",
              "  "
            ]
          },
          "metadata": {},
          "execution_count": 46
        }
      ]
    },
    {
      "cell_type": "markdown",
      "source": [
        "##Replacing null values \n",
        "###TO deal with missing data?\n",
        "\n",
        "Drop data:\n",
        "\n",
        "        a. Drop the whole row\n",
        "\n",
        "        b. Drop the whole column\n",
        " \n",
        "Replace data\n",
        "\n",
        "        a. Replace it by mean\n",
        "        \n",
        "        b. Replace it by frequency\n",
        "        \n",
        "        c. Replace it based on other functions"
      ],
      "metadata": {
        "id": "gqvx9MsRURPa"
      }
    },
    {
      "cell_type": "markdown",
      "source": [
        "##Checking for null values in columns"
      ],
      "metadata": {
        "id": "mjNEfzqVUhgK"
      }
    },
    {
      "cell_type": "code",
      "source": [
        "#Percentage of missing values for all columns \n",
        "null_count=round((df.isnull().sum()*100/len(df)).sort_values(ascending = False),2)\n",
        "null_count\n"
      ],
      "metadata": {
        "colab": {
          "base_uri": "https://localhost:8080/"
        },
        "id": "UFQjC3xkUppc",
        "outputId": "b5a44cde-a721-4591-e802-f34648112493"
      },
      "execution_count": null,
      "outputs": [
        {
          "output_type": "execute_result",
          "data": {
            "text/plain": [
              "COMMONAREA_MEDI             69.87\n",
              "COMMONAREA_AVG              69.87\n",
              "COMMONAREA_MODE             69.87\n",
              "NONLIVINGAPARTMENTS_MODE    69.43\n",
              "NONLIVINGAPARTMENTS_AVG     69.43\n",
              "                            ...  \n",
              "NAME_HOUSING_TYPE            0.00\n",
              "NAME_FAMILY_STATUS           0.00\n",
              "NAME_EDUCATION_TYPE          0.00\n",
              "NAME_INCOME_TYPE             0.00\n",
              "SK_ID_CURR                   0.00\n",
              "Length: 122, dtype: float64"
            ]
          },
          "metadata": {},
          "execution_count": 4
        }
      ]
    },
    {
      "cell_type": "code",
      "source": [
        "#Columns with high missing percentage >=50%\n",
        "null_count=null_count[null_count>=50]\n",
        "null_count"
      ],
      "metadata": {
        "colab": {
          "base_uri": "https://localhost:8080/"
        },
        "id": "bz51z-b4UaHp",
        "outputId": "79071e2e-d38a-4446-d5e5-d945910e65fa"
      },
      "execution_count": null,
      "outputs": [
        {
          "output_type": "execute_result",
          "data": {
            "text/plain": [
              "COMMONAREA_MEDI             69.87\n",
              "COMMONAREA_AVG              69.87\n",
              "COMMONAREA_MODE             69.87\n",
              "NONLIVINGAPARTMENTS_MODE    69.43\n",
              "NONLIVINGAPARTMENTS_AVG     69.43\n",
              "NONLIVINGAPARTMENTS_MEDI    69.43\n",
              "FONDKAPREMONT_MODE          68.39\n",
              "LIVINGAPARTMENTS_MODE       68.35\n",
              "LIVINGAPARTMENTS_AVG        68.35\n",
              "LIVINGAPARTMENTS_MEDI       68.35\n",
              "FLOORSMIN_AVG               67.85\n",
              "FLOORSMIN_MODE              67.85\n",
              "FLOORSMIN_MEDI              67.85\n",
              "YEARS_BUILD_MEDI            66.50\n",
              "YEARS_BUILD_MODE            66.50\n",
              "YEARS_BUILD_AVG             66.50\n",
              "OWN_CAR_AGE                 65.99\n",
              "LANDAREA_MEDI               59.38\n",
              "LANDAREA_MODE               59.38\n",
              "LANDAREA_AVG                59.38\n",
              "BASEMENTAREA_MEDI           58.52\n",
              "BASEMENTAREA_AVG            58.52\n",
              "BASEMENTAREA_MODE           58.52\n",
              "EXT_SOURCE_1                56.38\n",
              "NONLIVINGAREA_MODE          55.18\n",
              "NONLIVINGAREA_AVG           55.18\n",
              "NONLIVINGAREA_MEDI          55.18\n",
              "ELEVATORS_MEDI              53.30\n",
              "ELEVATORS_AVG               53.30\n",
              "ELEVATORS_MODE              53.30\n",
              "WALLSMATERIAL_MODE          50.84\n",
              "APARTMENTS_MEDI             50.75\n",
              "APARTMENTS_AVG              50.75\n",
              "APARTMENTS_MODE             50.75\n",
              "ENTRANCES_MEDI              50.35\n",
              "ENTRANCES_AVG               50.35\n",
              "ENTRANCES_MODE              50.35\n",
              "LIVINGAREA_AVG              50.19\n",
              "LIVINGAREA_MODE             50.19\n",
              "LIVINGAREA_MEDI             50.19\n",
              "HOUSETYPE_MODE              50.18\n",
              "dtype: float64"
            ]
          },
          "metadata": {},
          "execution_count": 47
        }
      ]
    },
    {
      "cell_type": "code",
      "source": [
        "len(null_count)\n",
        "#Thus, here we can see that there are 41 columns having the  missing percentage( >=50%) So here we remove those columns"
      ],
      "metadata": {
        "colab": {
          "base_uri": "https://localhost:8080/"
        },
        "id": "ggNW7KqUU_iy",
        "outputId": "4354ccb8-7f67-4d41-f48b-56d0dfa8c4e5"
      },
      "execution_count": null,
      "outputs": [
        {
          "output_type": "execute_result",
          "data": {
            "text/plain": [
              "41"
            ]
          },
          "metadata": {},
          "execution_count": 6
        }
      ]
    },
    {
      "cell_type": "markdown",
      "source": [
        "#Remove Columns having the  missing percentage( >=50%)"
      ],
      "metadata": {
        "id": "XRzQzX4IY2Qo"
      }
    },
    {
      "cell_type": "code",
      "source": [
        "#Removing those 41 columns which have missing values more than 50% and creating new data frame\n",
        "cols_dropped=([null_count[null_count >=50.00].index])\n",
        "\n",
        "\n",
        "new_df=df.drop(labels=cols_dropped[0],axis=1)"
      ],
      "metadata": {
        "id": "JFP-tf2dY9Rw"
      },
      "execution_count": null,
      "outputs": []
    },
    {
      "cell_type": "code",
      "source": [
        "#checking new df\n",
        "new_df.shape"
      ],
      "metadata": {
        "colab": {
          "base_uri": "https://localhost:8080/"
        },
        "id": "JSbulehLYzMf",
        "outputId": "56885ea9-016e-4039-f40c-92200fc78801"
      },
      "execution_count": null,
      "outputs": [
        {
          "output_type": "execute_result",
          "data": {
            "text/plain": [
              "(307511, 81)"
            ]
          },
          "metadata": {},
          "execution_count": 8
        }
      ]
    },
    {
      "cell_type": "code",
      "source": [
        "# Checking the columns after removing high missing values(>=50%)\n",
        "\n",
        "round((new_df.isnull().sum()*100/len(new_df)).sort_values(ascending = False),2)"
      ],
      "metadata": {
        "colab": {
          "base_uri": "https://localhost:8080/"
        },
        "id": "T9ZYwUeaZbgm",
        "outputId": "75efdb7d-77fe-4b78-e390-b2b445b0e453"
      },
      "execution_count": null,
      "outputs": [
        {
          "output_type": "execute_result",
          "data": {
            "text/plain": [
              "FLOORSMAX_AVG                   49.76\n",
              "FLOORSMAX_MODE                  49.76\n",
              "FLOORSMAX_MEDI                  49.76\n",
              "YEARS_BEGINEXPLUATATION_AVG     48.78\n",
              "YEARS_BEGINEXPLUATATION_MODE    48.78\n",
              "                                ...  \n",
              "NAME_HOUSING_TYPE                0.00\n",
              "NAME_FAMILY_STATUS               0.00\n",
              "NAME_EDUCATION_TYPE              0.00\n",
              "NAME_INCOME_TYPE                 0.00\n",
              "SK_ID_CURR                       0.00\n",
              "Length: 81, dtype: float64"
            ]
          },
          "metadata": {},
          "execution_count": 9
        }
      ]
    },
    {
      "cell_type": "code",
      "source": [
        "# Drop unnecessary columns from the dataset and creating\n",
        "\n",
        "Drop_col=['FLAG_MOBIL', 'FLAG_EMP_PHONE', 'FLAG_WORK_PHONE', 'FLAG_CONT_MOBILE','YEARS_BEGINEXPLUATATION_MODE','FLOORSMAX_MODE','TOTALAREA_MODE','EMERGENCYSTATE_MODE',\n",
        "       'FLAG_PHONE', 'FLAG_EMAIL','REGION_RATING_CLIENT','REGION_RATING_CLIENT_W_CITY','FLAG_EMAIL','CNT_FAM_MEMBERS','REGION_RATING_CLIENT',\n",
        "       'REGION_RATING_CLIENT_W_CITY','DAYS_LAST_PHONE_CHANGE', 'FLAG_DOCUMENT_2', 'FLAG_DOCUMENT_3','FLAG_DOCUMENT_4', 'FLAG_DOCUMENT_5', 'FLAG_DOCUMENT_6',\n",
        "       'FLAG_DOCUMENT_7', 'FLAG_DOCUMENT_8', 'FLAG_DOCUMENT_9','FLAG_DOCUMENT_10', 'FLAG_DOCUMENT_11', 'FLAG_DOCUMENT_12',\n",
        "       'FLAG_DOCUMENT_13', 'FLAG_DOCUMENT_14', 'FLAG_DOCUMENT_15','FLAG_DOCUMENT_16', 'FLAG_DOCUMENT_17', 'FLAG_DOCUMENT_18',\n",
        "       'FLAG_DOCUMENT_19', 'FLAG_DOCUMENT_20', 'FLAG_DOCUMENT_21','EXT_SOURCE_3','YEARS_BEGINEXPLUATATION_AVG','FLOORSMAX_AVG','YEARS_BEGINEXPLUATATION_MEDI','FLOORSMAX_MEDI']\n",
        "\n",
        "new_df.drop(labels=Drop_col,axis=1,inplace=True)"
      ],
      "metadata": {
        "id": "44AkQwl2aeC9"
      },
      "execution_count": null,
      "outputs": []
    },
    {
      "cell_type": "code",
      "source": [
        "#Checking shape of new_df after dropping the columns\n",
        "new_df.shape"
      ],
      "metadata": {
        "colab": {
          "base_uri": "https://localhost:8080/"
        },
        "id": "xZWoeUyJc8rM",
        "outputId": "42dc7034-befb-4b2a-bd72-de2e9c0aec6c"
      },
      "execution_count": null,
      "outputs": [
        {
          "output_type": "execute_result",
          "data": {
            "text/plain": [
              "(307511, 42)"
            ]
          },
          "metadata": {},
          "execution_count": 11
        }
      ]
    },
    {
      "cell_type": "code",
      "source": [
        "new_df.describe(include='all')"
      ],
      "metadata": {
        "colab": {
          "base_uri": "https://localhost:8080/",
          "height": 488
        },
        "id": "bp_SUzNodtZ3",
        "outputId": "4080a1ce-e2cf-4989-f75b-7328ca221ffe"
      },
      "execution_count": null,
      "outputs": [
        {
          "output_type": "execute_result",
          "data": {
            "text/plain": [
              "           SK_ID_CURR         TARGET NAME_CONTRACT_TYPE CODE_GENDER  \\\n",
              "count   307511.000000  307511.000000             307511      307511   \n",
              "unique            NaN            NaN                  2           3   \n",
              "top               NaN            NaN         Cash loans           F   \n",
              "freq              NaN            NaN             278232      202448   \n",
              "mean    278180.518577       0.080729                NaN         NaN   \n",
              "std     102790.175348       0.272419                NaN         NaN   \n",
              "min     100002.000000       0.000000                NaN         NaN   \n",
              "25%     189145.500000       0.000000                NaN         NaN   \n",
              "50%     278202.000000       0.000000                NaN         NaN   \n",
              "75%     367142.500000       0.000000                NaN         NaN   \n",
              "max     456255.000000       1.000000                NaN         NaN   \n",
              "\n",
              "       FLAG_OWN_CAR FLAG_OWN_REALTY   CNT_CHILDREN  AMT_INCOME_TOTAL  \\\n",
              "count        307511          307511  307511.000000      3.075110e+05   \n",
              "unique            2               2            NaN               NaN   \n",
              "top               N               Y            NaN               NaN   \n",
              "freq         202924          213312            NaN               NaN   \n",
              "mean            NaN             NaN       0.417052      1.687979e+05   \n",
              "std             NaN             NaN       0.722121      2.371231e+05   \n",
              "min             NaN             NaN       0.000000      2.565000e+04   \n",
              "25%             NaN             NaN       0.000000      1.125000e+05   \n",
              "50%             NaN             NaN       0.000000      1.471500e+05   \n",
              "75%             NaN             NaN       1.000000      2.025000e+05   \n",
              "max             NaN             NaN      19.000000      1.170000e+08   \n",
              "\n",
              "          AMT_CREDIT    AMT_ANNUITY  ...  OBS_30_CNT_SOCIAL_CIRCLE  \\\n",
              "count   3.075110e+05  307499.000000  ...             306490.000000   \n",
              "unique           NaN            NaN  ...                       NaN   \n",
              "top              NaN            NaN  ...                       NaN   \n",
              "freq             NaN            NaN  ...                       NaN   \n",
              "mean    5.990260e+05   27108.573909  ...                  1.422245   \n",
              "std     4.024908e+05   14493.737315  ...                  2.400989   \n",
              "min     4.500000e+04    1615.500000  ...                  0.000000   \n",
              "25%     2.700000e+05   16524.000000  ...                  0.000000   \n",
              "50%     5.135310e+05   24903.000000  ...                  0.000000   \n",
              "75%     8.086500e+05   34596.000000  ...                  2.000000   \n",
              "max     4.050000e+06  258025.500000  ...                348.000000   \n",
              "\n",
              "       DEF_30_CNT_SOCIAL_CIRCLE OBS_60_CNT_SOCIAL_CIRCLE  \\\n",
              "count             306490.000000            306490.000000   \n",
              "unique                      NaN                      NaN   \n",
              "top                         NaN                      NaN   \n",
              "freq                        NaN                      NaN   \n",
              "mean                   0.143421                 1.405292   \n",
              "std                    0.446698                 2.379803   \n",
              "min                    0.000000                 0.000000   \n",
              "25%                    0.000000                 0.000000   \n",
              "50%                    0.000000                 0.000000   \n",
              "75%                    0.000000                 2.000000   \n",
              "max                   34.000000               344.000000   \n",
              "\n",
              "       DEF_60_CNT_SOCIAL_CIRCLE AMT_REQ_CREDIT_BUREAU_HOUR  \\\n",
              "count             306490.000000              265992.000000   \n",
              "unique                      NaN                        NaN   \n",
              "top                         NaN                        NaN   \n",
              "freq                        NaN                        NaN   \n",
              "mean                   0.100049                   0.006402   \n",
              "std                    0.362291                   0.083849   \n",
              "min                    0.000000                   0.000000   \n",
              "25%                    0.000000                   0.000000   \n",
              "50%                    0.000000                   0.000000   \n",
              "75%                    0.000000                   0.000000   \n",
              "max                   24.000000                   4.000000   \n",
              "\n",
              "       AMT_REQ_CREDIT_BUREAU_DAY  AMT_REQ_CREDIT_BUREAU_WEEK  \\\n",
              "count              265992.000000               265992.000000   \n",
              "unique                       NaN                         NaN   \n",
              "top                          NaN                         NaN   \n",
              "freq                         NaN                         NaN   \n",
              "mean                    0.007000                    0.034362   \n",
              "std                     0.110757                    0.204685   \n",
              "min                     0.000000                    0.000000   \n",
              "25%                     0.000000                    0.000000   \n",
              "50%                     0.000000                    0.000000   \n",
              "75%                     0.000000                    0.000000   \n",
              "max                     9.000000                    8.000000   \n",
              "\n",
              "        AMT_REQ_CREDIT_BUREAU_MON  AMT_REQ_CREDIT_BUREAU_QRT  \\\n",
              "count               265992.000000              265992.000000   \n",
              "unique                        NaN                        NaN   \n",
              "top                           NaN                        NaN   \n",
              "freq                          NaN                        NaN   \n",
              "mean                     0.267395                   0.265474   \n",
              "std                      0.916002                   0.794056   \n",
              "min                      0.000000                   0.000000   \n",
              "25%                      0.000000                   0.000000   \n",
              "50%                      0.000000                   0.000000   \n",
              "75%                      0.000000                   0.000000   \n",
              "max                     27.000000                 261.000000   \n",
              "\n",
              "        AMT_REQ_CREDIT_BUREAU_YEAR  \n",
              "count                265992.000000  \n",
              "unique                         NaN  \n",
              "top                            NaN  \n",
              "freq                           NaN  \n",
              "mean                      1.899974  \n",
              "std                       1.869295  \n",
              "min                       0.000000  \n",
              "25%                       0.000000  \n",
              "50%                       1.000000  \n",
              "75%                       3.000000  \n",
              "max                      25.000000  \n",
              "\n",
              "[11 rows x 42 columns]"
            ],
            "text/html": [
              "\n",
              "  <div id=\"df-93fb7c37-7980-48b5-ba8f-094325d7f17b\">\n",
              "    <div class=\"colab-df-container\">\n",
              "      <div>\n",
              "<style scoped>\n",
              "    .dataframe tbody tr th:only-of-type {\n",
              "        vertical-align: middle;\n",
              "    }\n",
              "\n",
              "    .dataframe tbody tr th {\n",
              "        vertical-align: top;\n",
              "    }\n",
              "\n",
              "    .dataframe thead th {\n",
              "        text-align: right;\n",
              "    }\n",
              "</style>\n",
              "<table border=\"1\" class=\"dataframe\">\n",
              "  <thead>\n",
              "    <tr style=\"text-align: right;\">\n",
              "      <th></th>\n",
              "      <th>SK_ID_CURR</th>\n",
              "      <th>TARGET</th>\n",
              "      <th>NAME_CONTRACT_TYPE</th>\n",
              "      <th>CODE_GENDER</th>\n",
              "      <th>FLAG_OWN_CAR</th>\n",
              "      <th>FLAG_OWN_REALTY</th>\n",
              "      <th>CNT_CHILDREN</th>\n",
              "      <th>AMT_INCOME_TOTAL</th>\n",
              "      <th>AMT_CREDIT</th>\n",
              "      <th>AMT_ANNUITY</th>\n",
              "      <th>...</th>\n",
              "      <th>OBS_30_CNT_SOCIAL_CIRCLE</th>\n",
              "      <th>DEF_30_CNT_SOCIAL_CIRCLE</th>\n",
              "      <th>OBS_60_CNT_SOCIAL_CIRCLE</th>\n",
              "      <th>DEF_60_CNT_SOCIAL_CIRCLE</th>\n",
              "      <th>AMT_REQ_CREDIT_BUREAU_HOUR</th>\n",
              "      <th>AMT_REQ_CREDIT_BUREAU_DAY</th>\n",
              "      <th>AMT_REQ_CREDIT_BUREAU_WEEK</th>\n",
              "      <th>AMT_REQ_CREDIT_BUREAU_MON</th>\n",
              "      <th>AMT_REQ_CREDIT_BUREAU_QRT</th>\n",
              "      <th>AMT_REQ_CREDIT_BUREAU_YEAR</th>\n",
              "    </tr>\n",
              "  </thead>\n",
              "  <tbody>\n",
              "    <tr>\n",
              "      <th>count</th>\n",
              "      <td>307511.000000</td>\n",
              "      <td>307511.000000</td>\n",
              "      <td>307511</td>\n",
              "      <td>307511</td>\n",
              "      <td>307511</td>\n",
              "      <td>307511</td>\n",
              "      <td>307511.000000</td>\n",
              "      <td>3.075110e+05</td>\n",
              "      <td>3.075110e+05</td>\n",
              "      <td>307499.000000</td>\n",
              "      <td>...</td>\n",
              "      <td>306490.000000</td>\n",
              "      <td>306490.000000</td>\n",
              "      <td>306490.000000</td>\n",
              "      <td>306490.000000</td>\n",
              "      <td>265992.000000</td>\n",
              "      <td>265992.000000</td>\n",
              "      <td>265992.000000</td>\n",
              "      <td>265992.000000</td>\n",
              "      <td>265992.000000</td>\n",
              "      <td>265992.000000</td>\n",
              "    </tr>\n",
              "    <tr>\n",
              "      <th>unique</th>\n",
              "      <td>NaN</td>\n",
              "      <td>NaN</td>\n",
              "      <td>2</td>\n",
              "      <td>3</td>\n",
              "      <td>2</td>\n",
              "      <td>2</td>\n",
              "      <td>NaN</td>\n",
              "      <td>NaN</td>\n",
              "      <td>NaN</td>\n",
              "      <td>NaN</td>\n",
              "      <td>...</td>\n",
              "      <td>NaN</td>\n",
              "      <td>NaN</td>\n",
              "      <td>NaN</td>\n",
              "      <td>NaN</td>\n",
              "      <td>NaN</td>\n",
              "      <td>NaN</td>\n",
              "      <td>NaN</td>\n",
              "      <td>NaN</td>\n",
              "      <td>NaN</td>\n",
              "      <td>NaN</td>\n",
              "    </tr>\n",
              "    <tr>\n",
              "      <th>top</th>\n",
              "      <td>NaN</td>\n",
              "      <td>NaN</td>\n",
              "      <td>Cash loans</td>\n",
              "      <td>F</td>\n",
              "      <td>N</td>\n",
              "      <td>Y</td>\n",
              "      <td>NaN</td>\n",
              "      <td>NaN</td>\n",
              "      <td>NaN</td>\n",
              "      <td>NaN</td>\n",
              "      <td>...</td>\n",
              "      <td>NaN</td>\n",
              "      <td>NaN</td>\n",
              "      <td>NaN</td>\n",
              "      <td>NaN</td>\n",
              "      <td>NaN</td>\n",
              "      <td>NaN</td>\n",
              "      <td>NaN</td>\n",
              "      <td>NaN</td>\n",
              "      <td>NaN</td>\n",
              "      <td>NaN</td>\n",
              "    </tr>\n",
              "    <tr>\n",
              "      <th>freq</th>\n",
              "      <td>NaN</td>\n",
              "      <td>NaN</td>\n",
              "      <td>278232</td>\n",
              "      <td>202448</td>\n",
              "      <td>202924</td>\n",
              "      <td>213312</td>\n",
              "      <td>NaN</td>\n",
              "      <td>NaN</td>\n",
              "      <td>NaN</td>\n",
              "      <td>NaN</td>\n",
              "      <td>...</td>\n",
              "      <td>NaN</td>\n",
              "      <td>NaN</td>\n",
              "      <td>NaN</td>\n",
              "      <td>NaN</td>\n",
              "      <td>NaN</td>\n",
              "      <td>NaN</td>\n",
              "      <td>NaN</td>\n",
              "      <td>NaN</td>\n",
              "      <td>NaN</td>\n",
              "      <td>NaN</td>\n",
              "    </tr>\n",
              "    <tr>\n",
              "      <th>mean</th>\n",
              "      <td>278180.518577</td>\n",
              "      <td>0.080729</td>\n",
              "      <td>NaN</td>\n",
              "      <td>NaN</td>\n",
              "      <td>NaN</td>\n",
              "      <td>NaN</td>\n",
              "      <td>0.417052</td>\n",
              "      <td>1.687979e+05</td>\n",
              "      <td>5.990260e+05</td>\n",
              "      <td>27108.573909</td>\n",
              "      <td>...</td>\n",
              "      <td>1.422245</td>\n",
              "      <td>0.143421</td>\n",
              "      <td>1.405292</td>\n",
              "      <td>0.100049</td>\n",
              "      <td>0.006402</td>\n",
              "      <td>0.007000</td>\n",
              "      <td>0.034362</td>\n",
              "      <td>0.267395</td>\n",
              "      <td>0.265474</td>\n",
              "      <td>1.899974</td>\n",
              "    </tr>\n",
              "    <tr>\n",
              "      <th>std</th>\n",
              "      <td>102790.175348</td>\n",
              "      <td>0.272419</td>\n",
              "      <td>NaN</td>\n",
              "      <td>NaN</td>\n",
              "      <td>NaN</td>\n",
              "      <td>NaN</td>\n",
              "      <td>0.722121</td>\n",
              "      <td>2.371231e+05</td>\n",
              "      <td>4.024908e+05</td>\n",
              "      <td>14493.737315</td>\n",
              "      <td>...</td>\n",
              "      <td>2.400989</td>\n",
              "      <td>0.446698</td>\n",
              "      <td>2.379803</td>\n",
              "      <td>0.362291</td>\n",
              "      <td>0.083849</td>\n",
              "      <td>0.110757</td>\n",
              "      <td>0.204685</td>\n",
              "      <td>0.916002</td>\n",
              "      <td>0.794056</td>\n",
              "      <td>1.869295</td>\n",
              "    </tr>\n",
              "    <tr>\n",
              "      <th>min</th>\n",
              "      <td>100002.000000</td>\n",
              "      <td>0.000000</td>\n",
              "      <td>NaN</td>\n",
              "      <td>NaN</td>\n",
              "      <td>NaN</td>\n",
              "      <td>NaN</td>\n",
              "      <td>0.000000</td>\n",
              "      <td>2.565000e+04</td>\n",
              "      <td>4.500000e+04</td>\n",
              "      <td>1615.500000</td>\n",
              "      <td>...</td>\n",
              "      <td>0.000000</td>\n",
              "      <td>0.000000</td>\n",
              "      <td>0.000000</td>\n",
              "      <td>0.000000</td>\n",
              "      <td>0.000000</td>\n",
              "      <td>0.000000</td>\n",
              "      <td>0.000000</td>\n",
              "      <td>0.000000</td>\n",
              "      <td>0.000000</td>\n",
              "      <td>0.000000</td>\n",
              "    </tr>\n",
              "    <tr>\n",
              "      <th>25%</th>\n",
              "      <td>189145.500000</td>\n",
              "      <td>0.000000</td>\n",
              "      <td>NaN</td>\n",
              "      <td>NaN</td>\n",
              "      <td>NaN</td>\n",
              "      <td>NaN</td>\n",
              "      <td>0.000000</td>\n",
              "      <td>1.125000e+05</td>\n",
              "      <td>2.700000e+05</td>\n",
              "      <td>16524.000000</td>\n",
              "      <td>...</td>\n",
              "      <td>0.000000</td>\n",
              "      <td>0.000000</td>\n",
              "      <td>0.000000</td>\n",
              "      <td>0.000000</td>\n",
              "      <td>0.000000</td>\n",
              "      <td>0.000000</td>\n",
              "      <td>0.000000</td>\n",
              "      <td>0.000000</td>\n",
              "      <td>0.000000</td>\n",
              "      <td>0.000000</td>\n",
              "    </tr>\n",
              "    <tr>\n",
              "      <th>50%</th>\n",
              "      <td>278202.000000</td>\n",
              "      <td>0.000000</td>\n",
              "      <td>NaN</td>\n",
              "      <td>NaN</td>\n",
              "      <td>NaN</td>\n",
              "      <td>NaN</td>\n",
              "      <td>0.000000</td>\n",
              "      <td>1.471500e+05</td>\n",
              "      <td>5.135310e+05</td>\n",
              "      <td>24903.000000</td>\n",
              "      <td>...</td>\n",
              "      <td>0.000000</td>\n",
              "      <td>0.000000</td>\n",
              "      <td>0.000000</td>\n",
              "      <td>0.000000</td>\n",
              "      <td>0.000000</td>\n",
              "      <td>0.000000</td>\n",
              "      <td>0.000000</td>\n",
              "      <td>0.000000</td>\n",
              "      <td>0.000000</td>\n",
              "      <td>1.000000</td>\n",
              "    </tr>\n",
              "    <tr>\n",
              "      <th>75%</th>\n",
              "      <td>367142.500000</td>\n",
              "      <td>0.000000</td>\n",
              "      <td>NaN</td>\n",
              "      <td>NaN</td>\n",
              "      <td>NaN</td>\n",
              "      <td>NaN</td>\n",
              "      <td>1.000000</td>\n",
              "      <td>2.025000e+05</td>\n",
              "      <td>8.086500e+05</td>\n",
              "      <td>34596.000000</td>\n",
              "      <td>...</td>\n",
              "      <td>2.000000</td>\n",
              "      <td>0.000000</td>\n",
              "      <td>2.000000</td>\n",
              "      <td>0.000000</td>\n",
              "      <td>0.000000</td>\n",
              "      <td>0.000000</td>\n",
              "      <td>0.000000</td>\n",
              "      <td>0.000000</td>\n",
              "      <td>0.000000</td>\n",
              "      <td>3.000000</td>\n",
              "    </tr>\n",
              "    <tr>\n",
              "      <th>max</th>\n",
              "      <td>456255.000000</td>\n",
              "      <td>1.000000</td>\n",
              "      <td>NaN</td>\n",
              "      <td>NaN</td>\n",
              "      <td>NaN</td>\n",
              "      <td>NaN</td>\n",
              "      <td>19.000000</td>\n",
              "      <td>1.170000e+08</td>\n",
              "      <td>4.050000e+06</td>\n",
              "      <td>258025.500000</td>\n",
              "      <td>...</td>\n",
              "      <td>348.000000</td>\n",
              "      <td>34.000000</td>\n",
              "      <td>344.000000</td>\n",
              "      <td>24.000000</td>\n",
              "      <td>4.000000</td>\n",
              "      <td>9.000000</td>\n",
              "      <td>8.000000</td>\n",
              "      <td>27.000000</td>\n",
              "      <td>261.000000</td>\n",
              "      <td>25.000000</td>\n",
              "    </tr>\n",
              "  </tbody>\n",
              "</table>\n",
              "<p>11 rows × 42 columns</p>\n",
              "</div>\n",
              "      <button class=\"colab-df-convert\" onclick=\"convertToInteractive('df-93fb7c37-7980-48b5-ba8f-094325d7f17b')\"\n",
              "              title=\"Convert this dataframe to an interactive table.\"\n",
              "              style=\"display:none;\">\n",
              "        \n",
              "  <svg xmlns=\"http://www.w3.org/2000/svg\" height=\"24px\"viewBox=\"0 0 24 24\"\n",
              "       width=\"24px\">\n",
              "    <path d=\"M0 0h24v24H0V0z\" fill=\"none\"/>\n",
              "    <path d=\"M18.56 5.44l.94 2.06.94-2.06 2.06-.94-2.06-.94-.94-2.06-.94 2.06-2.06.94zm-11 1L8.5 8.5l.94-2.06 2.06-.94-2.06-.94L8.5 2.5l-.94 2.06-2.06.94zm10 10l.94 2.06.94-2.06 2.06-.94-2.06-.94-.94-2.06-.94 2.06-2.06.94z\"/><path d=\"M17.41 7.96l-1.37-1.37c-.4-.4-.92-.59-1.43-.59-.52 0-1.04.2-1.43.59L10.3 9.45l-7.72 7.72c-.78.78-.78 2.05 0 2.83L4 21.41c.39.39.9.59 1.41.59.51 0 1.02-.2 1.41-.59l7.78-7.78 2.81-2.81c.8-.78.8-2.07 0-2.86zM5.41 20L4 18.59l7.72-7.72 1.47 1.35L5.41 20z\"/>\n",
              "  </svg>\n",
              "      </button>\n",
              "      \n",
              "  <style>\n",
              "    .colab-df-container {\n",
              "      display:flex;\n",
              "      flex-wrap:wrap;\n",
              "      gap: 12px;\n",
              "    }\n",
              "\n",
              "    .colab-df-convert {\n",
              "      background-color: #E8F0FE;\n",
              "      border: none;\n",
              "      border-radius: 50%;\n",
              "      cursor: pointer;\n",
              "      display: none;\n",
              "      fill: #1967D2;\n",
              "      height: 32px;\n",
              "      padding: 0 0 0 0;\n",
              "      width: 32px;\n",
              "    }\n",
              "\n",
              "    .colab-df-convert:hover {\n",
              "      background-color: #E2EBFA;\n",
              "      box-shadow: 0px 1px 2px rgba(60, 64, 67, 0.3), 0px 1px 3px 1px rgba(60, 64, 67, 0.15);\n",
              "      fill: #174EA6;\n",
              "    }\n",
              "\n",
              "    [theme=dark] .colab-df-convert {\n",
              "      background-color: #3B4455;\n",
              "      fill: #D2E3FC;\n",
              "    }\n",
              "\n",
              "    [theme=dark] .colab-df-convert:hover {\n",
              "      background-color: #434B5C;\n",
              "      box-shadow: 0px 1px 3px 1px rgba(0, 0, 0, 0.15);\n",
              "      filter: drop-shadow(0px 1px 2px rgba(0, 0, 0, 0.3));\n",
              "      fill: #FFFFFF;\n",
              "    }\n",
              "  </style>\n",
              "\n",
              "      <script>\n",
              "        const buttonEl =\n",
              "          document.querySelector('#df-93fb7c37-7980-48b5-ba8f-094325d7f17b button.colab-df-convert');\n",
              "        buttonEl.style.display =\n",
              "          google.colab.kernel.accessAllowed ? 'block' : 'none';\n",
              "\n",
              "        async function convertToInteractive(key) {\n",
              "          const element = document.querySelector('#df-93fb7c37-7980-48b5-ba8f-094325d7f17b');\n",
              "          const dataTable =\n",
              "            await google.colab.kernel.invokeFunction('convertToInteractive',\n",
              "                                                     [key], {});\n",
              "          if (!dataTable) return;\n",
              "\n",
              "          const docLinkHtml = 'Like what you see? Visit the ' +\n",
              "            '<a target=\"_blank\" href=https://colab.research.google.com/notebooks/data_table.ipynb>data table notebook</a>'\n",
              "            + ' to learn more about interactive tables.';\n",
              "          element.innerHTML = '';\n",
              "          dataTable['output_type'] = 'display_data';\n",
              "          await google.colab.output.renderOutput(dataTable, element);\n",
              "          const docLink = document.createElement('div');\n",
              "          docLink.innerHTML = docLinkHtml;\n",
              "          element.appendChild(docLink);\n",
              "        }\n",
              "      </script>\n",
              "    </div>\n",
              "  </div>\n",
              "  "
            ]
          },
          "metadata": {},
          "execution_count": 56
        }
      ]
    },
    {
      "cell_type": "code",
      "source": [
        "# Checking the columns after dropping unncessary columns\n",
        "\n",
        "100*(new_df.isnull().sum()/len(new_df.index)).sort_values(ascending = False)"
      ],
      "metadata": {
        "colab": {
          "base_uri": "https://localhost:8080/"
        },
        "id": "waeqpUEqbDi3",
        "outputId": "25fc7b6f-2012-4fd1-df67-8602df4e544c"
      },
      "execution_count": null,
      "outputs": [
        {
          "output_type": "execute_result",
          "data": {
            "text/plain": [
              "OCCUPATION_TYPE                31.345545\n",
              "AMT_REQ_CREDIT_BUREAU_HOUR     13.501631\n",
              "AMT_REQ_CREDIT_BUREAU_QRT      13.501631\n",
              "AMT_REQ_CREDIT_BUREAU_MON      13.501631\n",
              "AMT_REQ_CREDIT_BUREAU_WEEK     13.501631\n",
              "AMT_REQ_CREDIT_BUREAU_DAY      13.501631\n",
              "AMT_REQ_CREDIT_BUREAU_YEAR     13.501631\n",
              "NAME_TYPE_SUITE                 0.420148\n",
              "DEF_30_CNT_SOCIAL_CIRCLE        0.332021\n",
              "OBS_30_CNT_SOCIAL_CIRCLE        0.332021\n",
              "DEF_60_CNT_SOCIAL_CIRCLE        0.332021\n",
              "OBS_60_CNT_SOCIAL_CIRCLE        0.332021\n",
              "EXT_SOURCE_2                    0.214626\n",
              "AMT_GOODS_PRICE                 0.090403\n",
              "AMT_ANNUITY                     0.003902\n",
              "AMT_INCOME_TOTAL                0.000000\n",
              "REG_CITY_NOT_WORK_CITY          0.000000\n",
              "LIVE_CITY_NOT_WORK_CITY         0.000000\n",
              "ORGANIZATION_TYPE               0.000000\n",
              "CNT_CHILDREN                    0.000000\n",
              "LIVE_REGION_NOT_WORK_REGION     0.000000\n",
              "FLAG_OWN_REALTY                 0.000000\n",
              "FLAG_OWN_CAR                    0.000000\n",
              "CODE_GENDER                     0.000000\n",
              "NAME_CONTRACT_TYPE              0.000000\n",
              "REG_CITY_NOT_LIVE_CITY          0.000000\n",
              "REG_REGION_NOT_LIVE_REGION      0.000000\n",
              "REG_REGION_NOT_WORK_REGION      0.000000\n",
              "AMT_CREDIT                      0.000000\n",
              "HOUR_APPR_PROCESS_START         0.000000\n",
              "WEEKDAY_APPR_PROCESS_START      0.000000\n",
              "TARGET                          0.000000\n",
              "DAYS_ID_PUBLISH                 0.000000\n",
              "DAYS_REGISTRATION               0.000000\n",
              "DAYS_EMPLOYED                   0.000000\n",
              "DAYS_BIRTH                      0.000000\n",
              "REGION_POPULATION_RELATIVE      0.000000\n",
              "NAME_HOUSING_TYPE               0.000000\n",
              "NAME_FAMILY_STATUS              0.000000\n",
              "NAME_EDUCATION_TYPE             0.000000\n",
              "NAME_INCOME_TYPE                0.000000\n",
              "SK_ID_CURR                      0.000000\n",
              "dtype: float64"
            ]
          },
          "metadata": {},
          "execution_count": 22
        }
      ]
    },
    {
      "cell_type": "markdown",
      "source": [
        "##following columns are having null values so we will calculate Mean, Medain and mode for the same.\n",
        "OCCUPATION_TYPE                31.345545\n",
        "\n",
        "AMT_REQ_CREDIT_BUREAU_HOUR     13.501631\n",
        "\n",
        "AMT_REQ_CREDIT_BUREAU_QRT      13.501631\n",
        "\n",
        "AMT_REQ_CREDIT_BUREAU_MON      13.501631\n",
        "\n",
        "AMT_REQ_CREDIT_BUREAU_WEEK     13.501631\n",
        "\n",
        "AMT_REQ_CREDIT_BUREAU_DAY      13.501631\n",
        "\n",
        "AMT_REQ_CREDIT_BUREAU_YEAR     13.501631\n",
        "\n",
        "NAME_TYPE_SUITE                 0.420148\n",
        "\n",
        "DEF_30_CNT_SOCIAL_CIRCLE        0.332021\n",
        "\n",
        "OBS_30_CNT_SOCIAL_CIRCLE        0.332021\n",
        "\n",
        "DEF_60_CNT_SOCIAL_CIRCLE        0.332021\n",
        "\n",
        "OBS_60_CNT_SOCIAL_CIRCLE        0.332021\n",
        "\n",
        "EXT_SOURCE_2                    0.214626\n",
        "\n",
        "AMT_GOODS_PRICE                 0.090403\n",
        "\n",
        "AMT_ANNUITY                     0.003902"
      ],
      "metadata": {
        "id": "XUgU_CdNcs5G"
      }
    },
    {
      "cell_type": "markdown",
      "source": [
        "###Notice that there are columns having almost 31%, 13% etc. missing values. When dealing with columns, you have two simple choices - either delete or retain the column. If you retain the column, you'll have to treat (i.e. delete or impute) the rows having missing values.\n",
        "\n",
        "If you delete the missing rows, you lose data. If you impute, you introduce bias."
      ],
      "metadata": {
        "id": "qGcsz08QaFeR"
      }
    },
    {
      "cell_type": "markdown",
      "source": [
        "##Checking unique values for catogorical columns and Visualizing data"
      ],
      "metadata": {
        "id": "kloTxm042f-9"
      }
    },
    {
      "cell_type": "markdown",
      "source": [
        "#Target variable\n",
        "(1 - client with payment difficulties: he/she had late payment more than X days on at least one of the first Y installments of the loan in our sample, 0 - all other cases)\n"
      ],
      "metadata": {
        "id": "0y_5bYchzzL2"
      }
    },
    {
      "cell_type": "code",
      "source": [
        "#unique value Target\n",
        "new_df.TARGET.unique()"
      ],
      "metadata": {
        "colab": {
          "base_uri": "https://localhost:8080/"
        },
        "id": "Mcv_GCYG0ZCF",
        "outputId": "a84a2901-dd13-4749-d537-e2e522fa8169"
      },
      "execution_count": null,
      "outputs": [
        {
          "output_type": "execute_result",
          "data": {
            "text/plain": [
              "array([1, 0])"
            ]
          },
          "metadata": {},
          "execution_count": 151
        }
      ]
    },
    {
      "cell_type": "code",
      "source": [
        "#count of unique value Target\n",
        "v=new_df.TARGET.value_counts()\n",
        "v"
      ],
      "metadata": {
        "colab": {
          "base_uri": "https://localhost:8080/"
        },
        "id": "WPRQ4OGX0zMn",
        "outputId": "ac7e545f-4e29-4025-c83d-6423cd64909d"
      },
      "execution_count": null,
      "outputs": [
        {
          "output_type": "execute_result",
          "data": {
            "text/plain": [
              "0    192573\n",
              "1     18547\n",
              "Name: TARGET, dtype: int64"
            ]
          },
          "metadata": {},
          "execution_count": 152
        }
      ]
    },
    {
      "cell_type": "code",
      "source": [
        "plt.barh(v.index, v)"
      ],
      "metadata": {
        "colab": {
          "base_uri": "https://localhost:8080/",
          "height": 282
        },
        "id": "OmohZR8H04pj",
        "outputId": "a105f116-0b4b-41e3-f746-fb9ac0f4a3be"
      },
      "execution_count": null,
      "outputs": [
        {
          "output_type": "execute_result",
          "data": {
            "text/plain": [
              "<BarContainer object of 2 artists>"
            ]
          },
          "metadata": {},
          "execution_count": 153
        },
        {
          "output_type": "display_data",
          "data": {
            "text/plain": [
              "<Figure size 432x288 with 1 Axes>"
            ],
            "image/png": "[encoded data removed]"
          },
          "metadata": {
            "needs_background": "light"
          }
        }
      ]
    },
    {
      "cell_type": "markdown",
      "source": [
        "##Calculating Imbalance percentage using Target Variable"
      ],
      "metadata": {
        "id": "qC5gei3p07YF"
      }
    },
    {
      "cell_type": "code",
      "source": [
        "plt.pie(x=v, labels=v.index, autopct='%1.2f%%')\n",
        "\n",
        "#It shows that 8.79% people do not repay there loan"
      ],
      "metadata": {
        "colab": {
          "base_uri": "https://localhost:8080/",
          "height": 352
        },
        "id": "kPdIiJ9U09Tk",
        "outputId": "f131c765-7397-4456-f6bc-e77ba9e7000f"
      },
      "execution_count": null,
      "outputs": [
        {
          "output_type": "execute_result",
          "data": {
            "text/plain": [
              "([<matplotlib.patches.Wedge at 0x7fd6269397f0>,\n",
              "  <matplotlib.patches.Wedge at 0x7fd626939ca0>],\n",
              " [Text(-1.0583713280937648, 0.2997501157114721, '0'),\n",
              "  Text(1.0583713280937646, -0.2997501157114727, '1')],\n",
              " [Text(-0.577293451687508, 0.1635000631153484, '91.21%'),\n",
              "  Text(0.5772934516875078, -0.16350006311534873, '8.79%')])"
            ]
          },
          "metadata": {},
          "execution_count": 154
        },
        {
          "output_type": "display_data",
          "data": {
            "text/plain": [
              "<Figure size 432x288 with 1 Axes>"
            ],
            "image/png": "[encoded data removed]"
          },
          "metadata": {}
        }
      ]
    },
    {
      "cell_type": "markdown",
      "source": [
        "##NAME_INCOME_TYPE"
      ],
      "metadata": {
        "id": "XQ-7JGH32k8C"
      }
    },
    {
      "cell_type": "code",
      "source": [
        "#unique value INCOME_TYPE\n",
        "new_df.NAME_INCOME_TYPE.unique()"
      ],
      "metadata": {
        "colab": {
          "base_uri": "https://localhost:8080/"
        },
        "id": "LkmAJQ0l2m1_",
        "outputId": "4a1ec3b2-d9cd-42c2-b0c9-3823d365a415"
      },
      "execution_count": null,
      "outputs": [
        {
          "output_type": "execute_result",
          "data": {
            "text/plain": [
              "array(['Working', 'State servant', 'Commercial associate', 'Student',\n",
              "       'Businessman', 'Pensioner', 'Maternity leave'], dtype=object)"
            ]
          },
          "metadata": {},
          "execution_count": 157
        }
      ]
    },
    {
      "cell_type": "code",
      "source": [
        "#count of unique value INCOME_TYPE   \n",
        "a=new_df.NAME_INCOME_TYPE.value_counts()\n",
        "a"
      ],
      "metadata": {
        "colab": {
          "base_uri": "https://localhost:8080/"
        },
        "id": "kdXx8Rhf2oFD",
        "outputId": "d18b2b4d-350c-4242-ea19-7b2895d7aca1"
      },
      "execution_count": null,
      "outputs": [
        {
          "output_type": "execute_result",
          "data": {
            "text/plain": [
              "Working                 133854\n",
              "Commercial associate     59320\n",
              "State servant            17916\n",
              "Student                     13\n",
              "Businessman                  8\n",
              "Pensioner                    5\n",
              "Maternity leave              4\n",
              "Name: NAME_INCOME_TYPE, dtype: int64"
            ]
          },
          "metadata": {},
          "execution_count": 158
        }
      ]
    },
    {
      "cell_type": "code",
      "source": [
        "plt.barh(a.index, a)\n",
        "\n",
        "#here we see that most number of people who take Loan fall under Income_type (occupation)==>Working (133854), Commercial associate (59320),\n",
        "#Pensioner (8), State servant (17916)"
      ],
      "metadata": {
        "colab": {
          "base_uri": "https://localhost:8080/",
          "height": 282
        },
        "id": "4jQ58sD42oJ0",
        "outputId": "85141ce3-25a2-47fc-fa41-4a0669d2634e"
      },
      "execution_count": null,
      "outputs": [
        {
          "output_type": "execute_result",
          "data": {
            "text/plain": [
              "<BarContainer object of 7 artists>"
            ]
          },
          "metadata": {},
          "execution_count": 159
        },
        {
          "output_type": "display_data",
          "data": {
            "text/plain": [
              "<Figure size 432x288 with 1 Axes>"
            ],
            "image/png": "[encoded data removed]"
          },
          "metadata": {
            "needs_background": "light"
          }
        }
      ]
    },
    {
      "cell_type": "code",
      "source": [
        "#Showcasing  Income_type typr of people along with there Percentage w.r.t total number of people taking loan\n",
        "plt.pie(x=a, labels=a.index, autopct='%1.2f%%')\n",
        "\n",
        "\n",
        "plt.figure(figsize = [20,20])\n",
        "plt.show()"
      ],
      "metadata": {
        "colab": {
          "base_uri": "https://localhost:8080/",
          "height": 265
        },
        "id": "-DT7dfG92oNz",
        "outputId": "eb002a6b-7bf0-468c-bc55-456917e457e8"
      },
      "execution_count": null,
      "outputs": [
        {
          "output_type": "display_data",
          "data": {
            "text/plain": [
              "<Figure size 432x288 with 1 Axes>"
            ],
            "image/png": "[encoded data removed]"
          },
          "metadata": {}
        },
        {
          "output_type": "display_data",
          "data": {
            "text/plain": [
              "<Figure size 1440x1440 with 0 Axes>"
            ]
          },
          "metadata": {}
        }
      ]
    },
    {
      "cell_type": "code",
      "source": [
        "sns.countplot(x = 'NAME_INCOME_TYPE', hue = 'TARGET', data = new_df)"
      ],
      "metadata": {
        "colab": {
          "base_uri": "https://localhost:8080/",
          "height": 297
        },
        "id": "bKAdeyYVaPcv",
        "outputId": "16f03b65-64cc-40bd-9aa0-2b92e08515d2"
      },
      "execution_count": null,
      "outputs": [
        {
          "output_type": "execute_result",
          "data": {
            "text/plain": [
              "<matplotlib.axes._subplots.AxesSubplot at 0x7f4b7a364bb0>"
            ]
          },
          "metadata": {},
          "execution_count": 18
        },
        {
          "output_type": "display_data",
          "data": {
            "text/plain": [
              "<Figure size 432x288 with 1 Axes>"
            ],
            "image/png": "[encoded data removed]"
          },
          "metadata": {
            "needs_background": "light"
          }
        }
      ]
    },
    {
      "cell_type": "markdown",
      "source": [
        "##NAME_EDUCATION_TYPE\n"
      ],
      "metadata": {
        "id": "3VMBRMx344N6"
      }
    },
    {
      "cell_type": "code",
      "source": [
        "new_df.NAME_EDUCATION_TYPE.unique()"
      ],
      "metadata": {
        "colab": {
          "base_uri": "https://localhost:8080/"
        },
        "id": "gBsSiDFm46wl",
        "outputId": "06438a30-75c3-492d-d6ad-1eba62421ce5"
      },
      "execution_count": null,
      "outputs": [
        {
          "output_type": "execute_result",
          "data": {
            "text/plain": [
              "array(['Secondary / secondary special', 'Higher education',\n",
              "       'Incomplete higher', 'Lower secondary', 'Academic degree'],\n",
              "      dtype=object)"
            ]
          },
          "metadata": {},
          "execution_count": 161
        }
      ]
    },
    {
      "cell_type": "code",
      "source": [
        "b=new_df.NAME_EDUCATION_TYPE.value_counts()\n",
        "b\n",
        "#maximum people who take loan are having Education asSecondary / secondary special with count of 218391"
      ],
      "metadata": {
        "colab": {
          "base_uri": "https://localhost:8080/"
        },
        "id": "X39qGCoR4x2B",
        "outputId": "baaca2f1-a573-4913-faae-526165fe24eb"
      },
      "execution_count": null,
      "outputs": [
        {
          "output_type": "execute_result",
          "data": {
            "text/plain": [
              "Secondary / secondary special    218391\n",
              "Higher education                  74863\n",
              "Incomplete higher                 10277\n",
              "Lower secondary                    3816\n",
              "Academic degree                     164\n",
              "Name: NAME_EDUCATION_TYPE, dtype: int64"
            ]
          },
          "metadata": {},
          "execution_count": 20
        }
      ]
    },
    {
      "cell_type": "code",
      "source": [
        "plt.barh(b.index, b)"
      ],
      "metadata": {
        "colab": {
          "base_uri": "https://localhost:8080/",
          "height": 282
        },
        "id": "Tc51VVdz4x4P",
        "outputId": "b3687bbb-1423-4ba8-c6f7-193d81de1565"
      },
      "execution_count": null,
      "outputs": [
        {
          "output_type": "execute_result",
          "data": {
            "text/plain": [
              "<BarContainer object of 5 artists>"
            ]
          },
          "metadata": {},
          "execution_count": 163
        },
        {
          "output_type": "display_data",
          "data": {
            "text/plain": [
              "<Figure size 432x288 with 1 Axes>"
            ],
            "image/png": "[encoded data removed]"
          },
          "metadata": {
            "needs_background": "light"
          }
        }
      ]
    },
    {
      "cell_type": "code",
      "source": [
        "plt.pie(x=b, labels=b.index, autopct='%1.2f%%')\n",
        "\n",
        "plt.show()"
      ],
      "metadata": {
        "id": "5wWLj-R-4x9m",
        "colab": {
          "base_uri": "https://localhost:8080/",
          "height": 248
        },
        "outputId": "f14e11f3-9f74-4fc1-e18b-af304f533e64"
      },
      "execution_count": null,
      "outputs": [
        {
          "output_type": "display_data",
          "data": {
            "text/plain": [
              "<Figure size 432x288 with 1 Axes>"
            ],
            "image/png": "[encoded data removed]"
          },
          "metadata": {}
        }
      ]
    },
    {
      "cell_type": "code",
      "source": [
        "sns.countplot(x = 'NAME_EDUCATION_TYPE', hue = 'TARGET', data = new_df)"
      ],
      "metadata": {
        "colab": {
          "base_uri": "https://localhost:8080/",
          "height": 297
        },
        "id": "gPJSM2lVansF",
        "outputId": "7af1f52a-6553-4c4a-b914-25539d4df9e5"
      },
      "execution_count": null,
      "outputs": [
        {
          "output_type": "execute_result",
          "data": {
            "text/plain": [
              "<matplotlib.axes._subplots.AxesSubplot at 0x7f4b7bf4d520>"
            ]
          },
          "metadata": {},
          "execution_count": 22
        },
        {
          "output_type": "display_data",
          "data": {
            "text/plain": [
              "<Figure size 432x288 with 1 Axes>"
            ],
            "image/png": "[encoded data removed]"
          },
          "metadata": {
            "needs_background": "light"
          }
        }
      ]
    },
    {
      "cell_type": "markdown",
      "source": [
        "###NAME_FAMILY_STATUS\n"
      ],
      "metadata": {
        "id": "e96jp6IZ5Onf"
      }
    },
    {
      "cell_type": "code",
      "source": [
        "new_df.NAME_FAMILY_STATUS.unique()"
      ],
      "metadata": {
        "colab": {
          "base_uri": "https://localhost:8080/"
        },
        "id": "T2fAnAJH5MKH",
        "outputId": "117d53a8-d142-43f7-ffde-b8298b793e99"
      },
      "execution_count": null,
      "outputs": [
        {
          "output_type": "execute_result",
          "data": {
            "text/plain": [
              "array(['Single / not married', 'Married', 'Civil marriage', 'Widow',\n",
              "       'Separated', 'Unknown'], dtype=object)"
            ]
          },
          "metadata": {},
          "execution_count": 164
        }
      ]
    },
    {
      "cell_type": "code",
      "source": [
        "c=new_df.NAME_FAMILY_STATUS.value_counts()\n",
        "c"
      ],
      "metadata": {
        "colab": {
          "base_uri": "https://localhost:8080/"
        },
        "id": "QVPoy-n35MM1",
        "outputId": "38777647-3dca-4168-f8bc-d4c5ad8d3ed8"
      },
      "execution_count": null,
      "outputs": [
        {
          "output_type": "execute_result",
          "data": {
            "text/plain": [
              "Married                 138000\n",
              "Single / not married     32451\n",
              "Civil marriage           21981\n",
              "Separated                13239\n",
              "Widow                     5447\n",
              "Unknown                      2\n",
              "Name: NAME_FAMILY_STATUS, dtype: int64"
            ]
          },
          "metadata": {},
          "execution_count": 166
        }
      ]
    },
    {
      "cell_type": "code",
      "source": [
        "plt.barh(c.index, c)"
      ],
      "metadata": {
        "colab": {
          "base_uri": "https://localhost:8080/",
          "height": 282
        },
        "id": "lRJ8Pn_k5kAp",
        "outputId": "f144620a-54fd-481c-b803-fe01da222640"
      },
      "execution_count": null,
      "outputs": [
        {
          "output_type": "execute_result",
          "data": {
            "text/plain": [
              "<BarContainer object of 6 artists>"
            ]
          },
          "metadata": {},
          "execution_count": 167
        },
        {
          "output_type": "display_data",
          "data": {
            "text/plain": [
              "<Figure size 432x288 with 1 Axes>"
            ],
            "image/png": "[encoded data removed]"
          },
          "metadata": {
            "needs_background": "light"
          }
        }
      ]
    },
    {
      "cell_type": "code",
      "source": [
        "plt.pie(x=c, labels=c.index, autopct='%1.2f%%')\n",
        "\n",
        "plt.show()"
      ],
      "metadata": {
        "colab": {
          "base_uri": "https://localhost:8080/",
          "height": 248
        },
        "id": "e1svwrww5MP4",
        "outputId": "042748c5-e847-4efb-9366-d7bb68c25fbf"
      },
      "execution_count": null,
      "outputs": [
        {
          "output_type": "display_data",
          "data": {
            "text/plain": [
              "<Figure size 432x288 with 1 Axes>"
            ],
            "image/png": "[encoded data removed]"
          },
          "metadata": {}
        }
      ]
    },
    {
      "cell_type": "code",
      "source": [
        "sns.countplot(x = 'NAME_FAMILY_STATUS', hue = 'TARGET', data = new_df)"
      ],
      "metadata": {
        "colab": {
          "base_uri": "https://localhost:8080/",
          "height": 297
        },
        "id": "ocDAB5eoavk3",
        "outputId": "e9b91b38-94a1-4411-9ace-3a37756285a7"
      },
      "execution_count": null,
      "outputs": [
        {
          "output_type": "execute_result",
          "data": {
            "text/plain": [
              "<matplotlib.axes._subplots.AxesSubplot at 0x7f4b7a1cfd60>"
            ]
          },
          "metadata": {},
          "execution_count": 23
        },
        {
          "output_type": "display_data",
          "data": {
            "text/plain": [
              "<Figure size 432x288 with 1 Axes>"
            ],
            "image/png": "[encoded data removed]"
          },
          "metadata": {
            "needs_background": "light"
          }
        }
      ]
    },
    {
      "cell_type": "markdown",
      "source": [
        "#NAME_HOUSING_TYPE\n"
      ],
      "metadata": {
        "id": "jtfUMbym5qV2"
      }
    },
    {
      "cell_type": "code",
      "source": [
        "new_df.NAME_HOUSING_TYPE.unique()"
      ],
      "metadata": {
        "colab": {
          "base_uri": "https://localhost:8080/"
        },
        "id": "0t41CZXX5r19",
        "outputId": "d62bf2fa-bc08-443d-ce20-9ce738048cb9"
      },
      "execution_count": null,
      "outputs": [
        {
          "output_type": "execute_result",
          "data": {
            "text/plain": [
              "array(['House / apartment', 'Rented apartment', 'With parents',\n",
              "       'Municipal apartment', 'Office apartment', 'Co-op apartment'],\n",
              "      dtype=object)"
            ]
          },
          "metadata": {},
          "execution_count": 169
        }
      ]
    },
    {
      "cell_type": "code",
      "source": [
        "d=new_df.NAME_HOUSING_TYPE.value_counts()\n",
        "d"
      ],
      "metadata": {
        "colab": {
          "base_uri": "https://localhost:8080/"
        },
        "id": "hU8zRDtw5sAE",
        "outputId": "0af59d6c-d302-4e6b-d6d4-8af483802638"
      },
      "execution_count": null,
      "outputs": [
        {
          "output_type": "execute_result",
          "data": {
            "text/plain": [
              "House / apartment      184685\n",
              "With parents            12177\n",
              "Municipal apartment      7550\n",
              "Rented apartment         3970\n",
              "Office apartment         1893\n",
              "Co-op apartment           845\n",
              "Name: NAME_HOUSING_TYPE, dtype: int64"
            ]
          },
          "metadata": {},
          "execution_count": 170
        }
      ]
    },
    {
      "cell_type": "code",
      "source": [
        "plt.barh(d.index, d)"
      ],
      "metadata": {
        "colab": {
          "base_uri": "https://localhost:8080/",
          "height": 282
        },
        "id": "GjHBqduH5sCi",
        "outputId": "baf5fe1b-0d47-417c-afdd-d84abe715d3d"
      },
      "execution_count": null,
      "outputs": [
        {
          "output_type": "execute_result",
          "data": {
            "text/plain": [
              "<BarContainer object of 6 artists>"
            ]
          },
          "metadata": {},
          "execution_count": 171
        },
        {
          "output_type": "display_data",
          "data": {
            "text/plain": [
              "<Figure size 432x288 with 1 Axes>"
            ],
            "image/png": "[encoded data removed]"
          },
          "metadata": {
            "needs_background": "light"
          }
        }
      ]
    },
    {
      "cell_type": "code",
      "source": [
        "plt.pie(x=d, labels=d.index, autopct='%1.2f%%')\n",
        "\n",
        "plt.show()"
      ],
      "metadata": {
        "colab": {
          "base_uri": "https://localhost:8080/",
          "height": 248
        },
        "id": "0LW4NdrR5sFo",
        "outputId": "d7e031fd-2782-4d44-a297-c33cd567402a"
      },
      "execution_count": null,
      "outputs": [
        {
          "output_type": "display_data",
          "data": {
            "text/plain": [
              "<Figure size 432x288 with 1 Axes>"
            ],
            "image/png": "[encoded data removed]"
          },
          "metadata": {}
        }
      ]
    },
    {
      "cell_type": "code",
      "source": [
        "sns.countplot(x = 'NAME_HOUSING_TYPE', hue = 'TARGET', data = new_df)"
      ],
      "metadata": {
        "colab": {
          "base_uri": "https://localhost:8080/",
          "height": 297
        },
        "id": "E8vsl93ja1aG",
        "outputId": "87582c16-7efb-4c48-8504-72c85d9eff1a"
      },
      "execution_count": null,
      "outputs": [
        {
          "output_type": "execute_result",
          "data": {
            "text/plain": [
              "<matplotlib.axes._subplots.AxesSubplot at 0x7f4b7a1bd910>"
            ]
          },
          "metadata": {},
          "execution_count": 24
        },
        {
          "output_type": "display_data",
          "data": {
            "text/plain": [
              "<Figure size 432x288 with 1 Axes>"
            ],
            "image/png": "[encoded data removed]"
          },
          "metadata": {
            "needs_background": "light"
          }
        }
      ]
    },
    {
      "cell_type": "markdown",
      "source": [
        "##ORGANIZATION\n"
      ],
      "metadata": {
        "id": "prZkv17L5_Xk"
      }
    },
    {
      "cell_type": "code",
      "source": [
        "new_df.ORGANIZATION_TYPE.unique()"
      ],
      "metadata": {
        "colab": {
          "base_uri": "https://localhost:8080/"
        },
        "id": "YCNO0WzG5sIJ",
        "outputId": "c3ca4f3a-9e49-46a9-c4f0-d2572d2b1dc0"
      },
      "execution_count": null,
      "outputs": [
        {
          "output_type": "execute_result",
          "data": {
            "text/plain": [
              "array(['Business Entity Type 3', 'School', 'Government', 'Religion',\n",
              "       'Other', 'Electricity', 'Medicine', 'Business Entity Type 2',\n",
              "       'Self-employed', 'Transport: type 2', 'Construction', 'Housing',\n",
              "       'Kindergarten', 'Trade: type 7', 'Industry: type 11', 'Services',\n",
              "       'Security Ministries', 'Transport: type 4', 'Industry: type 1',\n",
              "       'Security', 'Trade: type 2', 'Transport: type 3', 'Police',\n",
              "       'Business Entity Type 1', 'Postal', 'Agriculture', 'Restaurant',\n",
              "       'Culture', 'Trade: type 3', 'Industry: type 3', 'Hotel',\n",
              "       'Military', 'Industry: type 9', 'Insurance', 'Bank',\n",
              "       'Trade: type 6', 'Industry: type 2', 'University',\n",
              "       'Transport: type 1', 'Industry: type 12', 'Industry: type 4',\n",
              "       'Industry: type 7', 'Emergency', 'Mobile', 'Trade: type 1',\n",
              "       'Industry: type 5', 'Industry: type 10', 'Legal Services',\n",
              "       'Advertising', 'Trade: type 5', 'Cleaning', 'Industry: type 13',\n",
              "       'Trade: type 4', 'Telecom', 'Industry: type 8', 'Realtor',\n",
              "       'Industry: type 6', 'XNA'], dtype=object)"
            ]
          },
          "metadata": {},
          "execution_count": 173
        }
      ]
    },
    {
      "cell_type": "code",
      "source": [
        "new_df.ORGANIZATION_TYPE.value_counts()\n",
        "\n",
        "#Business Entity Type 3 oct for Loan more than any other organization"
      ],
      "metadata": {
        "colab": {
          "base_uri": "https://localhost:8080/"
        },
        "id": "mYbNrFmW6Une",
        "outputId": "2c4a89f0-7fe3-4b55-b00d-21752a5bc1b9"
      },
      "execution_count": null,
      "outputs": [
        {
          "output_type": "execute_result",
          "data": {
            "text/plain": [
              "Business Entity Type 3    67992\n",
              "XNA                       55374\n",
              "Self-employed             38412\n",
              "Other                     16683\n",
              "Medicine                  11193\n",
              "Business Entity Type 2    10553\n",
              "Government                10404\n",
              "School                     8893\n",
              "Trade: type 7              7831\n",
              "Kindergarten               6880\n",
              "Construction               6721\n",
              "Business Entity Type 1     5984\n",
              "Transport: type 4          5398\n",
              "Trade: type 3              3492\n",
              "Industry: type 9           3368\n",
              "Industry: type 3           3278\n",
              "Security                   3247\n",
              "Housing                    2958\n",
              "Industry: type 11          2704\n",
              "Military                   2634\n",
              "Bank                       2507\n",
              "Agriculture                2454\n",
              "Police                     2341\n",
              "Transport: type 2          2204\n",
              "Postal                     2157\n",
              "Security Ministries        1974\n",
              "Trade: type 2              1900\n",
              "Restaurant                 1811\n",
              "Services                   1575\n",
              "University                 1327\n",
              "Industry: type 7           1307\n",
              "Transport: type 3          1187\n",
              "Industry: type 1           1039\n",
              "Hotel                       966\n",
              "Electricity                 950\n",
              "Industry: type 4            877\n",
              "Trade: type 6               631\n",
              "Industry: type 5            599\n",
              "Insurance                   597\n",
              "Telecom                     577\n",
              "Emergency                   560\n",
              "Industry: type 2            458\n",
              "Advertising                 429\n",
              "Realtor                     396\n",
              "Culture                     379\n",
              "Industry: type 12           369\n",
              "Trade: type 1               348\n",
              "Mobile                      317\n",
              "Legal Services              305\n",
              "Cleaning                    260\n",
              "Transport: type 1           201\n",
              "Industry: type 6            112\n",
              "Industry: type 10           109\n",
              "Religion                     85\n",
              "Industry: type 13            67\n",
              "Trade: type 4                64\n",
              "Trade: type 5                49\n",
              "Industry: type 8             24\n",
              "Name: ORGANIZATION_TYPE, dtype: int64"
            ]
          },
          "metadata": {},
          "execution_count": 71
        }
      ]
    },
    {
      "cell_type": "markdown",
      "source": [
        "#following are the Bussinesses who opt for loan \n",
        "Business Entity Type 3    67992\n",
        "\n",
        "XNA                       55374\n",
        "\n",
        "Self-employed             38412\n",
        "\n",
        "Other                     16683\n",
        "\n",
        "Medicine                  11193"
      ],
      "metadata": {
        "id": "XHZ35kiE1qtR"
      }
    },
    {
      "cell_type": "markdown",
      "source": [
        "##OCCUPATION"
      ],
      "metadata": {
        "id": "rmg8z8jspTxz"
      }
    },
    {
      "cell_type": "code",
      "source": [
        "#OCCUPATION_TYPE(What kind of occupation does the client have) is catogorical so we will check it by using Unique value function\n",
        "new_df.OCCUPATION_TYPE.unique()\n"
      ],
      "metadata": {
        "colab": {
          "base_uri": "https://localhost:8080/"
        },
        "id": "RzePJe23dR1x",
        "outputId": "eaf9839c-98c7-4f5d-cd8e-2a93ff29bcae"
      },
      "execution_count": null,
      "outputs": [
        {
          "output_type": "execute_result",
          "data": {
            "text/plain": [
              "array(['Laborers', 'Core staff', 'Accountants', 'Managers', nan,\n",
              "       'Drivers', 'Sales staff', 'Cleaning staff', 'Cooking staff',\n",
              "       'Private service staff', 'Medicine staff', 'Security staff',\n",
              "       'High skill tech staff', 'Waiters/barmen staff',\n",
              "       'Low-skill Laborers', 'Realty agents', 'Secretaries', 'IT staff',\n",
              "       'HR staff'], dtype=object)"
            ]
          },
          "metadata": {},
          "execution_count": 77
        }
      ]
    },
    {
      "cell_type": "code",
      "source": [
        "#Here 'OCCUPATION_TYPE' is also a categorical variable, has about 31.3% of missing values. So here we can impute the missing values with the most popular category which is \"Laborers\"\n",
        "new_df.OCCUPATION_TYPE.mode()\n"
      ],
      "metadata": {
        "colab": {
          "base_uri": "https://localhost:8080/"
        },
        "id": "FeruqnVQkyqk",
        "outputId": "040431ca-2b2c-48be-a6b6-19b0d6be6008"
      },
      "execution_count": null,
      "outputs": [
        {
          "output_type": "execute_result",
          "data": {
            "text/plain": [
              "0    Laborers\n",
              "dtype: object"
            ]
          },
          "metadata": {},
          "execution_count": 84
        }
      ]
    },
    {
      "cell_type": "code",
      "source": [
        "#AS OCCUPATION_TYPE is important factor in this analysis so If you impute it , we will introduce bias so we replace null values with NAN\n",
        "\n",
        "# simply drop whole row with NaN in \"new_df\" column\n",
        "new_df.dropna(subset=[\"OCCUPATION_TYPE\"], axis=0, inplace=True)\n",
        "\n",
        "# reset index, because we droped two rows\n",
        "new_df.reset_index(drop=True, inplace=True)"
      ],
      "metadata": {
        "id": "ndkHO0srfE7I"
      },
      "execution_count": null,
      "outputs": []
    },
    {
      "cell_type": "code",
      "source": [
        "new_df.shape"
      ],
      "metadata": {
        "colab": {
          "base_uri": "https://localhost:8080/"
        },
        "id": "P4zVAAZriw8b",
        "outputId": "0e2696c1-56c8-418a-f09d-e69c5129e592"
      },
      "execution_count": null,
      "outputs": [
        {
          "output_type": "execute_result",
          "data": {
            "text/plain": [
              "(211120, 42)"
            ]
          },
          "metadata": {},
          "execution_count": 79
        }
      ]
    },
    {
      "cell_type": "code",
      "source": [
        "sns.countplot(x = 'OCCUPATION_TYPE', hue = 'TARGET', data = new_df)\n",
        "#labours are more likly to pay the Loan"
      ],
      "metadata": {
        "colab": {
          "base_uri": "https://localhost:8080/",
          "height": 297
        },
        "id": "sbN1ZkAPbLve",
        "outputId": "59cc3124-e41d-4e1f-e77e-481e72dfdaff"
      },
      "execution_count": null,
      "outputs": [
        {
          "output_type": "execute_result",
          "data": {
            "text/plain": [
              "<matplotlib.axes._subplots.AxesSubplot at 0x7f4b7a098e50>"
            ]
          },
          "metadata": {},
          "execution_count": 25
        },
        {
          "output_type": "display_data",
          "data": {
            "text/plain": [
              "<Figure size 432x288 with 1 Axes>"
            ],
            "image/png": "[encoded data removed]"
          },
          "metadata": {
            "needs_background": "light"
          }
        }
      ]
    },
    {
      "cell_type": "markdown",
      "source": [
        "###Enquiries to Credit Bureau about the client one week before applicatio"
      ],
      "metadata": {
        "id": "opxTymRTpXQQ"
      }
    },
    {
      "cell_type": "code",
      "source": [
        "#We will check for AMT_REQ_CREDIT_BUREAU_WEEK(Number of enquiries to Credit Bureau about the client one week before application (excluding one day before application)\n",
        "\n",
        "new_df.AMT_REQ_CREDIT_BUREAU_WEEK.describe()"
      ],
      "metadata": {
        "colab": {
          "base_uri": "https://localhost:8080/"
        },
        "id": "s_NATxBMfXI0",
        "outputId": "36e998b5-9944-49ba-c61c-386f8e7ae68a"
      },
      "execution_count": null,
      "outputs": [
        {
          "output_type": "execute_result",
          "data": {
            "text/plain": [
              "count    182823.000000\n",
              "mean          0.033902\n",
              "std           0.202892\n",
              "min           0.000000\n",
              "25%           0.000000\n",
              "50%           0.000000\n",
              "75%           0.000000\n",
              "max           8.000000\n",
              "Name: AMT_REQ_CREDIT_BUREAU_WEEK, dtype: float64"
            ]
          },
          "metadata": {},
          "execution_count": 80
        }
      ]
    },
    {
      "cell_type": "code",
      "source": [
        "new_df.AMT_REQ_CREDIT_BUREAU_WEEK.unique()"
      ],
      "metadata": {
        "colab": {
          "base_uri": "https://localhost:8080/"
        },
        "id": "yZpqUfPchSkN",
        "outputId": "0814906b-40fb-4bf2-98c5-85800deb56ed"
      },
      "execution_count": null,
      "outputs": [
        {
          "output_type": "execute_result",
          "data": {
            "text/plain": [
              "array([ 0., nan,  1.,  3.,  2.,  4.,  5.,  6.,  8.,  7.])"
            ]
          },
          "metadata": {},
          "execution_count": 81
        }
      ]
    },
    {
      "cell_type": "code",
      "source": [
        "new_df.AMT_REQ_CREDIT_BUREAU_WEEK.value_counts()\n"
      ],
      "metadata": {
        "colab": {
          "base_uri": "https://localhost:8080/"
        },
        "id": "BVtsKYBVjD99",
        "outputId": "05308193-d524-4d2c-ee6f-8c9d1ab24477"
      },
      "execution_count": null,
      "outputs": [
        {
          "output_type": "execute_result",
          "data": {
            "text/plain": [
              "0.0    177037\n",
              "1.0      5554\n",
              "2.0       147\n",
              "3.0        40\n",
              "4.0        19\n",
              "6.0        14\n",
              "5.0         8\n",
              "8.0         2\n",
              "7.0         2\n",
              "Name: AMT_REQ_CREDIT_BUREAU_WEEK, dtype: int64"
            ]
          },
          "metadata": {},
          "execution_count": 82
        }
      ]
    },
    {
      "cell_type": "code",
      "source": [
        "#new_df.AMT_REQ_CREDIT_BUREAU_WEEK is having catororical values so we will replace null values with mode. i.e frequent value in column\n",
        "mode_of_AMT_REQ_CREDIT_BUREAU_WEEK=new_df.AMT_REQ_CREDIT_BUREAU_WEEK.mode()"
      ],
      "metadata": {
        "colab": {
          "base_uri": "https://localhost:8080/"
        },
        "id": "AwRU2iOXjQt9",
        "outputId": "28d5f6ae-e153-4787-e775-54a624f319c6"
      },
      "execution_count": null,
      "outputs": [
        {
          "output_type": "execute_result",
          "data": {
            "text/plain": [
              "0    0.0\n",
              "dtype: float64"
            ]
          },
          "metadata": {},
          "execution_count": 83
        }
      ]
    },
    {
      "cell_type": "code",
      "source": [
        "sns.countplot(x = 'AMT_REQ_CREDIT_BUREAU_WEEK', hue = 'TARGET', data = new_df)"
      ],
      "metadata": {
        "colab": {
          "base_uri": "https://localhost:8080/",
          "height": 297
        },
        "id": "tCLvmaLNc0DZ",
        "outputId": "4fd0df57-0b8d-4137-f5bf-fb71a400f956"
      },
      "execution_count": null,
      "outputs": [
        {
          "output_type": "execute_result",
          "data": {
            "text/plain": [
              "<matplotlib.axes._subplots.AxesSubplot at 0x7f4b7a195430>"
            ]
          },
          "metadata": {},
          "execution_count": 26
        },
        {
          "output_type": "display_data",
          "data": {
            "text/plain": [
              "<Figure size 432x288 with 1 Axes>"
            ],
            "image/png": "[encoded data removed]"
          },
          "metadata": {
            "needs_background": "light"
          }
        }
      ]
    },
    {
      "cell_type": "markdown",
      "source": [
        "###TYPE_SUITE"
      ],
      "metadata": {
        "id": "HiIqSaJhlYyJ"
      }
    },
    {
      "cell_type": "code",
      "source": [
        "#we will check for unique values \n",
        "new_df.NAME_TYPE_SUITE.unique()"
      ],
      "metadata": {
        "colab": {
          "base_uri": "https://localhost:8080/"
        },
        "id": "Eq7j1Vz8ksLS",
        "outputId": "ac7e9648-9ef4-4e22-9a97-02f64054d248"
      },
      "execution_count": null,
      "outputs": [
        {
          "output_type": "execute_result",
          "data": {
            "text/plain": [
              "array(['Unaccompanied', 'Family', 'Spouse, partner', 'Other_A', nan,\n",
              "       'Children', 'Group of people', 'Other_B'], dtype=object)"
            ]
          },
          "metadata": {},
          "execution_count": 86
        }
      ]
    },
    {
      "cell_type": "code",
      "source": [
        "#checking for count for unique values\n",
        "suite=new_df.NAME_TYPE_SUITE.value_counts()\n",
        "suite"
      ],
      "metadata": {
        "colab": {
          "base_uri": "https://localhost:8080/"
        },
        "id": "EdaZs7bglhXi",
        "outputId": "9454f10d-b8e2-47b6-9682-bd5d39735ae2"
      },
      "execution_count": null,
      "outputs": [
        {
          "output_type": "execute_result",
          "data": {
            "text/plain": [
              "Unaccompanied      171484\n",
              "Family              26659\n",
              "Spouse, partner      8144\n",
              "Children             1878\n",
              "Other_B              1245\n",
              "Other_A               618\n",
              "Group of people       185\n",
              "Name: NAME_TYPE_SUITE, dtype: int64"
            ]
          },
          "metadata": {},
          "execution_count": 92
        }
      ]
    },
    {
      "cell_type": "code",
      "source": [
        "# AS NAME_TYPE_SUITE is catogorical variable we can replace its null values with its Mode i.e. Unaccompanied\n",
        "new_df.NAME_TYPE_SUITE.mode()"
      ],
      "metadata": {
        "colab": {
          "base_uri": "https://localhost:8080/"
        },
        "id": "n87xj-lFmG3D",
        "outputId": "b2c27cdf-a3c3-484f-fd57-f78841b06163"
      },
      "execution_count": null,
      "outputs": [
        {
          "output_type": "execute_result",
          "data": {
            "text/plain": [
              "0    Unaccompanied\n",
              "dtype: object"
            ]
          },
          "metadata": {},
          "execution_count": 91
        }
      ]
    },
    {
      "cell_type": "code",
      "source": [
        "#We will visulize it using pie chart\n",
        "\n",
        "plt.pie(x=suite, labels=suite.index, autopct='%1.2f%%')\n",
        "\n",
        "#It shows that 8.15% people do not repay there loan\n"
      ],
      "metadata": {
        "colab": {
          "base_uri": "https://localhost:8080/",
          "height": 612
        },
        "id": "_xsLjaQ0mdfC",
        "outputId": "3ae41cca-db72-481d-863b-ea28e4acf8ea"
      },
      "execution_count": null,
      "outputs": [
        {
          "output_type": "execute_result",
          "data": {
            "text/plain": [
              "([<matplotlib.patches.Wedge at 0x7fd628dc39d0>,\n",
              "  <matplotlib.patches.Wedge at 0x7fd628d14ca0>,\n",
              "  <matplotlib.patches.Wedge at 0x7fd628ce1940>,\n",
              "  <matplotlib.patches.Wedge at 0x7fd628ce1c10>,\n",
              "  <matplotlib.patches.Wedge at 0x7fd628d9ec10>,\n",
              "  <matplotlib.patches.Wedge at 0x7fd628d9e430>,\n",
              "  <matplotlib.patches.Wedge at 0x7fd628d181c0>],\n",
              " [Text(-0.9208331909253873, 0.6017193984659039, 'Unaccompanied'),\n",
              "  Text(0.7979397914964089, -0.7571605438390644, 'Family'),\n",
              "  Text(1.0687178204734697, -0.2604653915637101, 'Spouse, partner'),\n",
              "  Text(1.095618873984318, -0.09807794333760927, 'Children'),\n",
              "  Text(1.0990016723410594, -0.046854286800191706, 'Other_B'),\n",
              "  Text(1.0998800908293487, -0.016241483836890596, 'Other_A'),\n",
              "  Text(1.0999957956088429, -0.003041322552626202, 'Group of people')],\n",
              " [Text(-0.5022726495956658, 0.32821058098140216, '81.58%'),\n",
              "  Text(0.43523988627076843, -0.41299666027585324, '12.68%'),\n",
              "  Text(0.5829369929855288, -0.14207203176202368, '3.87%'),\n",
              "  Text(0.5976102949005371, -0.05349706000233233, '0.89%'),\n",
              "  Text(0.5994554576405778, -0.025556883709195472, '0.59%'),\n",
              "  Text(0.5999345949978265, -0.008858991183758507, '0.29%'),\n",
              "  Text(0.5999977066957324, -0.001658903210523383, '0.09%')])"
            ]
          },
          "metadata": {},
          "execution_count": 93
        },
        {
          "output_type": "display_data",
          "data": {
            "text/plain": [
              "<Figure size 432x288 with 1 Axes>"
            ],
            "image/png": "[encoded data removed]"
          },
          "metadata": {}
        }
      ]
    },
    {
      "cell_type": "code",
      "source": [
        "sns.countplot(x = 'NAME_TYPE_SUITE', hue = 'TARGET', data = new_df)"
      ],
      "metadata": {
        "colab": {
          "base_uri": "https://localhost:8080/",
          "height": 298
        },
        "id": "B6Tl6nMMc-MG",
        "outputId": "9c0073bd-00cc-4550-8ae3-7f5eebad34f9"
      },
      "execution_count": null,
      "outputs": [
        {
          "output_type": "execute_result",
          "data": {
            "text/plain": [
              "<matplotlib.axes._subplots.AxesSubplot at 0x7f4b7a3a66d0>"
            ]
          },
          "metadata": {},
          "execution_count": 27
        },
        {
          "output_type": "display_data",
          "data": {
            "text/plain": [
              "<Figure size 432x288 with 1 Axes>"
            ],
            "image/png": "[encoded data removed]"
          },
          "metadata": {
            "needs_background": "light"
          }
        }
      ]
    },
    {
      "cell_type": "markdown",
      "source": [
        "#GENDER"
      ],
      "metadata": {
        "id": "8cRTxXN1wjaR"
      }
    },
    {
      "cell_type": "code",
      "source": [
        "#checking for count for unique values\n",
        "gender=new_df.CODE_GENDER.value_counts()\n",
        "gender"
      ],
      "metadata": {
        "colab": {
          "base_uri": "https://localhost:8080/"
        },
        "id": "7OFkJ5LRwi53",
        "outputId": "fc9a3f91-abfc-4d98-829a-42cf2a51563c"
      },
      "execution_count": null,
      "outputs": [
        {
          "output_type": "execute_result",
          "data": {
            "text/plain": [
              "F      202448\n",
              "M      105059\n",
              "XNA         4\n",
              "Name: CODE_GENDER, dtype: int64"
            ]
          },
          "metadata": {},
          "execution_count": 12
        }
      ]
    },
    {
      "cell_type": "code",
      "source": [
        "#We will visulize if male take more than female  using pie chart\n",
        "\n",
        "plt.pie(x=gender, labels=gender.index, autopct='%1.2f%%')\n",
        "\n",
        "#It shows that 65.83% FEmale customers are there"
      ],
      "metadata": {
        "colab": {
          "base_uri": "https://localhost:8080/",
          "height": 404
        },
        "id": "BakUf9ABwt3g",
        "outputId": "faf59ef1-6282-463b-f74d-3a16dfd2c3f8"
      },
      "execution_count": null,
      "outputs": [
        {
          "output_type": "execute_result",
          "data": {
            "text/plain": [
              "([<matplotlib.patches.Wedge at 0x7f4b7c77c0a0>,\n",
              "  <matplotlib.patches.Wedge at 0x7f4b7c77c550>,\n",
              "  <matplotlib.patches.Wedge at 0x7f4b7c77cbe0>],\n",
              " [Text(-0.5249067606127868, 0.9666813811504754, 'F'),\n",
              "  Text(0.5248672085083227, -0.9667028568452051, 'M'),\n",
              "  Text(1.099999999077028, -4.5061500694222026e-05, 'XNA')],\n",
              " [Text(-0.2863127785160655, 0.5272807533548047, '65.83%'),\n",
              "  Text(0.28629120464090324, -0.5272924673701118, '34.16%'),\n",
              "  Text(0.5999999994965606, -2.457900037866656e-05, '0.00%')])"
            ]
          },
          "metadata": {},
          "execution_count": 13
        },
        {
          "output_type": "display_data",
          "data": {
            "text/plain": [
              "<Figure size 432x288 with 1 Axes>"
            ],
            "image/png": "[encoded data removed]"
          },
          "metadata": {}
        }
      ]
    },
    {
      "cell_type": "code",
      "source": [
        "sns.countplot(x = 'CODE_GENDER', hue = 'TARGET', data = new_df)\n"
      ],
      "metadata": {
        "colab": {
          "base_uri": "https://localhost:8080/",
          "height": 297
        },
        "id": "lgp6pmloZOX_",
        "outputId": "5fd03df9-d34d-4240-969c-d5a201c11d7d"
      },
      "execution_count": null,
      "outputs": [
        {
          "output_type": "execute_result",
          "data": {
            "text/plain": [
              "<matplotlib.axes._subplots.AxesSubplot at 0x7f4b7c26a190>"
            ]
          },
          "metadata": {},
          "execution_count": 16
        },
        {
          "output_type": "display_data",
          "data": {
            "text/plain": [
              "<Figure size 432x288 with 1 Axes>"
            ],
            "image/png": "[encoded data removed]"
          },
          "metadata": {
            "needs_background": "light"
          }
        }
      ]
    },
    {
      "cell_type": "markdown",
      "source": [
        "##GOODS_PRICE "
      ],
      "metadata": {
        "id": "mh_UdtYboM36"
      }
    },
    {
      "cell_type": "code",
      "source": [
        "#AS AMT_GOODS_PRICE is continues data we can check for mean, median and mode and replace null values with approprite one\n",
        "new_df.AMT_GOODS_PRICE.describe()"
      ],
      "metadata": {
        "colab": {
          "base_uri": "https://localhost:8080/"
        },
        "id": "xAEHzgqjoN4-",
        "outputId": "f41647fa-4be4-4828-b6cd-8fc13b837304"
      },
      "execution_count": null,
      "outputs": [
        {
          "output_type": "execute_result",
          "data": {
            "text/plain": [
              "count    2.108990e+05\n",
              "mean     5.481799e+05\n",
              "std      3.723453e+05\n",
              "min      4.050000e+04\n",
              "25%      2.475000e+05\n",
              "50%      4.500000e+05\n",
              "75%      6.885000e+05\n",
              "max      4.050000e+06\n",
              "Name: AMT_GOODS_PRICE, dtype: float64"
            ]
          },
          "metadata": {},
          "execution_count": 97
        }
      ]
    },
    {
      "cell_type": "code",
      "source": [
        "#as mean and and Median values differ by large amount so we can prefer to replace null values with mode (450000.0) which is coming out to be close to median (450000.0)\n",
        "mode_GOODS_PRICE=new_df.AMT_GOODS_PRICE.mode()\n",
        "mode_GOODS_PRICE"
      ],
      "metadata": {
        "colab": {
          "base_uri": "https://localhost:8080/"
        },
        "id": "PLv4F5AIopb3",
        "outputId": "2a734efc-1d42-42cf-f7b1-ea6aae84dc6a"
      },
      "execution_count": null,
      "outputs": [
        {
          "output_type": "execute_result",
          "data": {
            "text/plain": [
              "0    450000.0\n",
              "dtype: float64"
            ]
          },
          "metadata": {},
          "execution_count": 100
        }
      ]
    },
    {
      "cell_type": "code",
      "source": [
        "sns.boxplot(new_df.AMT_GOODS_PRICE)\n",
        "plt.title('Distribution of new_df.AMT_GOODS_PRICE')\n",
        "plt.show()\n"
      ],
      "metadata": {
        "colab": {
          "base_uri": "https://localhost:8080/",
          "height": 351
        },
        "id": "CfKroDfSqm8w",
        "outputId": "c656c913-4e33-423f-c26b-502eabd6dd93"
      },
      "execution_count": null,
      "outputs": [
        {
          "output_type": "stream",
          "name": "stderr",
          "text": [
            "/usr/local/lib/python3.8/dist-packages/seaborn/_decorators.py:36: FutureWarning: Pass the following variable as a keyword arg: x. From version 0.12, the only valid positional argument will be `data`, and passing other arguments without an explicit keyword will result in an error or misinterpretation.\n",
            "  warnings.warn(\n"
          ]
        },
        {
          "output_type": "display_data",
          "data": {
            "text/plain": [
              "<Figure size 432x288 with 1 Axes>"
            ],
            "image/png": "[encoded data removed]"
          },
          "metadata": {
            "needs_background": "light"
          }
        }
      ]
    },
    {
      "cell_type": "code",
      "source": [
        "#cheking shape of new data, we have now reduced our no of columns from 122 to 30\n",
        "new_df.shape"
      ],
      "metadata": {
        "colab": {
          "base_uri": "https://localhost:8080/"
        },
        "id": "uuym4U8o_tX7",
        "outputId": "314d1d66-6ccc-4416-cddd-645a0ea9779d"
      },
      "execution_count": null,
      "outputs": [
        {
          "output_type": "execute_result",
          "data": {
            "text/plain": [
              "(211120, 42)"
            ]
          },
          "metadata": {},
          "execution_count": 102
        }
      ]
    },
    {
      "cell_type": "code",
      "source": [
        "#checking names of columns of new data\n",
        "new_df.columns"
      ],
      "metadata": {
        "colab": {
          "base_uri": "https://localhost:8080/"
        },
        "id": "rgX6v1dEAX9V",
        "outputId": "009a1c92-2ba2-4811-e492-041b3bc89827"
      },
      "execution_count": null,
      "outputs": [
        {
          "output_type": "execute_result",
          "data": {
            "text/plain": [
              "Index(['SK_ID_CURR', 'TARGET', 'NAME_CONTRACT_TYPE', 'CODE_GENDER',\n",
              "       'FLAG_OWN_CAR', 'FLAG_OWN_REALTY', 'CNT_CHILDREN', 'AMT_INCOME_TOTAL',\n",
              "       'AMT_CREDIT', 'AMT_ANNUITY', 'AMT_GOODS_PRICE', 'NAME_TYPE_SUITE',\n",
              "       'NAME_INCOME_TYPE', 'NAME_EDUCATION_TYPE', 'NAME_FAMILY_STATUS',\n",
              "       'NAME_HOUSING_TYPE', 'REGION_POPULATION_RELATIVE', 'DAYS_BIRTH',\n",
              "       'DAYS_EMPLOYED', 'DAYS_REGISTRATION', 'DAYS_ID_PUBLISH',\n",
              "       'OCCUPATION_TYPE', 'WEEKDAY_APPR_PROCESS_START',\n",
              "       'HOUR_APPR_PROCESS_START', 'REG_REGION_NOT_LIVE_REGION',\n",
              "       'REG_REGION_NOT_WORK_REGION', 'LIVE_REGION_NOT_WORK_REGION',\n",
              "       'REG_CITY_NOT_LIVE_CITY', 'REG_CITY_NOT_WORK_CITY',\n",
              "       'LIVE_CITY_NOT_WORK_CITY', 'ORGANIZATION_TYPE', 'EXT_SOURCE_2',\n",
              "       'OBS_30_CNT_SOCIAL_CIRCLE', 'DEF_30_CNT_SOCIAL_CIRCLE',\n",
              "       'OBS_60_CNT_SOCIAL_CIRCLE', 'DEF_60_CNT_SOCIAL_CIRCLE',\n",
              "       'AMT_REQ_CREDIT_BUREAU_HOUR', 'AMT_REQ_CREDIT_BUREAU_DAY',\n",
              "       'AMT_REQ_CREDIT_BUREAU_WEEK', 'AMT_REQ_CREDIT_BUREAU_MON',\n",
              "       'AMT_REQ_CREDIT_BUREAU_QRT', 'AMT_REQ_CREDIT_BUREAU_YEAR'],\n",
              "      dtype='object')"
            ]
          },
          "metadata": {},
          "execution_count": 104
        }
      ]
    },
    {
      "cell_type": "code",
      "source": [
        "#checking duplicate rows in a data set\n",
        "new_df.duplicated().sum()"
      ],
      "metadata": {
        "colab": {
          "base_uri": "https://localhost:8080/"
        },
        "id": "_1A3xi7PrAo0",
        "outputId": "ad17da06-a721-4b50-e7ad-7e89fbfc6599"
      },
      "execution_count": null,
      "outputs": [
        {
          "output_type": "execute_result",
          "data": {
            "text/plain": [
              "0"
            ]
          },
          "metadata": {},
          "execution_count": 105
        }
      ]
    },
    {
      "cell_type": "markdown",
      "source": [
        "##DAYS_BIRTH"
      ],
      "metadata": {
        "id": "poS6OEw-tc7l"
      }
    },
    {
      "cell_type": "code",
      "source": [
        "#changing negative ages to positive ages.\n",
        "new_df['DAYS_BIRTH']=abs(new_df['DAYS_BIRTH'])\n",
        "new_df['DAYS_BIRTH'].describe()"
      ],
      "metadata": {
        "colab": {
          "base_uri": "https://localhost:8080/"
        },
        "id": "7dztGF9CtYrU",
        "outputId": "8413a349-01ea-4d2c-a1ee-41a0a2fec2cc"
      },
      "execution_count": null,
      "outputs": [
        {
          "output_type": "execute_result",
          "data": {
            "text/plain": [
              "count    307511.000000\n",
              "mean      16036.995067\n",
              "std        4363.988632\n",
              "min        7489.000000\n",
              "25%       12413.000000\n",
              "50%       15750.000000\n",
              "75%       19682.000000\n",
              "max       25229.000000\n",
              "Name: DAYS_BIRTH, dtype: float64"
            ]
          },
          "metadata": {},
          "execution_count": 23
        }
      ]
    },
    {
      "cell_type": "markdown",
      "source": [
        "##DAYS_EMPLOYED"
      ],
      "metadata": {
        "id": "JZLLk6Jltr3o"
      }
    },
    {
      "cell_type": "code",
      "source": [
        "#changing negative values in days to positive days\n",
        "new_df['DAYS_EMPLOYED']=abs(new_df['DAYS_EMPLOYED'])\n",
        "new_df['DAYS_EMPLOYED'].describe()"
      ],
      "metadata": {
        "colab": {
          "base_uri": "https://localhost:8080/"
        },
        "id": "QsJtcIfftlpe",
        "outputId": "b353274c-c1cf-4ec4-c08c-814cfa841145"
      },
      "execution_count": null,
      "outputs": [
        {
          "output_type": "execute_result",
          "data": {
            "text/plain": [
              "count    307511.000000\n",
              "mean      67724.742149\n",
              "std      139443.751806\n",
              "min           0.000000\n",
              "25%         933.000000\n",
              "50%        2219.000000\n",
              "75%        5707.000000\n",
              "max      365243.000000\n",
              "Name: DAYS_EMPLOYED, dtype: float64"
            ]
          },
          "metadata": {},
          "execution_count": 24
        }
      ]
    },
    {
      "cell_type": "markdown",
      "source": [
        "##DAYS_REGISTRATION"
      ],
      "metadata": {
        "id": "WwvHTgHNtvE9"
      }
    },
    {
      "cell_type": "code",
      "source": [
        "#changing negative days to positive days.\n",
        "new_df['DAYS_REGISTRATION']=abs(new_df['DAYS_REGISTRATION'])\n",
        "new_df['DAYS_REGISTRATION'].describe()"
      ],
      "metadata": {
        "colab": {
          "base_uri": "https://localhost:8080/"
        },
        "id": "Av_ZomE_tvXH",
        "outputId": "fe97880b-b3d5-45f1-f805-95c684ed2b22"
      },
      "execution_count": null,
      "outputs": [
        {
          "output_type": "execute_result",
          "data": {
            "text/plain": [
              "count    307511.000000\n",
              "mean       4986.120328\n",
              "std        3522.886321\n",
              "min           0.000000\n",
              "25%        2010.000000\n",
              "50%        4504.000000\n",
              "75%        7479.500000\n",
              "max       24672.000000\n",
              "Name: DAYS_REGISTRATION, dtype: float64"
            ]
          },
          "metadata": {},
          "execution_count": 25
        }
      ]
    },
    {
      "cell_type": "markdown",
      "source": [
        "##DAYS_ID_PUBLISH"
      ],
      "metadata": {
        "id": "cB4kVZmCt4Jl"
      }
    },
    {
      "cell_type": "code",
      "source": [
        "#changing negative days to positive \n",
        "new_df['DAYS_ID_PUBLISH']=abs(new_df['DAYS_ID_PUBLISH'])\n",
        "new_df['DAYS_ID_PUBLISH'].describe()"
      ],
      "metadata": {
        "colab": {
          "base_uri": "https://localhost:8080/"
        },
        "id": "RGblgaCVt4SA",
        "outputId": "5d96e677-06ad-4086-8cc7-db3d8c925757"
      },
      "execution_count": null,
      "outputs": [
        {
          "output_type": "execute_result",
          "data": {
            "text/plain": [
              "count    307511.000000\n",
              "mean       2994.202373\n",
              "std        1509.450419\n",
              "min           0.000000\n",
              "25%        1720.000000\n",
              "50%        3254.000000\n",
              "75%        4299.000000\n",
              "max        7197.000000\n",
              "Name: DAYS_ID_PUBLISH, dtype: float64"
            ]
          },
          "metadata": {},
          "execution_count": 26
        }
      ]
    },
    {
      "cell_type": "markdown",
      "source": [
        "##REG_REGION_NOT_LIVE_REGION"
      ],
      "metadata": {
        "id": "w4DpyHXiuCb4"
      }
    },
    {
      "cell_type": "code",
      "source": [
        "#converting the data type of categorical column\n",
        "new_df['REG_REGION_NOT_LIVE_REGION'] = new_df['REG_REGION_NOT_LIVE_REGION'].astype(object)\n",
        "new_df.dtypes"
      ],
      "metadata": {
        "colab": {
          "base_uri": "https://localhost:8080/"
        },
        "id": "0bWj0NgEuCky",
        "outputId": "43acfc5e-8f88-4d41-843e-df6ff7f3d079"
      },
      "execution_count": null,
      "outputs": [
        {
          "output_type": "execute_result",
          "data": {
            "text/plain": [
              "SK_ID_CURR                       int64\n",
              "TARGET                           int64\n",
              "NAME_CONTRACT_TYPE              object\n",
              "CODE_GENDER                     object\n",
              "FLAG_OWN_CAR                    object\n",
              "FLAG_OWN_REALTY                 object\n",
              "CNT_CHILDREN                     int64\n",
              "AMT_INCOME_TOTAL               float64\n",
              "AMT_CREDIT                     float64\n",
              "AMT_ANNUITY                    float64\n",
              "AMT_GOODS_PRICE                float64\n",
              "NAME_TYPE_SUITE                 object\n",
              "NAME_INCOME_TYPE                object\n",
              "NAME_EDUCATION_TYPE             object\n",
              "NAME_FAMILY_STATUS              object\n",
              "NAME_HOUSING_TYPE               object\n",
              "REGION_POPULATION_RELATIVE     float64\n",
              "DAYS_BIRTH                       int64\n",
              "DAYS_EMPLOYED                    int64\n",
              "DAYS_REGISTRATION              float64\n",
              "DAYS_ID_PUBLISH                  int64\n",
              "OCCUPATION_TYPE                 object\n",
              "WEEKDAY_APPR_PROCESS_START      object\n",
              "HOUR_APPR_PROCESS_START          int64\n",
              "REG_REGION_NOT_LIVE_REGION      object\n",
              "REG_REGION_NOT_WORK_REGION       int64\n",
              "LIVE_REGION_NOT_WORK_REGION      int64\n",
              "REG_CITY_NOT_LIVE_CITY           int64\n",
              "REG_CITY_NOT_WORK_CITY           int64\n",
              "LIVE_CITY_NOT_WORK_CITY          int64\n",
              "ORGANIZATION_TYPE               object\n",
              "EXT_SOURCE_2                   float64\n",
              "OBS_30_CNT_SOCIAL_CIRCLE       float64\n",
              "DEF_30_CNT_SOCIAL_CIRCLE       float64\n",
              "OBS_60_CNT_SOCIAL_CIRCLE       float64\n",
              "DEF_60_CNT_SOCIAL_CIRCLE       float64\n",
              "AMT_REQ_CREDIT_BUREAU_HOUR     float64\n",
              "AMT_REQ_CREDIT_BUREAU_DAY      float64\n",
              "AMT_REQ_CREDIT_BUREAU_WEEK     float64\n",
              "AMT_REQ_CREDIT_BUREAU_MON      float64\n",
              "AMT_REQ_CREDIT_BUREAU_QRT      float64\n",
              "AMT_REQ_CREDIT_BUREAU_YEAR     float64\n",
              "dtype: object"
            ]
          },
          "metadata": {},
          "execution_count": 27
        }
      ]
    },
    {
      "cell_type": "markdown",
      "source": [
        "##Changing Data Types"
      ],
      "metadata": {
        "id": "ePNHQTU4uSr5"
      }
    },
    {
      "cell_type": "code",
      "source": [
        "#REG_REGION_NOT_WORK_REGION::Flag if client's permanent address does not match work address (1=different, 0=same, at region level)\n",
        "\n",
        "new_df.REG_REGION_NOT_WORK_REGION.unique()"
      ],
      "metadata": {
        "colab": {
          "base_uri": "https://localhost:8080/"
        },
        "id": "E6XZYfnMuomg",
        "outputId": "cc48f8f7-03e8-45f5-f528-a1e3bf3e3881"
      },
      "execution_count": null,
      "outputs": [
        {
          "output_type": "execute_result",
          "data": {
            "text/plain": [
              "array([0, 1], dtype=object)"
            ]
          },
          "metadata": {},
          "execution_count": 119
        }
      ]
    },
    {
      "cell_type": "code",
      "source": [
        "#Changing region from int to object\n",
        "new_df['REG_REGION_NOT_WORK_REGION'] = new_df['REG_REGION_NOT_WORK_REGION'].astype(object)"
      ],
      "metadata": {
        "id": "7m3Q5n5DuYLD"
      },
      "execution_count": null,
      "outputs": []
    },
    {
      "cell_type": "code",
      "source": [
        "#LIVE_REGION_NOT_WORK_REGION::LIVE_REGION_NOT_WORK_REGION:Flag if client's contact address does not match work address (1=different, 0=same, at region level)\n",
        "new_df.LIVE_REGION_NOT_WORK_REGION.unique()"
      ],
      "metadata": {
        "colab": {
          "base_uri": "https://localhost:8080/"
        },
        "id": "f-vyteXAvEiW",
        "outputId": "689c775c-f652-4d9d-c870-fba2e21b30cd"
      },
      "execution_count": null,
      "outputs": [
        {
          "output_type": "execute_result",
          "data": {
            "text/plain": [
              "array([0, 1])"
            ]
          },
          "metadata": {},
          "execution_count": 120
        }
      ]
    },
    {
      "cell_type": "code",
      "source": [
        "#Changing region from int to object\n",
        "new_df['LIVE_REGION_NOT_WORK_REGION'] = new_df['LIVE_REGION_NOT_WORK_REGION'].astype(object)"
      ],
      "metadata": {
        "id": "_FxdzV4svY3F"
      },
      "execution_count": null,
      "outputs": []
    },
    {
      "cell_type": "code",
      "source": [
        "#REG_CITY_NOT_LIVE_CITY::Flag if client's permanent address does not match contact address (1=different, 0=same, at city level)\n",
        "\n",
        "new_df.REG_CITY_NOT_LIVE_CITY.unique()"
      ],
      "metadata": {
        "colab": {
          "base_uri": "https://localhost:8080/"
        },
        "id": "vAUHyKWkvioD",
        "outputId": "4f36525e-3880-441a-fd12-df07c157abc0"
      },
      "execution_count": null,
      "outputs": [
        {
          "output_type": "execute_result",
          "data": {
            "text/plain": [
              "array([0, 1])"
            ]
          },
          "metadata": {},
          "execution_count": 122
        }
      ]
    },
    {
      "cell_type": "code",
      "source": [
        "#Changing city from int to object\n",
        "new_df['REG_CITY_NOT_LIVE_CITY'] = new_df['REG_CITY_NOT_LIVE_CITY'].astype(object)"
      ],
      "metadata": {
        "id": "kSBvKUg6vit3"
      },
      "execution_count": null,
      "outputs": []
    },
    {
      "cell_type": "code",
      "source": [
        "#REG_CITY_NOT_WORK_CITY::Flag if client's permanent address does not match work address (1=different, 0=same, at city level)\n",
        "new_df.REG_CITY_NOT_WORK_CITY.unique()"
      ],
      "metadata": {
        "colab": {
          "base_uri": "https://localhost:8080/"
        },
        "id": "_zk_3Vv0vwic",
        "outputId": "541409c1-d593-4358-833a-6009666413ec"
      },
      "execution_count": null,
      "outputs": [
        {
          "output_type": "execute_result",
          "data": {
            "text/plain": [
              "array([0, 1])"
            ]
          },
          "metadata": {},
          "execution_count": 124
        }
      ]
    },
    {
      "cell_type": "code",
      "source": [
        "#Changing city from int to object\n",
        "new_df['REG_CITY_NOT_WORK_CITY'] = new_df['REG_CITY_NOT_WORK_CITY'].astype(object)"
      ],
      "metadata": {
        "id": "NyO6yo2ovwk6"
      },
      "execution_count": null,
      "outputs": []
    },
    {
      "cell_type": "code",
      "source": [
        "#LIVE_CITY_NOT_WORK_CITY::Flag if client's contact address does not match work address (1=different, 0=same, at city level)\n",
        "new_df.LIVE_CITY_NOT_WORK_CITY.unique()"
      ],
      "metadata": {
        "colab": {
          "base_uri": "https://localhost:8080/"
        },
        "id": "lTEwVZA8vz-n",
        "outputId": "38bb6b8d-03b8-4101-e076-f76bbcb66302"
      },
      "execution_count": null,
      "outputs": [
        {
          "output_type": "execute_result",
          "data": {
            "text/plain": [
              "array([0, 1])"
            ]
          },
          "metadata": {},
          "execution_count": 126
        }
      ]
    },
    {
      "cell_type": "code",
      "source": [
        "#Changing city from int to object\n",
        "new_df['LIVE_CITY_NOT_WORK_CITY']=new_df['LIVE_CITY_NOT_WORK_CITY'].astype(object)"
      ],
      "metadata": {
        "id": "toAd9jzSv0BH"
      },
      "execution_count": null,
      "outputs": []
    },
    {
      "cell_type": "markdown",
      "source": [
        "###Understanding the Categorical variables"
      ],
      "metadata": {
        "id": "plwCwMQWQ8cp"
      }
    },
    {
      "cell_type": "code",
      "source": [
        "#taking info to check Column name,  Non-Null Count, Dtype and shape of data (211120 X 42 )\n",
        "new_df.info()"
      ],
      "metadata": {
        "colab": {
          "base_uri": "https://localhost:8080/"
        },
        "id": "qXeixPZhQ4dq",
        "outputId": "e3de2f7d-22b7-4f20-8d6c-c59ed87d80ec"
      },
      "execution_count": null,
      "outputs": [
        {
          "output_type": "stream",
          "name": "stdout",
          "text": [
            "<class 'pandas.core.frame.DataFrame'>\n",
            "RangeIndex: 211120 entries, 0 to 211119\n",
            "Data columns (total 42 columns):\n",
            " #   Column                       Non-Null Count   Dtype  \n",
            "---  ------                       --------------   -----  \n",
            " 0   SK_ID_CURR                   211120 non-null  int64  \n",
            " 1   TARGET                       211120 non-null  int64  \n",
            " 2   NAME_CONTRACT_TYPE           211120 non-null  object \n",
            " 3   CODE_GENDER                  211120 non-null  object \n",
            " 4   FLAG_OWN_CAR                 211120 non-null  object \n",
            " 5   FLAG_OWN_REALTY              211120 non-null  object \n",
            " 6   CNT_CHILDREN                 211120 non-null  int64  \n",
            " 7   AMT_INCOME_TOTAL             211120 non-null  float64\n",
            " 8   AMT_CREDIT                   211120 non-null  float64\n",
            " 9   AMT_ANNUITY                  211108 non-null  float64\n",
            " 10  AMT_GOODS_PRICE              210899 non-null  float64\n",
            " 11  NAME_TYPE_SUITE              210213 non-null  object \n",
            " 12  NAME_INCOME_TYPE             211120 non-null  object \n",
            " 13  NAME_EDUCATION_TYPE          211120 non-null  object \n",
            " 14  NAME_FAMILY_STATUS           211120 non-null  object \n",
            " 15  NAME_HOUSING_TYPE            211120 non-null  object \n",
            " 16  REGION_POPULATION_RELATIVE   211120 non-null  float64\n",
            " 17  DAYS_BIRTH                   211120 non-null  int64  \n",
            " 18  DAYS_EMPLOYED                211120 non-null  int64  \n",
            " 19  DAYS_REGISTRATION            211120 non-null  float64\n",
            " 20  DAYS_ID_PUBLISH              211120 non-null  int64  \n",
            " 21  OCCUPATION_TYPE              211120 non-null  object \n",
            " 22  WEEKDAY_APPR_PROCESS_START   211120 non-null  object \n",
            " 23  HOUR_APPR_PROCESS_START      211120 non-null  int64  \n",
            " 24  REG_REGION_NOT_LIVE_REGION   211120 non-null  object \n",
            " 25  REG_REGION_NOT_WORK_REGION   211120 non-null  object \n",
            " 26  LIVE_REGION_NOT_WORK_REGION  211120 non-null  object \n",
            " 27  REG_CITY_NOT_LIVE_CITY       211120 non-null  object \n",
            " 28  REG_CITY_NOT_WORK_CITY       211120 non-null  object \n",
            " 29  LIVE_CITY_NOT_WORK_CITY      211120 non-null  object \n",
            " 30  ORGANIZATION_TYPE            211120 non-null  object \n",
            " 31  EXT_SOURCE_2                 210708 non-null  float64\n",
            " 32  OBS_30_CNT_SOCIAL_CIRCLE     210424 non-null  float64\n",
            " 33  DEF_30_CNT_SOCIAL_CIRCLE     210424 non-null  float64\n",
            " 34  OBS_60_CNT_SOCIAL_CIRCLE     210424 non-null  float64\n",
            " 35  DEF_60_CNT_SOCIAL_CIRCLE     210424 non-null  float64\n",
            " 36  AMT_REQ_CREDIT_BUREAU_HOUR   182823 non-null  float64\n",
            " 37  AMT_REQ_CREDIT_BUREAU_DAY    182823 non-null  float64\n",
            " 38  AMT_REQ_CREDIT_BUREAU_WEEK   182823 non-null  float64\n",
            " 39  AMT_REQ_CREDIT_BUREAU_MON    182823 non-null  float64\n",
            " 40  AMT_REQ_CREDIT_BUREAU_QRT    182823 non-null  float64\n",
            " 41  AMT_REQ_CREDIT_BUREAU_YEAR   182823 non-null  float64\n",
            "dtypes: float64(17), int64(7), object(18)\n",
            "memory usage: 67.7+ MB\n"
          ]
        }
      ]
    },
    {
      "cell_type": "code",
      "source": [
        "# WE can check the number of unique values in a column\n",
        "# If the number of unique values <=60: we say Categorical column\n",
        "# If the number of unique values in a columns> 60: Continuous column\n",
        "\n",
        "new_df.nunique().sort_values()"
      ],
      "metadata": {
        "colab": {
          "base_uri": "https://localhost:8080/"
        },
        "id": "f-RxNiFQralm",
        "outputId": "84731f18-1f4e-4383-f850-aa5a58ff3497"
      },
      "execution_count": null,
      "outputs": [
        {
          "output_type": "execute_result",
          "data": {
            "text/plain": [
              "REG_REGION_NOT_LIVE_REGION          2\n",
              "TARGET                              2\n",
              "NAME_CONTRACT_TYPE                  2\n",
              "FLAG_OWN_CAR                        2\n",
              "FLAG_OWN_REALTY                     2\n",
              "LIVE_CITY_NOT_WORK_CITY             2\n",
              "REG_CITY_NOT_WORK_CITY              2\n",
              "REG_CITY_NOT_LIVE_CITY              2\n",
              "LIVE_REGION_NOT_WORK_REGION         2\n",
              "REG_REGION_NOT_WORK_REGION          2\n",
              "CODE_GENDER                         3\n",
              "AMT_REQ_CREDIT_BUREAU_HOUR          5\n",
              "NAME_EDUCATION_TYPE                 5\n",
              "NAME_FAMILY_STATUS                  6\n",
              "NAME_HOUSING_TYPE                   6\n",
              "WEEKDAY_APPR_PROCESS_START          7\n",
              "NAME_INCOME_TYPE                    7\n",
              "NAME_TYPE_SUITE                     7\n",
              "AMT_REQ_CREDIT_BUREAU_DAY           8\n",
              "DEF_60_CNT_SOCIAL_CIRCLE            8\n",
              "DEF_30_CNT_SOCIAL_CIRCLE            9\n",
              "AMT_REQ_CREDIT_BUREAU_WEEK          9\n",
              "AMT_REQ_CREDIT_BUREAU_QRT          11\n",
              "CNT_CHILDREN                       15\n",
              "OCCUPATION_TYPE                    18\n",
              "AMT_REQ_CREDIT_BUREAU_YEAR         22\n",
              "AMT_REQ_CREDIT_BUREAU_MON          22\n",
              "HOUR_APPR_PROCESS_START            24\n",
              "OBS_30_CNT_SOCIAL_CIRCLE           32\n",
              "OBS_60_CNT_SOCIAL_CIRCLE           32\n",
              "ORGANIZATION_TYPE                  58\n",
              "REGION_POPULATION_RELATIVE         81\n",
              "AMT_GOODS_PRICE                   825\n",
              "AMT_INCOME_TOTAL                 2016\n",
              "AMT_CREDIT                       5102\n",
              "DAYS_ID_PUBLISH                  6117\n",
              "DAYS_EMPLOYED                   12185\n",
              "AMT_ANNUITY                     12750\n",
              "DAYS_REGISTRATION               14130\n",
              "DAYS_BIRTH                      16281\n",
              "EXT_SOURCE_2                   101730\n",
              "SK_ID_CURR                     211120\n",
              "dtype: int64"
            ]
          },
          "metadata": {},
          "execution_count": 129
        }
      ]
    },
    {
      "cell_type": "markdown",
      "source": [
        "#### If the number of unique values in a columns> 60: we call it as Continuous data column (so following is list of same)\n",
        "REGION_POPULATION_RELATIVE         81\n",
        "\n",
        "AMT_GOODS_PRICE                   825\n",
        "\n",
        "AMT_INCOME_TOTAL                 2016\n",
        "\n",
        "AMT_CREDIT                       5102\n",
        "\n",
        "DAYS_ID_PUBLISH                  6117\n",
        "\n",
        "DAYS_EMPLOYED                   12185\n",
        "\n",
        "AMT_ANNUITY                     12750\n",
        "\n",
        "DAYS_REGISTRATION               14130\n",
        "\n",
        "DAYS_BIRTH                      16281\n",
        "\n",
        "EXT_SOURCE_2                   101730\n",
        "\n",
        "SK_ID_CURR                     211120"
      ],
      "metadata": {
        "id": "DyG6or9SsEhv"
      }
    },
    {
      "cell_type": "code",
      "source": [
        "#createing new df considering only Continues data\n",
        "new_con_df=new_df[['TARGET','REGION_POPULATION_RELATIVE','AMT_GOODS_PRICE','AMT_INCOME_TOTAL','AMT_CREDIT','DAYS_ID_PUBLISH','DAYS_EMPLOYED','AMT_ANNUITY','DAYS_REGISTRATION','DAYS_BIRTH','EXT_SOURCE_2','SK_ID_CURR']]"
      ],
      "metadata": {
        "id": "_T5PaKoyraqZ"
      },
      "execution_count": null,
      "outputs": []
    },
    {
      "cell_type": "code",
      "source": [
        "new_con_df.head()"
      ],
      "metadata": {
        "colab": {
          "base_uri": "https://localhost:8080/",
          "height": 270
        },
        "id": "AOBa3ENxratL",
        "outputId": "9bddc4c8-4709-45c0-a366-1227674cfc7e"
      },
      "execution_count": null,
      "outputs": [
        {
          "output_type": "execute_result",
          "data": {
            "text/plain": [
              "   TARGET  REGION_POPULATION_RELATIVE  AMT_GOODS_PRICE  AMT_INCOME_TOTAL  \\\n",
              "0       1                    0.018801         351000.0          202500.0   \n",
              "1       0                    0.003541        1129500.0          270000.0   \n",
              "2       0                    0.010032         135000.0           67500.0   \n",
              "3       0                    0.008019         297000.0          135000.0   \n",
              "4       0                    0.028663         513000.0          121500.0   \n",
              "\n",
              "   AMT_CREDIT  DAYS_ID_PUBLISH  DAYS_EMPLOYED  AMT_ANNUITY  DAYS_REGISTRATION  \\\n",
              "0    406597.5            -2120            637      24700.5             3648.0   \n",
              "1   1293502.5             -291           1188      35698.5             1186.0   \n",
              "2    135000.0            -2531            225       6750.0             4260.0   \n",
              "3    312682.5            -2437           3039      29686.5             9833.0   \n",
              "4    513000.0            -3458           3038      21865.5             4311.0   \n",
              "\n",
              "   DAYS_BIRTH  EXT_SOURCE_2  SK_ID_CURR  \n",
              "0        9461      0.262949      100002  \n",
              "1       16765      0.622246      100003  \n",
              "2       19046      0.555912      100004  \n",
              "3       19005      0.650442      100006  \n",
              "4       19932      0.322738      100007  "
            ],
            "text/html": [
              "\n",
              "  <div id=\"df-f1e5f600-37c9-47df-8639-74a6aca40b15\">\n",
              "    <div class=\"colab-df-container\">\n",
              "      <div>\n",
              "<style scoped>\n",
              "    .dataframe tbody tr th:only-of-type {\n",
              "        vertical-align: middle;\n",
              "    }\n",
              "\n",
              "    .dataframe tbody tr th {\n",
              "        vertical-align: top;\n",
              "    }\n",
              "\n",
              "    .dataframe thead th {\n",
              "        text-align: right;\n",
              "    }\n",
              "</style>\n",
              "<table border=\"1\" class=\"dataframe\">\n",
              "  <thead>\n",
              "    <tr style=\"text-align: right;\">\n",
              "      <th></th>\n",
              "      <th>TARGET</th>\n",
              "      <th>REGION_POPULATION_RELATIVE</th>\n",
              "      <th>AMT_GOODS_PRICE</th>\n",
              "      <th>AMT_INCOME_TOTAL</th>\n",
              "      <th>AMT_CREDIT</th>\n",
              "      <th>DAYS_ID_PUBLISH</th>\n",
              "      <th>DAYS_EMPLOYED</th>\n",
              "      <th>AMT_ANNUITY</th>\n",
              "      <th>DAYS_REGISTRATION</th>\n",
              "      <th>DAYS_BIRTH</th>\n",
              "      <th>EXT_SOURCE_2</th>\n",
              "      <th>SK_ID_CURR</th>\n",
              "    </tr>\n",
              "  </thead>\n",
              "  <tbody>\n",
              "    <tr>\n",
              "      <th>0</th>\n",
              "      <td>1</td>\n",
              "      <td>0.018801</td>\n",
              "      <td>351000.0</td>\n",
              "      <td>202500.0</td>\n",
              "      <td>406597.5</td>\n",
              "      <td>-2120</td>\n",
              "      <td>637</td>\n",
              "      <td>24700.5</td>\n",
              "      <td>3648.0</td>\n",
              "      <td>9461</td>\n",
              "      <td>0.262949</td>\n",
              "      <td>100002</td>\n",
              "    </tr>\n",
              "    <tr>\n",
              "      <th>1</th>\n",
              "      <td>0</td>\n",
              "      <td>0.003541</td>\n",
              "      <td>1129500.0</td>\n",
              "      <td>270000.0</td>\n",
              "      <td>1293502.5</td>\n",
              "      <td>-291</td>\n",
              "      <td>1188</td>\n",
              "      <td>35698.5</td>\n",
              "      <td>1186.0</td>\n",
              "      <td>16765</td>\n",
              "      <td>0.622246</td>\n",
              "      <td>100003</td>\n",
              "    </tr>\n",
              "    <tr>\n",
              "      <th>2</th>\n",
              "      <td>0</td>\n",
              "      <td>0.010032</td>\n",
              "      <td>135000.0</td>\n",
              "      <td>67500.0</td>\n",
              "      <td>135000.0</td>\n",
              "      <td>-2531</td>\n",
              "      <td>225</td>\n",
              "      <td>6750.0</td>\n",
              "      <td>4260.0</td>\n",
              "      <td>19046</td>\n",
              "      <td>0.555912</td>\n",
              "      <td>100004</td>\n",
              "    </tr>\n",
              "    <tr>\n",
              "      <th>3</th>\n",
              "      <td>0</td>\n",
              "      <td>0.008019</td>\n",
              "      <td>297000.0</td>\n",
              "      <td>135000.0</td>\n",
              "      <td>312682.5</td>\n",
              "      <td>-2437</td>\n",
              "      <td>3039</td>\n",
              "      <td>29686.5</td>\n",
              "      <td>9833.0</td>\n",
              "      <td>19005</td>\n",
              "      <td>0.650442</td>\n",
              "      <td>100006</td>\n",
              "    </tr>\n",
              "    <tr>\n",
              "      <th>4</th>\n",
              "      <td>0</td>\n",
              "      <td>0.028663</td>\n",
              "      <td>513000.0</td>\n",
              "      <td>121500.0</td>\n",
              "      <td>513000.0</td>\n",
              "      <td>-3458</td>\n",
              "      <td>3038</td>\n",
              "      <td>21865.5</td>\n",
              "      <td>4311.0</td>\n",
              "      <td>19932</td>\n",
              "      <td>0.322738</td>\n",
              "      <td>100007</td>\n",
              "    </tr>\n",
              "  </tbody>\n",
              "</table>\n",
              "</div>\n",
              "      <button class=\"colab-df-convert\" onclick=\"convertToInteractive('df-f1e5f600-37c9-47df-8639-74a6aca40b15')\"\n",
              "              title=\"Convert this dataframe to an interactive table.\"\n",
              "              style=\"display:none;\">\n",
              "        \n",
              "  <svg xmlns=\"http://www.w3.org/2000/svg\" height=\"24px\"viewBox=\"0 0 24 24\"\n",
              "       width=\"24px\">\n",
              "    <path d=\"M0 0h24v24H0V0z\" fill=\"none\"/>\n",
              "    <path d=\"M18.56 5.44l.94 2.06.94-2.06 2.06-.94-2.06-.94-.94-2.06-.94 2.06-2.06.94zm-11 1L8.5 8.5l.94-2.06 2.06-.94-2.06-.94L8.5 2.5l-.94 2.06-2.06.94zm10 10l.94 2.06.94-2.06 2.06-.94-2.06-.94-.94-2.06-.94 2.06-2.06.94z\"/><path d=\"M17.41 7.96l-1.37-1.37c-.4-.4-.92-.59-1.43-.59-.52 0-1.04.2-1.43.59L10.3 9.45l-7.72 7.72c-.78.78-.78 2.05 0 2.83L4 21.41c.39.39.9.59 1.41.59.51 0 1.02-.2 1.41-.59l7.78-7.78 2.81-2.81c.8-.78.8-2.07 0-2.86zM5.41 20L4 18.59l7.72-7.72 1.47 1.35L5.41 20z\"/>\n",
              "  </svg>\n",
              "      </button>\n",
              "      \n",
              "  <style>\n",
              "    .colab-df-container {\n",
              "      display:flex;\n",
              "      flex-wrap:wrap;\n",
              "      gap: 12px;\n",
              "    }\n",
              "\n",
              "    .colab-df-convert {\n",
              "      background-color: #E8F0FE;\n",
              "      border: none;\n",
              "      border-radius: 50%;\n",
              "      cursor: pointer;\n",
              "      display: none;\n",
              "      fill: #1967D2;\n",
              "      height: 32px;\n",
              "      padding: 0 0 0 0;\n",
              "      width: 32px;\n",
              "    }\n",
              "\n",
              "    .colab-df-convert:hover {\n",
              "      background-color: #E2EBFA;\n",
              "      box-shadow: 0px 1px 2px rgba(60, 64, 67, 0.3), 0px 1px 3px 1px rgba(60, 64, 67, 0.15);\n",
              "      fill: #174EA6;\n",
              "    }\n",
              "\n",
              "    [theme=dark] .colab-df-convert {\n",
              "      background-color: #3B4455;\n",
              "      fill: #D2E3FC;\n",
              "    }\n",
              "\n",
              "    [theme=dark] .colab-df-convert:hover {\n",
              "      background-color: #434B5C;\n",
              "      box-shadow: 0px 1px 3px 1px rgba(0, 0, 0, 0.15);\n",
              "      filter: drop-shadow(0px 1px 2px rgba(0, 0, 0, 0.3));\n",
              "      fill: #FFFFFF;\n",
              "    }\n",
              "  </style>\n",
              "\n",
              "      <script>\n",
              "        const buttonEl =\n",
              "          document.querySelector('#df-f1e5f600-37c9-47df-8639-74a6aca40b15 button.colab-df-convert');\n",
              "        buttonEl.style.display =\n",
              "          google.colab.kernel.accessAllowed ? 'block' : 'none';\n",
              "\n",
              "        async function convertToInteractive(key) {\n",
              "          const element = document.querySelector('#df-f1e5f600-37c9-47df-8639-74a6aca40b15');\n",
              "          const dataTable =\n",
              "            await google.colab.kernel.invokeFunction('convertToInteractive',\n",
              "                                                     [key], {});\n",
              "          if (!dataTable) return;\n",
              "\n",
              "          const docLinkHtml = 'Like what you see? Visit the ' +\n",
              "            '<a target=\"_blank\" href=https://colab.research.google.com/notebooks/data_table.ipynb>data table notebook</a>'\n",
              "            + ' to learn more about interactive tables.';\n",
              "          element.innerHTML = '';\n",
              "          dataTable['output_type'] = 'display_data';\n",
              "          await google.colab.output.renderOutput(dataTable, element);\n",
              "          const docLink = document.createElement('div');\n",
              "          docLink.innerHTML = docLinkHtml;\n",
              "          element.appendChild(docLink);\n",
              "        }\n",
              "      </script>\n",
              "    </div>\n",
              "  </div>\n",
              "  "
            ]
          },
          "metadata": {},
          "execution_count": 141
        }
      ]
    },
    {
      "cell_type": "markdown",
      "source": [
        "##Checking statisticsal summary of all the columns\n"
      ],
      "metadata": {
        "id": "0axM5mOZReMl"
      }
    },
    {
      "cell_type": "code",
      "source": [
        "#statistical summary of new_con_df\n",
        "new_con_df.describe()"
      ],
      "metadata": {
        "colab": {
          "base_uri": "https://localhost:8080/",
          "height": 364
        },
        "id": "5MG3K4CVRwiA",
        "outputId": "ac28ae3e-8288-4226-8e88-a3a9046e00c8"
      },
      "execution_count": null,
      "outputs": [
        {
          "output_type": "execute_result",
          "data": {
            "text/plain": [
              "              TARGET  REGION_POPULATION_RELATIVE  AMT_GOODS_PRICE  \\\n",
              "count  211120.000000               211120.000000     2.108990e+05   \n",
              "mean        0.087851                    0.020705     5.481799e+05   \n",
              "std         0.283078                    0.013654     3.723453e+05   \n",
              "min         0.000000                    0.000290     4.050000e+04   \n",
              "25%         0.000000                    0.010006     2.475000e+05   \n",
              "50%         0.000000                    0.018850     4.500000e+05   \n",
              "75%         0.000000                    0.028663     6.885000e+05   \n",
              "max         1.000000                    0.072508     4.050000e+06   \n",
              "\n",
              "       AMT_INCOME_TOTAL    AMT_CREDIT  DAYS_ID_PUBLISH  DAYS_EMPLOYED  \\\n",
              "count      2.111200e+05  2.111200e+05    211120.000000  211120.000000   \n",
              "mean       1.757752e+05  6.103016e+05     -2804.761486    2380.896713   \n",
              "std        2.751414e+05  4.057490e+05      1515.406698    2587.306179   \n",
              "min        2.565000e+04  4.500000e+04     -7197.000000       0.000000   \n",
              "25%        1.125000e+05  2.779695e+05     -4181.000000     767.000000   \n",
              "50%        1.575000e+05  5.212800e+05     -2892.000000    1641.000000   \n",
              "75%        2.115000e+05  8.248230e+05     -1492.000000    3164.000000   \n",
              "max        1.170000e+08  4.050000e+06         0.000000  365243.000000   \n",
              "\n",
              "         AMT_ANNUITY  DAYS_REGISTRATION     DAYS_BIRTH  EXT_SOURCE_2  \\\n",
              "count  211108.000000      211120.000000  211120.000000  2.107080e+05   \n",
              "mean    27793.198221        4625.461633   14763.481778  5.156045e-01   \n",
              "std     14622.071200        3242.148875    3643.724281  1.898690e-01   \n",
              "min      1980.000000           0.000000    7489.000000  8.173617e-08   \n",
              "25%     17077.500000        1841.000000   11789.000000  3.975931e-01   \n",
              "50%     25836.750000        4257.000000   14574.500000  5.664851e-01   \n",
              "75%     35586.000000        6940.000000   17541.000000  6.630799e-01   \n",
              "max    258025.500000       22928.000000   25200.000000  8.549997e-01   \n",
              "\n",
              "          SK_ID_CURR  \n",
              "count  211120.000000  \n",
              "mean   278221.563182  \n",
              "std    102823.536493  \n",
              "min    100002.000000  \n",
              "25%    189166.750000  \n",
              "50%    278226.500000  \n",
              "75%    367366.500000  \n",
              "max    456255.000000  "
            ],
            "text/html": [
              "\n",
              "  <div id=\"df-11a3dfc8-1c53-4490-9e15-049d2f1b5e96\">\n",
              "    <div class=\"colab-df-container\">\n",
              "      <div>\n",
              "<style scoped>\n",
              "    .dataframe tbody tr th:only-of-type {\n",
              "        vertical-align: middle;\n",
              "    }\n",
              "\n",
              "    .dataframe tbody tr th {\n",
              "        vertical-align: top;\n",
              "    }\n",
              "\n",
              "    .dataframe thead th {\n",
              "        text-align: right;\n",
              "    }\n",
              "</style>\n",
              "<table border=\"1\" class=\"dataframe\">\n",
              "  <thead>\n",
              "    <tr style=\"text-align: right;\">\n",
              "      <th></th>\n",
              "      <th>TARGET</th>\n",
              "      <th>REGION_POPULATION_RELATIVE</th>\n",
              "      <th>AMT_GOODS_PRICE</th>\n",
              "      <th>AMT_INCOME_TOTAL</th>\n",
              "      <th>AMT_CREDIT</th>\n",
              "      <th>DAYS_ID_PUBLISH</th>\n",
              "      <th>DAYS_EMPLOYED</th>\n",
              "      <th>AMT_ANNUITY</th>\n",
              "      <th>DAYS_REGISTRATION</th>\n",
              "      <th>DAYS_BIRTH</th>\n",
              "      <th>EXT_SOURCE_2</th>\n",
              "      <th>SK_ID_CURR</th>\n",
              "    </tr>\n",
              "  </thead>\n",
              "  <tbody>\n",
              "    <tr>\n",
              "      <th>count</th>\n",
              "      <td>211120.000000</td>\n",
              "      <td>211120.000000</td>\n",
              "      <td>2.108990e+05</td>\n",
              "      <td>2.111200e+05</td>\n",
              "      <td>2.111200e+05</td>\n",
              "      <td>211120.000000</td>\n",
              "      <td>211120.000000</td>\n",
              "      <td>211108.000000</td>\n",
              "      <td>211120.000000</td>\n",
              "      <td>211120.000000</td>\n",
              "      <td>2.107080e+05</td>\n",
              "      <td>211120.000000</td>\n",
              "    </tr>\n",
              "    <tr>\n",
              "      <th>mean</th>\n",
              "      <td>0.087851</td>\n",
              "      <td>0.020705</td>\n",
              "      <td>5.481799e+05</td>\n",
              "      <td>1.757752e+05</td>\n",
              "      <td>6.103016e+05</td>\n",
              "      <td>-2804.761486</td>\n",
              "      <td>2380.896713</td>\n",
              "      <td>27793.198221</td>\n",
              "      <td>4625.461633</td>\n",
              "      <td>14763.481778</td>\n",
              "      <td>5.156045e-01</td>\n",
              "      <td>278221.563182</td>\n",
              "    </tr>\n",
              "    <tr>\n",
              "      <th>std</th>\n",
              "      <td>0.283078</td>\n",
              "      <td>0.013654</td>\n",
              "      <td>3.723453e+05</td>\n",
              "      <td>2.751414e+05</td>\n",
              "      <td>4.057490e+05</td>\n",
              "      <td>1515.406698</td>\n",
              "      <td>2587.306179</td>\n",
              "      <td>14622.071200</td>\n",
              "      <td>3242.148875</td>\n",
              "      <td>3643.724281</td>\n",
              "      <td>1.898690e-01</td>\n",
              "      <td>102823.536493</td>\n",
              "    </tr>\n",
              "    <tr>\n",
              "      <th>min</th>\n",
              "      <td>0.000000</td>\n",
              "      <td>0.000290</td>\n",
              "      <td>4.050000e+04</td>\n",
              "      <td>2.565000e+04</td>\n",
              "      <td>4.500000e+04</td>\n",
              "      <td>-7197.000000</td>\n",
              "      <td>0.000000</td>\n",
              "      <td>1980.000000</td>\n",
              "      <td>0.000000</td>\n",
              "      <td>7489.000000</td>\n",
              "      <td>8.173617e-08</td>\n",
              "      <td>100002.000000</td>\n",
              "    </tr>\n",
              "    <tr>\n",
              "      <th>25%</th>\n",
              "      <td>0.000000</td>\n",
              "      <td>0.010006</td>\n",
              "      <td>2.475000e+05</td>\n",
              "      <td>1.125000e+05</td>\n",
              "      <td>2.779695e+05</td>\n",
              "      <td>-4181.000000</td>\n",
              "      <td>767.000000</td>\n",
              "      <td>17077.500000</td>\n",
              "      <td>1841.000000</td>\n",
              "      <td>11789.000000</td>\n",
              "      <td>3.975931e-01</td>\n",
              "      <td>189166.750000</td>\n",
              "    </tr>\n",
              "    <tr>\n",
              "      <th>50%</th>\n",
              "      <td>0.000000</td>\n",
              "      <td>0.018850</td>\n",
              "      <td>4.500000e+05</td>\n",
              "      <td>1.575000e+05</td>\n",
              "      <td>5.212800e+05</td>\n",
              "      <td>-2892.000000</td>\n",
              "      <td>1641.000000</td>\n",
              "      <td>25836.750000</td>\n",
              "      <td>4257.000000</td>\n",
              "      <td>14574.500000</td>\n",
              "      <td>5.664851e-01</td>\n",
              "      <td>278226.500000</td>\n",
              "    </tr>\n",
              "    <tr>\n",
              "      <th>75%</th>\n",
              "      <td>0.000000</td>\n",
              "      <td>0.028663</td>\n",
              "      <td>6.885000e+05</td>\n",
              "      <td>2.115000e+05</td>\n",
              "      <td>8.248230e+05</td>\n",
              "      <td>-1492.000000</td>\n",
              "      <td>3164.000000</td>\n",
              "      <td>35586.000000</td>\n",
              "      <td>6940.000000</td>\n",
              "      <td>17541.000000</td>\n",
              "      <td>6.630799e-01</td>\n",
              "      <td>367366.500000</td>\n",
              "    </tr>\n",
              "    <tr>\n",
              "      <th>max</th>\n",
              "      <td>1.000000</td>\n",
              "      <td>0.072508</td>\n",
              "      <td>4.050000e+06</td>\n",
              "      <td>1.170000e+08</td>\n",
              "      <td>4.050000e+06</td>\n",
              "      <td>0.000000</td>\n",
              "      <td>365243.000000</td>\n",
              "      <td>258025.500000</td>\n",
              "      <td>22928.000000</td>\n",
              "      <td>25200.000000</td>\n",
              "      <td>8.549997e-01</td>\n",
              "      <td>456255.000000</td>\n",
              "    </tr>\n",
              "  </tbody>\n",
              "</table>\n",
              "</div>\n",
              "      <button class=\"colab-df-convert\" onclick=\"convertToInteractive('df-11a3dfc8-1c53-4490-9e15-049d2f1b5e96')\"\n",
              "              title=\"Convert this dataframe to an interactive table.\"\n",
              "              style=\"display:none;\">\n",
              "        \n",
              "  <svg xmlns=\"http://www.w3.org/2000/svg\" height=\"24px\"viewBox=\"0 0 24 24\"\n",
              "       width=\"24px\">\n",
              "    <path d=\"M0 0h24v24H0V0z\" fill=\"none\"/>\n",
              "    <path d=\"M18.56 5.44l.94 2.06.94-2.06 2.06-.94-2.06-.94-.94-2.06-.94 2.06-2.06.94zm-11 1L8.5 8.5l.94-2.06 2.06-.94-2.06-.94L8.5 2.5l-.94 2.06-2.06.94zm10 10l.94 2.06.94-2.06 2.06-.94-2.06-.94-.94-2.06-.94 2.06-2.06.94z\"/><path d=\"M17.41 7.96l-1.37-1.37c-.4-.4-.92-.59-1.43-.59-.52 0-1.04.2-1.43.59L10.3 9.45l-7.72 7.72c-.78.78-.78 2.05 0 2.83L4 21.41c.39.39.9.59 1.41.59.51 0 1.02-.2 1.41-.59l7.78-7.78 2.81-2.81c.8-.78.8-2.07 0-2.86zM5.41 20L4 18.59l7.72-7.72 1.47 1.35L5.41 20z\"/>\n",
              "  </svg>\n",
              "      </button>\n",
              "      \n",
              "  <style>\n",
              "    .colab-df-container {\n",
              "      display:flex;\n",
              "      flex-wrap:wrap;\n",
              "      gap: 12px;\n",
              "    }\n",
              "\n",
              "    .colab-df-convert {\n",
              "      background-color: #E8F0FE;\n",
              "      border: none;\n",
              "      border-radius: 50%;\n",
              "      cursor: pointer;\n",
              "      display: none;\n",
              "      fill: #1967D2;\n",
              "      height: 32px;\n",
              "      padding: 0 0 0 0;\n",
              "      width: 32px;\n",
              "    }\n",
              "\n",
              "    .colab-df-convert:hover {\n",
              "      background-color: #E2EBFA;\n",
              "      box-shadow: 0px 1px 2px rgba(60, 64, 67, 0.3), 0px 1px 3px 1px rgba(60, 64, 67, 0.15);\n",
              "      fill: #174EA6;\n",
              "    }\n",
              "\n",
              "    [theme=dark] .colab-df-convert {\n",
              "      background-color: #3B4455;\n",
              "      fill: #D2E3FC;\n",
              "    }\n",
              "\n",
              "    [theme=dark] .colab-df-convert:hover {\n",
              "      background-color: #434B5C;\n",
              "      box-shadow: 0px 1px 3px 1px rgba(0, 0, 0, 0.15);\n",
              "      filter: drop-shadow(0px 1px 2px rgba(0, 0, 0, 0.3));\n",
              "      fill: #FFFFFF;\n",
              "    }\n",
              "  </style>\n",
              "\n",
              "      <script>\n",
              "        const buttonEl =\n",
              "          document.querySelector('#df-11a3dfc8-1c53-4490-9e15-049d2f1b5e96 button.colab-df-convert');\n",
              "        buttonEl.style.display =\n",
              "          google.colab.kernel.accessAllowed ? 'block' : 'none';\n",
              "\n",
              "        async function convertToInteractive(key) {\n",
              "          const element = document.querySelector('#df-11a3dfc8-1c53-4490-9e15-049d2f1b5e96');\n",
              "          const dataTable =\n",
              "            await google.colab.kernel.invokeFunction('convertToInteractive',\n",
              "                                                     [key], {});\n",
              "          if (!dataTable) return;\n",
              "\n",
              "          const docLinkHtml = 'Like what you see? Visit the ' +\n",
              "            '<a target=\"_blank\" href=https://colab.research.google.com/notebooks/data_table.ipynb>data table notebook</a>'\n",
              "            + ' to learn more about interactive tables.';\n",
              "          element.innerHTML = '';\n",
              "          dataTable['output_type'] = 'display_data';\n",
              "          await google.colab.output.renderOutput(dataTable, element);\n",
              "          const docLink = document.createElement('div');\n",
              "          docLink.innerHTML = docLinkHtml;\n",
              "          element.appendChild(docLink);\n",
              "        }\n",
              "      </script>\n",
              "    </div>\n",
              "  </div>\n",
              "  "
            ]
          },
          "metadata": {},
          "execution_count": 142
        }
      ]
    },
    {
      "cell_type": "markdown",
      "source": [
        "#Correlation cloumns of numric data"
      ],
      "metadata": {
        "id": "-IdouAEwXiwr"
      }
    },
    {
      "cell_type": "code",
      "source": [
        "#checking correlation between columns of numeric data(new_con_df)\n",
        "new_con_df=new_df[['TARGET','REGION_POPULATION_RELATIVE','AMT_GOODS_PRICE','AMT_INCOME_TOTAL','AMT_CREDIT','DAYS_ID_PUBLISH','DAYS_EMPLOYED','AMT_ANNUITY','DAYS_REGISTRATION','DAYS_BIRTH','EXT_SOURCE_2','SK_ID_CURR']]\n",
        "new_con_df.corr()"
      ],
      "metadata": {
        "colab": {
          "base_uri": "https://localhost:8080/",
          "height": 490
        },
        "id": "5WfWDGn7SGTx",
        "outputId": "075f43dd-2e5c-484b-8465-ec13aab3b223"
      },
      "execution_count": null,
      "outputs": [
        {
          "output_type": "execute_result",
          "data": {
            "text/plain": [
              "                              TARGET  REGION_POPULATION_RELATIVE  \\\n",
              "TARGET                      1.000000                   -0.039623   \n",
              "REGION_POPULATION_RELATIVE -0.039623                    1.000000   \n",
              "AMT_GOODS_PRICE            -0.050614                    0.103619   \n",
              "AMT_INCOME_TOTAL           -0.005368                    0.064437   \n",
              "AMT_CREDIT                 -0.040779                    0.099532   \n",
              "DAYS_ID_PUBLISH             0.040007                   -0.007218   \n",
              "DAYS_EMPLOYED              -0.069154                   -0.002818   \n",
              "AMT_ANNUITY                -0.019409                    0.115243   \n",
              "DAYS_REGISTRATION          -0.037289                    0.061834   \n",
              "DAYS_BIRTH                 -0.065899                    0.047224   \n",
              "EXT_SOURCE_2               -0.171309                    0.201725   \n",
              "SK_ID_CURR                 -0.001954                    0.000266   \n",
              "\n",
              "                            AMT_GOODS_PRICE  AMT_INCOME_TOTAL  AMT_CREDIT  \\\n",
              "TARGET                            -0.050614         -0.005368   -0.040779   \n",
              "REGION_POPULATION_RELATIVE         0.103619          0.064437    0.099532   \n",
              "AMT_GOODS_PRICE                    1.000000          0.136834    0.986475   \n",
              "AMT_INCOME_TOTAL                   0.136834          1.000000    0.134229   \n",
              "AMT_CREDIT                         0.986475          0.134229    1.000000   \n",
              "DAYS_ID_PUBLISH                   -0.040785         -0.012416   -0.038681   \n",
              "DAYS_EMPLOYED                      0.097576          0.011680    0.084590   \n",
              "AMT_ANNUITY                        0.765314          0.163187    0.760956   \n",
              "DAYS_REGISTRATION                  0.018621         -0.010628    0.021480   \n",
              "DAYS_BIRTH                         0.156919          0.022780    0.161891   \n",
              "EXT_SOURCE_2                       0.148052          0.052565    0.139761   \n",
              "SK_ID_CURR                        -0.001082         -0.003441   -0.001497   \n",
              "\n",
              "                            DAYS_ID_PUBLISH  DAYS_EMPLOYED  AMT_ANNUITY  \\\n",
              "TARGET                             0.040007      -0.069154    -0.019409   \n",
              "REGION_POPULATION_RELATIVE        -0.007218      -0.002818     0.115243   \n",
              "AMT_GOODS_PRICE                   -0.040785       0.097576     0.765314   \n",
              "AMT_INCOME_TOTAL                  -0.012416       0.011680     0.163187   \n",
              "AMT_CREDIT                        -0.038681       0.084590     0.760956   \n",
              "DAYS_ID_PUBLISH                    1.000000      -0.081438    -0.029431   \n",
              "DAYS_EMPLOYED                     -0.081438       1.000000     0.050823   \n",
              "AMT_ANNUITY                       -0.029431       0.050823     1.000000   \n",
              "DAYS_REGISTRATION                 -0.031788       0.154169    -0.006843   \n",
              "DAYS_BIRTH                        -0.107870       0.317013     0.099186   \n",
              "EXT_SOURCE_2                      -0.066911       0.088989     0.125878   \n",
              "SK_ID_CURR                        -0.000315       0.001692    -0.002785   \n",
              "\n",
              "                            DAYS_REGISTRATION  DAYS_BIRTH  EXT_SOURCE_2  \\\n",
              "TARGET                              -0.037289   -0.065899     -0.171309   \n",
              "REGION_POPULATION_RELATIVE           0.061834    0.047224      0.201725   \n",
              "AMT_GOODS_PRICE                      0.018621    0.156919      0.148052   \n",
              "AMT_INCOME_TOTAL                    -0.010628    0.022780      0.052565   \n",
              "AMT_CREDIT                           0.021480    0.161891      0.139761   \n",
              "DAYS_ID_PUBLISH                     -0.031788   -0.107870     -0.066911   \n",
              "DAYS_EMPLOYED                        0.154169    0.317013      0.088989   \n",
              "AMT_ANNUITY                         -0.006843    0.099186      0.125878   \n",
              "DAYS_REGISTRATION                    1.000000    0.293885      0.079656   \n",
              "DAYS_BIRTH                           0.293885    1.000000      0.153782   \n",
              "EXT_SOURCE_2                         0.079656    0.153782      1.000000   \n",
              "SK_ID_CURR                          -0.002259    0.001870      0.001778   \n",
              "\n",
              "                            SK_ID_CURR  \n",
              "TARGET                       -0.001954  \n",
              "REGION_POPULATION_RELATIVE    0.000266  \n",
              "AMT_GOODS_PRICE              -0.001082  \n",
              "AMT_INCOME_TOTAL             -0.003441  \n",
              "AMT_CREDIT                   -0.001497  \n",
              "DAYS_ID_PUBLISH              -0.000315  \n",
              "DAYS_EMPLOYED                 0.001692  \n",
              "AMT_ANNUITY                  -0.002785  \n",
              "DAYS_REGISTRATION            -0.002259  \n",
              "DAYS_BIRTH                    0.001870  \n",
              "EXT_SOURCE_2                  0.001778  \n",
              "SK_ID_CURR                    1.000000  "
            ],
            "text/html": [
              "\n",
              "  <div id=\"df-4de0ed14-a241-434a-8a80-29e5660939bf\">\n",
              "    <div class=\"colab-df-container\">\n",
              "      <div>\n",
              "<style scoped>\n",
              "    .dataframe tbody tr th:only-of-type {\n",
              "        vertical-align: middle;\n",
              "    }\n",
              "\n",
              "    .dataframe tbody tr th {\n",
              "        vertical-align: top;\n",
              "    }\n",
              "\n",
              "    .dataframe thead th {\n",
              "        text-align: right;\n",
              "    }\n",
              "</style>\n",
              "<table border=\"1\" class=\"dataframe\">\n",
              "  <thead>\n",
              "    <tr style=\"text-align: right;\">\n",
              "      <th></th>\n",
              "      <th>TARGET</th>\n",
              "      <th>REGION_POPULATION_RELATIVE</th>\n",
              "      <th>AMT_GOODS_PRICE</th>\n",
              "      <th>AMT_INCOME_TOTAL</th>\n",
              "      <th>AMT_CREDIT</th>\n",
              "      <th>DAYS_ID_PUBLISH</th>\n",
              "      <th>DAYS_EMPLOYED</th>\n",
              "      <th>AMT_ANNUITY</th>\n",
              "      <th>DAYS_REGISTRATION</th>\n",
              "      <th>DAYS_BIRTH</th>\n",
              "      <th>EXT_SOURCE_2</th>\n",
              "      <th>SK_ID_CURR</th>\n",
              "    </tr>\n",
              "  </thead>\n",
              "  <tbody>\n",
              "    <tr>\n",
              "      <th>TARGET</th>\n",
              "      <td>1.000000</td>\n",
              "      <td>-0.039623</td>\n",
              "      <td>-0.050614</td>\n",
              "      <td>-0.005368</td>\n",
              "      <td>-0.040779</td>\n",
              "      <td>0.040007</td>\n",
              "      <td>-0.069154</td>\n",
              "      <td>-0.019409</td>\n",
              "      <td>-0.037289</td>\n",
              "      <td>-0.065899</td>\n",
              "      <td>-0.171309</td>\n",
              "      <td>-0.001954</td>\n",
              "    </tr>\n",
              "    <tr>\n",
              "      <th>REGION_POPULATION_RELATIVE</th>\n",
              "      <td>-0.039623</td>\n",
              "      <td>1.000000</td>\n",
              "      <td>0.103619</td>\n",
              "      <td>0.064437</td>\n",
              "      <td>0.099532</td>\n",
              "      <td>-0.007218</td>\n",
              "      <td>-0.002818</td>\n",
              "      <td>0.115243</td>\n",
              "      <td>0.061834</td>\n",
              "      <td>0.047224</td>\n",
              "      <td>0.201725</td>\n",
              "      <td>0.000266</td>\n",
              "    </tr>\n",
              "    <tr>\n",
              "      <th>AMT_GOODS_PRICE</th>\n",
              "      <td>-0.050614</td>\n",
              "      <td>0.103619</td>\n",
              "      <td>1.000000</td>\n",
              "      <td>0.136834</td>\n",
              "      <td>0.986475</td>\n",
              "      <td>-0.040785</td>\n",
              "      <td>0.097576</td>\n",
              "      <td>0.765314</td>\n",
              "      <td>0.018621</td>\n",
              "      <td>0.156919</td>\n",
              "      <td>0.148052</td>\n",
              "      <td>-0.001082</td>\n",
              "    </tr>\n",
              "    <tr>\n",
              "      <th>AMT_INCOME_TOTAL</th>\n",
              "      <td>-0.005368</td>\n",
              "      <td>0.064437</td>\n",
              "      <td>0.136834</td>\n",
              "      <td>1.000000</td>\n",
              "      <td>0.134229</td>\n",
              "      <td>-0.012416</td>\n",
              "      <td>0.011680</td>\n",
              "      <td>0.163187</td>\n",
              "      <td>-0.010628</td>\n",
              "      <td>0.022780</td>\n",
              "      <td>0.052565</td>\n",
              "      <td>-0.003441</td>\n",
              "    </tr>\n",
              "    <tr>\n",
              "      <th>AMT_CREDIT</th>\n",
              "      <td>-0.040779</td>\n",
              "      <td>0.099532</td>\n",
              "      <td>0.986475</td>\n",
              "      <td>0.134229</td>\n",
              "      <td>1.000000</td>\n",
              "      <td>-0.038681</td>\n",
              "      <td>0.084590</td>\n",
              "      <td>0.760956</td>\n",
              "      <td>0.021480</td>\n",
              "      <td>0.161891</td>\n",
              "      <td>0.139761</td>\n",
              "      <td>-0.001497</td>\n",
              "    </tr>\n",
              "    <tr>\n",
              "      <th>DAYS_ID_PUBLISH</th>\n",
              "      <td>0.040007</td>\n",
              "      <td>-0.007218</td>\n",
              "      <td>-0.040785</td>\n",
              "      <td>-0.012416</td>\n",
              "      <td>-0.038681</td>\n",
              "      <td>1.000000</td>\n",
              "      <td>-0.081438</td>\n",
              "      <td>-0.029431</td>\n",
              "      <td>-0.031788</td>\n",
              "      <td>-0.107870</td>\n",
              "      <td>-0.066911</td>\n",
              "      <td>-0.000315</td>\n",
              "    </tr>\n",
              "    <tr>\n",
              "      <th>DAYS_EMPLOYED</th>\n",
              "      <td>-0.069154</td>\n",
              "      <td>-0.002818</td>\n",
              "      <td>0.097576</td>\n",
              "      <td>0.011680</td>\n",
              "      <td>0.084590</td>\n",
              "      <td>-0.081438</td>\n",
              "      <td>1.000000</td>\n",
              "      <td>0.050823</td>\n",
              "      <td>0.154169</td>\n",
              "      <td>0.317013</td>\n",
              "      <td>0.088989</td>\n",
              "      <td>0.001692</td>\n",
              "    </tr>\n",
              "    <tr>\n",
              "      <th>AMT_ANNUITY</th>\n",
              "      <td>-0.019409</td>\n",
              "      <td>0.115243</td>\n",
              "      <td>0.765314</td>\n",
              "      <td>0.163187</td>\n",
              "      <td>0.760956</td>\n",
              "      <td>-0.029431</td>\n",
              "      <td>0.050823</td>\n",
              "      <td>1.000000</td>\n",
              "      <td>-0.006843</td>\n",
              "      <td>0.099186</td>\n",
              "      <td>0.125878</td>\n",
              "      <td>-0.002785</td>\n",
              "    </tr>\n",
              "    <tr>\n",
              "      <th>DAYS_REGISTRATION</th>\n",
              "      <td>-0.037289</td>\n",
              "      <td>0.061834</td>\n",
              "      <td>0.018621</td>\n",
              "      <td>-0.010628</td>\n",
              "      <td>0.021480</td>\n",
              "      <td>-0.031788</td>\n",
              "      <td>0.154169</td>\n",
              "      <td>-0.006843</td>\n",
              "      <td>1.000000</td>\n",
              "      <td>0.293885</td>\n",
              "      <td>0.079656</td>\n",
              "      <td>-0.002259</td>\n",
              "    </tr>\n",
              "    <tr>\n",
              "      <th>DAYS_BIRTH</th>\n",
              "      <td>-0.065899</td>\n",
              "      <td>0.047224</td>\n",
              "      <td>0.156919</td>\n",
              "      <td>0.022780</td>\n",
              "      <td>0.161891</td>\n",
              "      <td>-0.107870</td>\n",
              "      <td>0.317013</td>\n",
              "      <td>0.099186</td>\n",
              "      <td>0.293885</td>\n",
              "      <td>1.000000</td>\n",
              "      <td>0.153782</td>\n",
              "      <td>0.001870</td>\n",
              "    </tr>\n",
              "    <tr>\n",
              "      <th>EXT_SOURCE_2</th>\n",
              "      <td>-0.171309</td>\n",
              "      <td>0.201725</td>\n",
              "      <td>0.148052</td>\n",
              "      <td>0.052565</td>\n",
              "      <td>0.139761</td>\n",
              "      <td>-0.066911</td>\n",
              "      <td>0.088989</td>\n",
              "      <td>0.125878</td>\n",
              "      <td>0.079656</td>\n",
              "      <td>0.153782</td>\n",
              "      <td>1.000000</td>\n",
              "      <td>0.001778</td>\n",
              "    </tr>\n",
              "    <tr>\n",
              "      <th>SK_ID_CURR</th>\n",
              "      <td>-0.001954</td>\n",
              "      <td>0.000266</td>\n",
              "      <td>-0.001082</td>\n",
              "      <td>-0.003441</td>\n",
              "      <td>-0.001497</td>\n",
              "      <td>-0.000315</td>\n",
              "      <td>0.001692</td>\n",
              "      <td>-0.002785</td>\n",
              "      <td>-0.002259</td>\n",
              "      <td>0.001870</td>\n",
              "      <td>0.001778</td>\n",
              "      <td>1.000000</td>\n",
              "    </tr>\n",
              "  </tbody>\n",
              "</table>\n",
              "</div>\n",
              "      <button class=\"colab-df-convert\" onclick=\"convertToInteractive('df-4de0ed14-a241-434a-8a80-29e5660939bf')\"\n",
              "              title=\"Convert this dataframe to an interactive table.\"\n",
              "              style=\"display:none;\">\n",
              "        \n",
              "  <svg xmlns=\"http://www.w3.org/2000/svg\" height=\"24px\"viewBox=\"0 0 24 24\"\n",
              "       width=\"24px\">\n",
              "    <path d=\"M0 0h24v24H0V0z\" fill=\"none\"/>\n",
              "    <path d=\"M18.56 5.44l.94 2.06.94-2.06 2.06-.94-2.06-.94-.94-2.06-.94 2.06-2.06.94zm-11 1L8.5 8.5l.94-2.06 2.06-.94-2.06-.94L8.5 2.5l-.94 2.06-2.06.94zm10 10l.94 2.06.94-2.06 2.06-.94-2.06-.94-.94-2.06-.94 2.06-2.06.94z\"/><path d=\"M17.41 7.96l-1.37-1.37c-.4-.4-.92-.59-1.43-.59-.52 0-1.04.2-1.43.59L10.3 9.45l-7.72 7.72c-.78.78-.78 2.05 0 2.83L4 21.41c.39.39.9.59 1.41.59.51 0 1.02-.2 1.41-.59l7.78-7.78 2.81-2.81c.8-.78.8-2.07 0-2.86zM5.41 20L4 18.59l7.72-7.72 1.47 1.35L5.41 20z\"/>\n",
              "  </svg>\n",
              "      </button>\n",
              "      \n",
              "  <style>\n",
              "    .colab-df-container {\n",
              "      display:flex;\n",
              "      flex-wrap:wrap;\n",
              "      gap: 12px;\n",
              "    }\n",
              "\n",
              "    .colab-df-convert {\n",
              "      background-color: #E8F0FE;\n",
              "      border: none;\n",
              "      border-radius: 50%;\n",
              "      cursor: pointer;\n",
              "      display: none;\n",
              "      fill: #1967D2;\n",
              "      height: 32px;\n",
              "      padding: 0 0 0 0;\n",
              "      width: 32px;\n",
              "    }\n",
              "\n",
              "    .colab-df-convert:hover {\n",
              "      background-color: #E2EBFA;\n",
              "      box-shadow: 0px 1px 2px rgba(60, 64, 67, 0.3), 0px 1px 3px 1px rgba(60, 64, 67, 0.15);\n",
              "      fill: #174EA6;\n",
              "    }\n",
              "\n",
              "    [theme=dark] .colab-df-convert {\n",
              "      background-color: #3B4455;\n",
              "      fill: #D2E3FC;\n",
              "    }\n",
              "\n",
              "    [theme=dark] .colab-df-convert:hover {\n",
              "      background-color: #434B5C;\n",
              "      box-shadow: 0px 1px 3px 1px rgba(0, 0, 0, 0.15);\n",
              "      filter: drop-shadow(0px 1px 2px rgba(0, 0, 0, 0.3));\n",
              "      fill: #FFFFFF;\n",
              "    }\n",
              "  </style>\n",
              "\n",
              "      <script>\n",
              "        const buttonEl =\n",
              "          document.querySelector('#df-4de0ed14-a241-434a-8a80-29e5660939bf button.colab-df-convert');\n",
              "        buttonEl.style.display =\n",
              "          google.colab.kernel.accessAllowed ? 'block' : 'none';\n",
              "\n",
              "        async function convertToInteractive(key) {\n",
              "          const element = document.querySelector('#df-4de0ed14-a241-434a-8a80-29e5660939bf');\n",
              "          const dataTable =\n",
              "            await google.colab.kernel.invokeFunction('convertToInteractive',\n",
              "                                                     [key], {});\n",
              "          if (!dataTable) return;\n",
              "\n",
              "          const docLinkHtml = 'Like what you see? Visit the ' +\n",
              "            '<a target=\"_blank\" href=https://colab.research.google.com/notebooks/data_table.ipynb>data table notebook</a>'\n",
              "            + ' to learn more about interactive tables.';\n",
              "          element.innerHTML = '';\n",
              "          dataTable['output_type'] = 'display_data';\n",
              "          await google.colab.output.renderOutput(dataTable, element);\n",
              "          const docLink = document.createElement('div');\n",
              "          docLink.innerHTML = docLinkHtml;\n",
              "          element.appendChild(docLink);\n",
              "        }\n",
              "      </script>\n",
              "    </div>\n",
              "  </div>\n",
              "  "
            ]
          },
          "metadata": {},
          "execution_count": 144
        }
      ]
    },
    {
      "cell_type": "code",
      "source": [
        "cat3_df=new_df[['AMT_GOODS_PRICE','AMT_INCOME_TOTAL', 'AMT_CREDIT','AMT_ANNUITY','DAYS_BIRTH']].corr()\n",
        "cat3_df\n"
      ],
      "metadata": {
        "id": "C1G0qy3pfe1i",
        "colab": {
          "base_uri": "https://localhost:8080/",
          "height": 206
        },
        "outputId": "4bbf8979-12d1-4d83-e179-1ff652556723"
      },
      "execution_count": null,
      "outputs": [
        {
          "output_type": "execute_result",
          "data": {
            "text/plain": [
              "                  AMT_GOODS_PRICE  AMT_INCOME_TOTAL  AMT_CREDIT  AMT_ANNUITY  \\\n",
              "AMT_GOODS_PRICE          1.000000          0.159610    0.986968     0.775109   \n",
              "AMT_INCOME_TOTAL         0.159610          1.000000    0.156870     0.191657   \n",
              "AMT_CREDIT               0.986968          0.156870    1.000000     0.770138   \n",
              "AMT_ANNUITY              0.775109          0.191657    0.770138     1.000000   \n",
              "DAYS_BIRTH              -0.053442          0.027261   -0.055436     0.009445   \n",
              "\n",
              "                  DAYS_BIRTH  \n",
              "AMT_GOODS_PRICE    -0.053442  \n",
              "AMT_INCOME_TOTAL    0.027261  \n",
              "AMT_CREDIT         -0.055436  \n",
              "AMT_ANNUITY         0.009445  \n",
              "DAYS_BIRTH          1.000000  "
            ],
            "text/html": [
              "\n",
              "  <div id=\"df-c37e5e05-de45-4e56-8e29-1a9e4150161f\">\n",
              "    <div class=\"colab-df-container\">\n",
              "      <div>\n",
              "<style scoped>\n",
              "    .dataframe tbody tr th:only-of-type {\n",
              "        vertical-align: middle;\n",
              "    }\n",
              "\n",
              "    .dataframe tbody tr th {\n",
              "        vertical-align: top;\n",
              "    }\n",
              "\n",
              "    .dataframe thead th {\n",
              "        text-align: right;\n",
              "    }\n",
              "</style>\n",
              "<table border=\"1\" class=\"dataframe\">\n",
              "  <thead>\n",
              "    <tr style=\"text-align: right;\">\n",
              "      <th></th>\n",
              "      <th>AMT_GOODS_PRICE</th>\n",
              "      <th>AMT_INCOME_TOTAL</th>\n",
              "      <th>AMT_CREDIT</th>\n",
              "      <th>AMT_ANNUITY</th>\n",
              "      <th>DAYS_BIRTH</th>\n",
              "    </tr>\n",
              "  </thead>\n",
              "  <tbody>\n",
              "    <tr>\n",
              "      <th>AMT_GOODS_PRICE</th>\n",
              "      <td>1.000000</td>\n",
              "      <td>0.159610</td>\n",
              "      <td>0.986968</td>\n",
              "      <td>0.775109</td>\n",
              "      <td>-0.053442</td>\n",
              "    </tr>\n",
              "    <tr>\n",
              "      <th>AMT_INCOME_TOTAL</th>\n",
              "      <td>0.159610</td>\n",
              "      <td>1.000000</td>\n",
              "      <td>0.156870</td>\n",
              "      <td>0.191657</td>\n",
              "      <td>0.027261</td>\n",
              "    </tr>\n",
              "    <tr>\n",
              "      <th>AMT_CREDIT</th>\n",
              "      <td>0.986968</td>\n",
              "      <td>0.156870</td>\n",
              "      <td>1.000000</td>\n",
              "      <td>0.770138</td>\n",
              "      <td>-0.055436</td>\n",
              "    </tr>\n",
              "    <tr>\n",
              "      <th>AMT_ANNUITY</th>\n",
              "      <td>0.775109</td>\n",
              "      <td>0.191657</td>\n",
              "      <td>0.770138</td>\n",
              "      <td>1.000000</td>\n",
              "      <td>0.009445</td>\n",
              "    </tr>\n",
              "    <tr>\n",
              "      <th>DAYS_BIRTH</th>\n",
              "      <td>-0.053442</td>\n",
              "      <td>0.027261</td>\n",
              "      <td>-0.055436</td>\n",
              "      <td>0.009445</td>\n",
              "      <td>1.000000</td>\n",
              "    </tr>\n",
              "  </tbody>\n",
              "</table>\n",
              "</div>\n",
              "      <button class=\"colab-df-convert\" onclick=\"convertToInteractive('df-c37e5e05-de45-4e56-8e29-1a9e4150161f')\"\n",
              "              title=\"Convert this dataframe to an interactive table.\"\n",
              "              style=\"display:none;\">\n",
              "        \n",
              "  <svg xmlns=\"http://www.w3.org/2000/svg\" height=\"24px\"viewBox=\"0 0 24 24\"\n",
              "       width=\"24px\">\n",
              "    <path d=\"M0 0h24v24H0V0z\" fill=\"none\"/>\n",
              "    <path d=\"M18.56 5.44l.94 2.06.94-2.06 2.06-.94-2.06-.94-.94-2.06-.94 2.06-2.06.94zm-11 1L8.5 8.5l.94-2.06 2.06-.94-2.06-.94L8.5 2.5l-.94 2.06-2.06.94zm10 10l.94 2.06.94-2.06 2.06-.94-2.06-.94-.94-2.06-.94 2.06-2.06.94z\"/><path d=\"M17.41 7.96l-1.37-1.37c-.4-.4-.92-.59-1.43-.59-.52 0-1.04.2-1.43.59L10.3 9.45l-7.72 7.72c-.78.78-.78 2.05 0 2.83L4 21.41c.39.39.9.59 1.41.59.51 0 1.02-.2 1.41-.59l7.78-7.78 2.81-2.81c.8-.78.8-2.07 0-2.86zM5.41 20L4 18.59l7.72-7.72 1.47 1.35L5.41 20z\"/>\n",
              "  </svg>\n",
              "      </button>\n",
              "      \n",
              "  <style>\n",
              "    .colab-df-container {\n",
              "      display:flex;\n",
              "      flex-wrap:wrap;\n",
              "      gap: 12px;\n",
              "    }\n",
              "\n",
              "    .colab-df-convert {\n",
              "      background-color: #E8F0FE;\n",
              "      border: none;\n",
              "      border-radius: 50%;\n",
              "      cursor: pointer;\n",
              "      display: none;\n",
              "      fill: #1967D2;\n",
              "      height: 32px;\n",
              "      padding: 0 0 0 0;\n",
              "      width: 32px;\n",
              "    }\n",
              "\n",
              "    .colab-df-convert:hover {\n",
              "      background-color: #E2EBFA;\n",
              "      box-shadow: 0px 1px 2px rgba(60, 64, 67, 0.3), 0px 1px 3px 1px rgba(60, 64, 67, 0.15);\n",
              "      fill: #174EA6;\n",
              "    }\n",
              "\n",
              "    [theme=dark] .colab-df-convert {\n",
              "      background-color: #3B4455;\n",
              "      fill: #D2E3FC;\n",
              "    }\n",
              "\n",
              "    [theme=dark] .colab-df-convert:hover {\n",
              "      background-color: #434B5C;\n",
              "      box-shadow: 0px 1px 3px 1px rgba(0, 0, 0, 0.15);\n",
              "      filter: drop-shadow(0px 1px 2px rgba(0, 0, 0, 0.3));\n",
              "      fill: #FFFFFF;\n",
              "    }\n",
              "  </style>\n",
              "\n",
              "      <script>\n",
              "        const buttonEl =\n",
              "          document.querySelector('#df-c37e5e05-de45-4e56-8e29-1a9e4150161f button.colab-df-convert');\n",
              "        buttonEl.style.display =\n",
              "          google.colab.kernel.accessAllowed ? 'block' : 'none';\n",
              "\n",
              "        async function convertToInteractive(key) {\n",
              "          const element = document.querySelector('#df-c37e5e05-de45-4e56-8e29-1a9e4150161f');\n",
              "          const dataTable =\n",
              "            await google.colab.kernel.invokeFunction('convertToInteractive',\n",
              "                                                     [key], {});\n",
              "          if (!dataTable) return;\n",
              "\n",
              "          const docLinkHtml = 'Like what you see? Visit the ' +\n",
              "            '<a target=\"_blank\" href=https://colab.research.google.com/notebooks/data_table.ipynb>data table notebook</a>'\n",
              "            + ' to learn more about interactive tables.';\n",
              "          element.innerHTML = '';\n",
              "          dataTable['output_type'] = 'display_data';\n",
              "          await google.colab.output.renderOutput(dataTable, element);\n",
              "          const docLink = document.createElement('div');\n",
              "          docLink.innerHTML = docLinkHtml;\n",
              "          element.appendChild(docLink);\n",
              "        }\n",
              "      </script>\n",
              "    </div>\n",
              "  </div>\n",
              "  "
            ]
          },
          "metadata": {},
          "execution_count": 29
        }
      ]
    },
    {
      "cell_type": "code",
      "source": [
        "sns.heatmap(data = cat3_df, annot=True)\n"
      ],
      "metadata": {
        "id": "BCijdihp3Q9q",
        "colab": {
          "base_uri": "https://localhost:8080/",
          "height": 379
        },
        "outputId": "c27ceaa0-66ba-4965-f569-a885ad69e345"
      },
      "execution_count": null,
      "outputs": [
        {
          "output_type": "execute_result",
          "data": {
            "text/plain": [
              "<matplotlib.axes._subplots.AxesSubplot at 0x7f4b7bd9bf70>"
            ]
          },
          "metadata": {},
          "execution_count": 48
        },
        {
          "output_type": "display_data",
          "data": {
            "text/plain": [
              "<Figure size 432x288 with 2 Axes>"
            ],
            "image/png": "[encoded data removed]"
          },
          "metadata": {
            "needs_background": "light"
          }
        }
      ]
    },
    {
      "cell_type": "markdown",
      "source": [
        "#Handling Outliers"
      ],
      "metadata": {
        "id": "2E1t5XhmfQIZ"
      }
    },
    {
      "cell_type": "markdown",
      "source": [
        "####AMT_INCOME_TOTAL\n"
      ],
      "metadata": {
        "id": "7j2Rfvh3z8eh"
      }
    },
    {
      "cell_type": "code",
      "source": [
        "#Checking outliers for INCOME\n",
        "new_df.AMT_INCOME_TOTAL.describe()"
      ],
      "metadata": {
        "colab": {
          "base_uri": "https://localhost:8080/"
        },
        "id": "Mfj17ouGfOKf",
        "outputId": "a0135f9b-b47f-4d5b-98f8-8eded4a36967"
      },
      "execution_count": null,
      "outputs": [
        {
          "output_type": "execute_result",
          "data": {
            "text/plain": [
              "count    3.075110e+05\n",
              "mean     1.687979e+05\n",
              "std      2.371231e+05\n",
              "min      2.565000e+04\n",
              "25%      1.125000e+05\n",
              "50%      1.471500e+05\n",
              "75%      2.025000e+05\n",
              "max      1.170000e+08\n",
              "Name: AMT_INCOME_TOTAL, dtype: float64"
            ]
          },
          "metadata": {},
          "execution_count": 52
        }
      ]
    },
    {
      "cell_type": "code",
      "source": [
        "sns.boxplot(new_df.AMT_INCOME_TOTAL)\n",
        "plt.title('Distribution of AMT_INCOME_TOTALE ')\n",
        "plt.show()"
      ],
      "metadata": {
        "colab": {
          "base_uri": "https://localhost:8080/",
          "height": 351
        },
        "id": "njwQEnlBhGbA",
        "outputId": "012b2f51-b95d-4f2b-ccab-54fa6a914f39"
      },
      "execution_count": null,
      "outputs": [
        {
          "output_type": "stream",
          "name": "stderr",
          "text": [
            "/usr/local/lib/python3.8/dist-packages/seaborn/_decorators.py:36: FutureWarning: Pass the following variable as a keyword arg: x. From version 0.12, the only valid positional argument will be `data`, and passing other arguments without an explicit keyword will result in an error or misinterpretation.\n",
            "  warnings.warn(\n"
          ]
        },
        {
          "output_type": "display_data",
          "data": {
            "text/plain": [
              "<Figure size 432x288 with 1 Axes>"
            ],
            "image/png": "[encoded data removed]"
          },
          "metadata": {
            "needs_background": "light"
          }
        }
      ]
    },
    {
      "cell_type": "code",
      "source": [
        "#Filterring data on bases of Laon amount for top 10 Incomes\n",
        "df_income=cat3_df.nlargest(10,columns='AMT_INCOME_TOTAL')\n",
        "df_income.head()"
      ],
      "metadata": {
        "colab": {
          "base_uri": "https://localhost:8080/",
          "height": 206
        },
        "id": "2mQKu2SXn6Fe",
        "outputId": "27a13645-fa7e-431a-9677-73afa19ae682"
      },
      "execution_count": null,
      "outputs": [
        {
          "output_type": "execute_result",
          "data": {
            "text/plain": [
              "                  AMT_GOODS_PRICE  AMT_INCOME_TOTAL  AMT_CREDIT  AMT_ANNUITY  \\\n",
              "AMT_INCOME_TOTAL         0.159610          1.000000    0.156870     0.191657   \n",
              "AMT_ANNUITY              0.775109          0.191657    0.770138     1.000000   \n",
              "AMT_GOODS_PRICE          1.000000          0.159610    0.986968     0.775109   \n",
              "AMT_CREDIT               0.986968          0.156870    1.000000     0.770138   \n",
              "DAYS_BIRTH               0.053442         -0.027261    0.055436    -0.009445   \n",
              "\n",
              "                  DAYS_BIRTH  \n",
              "AMT_INCOME_TOTAL   -0.027261  \n",
              "AMT_ANNUITY        -0.009445  \n",
              "AMT_GOODS_PRICE     0.053442  \n",
              "AMT_CREDIT          0.055436  \n",
              "DAYS_BIRTH          1.000000  "
            ],
            "text/html": [
              "\n",
              "  <div id=\"df-c891d904-e29f-4d3f-ba5b-a4e08e9be75a\">\n",
              "    <div class=\"colab-df-container\">\n",
              "      <div>\n",
              "<style scoped>\n",
              "    .dataframe tbody tr th:only-of-type {\n",
              "        vertical-align: middle;\n",
              "    }\n",
              "\n",
              "    .dataframe tbody tr th {\n",
              "        vertical-align: top;\n",
              "    }\n",
              "\n",
              "    .dataframe thead th {\n",
              "        text-align: right;\n",
              "    }\n",
              "</style>\n",
              "<table border=\"1\" class=\"dataframe\">\n",
              "  <thead>\n",
              "    <tr style=\"text-align: right;\">\n",
              "      <th></th>\n",
              "      <th>AMT_GOODS_PRICE</th>\n",
              "      <th>AMT_INCOME_TOTAL</th>\n",
              "      <th>AMT_CREDIT</th>\n",
              "      <th>AMT_ANNUITY</th>\n",
              "      <th>DAYS_BIRTH</th>\n",
              "    </tr>\n",
              "  </thead>\n",
              "  <tbody>\n",
              "    <tr>\n",
              "      <th>AMT_INCOME_TOTAL</th>\n",
              "      <td>0.159610</td>\n",
              "      <td>1.000000</td>\n",
              "      <td>0.156870</td>\n",
              "      <td>0.191657</td>\n",
              "      <td>-0.027261</td>\n",
              "    </tr>\n",
              "    <tr>\n",
              "      <th>AMT_ANNUITY</th>\n",
              "      <td>0.775109</td>\n",
              "      <td>0.191657</td>\n",
              "      <td>0.770138</td>\n",
              "      <td>1.000000</td>\n",
              "      <td>-0.009445</td>\n",
              "    </tr>\n",
              "    <tr>\n",
              "      <th>AMT_GOODS_PRICE</th>\n",
              "      <td>1.000000</td>\n",
              "      <td>0.159610</td>\n",
              "      <td>0.986968</td>\n",
              "      <td>0.775109</td>\n",
              "      <td>0.053442</td>\n",
              "    </tr>\n",
              "    <tr>\n",
              "      <th>AMT_CREDIT</th>\n",
              "      <td>0.986968</td>\n",
              "      <td>0.156870</td>\n",
              "      <td>1.000000</td>\n",
              "      <td>0.770138</td>\n",
              "      <td>0.055436</td>\n",
              "    </tr>\n",
              "    <tr>\n",
              "      <th>DAYS_BIRTH</th>\n",
              "      <td>0.053442</td>\n",
              "      <td>-0.027261</td>\n",
              "      <td>0.055436</td>\n",
              "      <td>-0.009445</td>\n",
              "      <td>1.000000</td>\n",
              "    </tr>\n",
              "  </tbody>\n",
              "</table>\n",
              "</div>\n",
              "      <button class=\"colab-df-convert\" onclick=\"convertToInteractive('df-c891d904-e29f-4d3f-ba5b-a4e08e9be75a')\"\n",
              "              title=\"Convert this dataframe to an interactive table.\"\n",
              "              style=\"display:none;\">\n",
              "        \n",
              "  <svg xmlns=\"http://www.w3.org/2000/svg\" height=\"24px\"viewBox=\"0 0 24 24\"\n",
              "       width=\"24px\">\n",
              "    <path d=\"M0 0h24v24H0V0z\" fill=\"none\"/>\n",
              "    <path d=\"M18.56 5.44l.94 2.06.94-2.06 2.06-.94-2.06-.94-.94-2.06-.94 2.06-2.06.94zm-11 1L8.5 8.5l.94-2.06 2.06-.94-2.06-.94L8.5 2.5l-.94 2.06-2.06.94zm10 10l.94 2.06.94-2.06 2.06-.94-2.06-.94-.94-2.06-.94 2.06-2.06.94z\"/><path d=\"M17.41 7.96l-1.37-1.37c-.4-.4-.92-.59-1.43-.59-.52 0-1.04.2-1.43.59L10.3 9.45l-7.72 7.72c-.78.78-.78 2.05 0 2.83L4 21.41c.39.39.9.59 1.41.59.51 0 1.02-.2 1.41-.59l7.78-7.78 2.81-2.81c.8-.78.8-2.07 0-2.86zM5.41 20L4 18.59l7.72-7.72 1.47 1.35L5.41 20z\"/>\n",
              "  </svg>\n",
              "      </button>\n",
              "      \n",
              "  <style>\n",
              "    .colab-df-container {\n",
              "      display:flex;\n",
              "      flex-wrap:wrap;\n",
              "      gap: 12px;\n",
              "    }\n",
              "\n",
              "    .colab-df-convert {\n",
              "      background-color: #E8F0FE;\n",
              "      border: none;\n",
              "      border-radius: 50%;\n",
              "      cursor: pointer;\n",
              "      display: none;\n",
              "      fill: #1967D2;\n",
              "      height: 32px;\n",
              "      padding: 0 0 0 0;\n",
              "      width: 32px;\n",
              "    }\n",
              "\n",
              "    .colab-df-convert:hover {\n",
              "      background-color: #E2EBFA;\n",
              "      box-shadow: 0px 1px 2px rgba(60, 64, 67, 0.3), 0px 1px 3px 1px rgba(60, 64, 67, 0.15);\n",
              "      fill: #174EA6;\n",
              "    }\n",
              "\n",
              "    [theme=dark] .colab-df-convert {\n",
              "      background-color: #3B4455;\n",
              "      fill: #D2E3FC;\n",
              "    }\n",
              "\n",
              "    [theme=dark] .colab-df-convert:hover {\n",
              "      background-color: #434B5C;\n",
              "      box-shadow: 0px 1px 3px 1px rgba(0, 0, 0, 0.15);\n",
              "      filter: drop-shadow(0px 1px 2px rgba(0, 0, 0, 0.3));\n",
              "      fill: #FFFFFF;\n",
              "    }\n",
              "  </style>\n",
              "\n",
              "      <script>\n",
              "        const buttonEl =\n",
              "          document.querySelector('#df-c891d904-e29f-4d3f-ba5b-a4e08e9be75a button.colab-df-convert');\n",
              "        buttonEl.style.display =\n",
              "          google.colab.kernel.accessAllowed ? 'block' : 'none';\n",
              "\n",
              "        async function convertToInteractive(key) {\n",
              "          const element = document.querySelector('#df-c891d904-e29f-4d3f-ba5b-a4e08e9be75a');\n",
              "          const dataTable =\n",
              "            await google.colab.kernel.invokeFunction('convertToInteractive',\n",
              "                                                     [key], {});\n",
              "          if (!dataTable) return;\n",
              "\n",
              "          const docLinkHtml = 'Like what you see? Visit the ' +\n",
              "            '<a target=\"_blank\" href=https://colab.research.google.com/notebooks/data_table.ipynb>data table notebook</a>'\n",
              "            + ' to learn more about interactive tables.';\n",
              "          element.innerHTML = '';\n",
              "          dataTable['output_type'] = 'display_data';\n",
              "          await google.colab.output.renderOutput(dataTable, element);\n",
              "          const docLink = document.createElement('div');\n",
              "          docLink.innerHTML = docLinkHtml;\n",
              "          element.appendChild(docLink);\n",
              "        }\n",
              "      </script>\n",
              "    </div>\n",
              "  </div>\n",
              "  "
            ]
          },
          "metadata": {},
          "execution_count": 55
        }
      ]
    },
    {
      "cell_type": "code",
      "source": [
        "#Plotting graph for Income of customers \n",
        "df_income.plot.bar()"
      ],
      "metadata": {
        "colab": {
          "base_uri": "https://localhost:8080/",
          "height": 375
        },
        "id": "_r-sMfpioS9d",
        "outputId": "e04b1eef-bdb9-4e69-ea10-f60b4f687204"
      },
      "execution_count": null,
      "outputs": [
        {
          "output_type": "execute_result",
          "data": {
            "text/plain": [
              "<matplotlib.axes._subplots.AxesSubplot at 0x7f21f0a79160>"
            ]
          },
          "metadata": {},
          "execution_count": 56
        },
        {
          "output_type": "display_data",
          "data": {
            "text/plain": [
              "<Figure size 432x288 with 1 Axes>"
            ],
            "image/png": "[encoded data removed]"
          },
          "metadata": {
            "needs_background": "light"
          }
        }
      ]
    },
    {
      "cell_type": "markdown",
      "source": [
        "#AMT_ANNUITY"
      ],
      "metadata": {
        "id": "YKfTnkXRhXWx"
      }
    },
    {
      "cell_type": "code",
      "source": [
        "#Checking outliers for Loan Amount\n",
        "new_df.AMT_ANNUITY.describe()"
      ],
      "metadata": {
        "colab": {
          "base_uri": "https://localhost:8080/"
        },
        "id": "-g57__M2hWuY",
        "outputId": "6cf8797e-ea84-4937-f1dc-87625d424022"
      },
      "execution_count": null,
      "outputs": [
        {
          "output_type": "execute_result",
          "data": {
            "text/plain": [
              "count    211108.000000\n",
              "mean      27793.198221\n",
              "std       14622.071200\n",
              "min        1980.000000\n",
              "25%       17077.500000\n",
              "50%       25836.750000\n",
              "75%       35586.000000\n",
              "max      258025.500000\n",
              "Name: AMT_ANNUITY, dtype: float64"
            ]
          },
          "metadata": {},
          "execution_count": 184
        }
      ]
    },
    {
      "cell_type": "code",
      "source": [
        "sns.boxplot(new_df.AMT_ANNUITY)\n",
        "plt.title('Distribution of AMT_ANNUITY')\n",
        "plt.show()"
      ],
      "metadata": {
        "colab": {
          "base_uri": "https://localhost:8080/",
          "height": 351
        },
        "id": "3qmMmhweiIB5",
        "outputId": "598429bc-b4f9-4017-d199-da1eab31dbbc"
      },
      "execution_count": null,
      "outputs": [
        {
          "output_type": "stream",
          "name": "stderr",
          "text": [
            "/usr/local/lib/python3.8/dist-packages/seaborn/_decorators.py:36: FutureWarning: Pass the following variable as a keyword arg: x. From version 0.12, the only valid positional argument will be `data`, and passing other arguments without an explicit keyword will result in an error or misinterpretation.\n",
            "  warnings.warn(\n"
          ]
        },
        {
          "output_type": "display_data",
          "data": {
            "text/plain": [
              "<Figure size 432x288 with 1 Axes>"
            ],
            "image/png": "[encoded data removed]"
          },
          "metadata": {
            "needs_background": "light"
          }
        }
      ]
    },
    {
      "cell_type": "code",
      "source": [
        "new_df.AMT_ANNUITY.quantile([0.5, 0.7, 0.9,0.95,0.99])"
      ],
      "metadata": {
        "colab": {
          "base_uri": "https://localhost:8080/"
        },
        "id": "MhAtJYBllwnN",
        "outputId": "bab77189-090b-4155-8925-5dca4c6c188b"
      },
      "execution_count": null,
      "outputs": [
        {
          "output_type": "execute_result",
          "data": {
            "text/plain": [
              "0.50    24903.0\n",
              "0.70    32004.0\n",
              "0.90    45954.0\n",
              "0.95    53325.0\n",
              "0.99    70006.5\n",
              "Name: AMT_ANNUITY, dtype: float64"
            ]
          },
          "metadata": {},
          "execution_count": 46
        }
      ]
    },
    {
      "cell_type": "code",
      "source": [
        "#Filterring data on bases of Laon amount for top 10 loan amounts\n",
        "df_amt=cat3_df.nlargest(10,columns='AMT_ANNUITY')\n",
        "df_amt.head()"
      ],
      "metadata": {
        "colab": {
          "base_uri": "https://localhost:8080/",
          "height": 206
        },
        "id": "TbSSKf1untbY",
        "outputId": "beed6279-074d-484a-a296-075f5ba129c4"
      },
      "execution_count": null,
      "outputs": [
        {
          "output_type": "execute_result",
          "data": {
            "text/plain": [
              "                  AMT_GOODS_PRICE  AMT_INCOME_TOTAL  AMT_CREDIT  AMT_ANNUITY  \\\n",
              "AMT_ANNUITY              0.775109          0.191657    0.770138     1.000000   \n",
              "AMT_GOODS_PRICE          1.000000          0.159610    0.986968     0.775109   \n",
              "AMT_CREDIT               0.986968          0.156870    1.000000     0.770138   \n",
              "AMT_INCOME_TOTAL         0.159610          1.000000    0.156870     0.191657   \n",
              "DAYS_BIRTH               0.053442         -0.027261    0.055436    -0.009445   \n",
              "\n",
              "                  DAYS_BIRTH  \n",
              "AMT_ANNUITY        -0.009445  \n",
              "AMT_GOODS_PRICE     0.053442  \n",
              "AMT_CREDIT          0.055436  \n",
              "AMT_INCOME_TOTAL   -0.027261  \n",
              "DAYS_BIRTH          1.000000  "
            ],
            "text/html": [
              "\n",
              "  <div id=\"df-f2941ec3-0a8e-4df8-a836-a901e95fc561\">\n",
              "    <div class=\"colab-df-container\">\n",
              "      <div>\n",
              "<style scoped>\n",
              "    .dataframe tbody tr th:only-of-type {\n",
              "        vertical-align: middle;\n",
              "    }\n",
              "\n",
              "    .dataframe tbody tr th {\n",
              "        vertical-align: top;\n",
              "    }\n",
              "\n",
              "    .dataframe thead th {\n",
              "        text-align: right;\n",
              "    }\n",
              "</style>\n",
              "<table border=\"1\" class=\"dataframe\">\n",
              "  <thead>\n",
              "    <tr style=\"text-align: right;\">\n",
              "      <th></th>\n",
              "      <th>AMT_GOODS_PRICE</th>\n",
              "      <th>AMT_INCOME_TOTAL</th>\n",
              "      <th>AMT_CREDIT</th>\n",
              "      <th>AMT_ANNUITY</th>\n",
              "      <th>DAYS_BIRTH</th>\n",
              "    </tr>\n",
              "  </thead>\n",
              "  <tbody>\n",
              "    <tr>\n",
              "      <th>AMT_ANNUITY</th>\n",
              "      <td>0.775109</td>\n",
              "      <td>0.191657</td>\n",
              "      <td>0.770138</td>\n",
              "      <td>1.000000</td>\n",
              "      <td>-0.009445</td>\n",
              "    </tr>\n",
              "    <tr>\n",
              "      <th>AMT_GOODS_PRICE</th>\n",
              "      <td>1.000000</td>\n",
              "      <td>0.159610</td>\n",
              "      <td>0.986968</td>\n",
              "      <td>0.775109</td>\n",
              "      <td>0.053442</td>\n",
              "    </tr>\n",
              "    <tr>\n",
              "      <th>AMT_CREDIT</th>\n",
              "      <td>0.986968</td>\n",
              "      <td>0.156870</td>\n",
              "      <td>1.000000</td>\n",
              "      <td>0.770138</td>\n",
              "      <td>0.055436</td>\n",
              "    </tr>\n",
              "    <tr>\n",
              "      <th>AMT_INCOME_TOTAL</th>\n",
              "      <td>0.159610</td>\n",
              "      <td>1.000000</td>\n",
              "      <td>0.156870</td>\n",
              "      <td>0.191657</td>\n",
              "      <td>-0.027261</td>\n",
              "    </tr>\n",
              "    <tr>\n",
              "      <th>DAYS_BIRTH</th>\n",
              "      <td>0.053442</td>\n",
              "      <td>-0.027261</td>\n",
              "      <td>0.055436</td>\n",
              "      <td>-0.009445</td>\n",
              "      <td>1.000000</td>\n",
              "    </tr>\n",
              "  </tbody>\n",
              "</table>\n",
              "</div>\n",
              "      <button class=\"colab-df-convert\" onclick=\"convertToInteractive('df-f2941ec3-0a8e-4df8-a836-a901e95fc561')\"\n",
              "              title=\"Convert this dataframe to an interactive table.\"\n",
              "              style=\"display:none;\">\n",
              "        \n",
              "  <svg xmlns=\"http://www.w3.org/2000/svg\" height=\"24px\"viewBox=\"0 0 24 24\"\n",
              "       width=\"24px\">\n",
              "    <path d=\"M0 0h24v24H0V0z\" fill=\"none\"/>\n",
              "    <path d=\"M18.56 5.44l.94 2.06.94-2.06 2.06-.94-2.06-.94-.94-2.06-.94 2.06-2.06.94zm-11 1L8.5 8.5l.94-2.06 2.06-.94-2.06-.94L8.5 2.5l-.94 2.06-2.06.94zm10 10l.94 2.06.94-2.06 2.06-.94-2.06-.94-.94-2.06-.94 2.06-2.06.94z\"/><path d=\"M17.41 7.96l-1.37-1.37c-.4-.4-.92-.59-1.43-.59-.52 0-1.04.2-1.43.59L10.3 9.45l-7.72 7.72c-.78.78-.78 2.05 0 2.83L4 21.41c.39.39.9.59 1.41.59.51 0 1.02-.2 1.41-.59l7.78-7.78 2.81-2.81c.8-.78.8-2.07 0-2.86zM5.41 20L4 18.59l7.72-7.72 1.47 1.35L5.41 20z\"/>\n",
              "  </svg>\n",
              "      </button>\n",
              "      \n",
              "  <style>\n",
              "    .colab-df-container {\n",
              "      display:flex;\n",
              "      flex-wrap:wrap;\n",
              "      gap: 12px;\n",
              "    }\n",
              "\n",
              "    .colab-df-convert {\n",
              "      background-color: #E8F0FE;\n",
              "      border: none;\n",
              "      border-radius: 50%;\n",
              "      cursor: pointer;\n",
              "      display: none;\n",
              "      fill: #1967D2;\n",
              "      height: 32px;\n",
              "      padding: 0 0 0 0;\n",
              "      width: 32px;\n",
              "    }\n",
              "\n",
              "    .colab-df-convert:hover {\n",
              "      background-color: #E2EBFA;\n",
              "      box-shadow: 0px 1px 2px rgba(60, 64, 67, 0.3), 0px 1px 3px 1px rgba(60, 64, 67, 0.15);\n",
              "      fill: #174EA6;\n",
              "    }\n",
              "\n",
              "    [theme=dark] .colab-df-convert {\n",
              "      background-color: #3B4455;\n",
              "      fill: #D2E3FC;\n",
              "    }\n",
              "\n",
              "    [theme=dark] .colab-df-convert:hover {\n",
              "      background-color: #434B5C;\n",
              "      box-shadow: 0px 1px 3px 1px rgba(0, 0, 0, 0.15);\n",
              "      filter: drop-shadow(0px 1px 2px rgba(0, 0, 0, 0.3));\n",
              "      fill: #FFFFFF;\n",
              "    }\n",
              "  </style>\n",
              "\n",
              "      <script>\n",
              "        const buttonEl =\n",
              "          document.querySelector('#df-f2941ec3-0a8e-4df8-a836-a901e95fc561 button.colab-df-convert');\n",
              "        buttonEl.style.display =\n",
              "          google.colab.kernel.accessAllowed ? 'block' : 'none';\n",
              "\n",
              "        async function convertToInteractive(key) {\n",
              "          const element = document.querySelector('#df-f2941ec3-0a8e-4df8-a836-a901e95fc561');\n",
              "          const dataTable =\n",
              "            await google.colab.kernel.invokeFunction('convertToInteractive',\n",
              "                                                     [key], {});\n",
              "          if (!dataTable) return;\n",
              "\n",
              "          const docLinkHtml = 'Like what you see? Visit the ' +\n",
              "            '<a target=\"_blank\" href=https://colab.research.google.com/notebooks/data_table.ipynb>data table notebook</a>'\n",
              "            + ' to learn more about interactive tables.';\n",
              "          element.innerHTML = '';\n",
              "          dataTable['output_type'] = 'display_data';\n",
              "          await google.colab.output.renderOutput(dataTable, element);\n",
              "          const docLink = document.createElement('div');\n",
              "          docLink.innerHTML = docLinkHtml;\n",
              "          element.appendChild(docLink);\n",
              "        }\n",
              "      </script>\n",
              "    </div>\n",
              "  </div>\n",
              "  "
            ]
          },
          "metadata": {},
          "execution_count": 44
        }
      ]
    },
    {
      "cell_type": "code",
      "source": [
        "#Plotting graph for approved loan amount \n",
        "df_amt.plot.bar()"
      ],
      "metadata": {
        "colab": {
          "base_uri": "https://localhost:8080/",
          "height": 375
        },
        "id": "IdIen7IZnwh5",
        "outputId": "1576543b-11b7-4453-f2d7-e3e375b18b24"
      },
      "execution_count": null,
      "outputs": [
        {
          "output_type": "execute_result",
          "data": {
            "text/plain": [
              "<matplotlib.axes._subplots.AxesSubplot at 0x7f21f0cf3be0>"
            ]
          },
          "metadata": {},
          "execution_count": 45
        },
        {
          "output_type": "display_data",
          "data": {
            "text/plain": [
              "<Figure size 432x288 with 1 Axes>"
            ],
            "image/png": "[encoded data removed]"
          },
          "metadata": {
            "needs_background": "light"
          }
        }
      ]
    },
    {
      "cell_type": "markdown",
      "source": [
        "#DAYS_BIRTH\n"
      ],
      "metadata": {
        "id": "L7HyQUfiidIS"
      }
    },
    {
      "cell_type": "code",
      "source": [
        "#Checking outliers for ANNUITY\n",
        "cat3_df.DAYS_BIRTH.describe()"
      ],
      "metadata": {
        "colab": {
          "base_uri": "https://localhost:8080/"
        },
        "id": "P2jMzag4ieLD",
        "outputId": "58a95abf-0e77-47e4-be4a-2564a51a2af5"
      },
      "execution_count": null,
      "outputs": [
        {
          "output_type": "execute_result",
          "data": {
            "text/plain": [
              "count    5.000000\n",
              "mean     0.185566\n",
              "std      0.456779\n",
              "min     -0.055436\n",
              "25%     -0.053442\n",
              "50%      0.009445\n",
              "75%      0.027261\n",
              "max      1.000000\n",
              "Name: DAYS_BIRTH, dtype: float64"
            ]
          },
          "metadata": {},
          "execution_count": 31
        }
      ]
    },
    {
      "cell_type": "code",
      "source": [
        "sns.boxplot(cat3_df.DAYS_BIRTH)\n",
        "plt.title('Distribution of Age in the form of days')\n",
        "plt.show()"
      ],
      "metadata": {
        "id": "N9fZkqcEmP4Z",
        "colab": {
          "base_uri": "https://localhost:8080/",
          "height": 351
        },
        "outputId": "db018e54-3ac0-4e48-a292-7a994dd88883"
      },
      "execution_count": null,
      "outputs": [
        {
          "output_type": "stream",
          "name": "stderr",
          "text": [
            "/usr/local/lib/python3.8/dist-packages/seaborn/_decorators.py:36: FutureWarning: Pass the following variable as a keyword arg: x. From version 0.12, the only valid positional argument will be `data`, and passing other arguments without an explicit keyword will result in an error or misinterpretation.\n",
            "  warnings.warn(\n"
          ]
        },
        {
          "output_type": "display_data",
          "data": {
            "text/plain": [
              "<Figure size 432x288 with 1 Axes>"
            ],
            "image/png": "[encoded data removed]"
          },
          "metadata": {
            "needs_background": "light"
          }
        }
      ]
    },
    {
      "cell_type": "markdown",
      "source": [
        "#AMT_GOODS_PRICE\n"
      ],
      "metadata": {
        "id": "udrfEq3emh1I"
      }
    },
    {
      "cell_type": "code",
      "source": [
        "#Checking outliers for GOODS_PRICE\n",
        "new_df.AMT_GOODS_PRICE.describe()"
      ],
      "metadata": {
        "colab": {
          "base_uri": "https://localhost:8080/"
        },
        "id": "_XNTEDrEmP72",
        "outputId": "dbc3f1a2-ed42-4693-e481-d75c59e1ba2d"
      },
      "execution_count": null,
      "outputs": [
        {
          "output_type": "execute_result",
          "data": {
            "text/plain": [
              "count    2.108990e+05\n",
              "mean     5.481799e+05\n",
              "std      3.723453e+05\n",
              "min      4.050000e+04\n",
              "25%      2.475000e+05\n",
              "50%      4.500000e+05\n",
              "75%      6.885000e+05\n",
              "max      4.050000e+06\n",
              "Name: AMT_GOODS_PRICE, dtype: float64"
            ]
          },
          "metadata": {},
          "execution_count": 191
        }
      ]
    },
    {
      "cell_type": "code",
      "source": [
        "sns.boxplot(new_df.AMT_GOODS_PRICE)\n",
        "plt.title('Distribution of AMT_GOODS_PRICE')\n",
        "plt.show()"
      ],
      "metadata": {
        "colab": {
          "base_uri": "https://localhost:8080/",
          "height": 351
        },
        "id": "t8C58I2xqE5K",
        "outputId": "61163d46-87fc-4ada-fd32-8d12643ce510"
      },
      "execution_count": null,
      "outputs": [
        {
          "output_type": "stream",
          "name": "stderr",
          "text": [
            "/usr/local/lib/python3.8/dist-packages/seaborn/_decorators.py:36: FutureWarning: Pass the following variable as a keyword arg: x. From version 0.12, the only valid positional argument will be `data`, and passing other arguments without an explicit keyword will result in an error or misinterpretation.\n",
            "  warnings.warn(\n"
          ]
        },
        {
          "output_type": "display_data",
          "data": {
            "text/plain": [
              "<Figure size 432x288 with 1 Axes>"
            ],
            "image/png": "[encoded data removed]"
          },
          "metadata": {
            "needs_background": "light"
          }
        }
      ]
    },
    {
      "cell_type": "code",
      "source": [
        "df.AMT_GOODS_PRICE.quantile([0.5, 0.7, 0.9,0.95,0.99])"
      ],
      "metadata": {
        "colab": {
          "base_uri": "https://localhost:8080/"
        },
        "id": "ZP0JydQhqWGg",
        "outputId": "98603fd7-f97b-4607-91b0-4562daf761bc"
      },
      "execution_count": null,
      "outputs": [
        {
          "output_type": "execute_result",
          "data": {
            "text/plain": [
              "0.50     450000.0\n",
              "0.70     675000.0\n",
              "0.90    1093500.0\n",
              "0.95    1305000.0\n",
              "0.99    1800000.0\n",
              "Name: AMT_GOODS_PRICE, dtype: float64"
            ]
          },
          "metadata": {},
          "execution_count": 60
        }
      ]
    },
    {
      "cell_type": "code",
      "source": [
        "df_gprice=cat3_df.nlargest(10,columns='AMT_GOODS_PRICE')\n",
        "df_gprice.head()"
      ],
      "metadata": {
        "id": "_pNcyXcrzoYC",
        "colab": {
          "base_uri": "https://localhost:8080/",
          "height": 206
        },
        "outputId": "fb9411fc-c34b-4a81-a60c-d70dc223aa9b"
      },
      "execution_count": null,
      "outputs": [
        {
          "output_type": "execute_result",
          "data": {
            "text/plain": [
              "                  AMT_GOODS_PRICE  AMT_INCOME_TOTAL  AMT_CREDIT  AMT_ANNUITY  \\\n",
              "AMT_GOODS_PRICE          1.000000          0.159610    0.986968     0.775109   \n",
              "AMT_CREDIT               0.986968          0.156870    1.000000     0.770138   \n",
              "AMT_ANNUITY              0.775109          0.191657    0.770138     1.000000   \n",
              "AMT_INCOME_TOTAL         0.159610          1.000000    0.156870     0.191657   \n",
              "DAYS_BIRTH              -0.053442          0.027261   -0.055436     0.009445   \n",
              "\n",
              "                  DAYS_BIRTH  \n",
              "AMT_GOODS_PRICE    -0.053442  \n",
              "AMT_CREDIT         -0.055436  \n",
              "AMT_ANNUITY         0.009445  \n",
              "AMT_INCOME_TOTAL    0.027261  \n",
              "DAYS_BIRTH          1.000000  "
            ],
            "text/html": [
              "\n",
              "  <div id=\"df-c3909ddb-c02f-439d-b468-8882340e5034\">\n",
              "    <div class=\"colab-df-container\">\n",
              "      <div>\n",
              "<style scoped>\n",
              "    .dataframe tbody tr th:only-of-type {\n",
              "        vertical-align: middle;\n",
              "    }\n",
              "\n",
              "    .dataframe tbody tr th {\n",
              "        vertical-align: top;\n",
              "    }\n",
              "\n",
              "    .dataframe thead th {\n",
              "        text-align: right;\n",
              "    }\n",
              "</style>\n",
              "<table border=\"1\" class=\"dataframe\">\n",
              "  <thead>\n",
              "    <tr style=\"text-align: right;\">\n",
              "      <th></th>\n",
              "      <th>AMT_GOODS_PRICE</th>\n",
              "      <th>AMT_INCOME_TOTAL</th>\n",
              "      <th>AMT_CREDIT</th>\n",
              "      <th>AMT_ANNUITY</th>\n",
              "      <th>DAYS_BIRTH</th>\n",
              "    </tr>\n",
              "  </thead>\n",
              "  <tbody>\n",
              "    <tr>\n",
              "      <th>AMT_GOODS_PRICE</th>\n",
              "      <td>1.000000</td>\n",
              "      <td>0.159610</td>\n",
              "      <td>0.986968</td>\n",
              "      <td>0.775109</td>\n",
              "      <td>-0.053442</td>\n",
              "    </tr>\n",
              "    <tr>\n",
              "      <th>AMT_CREDIT</th>\n",
              "      <td>0.986968</td>\n",
              "      <td>0.156870</td>\n",
              "      <td>1.000000</td>\n",
              "      <td>0.770138</td>\n",
              "      <td>-0.055436</td>\n",
              "    </tr>\n",
              "    <tr>\n",
              "      <th>AMT_ANNUITY</th>\n",
              "      <td>0.775109</td>\n",
              "      <td>0.191657</td>\n",
              "      <td>0.770138</td>\n",
              "      <td>1.000000</td>\n",
              "      <td>0.009445</td>\n",
              "    </tr>\n",
              "    <tr>\n",
              "      <th>AMT_INCOME_TOTAL</th>\n",
              "      <td>0.159610</td>\n",
              "      <td>1.000000</td>\n",
              "      <td>0.156870</td>\n",
              "      <td>0.191657</td>\n",
              "      <td>0.027261</td>\n",
              "    </tr>\n",
              "    <tr>\n",
              "      <th>DAYS_BIRTH</th>\n",
              "      <td>-0.053442</td>\n",
              "      <td>0.027261</td>\n",
              "      <td>-0.055436</td>\n",
              "      <td>0.009445</td>\n",
              "      <td>1.000000</td>\n",
              "    </tr>\n",
              "  </tbody>\n",
              "</table>\n",
              "</div>\n",
              "      <button class=\"colab-df-convert\" onclick=\"convertToInteractive('df-c3909ddb-c02f-439d-b468-8882340e5034')\"\n",
              "              title=\"Convert this dataframe to an interactive table.\"\n",
              "              style=\"display:none;\">\n",
              "        \n",
              "  <svg xmlns=\"http://www.w3.org/2000/svg\" height=\"24px\"viewBox=\"0 0 24 24\"\n",
              "       width=\"24px\">\n",
              "    <path d=\"M0 0h24v24H0V0z\" fill=\"none\"/>\n",
              "    <path d=\"M18.56 5.44l.94 2.06.94-2.06 2.06-.94-2.06-.94-.94-2.06-.94 2.06-2.06.94zm-11 1L8.5 8.5l.94-2.06 2.06-.94-2.06-.94L8.5 2.5l-.94 2.06-2.06.94zm10 10l.94 2.06.94-2.06 2.06-.94-2.06-.94-.94-2.06-.94 2.06-2.06.94z\"/><path d=\"M17.41 7.96l-1.37-1.37c-.4-.4-.92-.59-1.43-.59-.52 0-1.04.2-1.43.59L10.3 9.45l-7.72 7.72c-.78.78-.78 2.05 0 2.83L4 21.41c.39.39.9.59 1.41.59.51 0 1.02-.2 1.41-.59l7.78-7.78 2.81-2.81c.8-.78.8-2.07 0-2.86zM5.41 20L4 18.59l7.72-7.72 1.47 1.35L5.41 20z\"/>\n",
              "  </svg>\n",
              "      </button>\n",
              "      \n",
              "  <style>\n",
              "    .colab-df-container {\n",
              "      display:flex;\n",
              "      flex-wrap:wrap;\n",
              "      gap: 12px;\n",
              "    }\n",
              "\n",
              "    .colab-df-convert {\n",
              "      background-color: #E8F0FE;\n",
              "      border: none;\n",
              "      border-radius: 50%;\n",
              "      cursor: pointer;\n",
              "      display: none;\n",
              "      fill: #1967D2;\n",
              "      height: 32px;\n",
              "      padding: 0 0 0 0;\n",
              "      width: 32px;\n",
              "    }\n",
              "\n",
              "    .colab-df-convert:hover {\n",
              "      background-color: #E2EBFA;\n",
              "      box-shadow: 0px 1px 2px rgba(60, 64, 67, 0.3), 0px 1px 3px 1px rgba(60, 64, 67, 0.15);\n",
              "      fill: #174EA6;\n",
              "    }\n",
              "\n",
              "    [theme=dark] .colab-df-convert {\n",
              "      background-color: #3B4455;\n",
              "      fill: #D2E3FC;\n",
              "    }\n",
              "\n",
              "    [theme=dark] .colab-df-convert:hover {\n",
              "      background-color: #434B5C;\n",
              "      box-shadow: 0px 1px 3px 1px rgba(0, 0, 0, 0.15);\n",
              "      filter: drop-shadow(0px 1px 2px rgba(0, 0, 0, 0.3));\n",
              "      fill: #FFFFFF;\n",
              "    }\n",
              "  </style>\n",
              "\n",
              "      <script>\n",
              "        const buttonEl =\n",
              "          document.querySelector('#df-c3909ddb-c02f-439d-b468-8882340e5034 button.colab-df-convert');\n",
              "        buttonEl.style.display =\n",
              "          google.colab.kernel.accessAllowed ? 'block' : 'none';\n",
              "\n",
              "        async function convertToInteractive(key) {\n",
              "          const element = document.querySelector('#df-c3909ddb-c02f-439d-b468-8882340e5034');\n",
              "          const dataTable =\n",
              "            await google.colab.kernel.invokeFunction('convertToInteractive',\n",
              "                                                     [key], {});\n",
              "          if (!dataTable) return;\n",
              "\n",
              "          const docLinkHtml = 'Like what you see? Visit the ' +\n",
              "            '<a target=\"_blank\" href=https://colab.research.google.com/notebooks/data_table.ipynb>data table notebook</a>'\n",
              "            + ' to learn more about interactive tables.';\n",
              "          element.innerHTML = '';\n",
              "          dataTable['output_type'] = 'display_data';\n",
              "          await google.colab.output.renderOutput(dataTable, element);\n",
              "          const docLink = document.createElement('div');\n",
              "          docLink.innerHTML = docLinkHtml;\n",
              "          element.appendChild(docLink);\n",
              "        }\n",
              "      </script>\n",
              "    </div>\n",
              "  </div>\n",
              "  "
            ]
          },
          "metadata": {},
          "execution_count": 33
        }
      ]
    },
    {
      "cell_type": "code",
      "source": [
        "#Plotting graph for 10  largest AMT_GOODS_PRICE\n",
        "df_gprice.plot.bar()"
      ],
      "metadata": {
        "colab": {
          "base_uri": "https://localhost:8080/",
          "height": 375
        },
        "id": "Z-38GP-rpTrW",
        "outputId": "007d361f-7533-461e-abd5-2b5f4b96b986"
      },
      "execution_count": null,
      "outputs": [
        {
          "output_type": "execute_result",
          "data": {
            "text/plain": [
              "<matplotlib.axes._subplots.AxesSubplot at 0x7f4b76b27c10>"
            ]
          },
          "metadata": {},
          "execution_count": 34
        },
        {
          "output_type": "display_data",
          "data": {
            "text/plain": [
              "<Figure size 432x288 with 1 Axes>"
            ],
            "image/png": "[encoded data removed]"
          },
          "metadata": {
            "needs_background": "light"
          }
        }
      ]
    },
    {
      "cell_type": "markdown",
      "source": [
        "#Find the correlation for the Client with payment difficulties and all other cases (Target variable).\n"
      ],
      "metadata": {
        "id": "msuiqSmNyOgQ"
      }
    },
    {
      "cell_type": "code",
      "source": [
        "new_df.TARGET.unique()"
      ],
      "metadata": {
        "colab": {
          "base_uri": "https://localhost:8080/"
        },
        "id": "l1m3MgAUyy81",
        "outputId": "ec396fcc-cbcf-495c-d930-38c6bd399b8c"
      },
      "execution_count": null,
      "outputs": [
        {
          "output_type": "execute_result",
          "data": {
            "text/plain": [
              "array([1, 0])"
            ]
          },
          "metadata": {},
          "execution_count": 27
        }
      ]
    },
    {
      "cell_type": "code",
      "source": [
        "r=new_df.TARGET.value_counts()\n",
        "r"
      ],
      "metadata": {
        "colab": {
          "base_uri": "https://localhost:8080/"
        },
        "id": "jHc4OwoQ1_hf",
        "outputId": "3480a640-9aef-4ae2-e348-3e656fd7206f"
      },
      "execution_count": null,
      "outputs": [
        {
          "output_type": "execute_result",
          "data": {
            "text/plain": [
              "0    282686\n",
              "1     24825\n",
              "Name: TARGET, dtype: int64"
            ]
          },
          "metadata": {},
          "execution_count": 31
        }
      ]
    },
    {
      "cell_type": "code",
      "source": [
        "plt.barh(r.index, r)"
      ],
      "metadata": {
        "colab": {
          "base_uri": "https://localhost:8080/",
          "height": 282
        },
        "id": "IVTg8SPv2V4n",
        "outputId": "7928bb1d-012a-4dfd-e9ee-d464c6dd3d31"
      },
      "execution_count": null,
      "outputs": [
        {
          "output_type": "execute_result",
          "data": {
            "text/plain": [
              "<BarContainer object of 2 artists>"
            ]
          },
          "metadata": {},
          "execution_count": 32
        },
        {
          "output_type": "display_data",
          "data": {
            "text/plain": [
              "<Figure size 432x288 with 1 Axes>"
            ],
            "image/png": "[encoded data removed]"
          },
          "metadata": {
            "needs_background": "light"
          }
        }
      ]
    },
    {
      "cell_type": "code",
      "source": [
        "plt.pie(x=r, labels=r.index, autopct='%1.2f%%')\n",
        "plt.legend()\n",
        "plt.show()"
      ],
      "metadata": {
        "colab": {
          "base_uri": "https://localhost:8080/",
          "height": 248
        },
        "id": "7G7Yqdua2crO",
        "outputId": "4c443ebc-bfdd-462b-d37b-7a044e96360d"
      },
      "execution_count": null,
      "outputs": [
        {
          "output_type": "display_data",
          "data": {
            "text/plain": [
              "<Figure size 432x288 with 1 Axes>"
            ],
            "image/png": "[encoded data removed]"
          },
          "metadata": {}
        }
      ]
    },
    {
      "cell_type": "markdown",
      "source": [
        "##Conclustion:: 8.07% of people have payment difficulty"
      ],
      "metadata": {
        "id": "GlwRSCE22kUn"
      }
    },
    {
      "cell_type": "markdown",
      "source": [
        "###Analyse Categorical variables with respect to Target variable"
      ],
      "metadata": {
        "id": "nWQOeeomtTVX"
      }
    },
    {
      "cell_type": "code",
      "source": [
        "features = ['CODE_GENDER', 'NAME_INCOME_TYPE', 'NAME_EDUCATION_TYPE','NAME_FAMILY_STATUS','NAME_HOUSING_TYPE','OCCUPATION_TYPE','ORGANIZATION_TYPE']\n",
        "plt.figure(figsize = (20, 40))\n",
        "\n",
        "plt.subplots_adjust(hspace=0.8)\n",
        "for i in enumerate(features):\n",
        "    plt.subplot(5, 2, i[0]+1)\n",
        "    sns.countplot(x = i[1], hue = 'TARGET', data = new_df)\n",
        "    plt.xticks(rotation = 45)"
      ],
      "metadata": {
        "colab": {
          "base_uri": "https://localhost:8080/",
          "height": 1000
        },
        "id": "cmLEqiIhtmCn",
        "outputId": "af2d71ed-677c-4656-b163-7bb969b44631"
      },
      "execution_count": null,
      "outputs": [
        {
          "output_type": "display_data",
          "data": {
            "text/plain": [
              "<Figure size 1440x2880 with 7 Axes>"
            ],
            "image/png": "[encoded data removed]"
          },
          "metadata": {
            "needs_background": "light"
          }
        }
      ]
    },
    {
      "cell_type": "markdown",
      "source": [
        "Plots above says that:\n",
        "\n",
        "1. Gender: Female customers pay loan amount on time compared to Male customers.\n",
        "\n",
        "2. Income Type: Working customers are more likely to replay the loan.\n",
        "\n",
        "3. Education: Customers with secondary education are most likely to pay the loan.\n",
        "\n",
        "4. Family Status: Married people pay loan compared to others.\n",
        "\n",
        "5. Housing Type: Customers owning House/apartment are most likely to make payments on time .\n",
        "\n",
        "6. Occupation Tye: Labourers have high repayement percentage.\n",
        "\n",
        "\n",
        "Bank can take these people as target customer to offer Loan"
      ],
      "metadata": {
        "id": "vFgquFH1uMzv"
      }
    },
    {
      "cell_type": "markdown",
      "source": [
        "# Binary Logistic Regression(taking into account Target as response variable)\n"
      ],
      "metadata": {
        "id": "69vFiusU28KX"
      }
    },
    {
      "cell_type": "markdown",
      "source": [
        "General Regression::\n",
        "at least 1 catagorical predictor(we create dummy var) and respoce is continues(we have target variable as catogorical data)"
      ],
      "metadata": {
        "id": "Ru9UcJCV5UHj"
      }
    },
    {
      "cell_type": "code",
      "source": [
        "import numpy as np\n",
        "import pandas as pd\n",
        "import statsmodels.api as sm\n",
        "import sklearn\n",
        "from sklearn.model_selection import train_test_split"
      ],
      "metadata": {
        "id": "AdYU8eSR5a7H"
      },
      "execution_count": null,
      "outputs": []
    },
    {
      "cell_type": "code",
      "source": [
        "mydf=new_df[['SK_ID_CURR','TARGET','AMT_INCOME_TOTAL','AMT_CREDIT','AMT_ANNUITY','AMT_GOODS_PRICE']]"
      ],
      "metadata": {
        "id": "gNB0tSzO5hCu"
      },
      "execution_count": null,
      "outputs": []
    },
    {
      "cell_type": "markdown",
      "source": [
        "#checking for Target var vs Income"
      ],
      "metadata": {
        "id": "EtK9WRb88pKf"
      }
    },
    {
      "cell_type": "code",
      "source": [
        "#Income of client vs Target\n",
        "x = mydf[['AMT_INCOME_TOTAL']]\n",
        "y=mydf[['TARGET']]"
      ],
      "metadata": {
        "id": "GMD0zMCe76bP"
      },
      "execution_count": null,
      "outputs": []
    },
    {
      "cell_type": "code",
      "source": [
        "x=sm.add_constant(x)"
      ],
      "metadata": {
        "colab": {
          "base_uri": "https://localhost:8080/"
        },
        "id": "fRj37BVX6rco",
        "outputId": "30829ab6-abf6-4ca4-a74a-a4c74eb74ad8"
      },
      "execution_count": null,
      "outputs": [
        {
          "output_type": "stream",
          "name": "stderr",
          "text": [
            "/usr/local/lib/python3.8/dist-packages/statsmodels/tsa/tsatools.py:142: FutureWarning: In a future version of pandas all arguments of concat except for the argument 'objs' will be keyword-only\n",
            "  x = pd.concat(x[::order], 1)\n"
          ]
        }
      ]
    },
    {
      "cell_type": "code",
      "source": [
        "x"
      ],
      "metadata": {
        "colab": {
          "base_uri": "https://localhost:8080/",
          "height": 424
        },
        "id": "KDYcNkbH7KdH",
        "outputId": "becc6af0-c017-4549-dbb8-7c7c7233b0ad"
      },
      "execution_count": null,
      "outputs": [
        {
          "output_type": "execute_result",
          "data": {
            "text/plain": [
              "        const  AMT_INCOME_TOTAL\n",
              "0         1.0          202500.0\n",
              "1         1.0          270000.0\n",
              "2         1.0           67500.0\n",
              "3         1.0          135000.0\n",
              "4         1.0          121500.0\n",
              "...       ...               ...\n",
              "211115    1.0          153000.0\n",
              "211116    1.0          157500.0\n",
              "211117    1.0          153000.0\n",
              "211118    1.0          171000.0\n",
              "211119    1.0          157500.0\n",
              "\n",
              "[211120 rows x 2 columns]"
            ],
            "text/html": [
              "\n",
              "  <div id=\"df-e3bd8529-15f0-4932-829d-2f96ec210948\">\n",
              "    <div class=\"colab-df-container\">\n",
              "      <div>\n",
              "<style scoped>\n",
              "    .dataframe tbody tr th:only-of-type {\n",
              "        vertical-align: middle;\n",
              "    }\n",
              "\n",
              "    .dataframe tbody tr th {\n",
              "        vertical-align: top;\n",
              "    }\n",
              "\n",
              "    .dataframe thead th {\n",
              "        text-align: right;\n",
              "    }\n",
              "</style>\n",
              "<table border=\"1\" class=\"dataframe\">\n",
              "  <thead>\n",
              "    <tr style=\"text-align: right;\">\n",
              "      <th></th>\n",
              "      <th>const</th>\n",
              "      <th>AMT_INCOME_TOTAL</th>\n",
              "    </tr>\n",
              "  </thead>\n",
              "  <tbody>\n",
              "    <tr>\n",
              "      <th>0</th>\n",
              "      <td>1.0</td>\n",
              "      <td>202500.0</td>\n",
              "    </tr>\n",
              "    <tr>\n",
              "      <th>1</th>\n",
              "      <td>1.0</td>\n",
              "      <td>270000.0</td>\n",
              "    </tr>\n",
              "    <tr>\n",
              "      <th>2</th>\n",
              "      <td>1.0</td>\n",
              "      <td>67500.0</td>\n",
              "    </tr>\n",
              "    <tr>\n",
              "      <th>3</th>\n",
              "      <td>1.0</td>\n",
              "      <td>135000.0</td>\n",
              "    </tr>\n",
              "    <tr>\n",
              "      <th>4</th>\n",
              "      <td>1.0</td>\n",
              "      <td>121500.0</td>\n",
              "    </tr>\n",
              "    <tr>\n",
              "      <th>...</th>\n",
              "      <td>...</td>\n",
              "      <td>...</td>\n",
              "    </tr>\n",
              "    <tr>\n",
              "      <th>211115</th>\n",
              "      <td>1.0</td>\n",
              "      <td>153000.0</td>\n",
              "    </tr>\n",
              "    <tr>\n",
              "      <th>211116</th>\n",
              "      <td>1.0</td>\n",
              "      <td>157500.0</td>\n",
              "    </tr>\n",
              "    <tr>\n",
              "      <th>211117</th>\n",
              "      <td>1.0</td>\n",
              "      <td>153000.0</td>\n",
              "    </tr>\n",
              "    <tr>\n",
              "      <th>211118</th>\n",
              "      <td>1.0</td>\n",
              "      <td>171000.0</td>\n",
              "    </tr>\n",
              "    <tr>\n",
              "      <th>211119</th>\n",
              "      <td>1.0</td>\n",
              "      <td>157500.0</td>\n",
              "    </tr>\n",
              "  </tbody>\n",
              "</table>\n",
              "<p>211120 rows × 2 columns</p>\n",
              "</div>\n",
              "      <button class=\"colab-df-convert\" onclick=\"convertToInteractive('df-e3bd8529-15f0-4932-829d-2f96ec210948')\"\n",
              "              title=\"Convert this dataframe to an interactive table.\"\n",
              "              style=\"display:none;\">\n",
              "        \n",
              "  <svg xmlns=\"http://www.w3.org/2000/svg\" height=\"24px\"viewBox=\"0 0 24 24\"\n",
              "       width=\"24px\">\n",
              "    <path d=\"M0 0h24v24H0V0z\" fill=\"none\"/>\n",
              "    <path d=\"M18.56 5.44l.94 2.06.94-2.06 2.06-.94-2.06-.94-.94-2.06-.94 2.06-2.06.94zm-11 1L8.5 8.5l.94-2.06 2.06-.94-2.06-.94L8.5 2.5l-.94 2.06-2.06.94zm10 10l.94 2.06.94-2.06 2.06-.94-2.06-.94-.94-2.06-.94 2.06-2.06.94z\"/><path d=\"M17.41 7.96l-1.37-1.37c-.4-.4-.92-.59-1.43-.59-.52 0-1.04.2-1.43.59L10.3 9.45l-7.72 7.72c-.78.78-.78 2.05 0 2.83L4 21.41c.39.39.9.59 1.41.59.51 0 1.02-.2 1.41-.59l7.78-7.78 2.81-2.81c.8-.78.8-2.07 0-2.86zM5.41 20L4 18.59l7.72-7.72 1.47 1.35L5.41 20z\"/>\n",
              "  </svg>\n",
              "      </button>\n",
              "      \n",
              "  <style>\n",
              "    .colab-df-container {\n",
              "      display:flex;\n",
              "      flex-wrap:wrap;\n",
              "      gap: 12px;\n",
              "    }\n",
              "\n",
              "    .colab-df-convert {\n",
              "      background-color: #E8F0FE;\n",
              "      border: none;\n",
              "      border-radius: 50%;\n",
              "      cursor: pointer;\n",
              "      display: none;\n",
              "      fill: #1967D2;\n",
              "      height: 32px;\n",
              "      padding: 0 0 0 0;\n",
              "      width: 32px;\n",
              "    }\n",
              "\n",
              "    .colab-df-convert:hover {\n",
              "      background-color: #E2EBFA;\n",
              "      box-shadow: 0px 1px 2px rgba(60, 64, 67, 0.3), 0px 1px 3px 1px rgba(60, 64, 67, 0.15);\n",
              "      fill: #174EA6;\n",
              "    }\n",
              "\n",
              "    [theme=dark] .colab-df-convert {\n",
              "      background-color: #3B4455;\n",
              "      fill: #D2E3FC;\n",
              "    }\n",
              "\n",
              "    [theme=dark] .colab-df-convert:hover {\n",
              "      background-color: #434B5C;\n",
              "      box-shadow: 0px 1px 3px 1px rgba(0, 0, 0, 0.15);\n",
              "      filter: drop-shadow(0px 1px 2px rgba(0, 0, 0, 0.3));\n",
              "      fill: #FFFFFF;\n",
              "    }\n",
              "  </style>\n",
              "\n",
              "      <script>\n",
              "        const buttonEl =\n",
              "          document.querySelector('#df-e3bd8529-15f0-4932-829d-2f96ec210948 button.colab-df-convert');\n",
              "        buttonEl.style.display =\n",
              "          google.colab.kernel.accessAllowed ? 'block' : 'none';\n",
              "\n",
              "        async function convertToInteractive(key) {\n",
              "          const element = document.querySelector('#df-e3bd8529-15f0-4932-829d-2f96ec210948');\n",
              "          const dataTable =\n",
              "            await google.colab.kernel.invokeFunction('convertToInteractive',\n",
              "                                                     [key], {});\n",
              "          if (!dataTable) return;\n",
              "\n",
              "          const docLinkHtml = 'Like what you see? Visit the ' +\n",
              "            '<a target=\"_blank\" href=https://colab.research.google.com/notebooks/data_table.ipynb>data table notebook</a>'\n",
              "            + ' to learn more about interactive tables.';\n",
              "          element.innerHTML = '';\n",
              "          dataTable['output_type'] = 'display_data';\n",
              "          await google.colab.output.renderOutput(dataTable, element);\n",
              "          const docLink = document.createElement('div');\n",
              "          docLink.innerHTML = docLinkHtml;\n",
              "          element.appendChild(docLink);\n",
              "        }\n",
              "      </script>\n",
              "    </div>\n",
              "  </div>\n",
              "  "
            ]
          },
          "metadata": {},
          "execution_count": 198
        }
      ]
    },
    {
      "cell_type": "code",
      "source": [
        "mod = sm.Logit(y,x).fit()"
      ],
      "metadata": {
        "colab": {
          "base_uri": "https://localhost:8080/"
        },
        "id": "ccXS8vXt8LMm",
        "outputId": "5aa4beb4-88d3-4b62-8104-8dc21b644c05"
      },
      "execution_count": null,
      "outputs": [
        {
          "output_type": "stream",
          "name": "stdout",
          "text": [
            "Optimization terminated successfully.\n",
            "         Current function value: 0.297451\n",
            "         Iterations 7\n"
          ]
        }
      ]
    },
    {
      "cell_type": "code",
      "source": [
        "print(mod.summary())   "
      ],
      "metadata": {
        "colab": {
          "base_uri": "https://localhost:8080/"
        },
        "id": "fJR0M86D7XLm",
        "outputId": "b1493334-5ae4-4f76-c37f-6b79037ba5c9"
      },
      "execution_count": null,
      "outputs": [
        {
          "output_type": "stream",
          "name": "stdout",
          "text": [
            "                           Logit Regression Results                           \n",
            "==============================================================================\n",
            "Dep. Variable:                 TARGET   No. Observations:               211120\n",
            "Model:                          Logit   Df Residuals:                   211118\n",
            "Method:                           MLE   Df Model:                            1\n",
            "Date:                Mon, 02 Jan 2023   Pseudo R-squ.:               0.0002871\n",
            "Time:                        14:54:40   Log-Likelihood:                -62798.\n",
            "converged:                       True   LL-Null:                       -62816.\n",
            "Covariance Type:            nonrobust   LLR p-value:                 1.908e-09\n",
            "====================================================================================\n",
            "                       coef    std err          z      P>|z|      [0.025      0.975]\n",
            "------------------------------------------------------------------------------------\n",
            "const               -2.2572      0.016   -140.134      0.000      -2.289      -2.226\n",
            "AMT_INCOME_TOTAL -4.791e-07   8.26e-08     -5.800      0.000   -6.41e-07   -3.17e-07\n",
            "====================================================================================\n"
          ]
        }
      ]
    },
    {
      "cell_type": "markdown",
      "source": [
        "#p=value is <0.05 so Ho is rejected and it means that Income affect the person will default or not on loan repayment"
      ],
      "metadata": {
        "id": "VQf_89MzIts2"
      }
    },
    {
      "cell_type": "markdown",
      "source": [
        "#checking for Target var vs Loan_AMT"
      ],
      "metadata": {
        "id": "VANHQaLI8uou"
      }
    },
    {
      "cell_type": "code",
      "source": [
        "x = mydf[['AMT_CREDIT']]\n",
        "y=mydf[['TARGET']]\n"
      ],
      "metadata": {
        "id": "a9ENXLyY8vXP"
      },
      "execution_count": null,
      "outputs": []
    },
    {
      "cell_type": "code",
      "source": [
        "x=sm.add_constant(x)"
      ],
      "metadata": {
        "colab": {
          "base_uri": "https://localhost:8080/"
        },
        "id": "OG7-0xXw9G1g",
        "outputId": "81247e47-8981-4dc9-ac80-7d9b983284e9"
      },
      "execution_count": null,
      "outputs": [
        {
          "output_type": "stream",
          "name": "stderr",
          "text": [
            "/usr/local/lib/python3.8/dist-packages/statsmodels/tsa/tsatools.py:142: FutureWarning: In a future version of pandas all arguments of concat except for the argument 'objs' will be keyword-only\n",
            "  x = pd.concat(x[::order], 1)\n"
          ]
        }
      ]
    },
    {
      "cell_type": "code",
      "source": [
        "x"
      ],
      "metadata": {
        "colab": {
          "base_uri": "https://localhost:8080/",
          "height": 424
        },
        "id": "K_xqZiaJ9I0f",
        "outputId": "47796e9a-5a92-4af4-b7d0-3c42f463cbda"
      },
      "execution_count": null,
      "outputs": [
        {
          "output_type": "execute_result",
          "data": {
            "text/plain": [
              "        const  AMT_CREDIT\n",
              "0         1.0    406597.5\n",
              "1         1.0   1293502.5\n",
              "2         1.0    135000.0\n",
              "3         1.0    312682.5\n",
              "4         1.0    513000.0\n",
              "...       ...         ...\n",
              "211115    1.0    331920.0\n",
              "211116    1.0    254700.0\n",
              "211117    1.0    677664.0\n",
              "211118    1.0    370107.0\n",
              "211119    1.0    675000.0\n",
              "\n",
              "[211120 rows x 2 columns]"
            ],
            "text/html": [
              "\n",
              "  <div id=\"df-a1942e32-dfb4-47ff-99e0-9b6f7ac2fdf8\">\n",
              "    <div class=\"colab-df-container\">\n",
              "      <div>\n",
              "<style scoped>\n",
              "    .dataframe tbody tr th:only-of-type {\n",
              "        vertical-align: middle;\n",
              "    }\n",
              "\n",
              "    .dataframe tbody tr th {\n",
              "        vertical-align: top;\n",
              "    }\n",
              "\n",
              "    .dataframe thead th {\n",
              "        text-align: right;\n",
              "    }\n",
              "</style>\n",
              "<table border=\"1\" class=\"dataframe\">\n",
              "  <thead>\n",
              "    <tr style=\"text-align: right;\">\n",
              "      <th></th>\n",
              "      <th>const</th>\n",
              "      <th>AMT_CREDIT</th>\n",
              "    </tr>\n",
              "  </thead>\n",
              "  <tbody>\n",
              "    <tr>\n",
              "      <th>0</th>\n",
              "      <td>1.0</td>\n",
              "      <td>406597.5</td>\n",
              "    </tr>\n",
              "    <tr>\n",
              "      <th>1</th>\n",
              "      <td>1.0</td>\n",
              "      <td>1293502.5</td>\n",
              "    </tr>\n",
              "    <tr>\n",
              "      <th>2</th>\n",
              "      <td>1.0</td>\n",
              "      <td>135000.0</td>\n",
              "    </tr>\n",
              "    <tr>\n",
              "      <th>3</th>\n",
              "      <td>1.0</td>\n",
              "      <td>312682.5</td>\n",
              "    </tr>\n",
              "    <tr>\n",
              "      <th>4</th>\n",
              "      <td>1.0</td>\n",
              "      <td>513000.0</td>\n",
              "    </tr>\n",
              "    <tr>\n",
              "      <th>...</th>\n",
              "      <td>...</td>\n",
              "      <td>...</td>\n",
              "    </tr>\n",
              "    <tr>\n",
              "      <th>211115</th>\n",
              "      <td>1.0</td>\n",
              "      <td>331920.0</td>\n",
              "    </tr>\n",
              "    <tr>\n",
              "      <th>211116</th>\n",
              "      <td>1.0</td>\n",
              "      <td>254700.0</td>\n",
              "    </tr>\n",
              "    <tr>\n",
              "      <th>211117</th>\n",
              "      <td>1.0</td>\n",
              "      <td>677664.0</td>\n",
              "    </tr>\n",
              "    <tr>\n",
              "      <th>211118</th>\n",
              "      <td>1.0</td>\n",
              "      <td>370107.0</td>\n",
              "    </tr>\n",
              "    <tr>\n",
              "      <th>211119</th>\n",
              "      <td>1.0</td>\n",
              "      <td>675000.0</td>\n",
              "    </tr>\n",
              "  </tbody>\n",
              "</table>\n",
              "<p>211120 rows × 2 columns</p>\n",
              "</div>\n",
              "      <button class=\"colab-df-convert\" onclick=\"convertToInteractive('df-a1942e32-dfb4-47ff-99e0-9b6f7ac2fdf8')\"\n",
              "              title=\"Convert this dataframe to an interactive table.\"\n",
              "              style=\"display:none;\">\n",
              "        \n",
              "  <svg xmlns=\"http://www.w3.org/2000/svg\" height=\"24px\"viewBox=\"0 0 24 24\"\n",
              "       width=\"24px\">\n",
              "    <path d=\"M0 0h24v24H0V0z\" fill=\"none\"/>\n",
              "    <path d=\"M18.56 5.44l.94 2.06.94-2.06 2.06-.94-2.06-.94-.94-2.06-.94 2.06-2.06.94zm-11 1L8.5 8.5l.94-2.06 2.06-.94-2.06-.94L8.5 2.5l-.94 2.06-2.06.94zm10 10l.94 2.06.94-2.06 2.06-.94-2.06-.94-.94-2.06-.94 2.06-2.06.94z\"/><path d=\"M17.41 7.96l-1.37-1.37c-.4-.4-.92-.59-1.43-.59-.52 0-1.04.2-1.43.59L10.3 9.45l-7.72 7.72c-.78.78-.78 2.05 0 2.83L4 21.41c.39.39.9.59 1.41.59.51 0 1.02-.2 1.41-.59l7.78-7.78 2.81-2.81c.8-.78.8-2.07 0-2.86zM5.41 20L4 18.59l7.72-7.72 1.47 1.35L5.41 20z\"/>\n",
              "  </svg>\n",
              "      </button>\n",
              "      \n",
              "  <style>\n",
              "    .colab-df-container {\n",
              "      display:flex;\n",
              "      flex-wrap:wrap;\n",
              "      gap: 12px;\n",
              "    }\n",
              "\n",
              "    .colab-df-convert {\n",
              "      background-color: #E8F0FE;\n",
              "      border: none;\n",
              "      border-radius: 50%;\n",
              "      cursor: pointer;\n",
              "      display: none;\n",
              "      fill: #1967D2;\n",
              "      height: 32px;\n",
              "      padding: 0 0 0 0;\n",
              "      width: 32px;\n",
              "    }\n",
              "\n",
              "    .colab-df-convert:hover {\n",
              "      background-color: #E2EBFA;\n",
              "      box-shadow: 0px 1px 2px rgba(60, 64, 67, 0.3), 0px 1px 3px 1px rgba(60, 64, 67, 0.15);\n",
              "      fill: #174EA6;\n",
              "    }\n",
              "\n",
              "    [theme=dark] .colab-df-convert {\n",
              "      background-color: #3B4455;\n",
              "      fill: #D2E3FC;\n",
              "    }\n",
              "\n",
              "    [theme=dark] .colab-df-convert:hover {\n",
              "      background-color: #434B5C;\n",
              "      box-shadow: 0px 1px 3px 1px rgba(0, 0, 0, 0.15);\n",
              "      filter: drop-shadow(0px 1px 2px rgba(0, 0, 0, 0.3));\n",
              "      fill: #FFFFFF;\n",
              "    }\n",
              "  </style>\n",
              "\n",
              "      <script>\n",
              "        const buttonEl =\n",
              "          document.querySelector('#df-a1942e32-dfb4-47ff-99e0-9b6f7ac2fdf8 button.colab-df-convert');\n",
              "        buttonEl.style.display =\n",
              "          google.colab.kernel.accessAllowed ? 'block' : 'none';\n",
              "\n",
              "        async function convertToInteractive(key) {\n",
              "          const element = document.querySelector('#df-a1942e32-dfb4-47ff-99e0-9b6f7ac2fdf8');\n",
              "          const dataTable =\n",
              "            await google.colab.kernel.invokeFunction('convertToInteractive',\n",
              "                                                     [key], {});\n",
              "          if (!dataTable) return;\n",
              "\n",
              "          const docLinkHtml = 'Like what you see? Visit the ' +\n",
              "            '<a target=\"_blank\" href=https://colab.research.google.com/notebooks/data_table.ipynb>data table notebook</a>'\n",
              "            + ' to learn more about interactive tables.';\n",
              "          element.innerHTML = '';\n",
              "          dataTable['output_type'] = 'display_data';\n",
              "          await google.colab.output.renderOutput(dataTable, element);\n",
              "          const docLink = document.createElement('div');\n",
              "          docLink.innerHTML = docLinkHtml;\n",
              "          element.appendChild(docLink);\n",
              "        }\n",
              "      </script>\n",
              "    </div>\n",
              "  </div>\n",
              "  "
            ]
          },
          "metadata": {},
          "execution_count": 203
        }
      ]
    },
    {
      "cell_type": "code",
      "source": [
        "mod1 = sm.Logit(y,x).fit()"
      ],
      "metadata": {
        "colab": {
          "base_uri": "https://localhost:8080/"
        },
        "id": "eSuk_e3O9LVv",
        "outputId": "f6e88772-7da0-4913-abc5-facee75b8e50"
      },
      "execution_count": null,
      "outputs": [
        {
          "output_type": "stream",
          "name": "stdout",
          "text": [
            "Optimization terminated successfully.\n",
            "         Current function value: 0.296661\n",
            "         Iterations 6\n"
          ]
        }
      ]
    },
    {
      "cell_type": "code",
      "source": [
        "print(mod1.summary()) "
      ],
      "metadata": {
        "colab": {
          "base_uri": "https://localhost:8080/"
        },
        "id": "muLAE0579NL3",
        "outputId": "e6f81c6a-99de-442e-fc9b-9584d1e6417d"
      },
      "execution_count": null,
      "outputs": [
        {
          "output_type": "stream",
          "name": "stdout",
          "text": [
            "                           Logit Regression Results                           \n",
            "==============================================================================\n",
            "Dep. Variable:                 TARGET   No. Observations:               211120\n",
            "Model:                          Logit   Df Residuals:                   211118\n",
            "Method:                           MLE   Df Model:                            1\n",
            "Date:                Mon, 02 Jan 2023   Pseudo R-squ.:                0.002943\n",
            "Time:                        14:56:30   Log-Likelihood:                -62631.\n",
            "converged:                       True   LL-Null:                       -62816.\n",
            "Covariance Type:            nonrobust   LLR p-value:                 2.197e-82\n",
            "==============================================================================\n",
            "                 coef    std err          z      P>|z|      [0.025      0.975]\n",
            "------------------------------------------------------------------------------\n",
            "const         -2.1153      0.014   -152.619      0.000      -2.142      -2.088\n",
            "AMT_CREDIT -3.841e-07   2.05e-08    -18.708      0.000   -4.24e-07   -3.44e-07\n",
            "==============================================================================\n"
          ]
        }
      ]
    },
    {
      "cell_type": "markdown",
      "source": [
        "#p=value is <0.05 so Ho is rejected and it means that Loan_AMT  affect the person will default or not on loan repayment"
      ],
      "metadata": {
        "id": "u-h4cw8QIN-2"
      }
    }
  ]
}