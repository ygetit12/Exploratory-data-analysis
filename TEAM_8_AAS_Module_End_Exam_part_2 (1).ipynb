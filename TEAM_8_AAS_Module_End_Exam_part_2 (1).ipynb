{
  "nbformat": 4,
  "nbformat_minor": 0,
  "metadata": {
    "colab": {
      "provenance": []
    },
    "kernelspec": {
      "name": "python3",
      "display_name": "Python 3"
    },
    "language_info": {
      "name": "python"
    }
  },
  "cells": [
    {
      "cell_type": "markdown",
      "source": [
        "#'previous_application.csv' contains information about the client’s previous loan data. It contains the data whether the previous application had been Approved, Canceled, Refused or Unused offer."
      ],
      "metadata": {
        "id": "icN6c6P5xo1l"
      }
    },
    {
      "cell_type": "code",
      "execution_count": null,
      "metadata": {
        "id": "gPnI9lX0gNjQ"
      },
      "outputs": [],
      "source": [
        "import numpy as np\n",
        "import pandas as pd\n",
        "import os\n",
        "import matplotlib\n",
        "import matplotlib.pyplot as plt\n",
        "import seaborn as sns\n",
        "import sklearn\n",
        "from sklearn.model_selection import train_test_split\n",
        "import statsmodels\n",
        "import statsmodels.api as sm\n",
        "from scipy.stats import kurtosis\n",
        "import scipy\n",
        "\n"
      ]
    },
    {
      "cell_type": "code",
      "source": [
        "#for importing datasets uploaded on the google drive\n",
        "from google.colab import drive\n",
        "drive.mount('/content/drive/')"
      ],
      "metadata": {
        "colab": {
          "base_uri": "https://localhost:8080/"
        },
        "id": "LH8vcz7VCLN3",
        "outputId": "0a1580f6-39d2-46ea-ca89-d8d26659f8fe"
      },
      "execution_count": null,
      "outputs": [
        {
          "output_type": "stream",
          "name": "stdout",
          "text": [
            "Mounted at /content/drive/\n"
          ]
        }
      ]
    },
    {
      "cell_type": "code",
      "source": [
        "#to view the folder import from the google drive \n",
        "!ls \"/content/drive/MyDrive/AAS module end exam/\""
      ],
      "metadata": {
        "colab": {
          "base_uri": "https://localhost:8080/"
        },
        "id": "e55XZCSOCV3z",
        "outputId": "a11fec8e-b3b9-4a00-ef10-3d46c88aa5ac"
      },
      "execution_count": null,
      "outputs": [
        {
          "output_type": "stream",
          "name": "stdout",
          "text": [
            "'AAS Module Test.docx'\t     'EDA STEPS.docx'\n",
            " application_data.csv\t     'EDA ZOMATO.ipynb'\n",
            " columns_description.csv      previous_application.csv\n",
            " columns_description.gsheet  'Problem Statement.docx'\n",
            " Covid_Analysis.ipynb\t     'Summary Report_Vineeta_Aman.pdf'\n"
          ]
        }
      ]
    },
    {
      "cell_type": "code",
      "source": [
        "#assigning path variable to path of the data sets\n",
        "path2=  \"/content/drive/MyDrive/AAS module end exam/previous_application.csv\""
      ],
      "metadata": {
        "id": "UgAoj33OCld9"
      },
      "execution_count": null,
      "outputs": []
    },
    {
      "cell_type": "markdown",
      "source": [
        "# Importing Data from CSV"
      ],
      "metadata": {
        "id": "kYkKyKl0r3ck"
      }
    },
    {
      "cell_type": "code",
      "source": [
        "# importing \"previous_application\" data set from csv the drive\n",
        "pa_df=pd.read_csv(path2)\n"
      ],
      "metadata": {
        "id": "5cvSvocmwhZ9"
      },
      "execution_count": null,
      "outputs": []
    },
    {
      "cell_type": "code",
      "source": [
        "# importing \"columns_description\" data set from csv \n",
        "col_df=pd.read_csv(\"columns_description.csv\", encoding='latin1')"
      ],
      "metadata": {
        "id": "TI0wnrtkF0k7"
      },
      "execution_count": null,
      "outputs": []
    },
    {
      "cell_type": "markdown",
      "source": [
        "# Viewing the Dataset"
      ],
      "metadata": {
        "id": "1LQG0gYnsK9v"
      }
    },
    {
      "cell_type": "code",
      "source": [
        "#checking first five rows and columns of the previous_application dataset\n",
        "pa_df.head()"
      ],
      "metadata": {
        "colab": {
          "base_uri": "https://localhost:8080/",
          "height": 317
        },
        "id": "RiEHBnB5xEk9",
        "outputId": "14123653-43de-4d18-faed-bd8dceae95be"
      },
      "execution_count": null,
      "outputs": [
        {
          "output_type": "execute_result",
          "data": {
            "text/plain": [
              "   SK_ID_PREV  SK_ID_CURR NAME_CONTRACT_TYPE  AMT_ANNUITY  AMT_APPLICATION  \\\n",
              "0     2030495      271877     Consumer loans     1730.430          17145.0   \n",
              "1     2802425      108129         Cash loans    25188.615         607500.0   \n",
              "2     2523466      122040         Cash loans    15060.735         112500.0   \n",
              "3     2819243      176158         Cash loans    47041.335         450000.0   \n",
              "4     1784265      202054         Cash loans    31924.395         337500.0   \n",
              "\n",
              "   AMT_CREDIT  AMT_DOWN_PAYMENT  AMT_GOODS_PRICE WEEKDAY_APPR_PROCESS_START  \\\n",
              "0     17145.0               0.0          17145.0                   SATURDAY   \n",
              "1    679671.0               NaN         607500.0                   THURSDAY   \n",
              "2    136444.5               NaN         112500.0                    TUESDAY   \n",
              "3    470790.0               NaN         450000.0                     MONDAY   \n",
              "4    404055.0               NaN         337500.0                   THURSDAY   \n",
              "\n",
              "   HOUR_APPR_PROCESS_START  ... NAME_SELLER_INDUSTRY  CNT_PAYMENT  \\\n",
              "0                       15  ...         Connectivity         12.0   \n",
              "1                       11  ...                  XNA         36.0   \n",
              "2                       11  ...                  XNA         12.0   \n",
              "3                        7  ...                  XNA         12.0   \n",
              "4                        9  ...                  XNA         24.0   \n",
              "\n",
              "   NAME_YIELD_GROUP       PRODUCT_COMBINATION  DAYS_FIRST_DRAWING  \\\n",
              "0            middle  POS mobile with interest            365243.0   \n",
              "1        low_action          Cash X-Sell: low            365243.0   \n",
              "2              high         Cash X-Sell: high            365243.0   \n",
              "3            middle       Cash X-Sell: middle            365243.0   \n",
              "4              high         Cash Street: high                 NaN   \n",
              "\n",
              "  DAYS_FIRST_DUE DAYS_LAST_DUE_1ST_VERSION  DAYS_LAST_DUE DAYS_TERMINATION  \\\n",
              "0          -42.0                     300.0          -42.0            -37.0   \n",
              "1         -134.0                     916.0       365243.0         365243.0   \n",
              "2         -271.0                      59.0       365243.0         365243.0   \n",
              "3         -482.0                    -152.0         -182.0           -177.0   \n",
              "4            NaN                       NaN            NaN              NaN   \n",
              "\n",
              "  NFLAG_INSURED_ON_APPROVAL  \n",
              "0                       0.0  \n",
              "1                       1.0  \n",
              "2                       1.0  \n",
              "3                       1.0  \n",
              "4                       NaN  \n",
              "\n",
              "[5 rows x 37 columns]"
            ],
            "text/html": [
              "\n",
              "  <div id=\"df-23af2f21-71af-45d5-a643-63ffd94cd45f\">\n",
              "    <div class=\"colab-df-container\">\n",
              "      <div>\n",
              "<style scoped>\n",
              "    .dataframe tbody tr th:only-of-type {\n",
              "        vertical-align: middle;\n",
              "    }\n",
              "\n",
              "    .dataframe tbody tr th {\n",
              "        vertical-align: top;\n",
              "    }\n",
              "\n",
              "    .dataframe thead th {\n",
              "        text-align: right;\n",
              "    }\n",
              "</style>\n",
              "<table border=\"1\" class=\"dataframe\">\n",
              "  <thead>\n",
              "    <tr style=\"text-align: right;\">\n",
              "      <th></th>\n",
              "      <th>SK_ID_PREV</th>\n",
              "      <th>SK_ID_CURR</th>\n",
              "      <th>NAME_CONTRACT_TYPE</th>\n",
              "      <th>AMT_ANNUITY</th>\n",
              "      <th>AMT_APPLICATION</th>\n",
              "      <th>AMT_CREDIT</th>\n",
              "      <th>AMT_DOWN_PAYMENT</th>\n",
              "      <th>AMT_GOODS_PRICE</th>\n",
              "      <th>WEEKDAY_APPR_PROCESS_START</th>\n",
              "      <th>HOUR_APPR_PROCESS_START</th>\n",
              "      <th>...</th>\n",
              "      <th>NAME_SELLER_INDUSTRY</th>\n",
              "      <th>CNT_PAYMENT</th>\n",
              "      <th>NAME_YIELD_GROUP</th>\n",
              "      <th>PRODUCT_COMBINATION</th>\n",
              "      <th>DAYS_FIRST_DRAWING</th>\n",
              "      <th>DAYS_FIRST_DUE</th>\n",
              "      <th>DAYS_LAST_DUE_1ST_VERSION</th>\n",
              "      <th>DAYS_LAST_DUE</th>\n",
              "      <th>DAYS_TERMINATION</th>\n",
              "      <th>NFLAG_INSURED_ON_APPROVAL</th>\n",
              "    </tr>\n",
              "  </thead>\n",
              "  <tbody>\n",
              "    <tr>\n",
              "      <th>0</th>\n",
              "      <td>2030495</td>\n",
              "      <td>271877</td>\n",
              "      <td>Consumer loans</td>\n",
              "      <td>1730.430</td>\n",
              "      <td>17145.0</td>\n",
              "      <td>17145.0</td>\n",
              "      <td>0.0</td>\n",
              "      <td>17145.0</td>\n",
              "      <td>SATURDAY</td>\n",
              "      <td>15</td>\n",
              "      <td>...</td>\n",
              "      <td>Connectivity</td>\n",
              "      <td>12.0</td>\n",
              "      <td>middle</td>\n",
              "      <td>POS mobile with interest</td>\n",
              "      <td>365243.0</td>\n",
              "      <td>-42.0</td>\n",
              "      <td>300.0</td>\n",
              "      <td>-42.0</td>\n",
              "      <td>-37.0</td>\n",
              "      <td>0.0</td>\n",
              "    </tr>\n",
              "    <tr>\n",
              "      <th>1</th>\n",
              "      <td>2802425</td>\n",
              "      <td>108129</td>\n",
              "      <td>Cash loans</td>\n",
              "      <td>25188.615</td>\n",
              "      <td>607500.0</td>\n",
              "      <td>679671.0</td>\n",
              "      <td>NaN</td>\n",
              "      <td>607500.0</td>\n",
              "      <td>THURSDAY</td>\n",
              "      <td>11</td>\n",
              "      <td>...</td>\n",
              "      <td>XNA</td>\n",
              "      <td>36.0</td>\n",
              "      <td>low_action</td>\n",
              "      <td>Cash X-Sell: low</td>\n",
              "      <td>365243.0</td>\n",
              "      <td>-134.0</td>\n",
              "      <td>916.0</td>\n",
              "      <td>365243.0</td>\n",
              "      <td>365243.0</td>\n",
              "      <td>1.0</td>\n",
              "    </tr>\n",
              "    <tr>\n",
              "      <th>2</th>\n",
              "      <td>2523466</td>\n",
              "      <td>122040</td>\n",
              "      <td>Cash loans</td>\n",
              "      <td>15060.735</td>\n",
              "      <td>112500.0</td>\n",
              "      <td>136444.5</td>\n",
              "      <td>NaN</td>\n",
              "      <td>112500.0</td>\n",
              "      <td>TUESDAY</td>\n",
              "      <td>11</td>\n",
              "      <td>...</td>\n",
              "      <td>XNA</td>\n",
              "      <td>12.0</td>\n",
              "      <td>high</td>\n",
              "      <td>Cash X-Sell: high</td>\n",
              "      <td>365243.0</td>\n",
              "      <td>-271.0</td>\n",
              "      <td>59.0</td>\n",
              "      <td>365243.0</td>\n",
              "      <td>365243.0</td>\n",
              "      <td>1.0</td>\n",
              "    </tr>\n",
              "    <tr>\n",
              "      <th>3</th>\n",
              "      <td>2819243</td>\n",
              "      <td>176158</td>\n",
              "      <td>Cash loans</td>\n",
              "      <td>47041.335</td>\n",
              "      <td>450000.0</td>\n",
              "      <td>470790.0</td>\n",
              "      <td>NaN</td>\n",
              "      <td>450000.0</td>\n",
              "      <td>MONDAY</td>\n",
              "      <td>7</td>\n",
              "      <td>...</td>\n",
              "      <td>XNA</td>\n",
              "      <td>12.0</td>\n",
              "      <td>middle</td>\n",
              "      <td>Cash X-Sell: middle</td>\n",
              "      <td>365243.0</td>\n",
              "      <td>-482.0</td>\n",
              "      <td>-152.0</td>\n",
              "      <td>-182.0</td>\n",
              "      <td>-177.0</td>\n",
              "      <td>1.0</td>\n",
              "    </tr>\n",
              "    <tr>\n",
              "      <th>4</th>\n",
              "      <td>1784265</td>\n",
              "      <td>202054</td>\n",
              "      <td>Cash loans</td>\n",
              "      <td>31924.395</td>\n",
              "      <td>337500.0</td>\n",
              "      <td>404055.0</td>\n",
              "      <td>NaN</td>\n",
              "      <td>337500.0</td>\n",
              "      <td>THURSDAY</td>\n",
              "      <td>9</td>\n",
              "      <td>...</td>\n",
              "      <td>XNA</td>\n",
              "      <td>24.0</td>\n",
              "      <td>high</td>\n",
              "      <td>Cash Street: high</td>\n",
              "      <td>NaN</td>\n",
              "      <td>NaN</td>\n",
              "      <td>NaN</td>\n",
              "      <td>NaN</td>\n",
              "      <td>NaN</td>\n",
              "      <td>NaN</td>\n",
              "    </tr>\n",
              "  </tbody>\n",
              "</table>\n",
              "<p>5 rows × 37 columns</p>\n",
              "</div>\n",
              "      <button class=\"colab-df-convert\" onclick=\"convertToInteractive('df-23af2f21-71af-45d5-a643-63ffd94cd45f')\"\n",
              "              title=\"Convert this dataframe to an interactive table.\"\n",
              "              style=\"display:none;\">\n",
              "        \n",
              "  <svg xmlns=\"http://www.w3.org/2000/svg\" height=\"24px\"viewBox=\"0 0 24 24\"\n",
              "       width=\"24px\">\n",
              "    <path d=\"M0 0h24v24H0V0z\" fill=\"none\"/>\n",
              "    <path d=\"M18.56 5.44l.94 2.06.94-2.06 2.06-.94-2.06-.94-.94-2.06-.94 2.06-2.06.94zm-11 1L8.5 8.5l.94-2.06 2.06-.94-2.06-.94L8.5 2.5l-.94 2.06-2.06.94zm10 10l.94 2.06.94-2.06 2.06-.94-2.06-.94-.94-2.06-.94 2.06-2.06.94z\"/><path d=\"M17.41 7.96l-1.37-1.37c-.4-.4-.92-.59-1.43-.59-.52 0-1.04.2-1.43.59L10.3 9.45l-7.72 7.72c-.78.78-.78 2.05 0 2.83L4 21.41c.39.39.9.59 1.41.59.51 0 1.02-.2 1.41-.59l7.78-7.78 2.81-2.81c.8-.78.8-2.07 0-2.86zM5.41 20L4 18.59l7.72-7.72 1.47 1.35L5.41 20z\"/>\n",
              "  </svg>\n",
              "      </button>\n",
              "      \n",
              "  <style>\n",
              "    .colab-df-container {\n",
              "      display:flex;\n",
              "      flex-wrap:wrap;\n",
              "      gap: 12px;\n",
              "    }\n",
              "\n",
              "    .colab-df-convert {\n",
              "      background-color: #E8F0FE;\n",
              "      border: none;\n",
              "      border-radius: 50%;\n",
              "      cursor: pointer;\n",
              "      display: none;\n",
              "      fill: #1967D2;\n",
              "      height: 32px;\n",
              "      padding: 0 0 0 0;\n",
              "      width: 32px;\n",
              "    }\n",
              "\n",
              "    .colab-df-convert:hover {\n",
              "      background-color: #E2EBFA;\n",
              "      box-shadow: 0px 1px 2px rgba(60, 64, 67, 0.3), 0px 1px 3px 1px rgba(60, 64, 67, 0.15);\n",
              "      fill: #174EA6;\n",
              "    }\n",
              "\n",
              "    [theme=dark] .colab-df-convert {\n",
              "      background-color: #3B4455;\n",
              "      fill: #D2E3FC;\n",
              "    }\n",
              "\n",
              "    [theme=dark] .colab-df-convert:hover {\n",
              "      background-color: #434B5C;\n",
              "      box-shadow: 0px 1px 3px 1px rgba(0, 0, 0, 0.15);\n",
              "      filter: drop-shadow(0px 1px 2px rgba(0, 0, 0, 0.3));\n",
              "      fill: #FFFFFF;\n",
              "    }\n",
              "  </style>\n",
              "\n",
              "      <script>\n",
              "        const buttonEl =\n",
              "          document.querySelector('#df-23af2f21-71af-45d5-a643-63ffd94cd45f button.colab-df-convert');\n",
              "        buttonEl.style.display =\n",
              "          google.colab.kernel.accessAllowed ? 'block' : 'none';\n",
              "\n",
              "        async function convertToInteractive(key) {\n",
              "          const element = document.querySelector('#df-23af2f21-71af-45d5-a643-63ffd94cd45f');\n",
              "          const dataTable =\n",
              "            await google.colab.kernel.invokeFunction('convertToInteractive',\n",
              "                                                     [key], {});\n",
              "          if (!dataTable) return;\n",
              "\n",
              "          const docLinkHtml = 'Like what you see? Visit the ' +\n",
              "            '<a target=\"_blank\" href=https://colab.research.google.com/notebooks/data_table.ipynb>data table notebook</a>'\n",
              "            + ' to learn more about interactive tables.';\n",
              "          element.innerHTML = '';\n",
              "          dataTable['output_type'] = 'display_data';\n",
              "          await google.colab.output.renderOutput(dataTable, element);\n",
              "          const docLink = document.createElement('div');\n",
              "          docLink.innerHTML = docLinkHtml;\n",
              "          element.appendChild(docLink);\n",
              "        }\n",
              "      </script>\n",
              "    </div>\n",
              "  </div>\n",
              "  "
            ]
          },
          "metadata": {},
          "execution_count": 9
        }
      ]
    },
    {
      "cell_type": "code",
      "source": [
        "#checking first five rows and columns of the columns_description dataset\n",
        "col_df.head()"
      ],
      "metadata": {
        "colab": {
          "base_uri": "https://localhost:8080/",
          "height": 320
        },
        "id": "ZaldzUdoGNj0",
        "outputId": "146a9f22-bece-489f-8655-79f431850bf5"
      },
      "execution_count": null,
      "outputs": [
        {
          "output_type": "execute_result",
          "data": {
            "text/plain": [
              "   Unnamed: 0             Table                 Row  \\\n",
              "0           1  application_data          SK_ID_CURR   \n",
              "1           2  application_data              TARGET   \n",
              "2           5  application_data  NAME_CONTRACT_TYPE   \n",
              "3           6  application_data         CODE_GENDER   \n",
              "4           7  application_data        FLAG_OWN_CAR   \n",
              "\n",
              "                                         Description Special  \n",
              "0                           ID of loan in our sample     NaN  \n",
              "1  Target variable (1 - client with payment diffi...     NaN  \n",
              "2        Identification if loan is cash or revolving     NaN  \n",
              "3                               Gender of the client     NaN  \n",
              "4                      Flag if the client owns a car     NaN  "
            ],
            "text/html": [
              "\n",
              "  <div id=\"df-570710dd-1b24-47da-92b8-f59eb2eb11bd\">\n",
              "    <div class=\"colab-df-container\">\n",
              "      <div>\n",
              "<style scoped>\n",
              "    .dataframe tbody tr th:only-of-type {\n",
              "        vertical-align: middle;\n",
              "    }\n",
              "\n",
              "    .dataframe tbody tr th {\n",
              "        vertical-align: top;\n",
              "    }\n",
              "\n",
              "    .dataframe thead th {\n",
              "        text-align: right;\n",
              "    }\n",
              "</style>\n",
              "<table border=\"1\" class=\"dataframe\">\n",
              "  <thead>\n",
              "    <tr style=\"text-align: right;\">\n",
              "      <th></th>\n",
              "      <th>Unnamed: 0</th>\n",
              "      <th>Table</th>\n",
              "      <th>Row</th>\n",
              "      <th>Description</th>\n",
              "      <th>Special</th>\n",
              "    </tr>\n",
              "  </thead>\n",
              "  <tbody>\n",
              "    <tr>\n",
              "      <th>0</th>\n",
              "      <td>1</td>\n",
              "      <td>application_data</td>\n",
              "      <td>SK_ID_CURR</td>\n",
              "      <td>ID of loan in our sample</td>\n",
              "      <td>NaN</td>\n",
              "    </tr>\n",
              "    <tr>\n",
              "      <th>1</th>\n",
              "      <td>2</td>\n",
              "      <td>application_data</td>\n",
              "      <td>TARGET</td>\n",
              "      <td>Target variable (1 - client with payment diffi...</td>\n",
              "      <td>NaN</td>\n",
              "    </tr>\n",
              "    <tr>\n",
              "      <th>2</th>\n",
              "      <td>5</td>\n",
              "      <td>application_data</td>\n",
              "      <td>NAME_CONTRACT_TYPE</td>\n",
              "      <td>Identification if loan is cash or revolving</td>\n",
              "      <td>NaN</td>\n",
              "    </tr>\n",
              "    <tr>\n",
              "      <th>3</th>\n",
              "      <td>6</td>\n",
              "      <td>application_data</td>\n",
              "      <td>CODE_GENDER</td>\n",
              "      <td>Gender of the client</td>\n",
              "      <td>NaN</td>\n",
              "    </tr>\n",
              "    <tr>\n",
              "      <th>4</th>\n",
              "      <td>7</td>\n",
              "      <td>application_data</td>\n",
              "      <td>FLAG_OWN_CAR</td>\n",
              "      <td>Flag if the client owns a car</td>\n",
              "      <td>NaN</td>\n",
              "    </tr>\n",
              "  </tbody>\n",
              "</table>\n",
              "</div>\n",
              "      <button class=\"colab-df-convert\" onclick=\"convertToInteractive('df-570710dd-1b24-47da-92b8-f59eb2eb11bd')\"\n",
              "              title=\"Convert this dataframe to an interactive table.\"\n",
              "              style=\"display:none;\">\n",
              "        \n",
              "  <svg xmlns=\"http://www.w3.org/2000/svg\" height=\"24px\"viewBox=\"0 0 24 24\"\n",
              "       width=\"24px\">\n",
              "    <path d=\"M0 0h24v24H0V0z\" fill=\"none\"/>\n",
              "    <path d=\"M18.56 5.44l.94 2.06.94-2.06 2.06-.94-2.06-.94-.94-2.06-.94 2.06-2.06.94zm-11 1L8.5 8.5l.94-2.06 2.06-.94-2.06-.94L8.5 2.5l-.94 2.06-2.06.94zm10 10l.94 2.06.94-2.06 2.06-.94-2.06-.94-.94-2.06-.94 2.06-2.06.94z\"/><path d=\"M17.41 7.96l-1.37-1.37c-.4-.4-.92-.59-1.43-.59-.52 0-1.04.2-1.43.59L10.3 9.45l-7.72 7.72c-.78.78-.78 2.05 0 2.83L4 21.41c.39.39.9.59 1.41.59.51 0 1.02-.2 1.41-.59l7.78-7.78 2.81-2.81c.8-.78.8-2.07 0-2.86zM5.41 20L4 18.59l7.72-7.72 1.47 1.35L5.41 20z\"/>\n",
              "  </svg>\n",
              "      </button>\n",
              "      \n",
              "  <style>\n",
              "    .colab-df-container {\n",
              "      display:flex;\n",
              "      flex-wrap:wrap;\n",
              "      gap: 12px;\n",
              "    }\n",
              "\n",
              "    .colab-df-convert {\n",
              "      background-color: #E8F0FE;\n",
              "      border: none;\n",
              "      border-radius: 50%;\n",
              "      cursor: pointer;\n",
              "      display: none;\n",
              "      fill: #1967D2;\n",
              "      height: 32px;\n",
              "      padding: 0 0 0 0;\n",
              "      width: 32px;\n",
              "    }\n",
              "\n",
              "    .colab-df-convert:hover {\n",
              "      background-color: #E2EBFA;\n",
              "      box-shadow: 0px 1px 2px rgba(60, 64, 67, 0.3), 0px 1px 3px 1px rgba(60, 64, 67, 0.15);\n",
              "      fill: #174EA6;\n",
              "    }\n",
              "\n",
              "    [theme=dark] .colab-df-convert {\n",
              "      background-color: #3B4455;\n",
              "      fill: #D2E3FC;\n",
              "    }\n",
              "\n",
              "    [theme=dark] .colab-df-convert:hover {\n",
              "      background-color: #434B5C;\n",
              "      box-shadow: 0px 1px 3px 1px rgba(0, 0, 0, 0.15);\n",
              "      filter: drop-shadow(0px 1px 2px rgba(0, 0, 0, 0.3));\n",
              "      fill: #FFFFFF;\n",
              "    }\n",
              "  </style>\n",
              "\n",
              "      <script>\n",
              "        const buttonEl =\n",
              "          document.querySelector('#df-570710dd-1b24-47da-92b8-f59eb2eb11bd button.colab-df-convert');\n",
              "        buttonEl.style.display =\n",
              "          google.colab.kernel.accessAllowed ? 'block' : 'none';\n",
              "\n",
              "        async function convertToInteractive(key) {\n",
              "          const element = document.querySelector('#df-570710dd-1b24-47da-92b8-f59eb2eb11bd');\n",
              "          const dataTable =\n",
              "            await google.colab.kernel.invokeFunction('convertToInteractive',\n",
              "                                                     [key], {});\n",
              "          if (!dataTable) return;\n",
              "\n",
              "          const docLinkHtml = 'Like what you see? Visit the ' +\n",
              "            '<a target=\"_blank\" href=https://colab.research.google.com/notebooks/data_table.ipynb>data table notebook</a>'\n",
              "            + ' to learn more about interactive tables.';\n",
              "          element.innerHTML = '';\n",
              "          dataTable['output_type'] = 'display_data';\n",
              "          await google.colab.output.renderOutput(dataTable, element);\n",
              "          const docLink = document.createElement('div');\n",
              "          docLink.innerHTML = docLinkHtml;\n",
              "          element.appendChild(docLink);\n",
              "        }\n",
              "      </script>\n",
              "    </div>\n",
              "  </div>\n",
              "  "
            ]
          },
          "metadata": {},
          "execution_count": 10
        }
      ]
    },
    {
      "cell_type": "code",
      "source": [
        "#checking the shape of the dataset \"previous_application\"\n",
        "pa_df.shape"
      ],
      "metadata": {
        "id": "RY3SMcyOxeeP",
        "colab": {
          "base_uri": "https://localhost:8080/"
        },
        "outputId": "b67d0d75-c157-4782-d5c3-058d520c1576"
      },
      "execution_count": null,
      "outputs": [
        {
          "output_type": "execute_result",
          "data": {
            "text/plain": [
              "(1670214, 37)"
            ]
          },
          "metadata": {},
          "execution_count": 11
        }
      ]
    },
    {
      "cell_type": "code",
      "source": [
        "#checking the shape of the dataset \"columns_description\"\n",
        "col_df.shape"
      ],
      "metadata": {
        "colab": {
          "base_uri": "https://localhost:8080/"
        },
        "id": "T94jicjcHQse",
        "outputId": "2b22f41c-04f0-4559-a96a-2a88787e6b16"
      },
      "execution_count": null,
      "outputs": [
        {
          "output_type": "execute_result",
          "data": {
            "text/plain": [
              "(160, 5)"
            ]
          },
          "metadata": {},
          "execution_count": 12
        }
      ]
    },
    {
      "cell_type": "code",
      "source": [
        "#checking the dimension of the \"previous_application\" data set -- We have a two dimension dataset\n",
        "pa_df.ndim"
      ],
      "metadata": {
        "id": "bknXqHG_xiOj",
        "colab": {
          "base_uri": "https://localhost:8080/"
        },
        "outputId": "524698b5-07e2-476f-9dbd-9d1079a9fd5c"
      },
      "execution_count": null,
      "outputs": [
        {
          "output_type": "execute_result",
          "data": {
            "text/plain": [
              "2"
            ]
          },
          "metadata": {},
          "execution_count": 13
        }
      ]
    },
    {
      "cell_type": "code",
      "source": [
        " #checking last five rows and columns of the raw dataset--\"previous_data\"\n",
        "pa_df.tail()"
      ],
      "metadata": {
        "id": "yYRe0lPuxoPs",
        "colab": {
          "base_uri": "https://localhost:8080/",
          "height": 352
        },
        "outputId": "3c242c16-d20c-4148-a8f7-ff99ecabd28a"
      },
      "execution_count": null,
      "outputs": [
        {
          "output_type": "execute_result",
          "data": {
            "text/plain": [
              "         SK_ID_PREV  SK_ID_CURR NAME_CONTRACT_TYPE  AMT_ANNUITY  \\\n",
              "1670209     2300464      352015     Consumer loans    14704.290   \n",
              "1670210     2357031      334635     Consumer loans     6622.020   \n",
              "1670211     2659632      249544     Consumer loans    11520.855   \n",
              "1670212     2785582      400317         Cash loans    18821.520   \n",
              "1670213     2418762      261212         Cash loans    16431.300   \n",
              "\n",
              "         AMT_APPLICATION  AMT_CREDIT  AMT_DOWN_PAYMENT  AMT_GOODS_PRICE  \\\n",
              "1670209         267295.5    311400.0               0.0         267295.5   \n",
              "1670210          87750.0     64291.5           29250.0          87750.0   \n",
              "1670211         105237.0    102523.5           10525.5         105237.0   \n",
              "1670212         180000.0    191880.0               NaN         180000.0   \n",
              "1670213         360000.0    360000.0               NaN         360000.0   \n",
              "\n",
              "        WEEKDAY_APPR_PROCESS_START  HOUR_APPR_PROCESS_START  ...  \\\n",
              "1670209                  WEDNESDAY                       12  ...   \n",
              "1670210                    TUESDAY                       15  ...   \n",
              "1670211                     MONDAY                       12  ...   \n",
              "1670212                  WEDNESDAY                        9  ...   \n",
              "1670213                     SUNDAY                       10  ...   \n",
              "\n",
              "         NAME_SELLER_INDUSTRY  CNT_PAYMENT  NAME_YIELD_GROUP  \\\n",
              "1670209             Furniture         30.0        low_normal   \n",
              "1670210             Furniture         12.0            middle   \n",
              "1670211  Consumer electronics         10.0        low_normal   \n",
              "1670212                   XNA         12.0        low_normal   \n",
              "1670213                   XNA         48.0            middle   \n",
              "\n",
              "                 PRODUCT_COMBINATION  DAYS_FIRST_DRAWING DAYS_FIRST_DUE  \\\n",
              "1670209   POS industry with interest            365243.0         -508.0   \n",
              "1670210   POS industry with interest            365243.0        -1604.0   \n",
              "1670211  POS household with interest            365243.0        -1457.0   \n",
              "1670212             Cash X-Sell: low            365243.0        -1155.0   \n",
              "1670213          Cash X-Sell: middle            365243.0        -1163.0   \n",
              "\n",
              "        DAYS_LAST_DUE_1ST_VERSION  DAYS_LAST_DUE DAYS_TERMINATION  \\\n",
              "1670209                     362.0         -358.0           -351.0   \n",
              "1670210                   -1274.0        -1304.0          -1297.0   \n",
              "1670211                   -1187.0        -1187.0          -1181.0   \n",
              "1670212                    -825.0         -825.0           -817.0   \n",
              "1670213                     247.0         -443.0           -423.0   \n",
              "\n",
              "        NFLAG_INSURED_ON_APPROVAL  \n",
              "1670209                       0.0  \n",
              "1670210                       0.0  \n",
              "1670211                       0.0  \n",
              "1670212                       1.0  \n",
              "1670213                       0.0  \n",
              "\n",
              "[5 rows x 37 columns]"
            ],
            "text/html": [
              "\n",
              "  <div id=\"df-dacbbb26-c103-4829-a2db-81f9a6886ffd\">\n",
              "    <div class=\"colab-df-container\">\n",
              "      <div>\n",
              "<style scoped>\n",
              "    .dataframe tbody tr th:only-of-type {\n",
              "        vertical-align: middle;\n",
              "    }\n",
              "\n",
              "    .dataframe tbody tr th {\n",
              "        vertical-align: top;\n",
              "    }\n",
              "\n",
              "    .dataframe thead th {\n",
              "        text-align: right;\n",
              "    }\n",
              "</style>\n",
              "<table border=\"1\" class=\"dataframe\">\n",
              "  <thead>\n",
              "    <tr style=\"text-align: right;\">\n",
              "      <th></th>\n",
              "      <th>SK_ID_PREV</th>\n",
              "      <th>SK_ID_CURR</th>\n",
              "      <th>NAME_CONTRACT_TYPE</th>\n",
              "      <th>AMT_ANNUITY</th>\n",
              "      <th>AMT_APPLICATION</th>\n",
              "      <th>AMT_CREDIT</th>\n",
              "      <th>AMT_DOWN_PAYMENT</th>\n",
              "      <th>AMT_GOODS_PRICE</th>\n",
              "      <th>WEEKDAY_APPR_PROCESS_START</th>\n",
              "      <th>HOUR_APPR_PROCESS_START</th>\n",
              "      <th>...</th>\n",
              "      <th>NAME_SELLER_INDUSTRY</th>\n",
              "      <th>CNT_PAYMENT</th>\n",
              "      <th>NAME_YIELD_GROUP</th>\n",
              "      <th>PRODUCT_COMBINATION</th>\n",
              "      <th>DAYS_FIRST_DRAWING</th>\n",
              "      <th>DAYS_FIRST_DUE</th>\n",
              "      <th>DAYS_LAST_DUE_1ST_VERSION</th>\n",
              "      <th>DAYS_LAST_DUE</th>\n",
              "      <th>DAYS_TERMINATION</th>\n",
              "      <th>NFLAG_INSURED_ON_APPROVAL</th>\n",
              "    </tr>\n",
              "  </thead>\n",
              "  <tbody>\n",
              "    <tr>\n",
              "      <th>1670209</th>\n",
              "      <td>2300464</td>\n",
              "      <td>352015</td>\n",
              "      <td>Consumer loans</td>\n",
              "      <td>14704.290</td>\n",
              "      <td>267295.5</td>\n",
              "      <td>311400.0</td>\n",
              "      <td>0.0</td>\n",
              "      <td>267295.5</td>\n",
              "      <td>WEDNESDAY</td>\n",
              "      <td>12</td>\n",
              "      <td>...</td>\n",
              "      <td>Furniture</td>\n",
              "      <td>30.0</td>\n",
              "      <td>low_normal</td>\n",
              "      <td>POS industry with interest</td>\n",
              "      <td>365243.0</td>\n",
              "      <td>-508.0</td>\n",
              "      <td>362.0</td>\n",
              "      <td>-358.0</td>\n",
              "      <td>-351.0</td>\n",
              "      <td>0.0</td>\n",
              "    </tr>\n",
              "    <tr>\n",
              "      <th>1670210</th>\n",
              "      <td>2357031</td>\n",
              "      <td>334635</td>\n",
              "      <td>Consumer loans</td>\n",
              "      <td>6622.020</td>\n",
              "      <td>87750.0</td>\n",
              "      <td>64291.5</td>\n",
              "      <td>29250.0</td>\n",
              "      <td>87750.0</td>\n",
              "      <td>TUESDAY</td>\n",
              "      <td>15</td>\n",
              "      <td>...</td>\n",
              "      <td>Furniture</td>\n",
              "      <td>12.0</td>\n",
              "      <td>middle</td>\n",
              "      <td>POS industry with interest</td>\n",
              "      <td>365243.0</td>\n",
              "      <td>-1604.0</td>\n",
              "      <td>-1274.0</td>\n",
              "      <td>-1304.0</td>\n",
              "      <td>-1297.0</td>\n",
              "      <td>0.0</td>\n",
              "    </tr>\n",
              "    <tr>\n",
              "      <th>1670211</th>\n",
              "      <td>2659632</td>\n",
              "      <td>249544</td>\n",
              "      <td>Consumer loans</td>\n",
              "      <td>11520.855</td>\n",
              "      <td>105237.0</td>\n",
              "      <td>102523.5</td>\n",
              "      <td>10525.5</td>\n",
              "      <td>105237.0</td>\n",
              "      <td>MONDAY</td>\n",
              "      <td>12</td>\n",
              "      <td>...</td>\n",
              "      <td>Consumer electronics</td>\n",
              "      <td>10.0</td>\n",
              "      <td>low_normal</td>\n",
              "      <td>POS household with interest</td>\n",
              "      <td>365243.0</td>\n",
              "      <td>-1457.0</td>\n",
              "      <td>-1187.0</td>\n",
              "      <td>-1187.0</td>\n",
              "      <td>-1181.0</td>\n",
              "      <td>0.0</td>\n",
              "    </tr>\n",
              "    <tr>\n",
              "      <th>1670212</th>\n",
              "      <td>2785582</td>\n",
              "      <td>400317</td>\n",
              "      <td>Cash loans</td>\n",
              "      <td>18821.520</td>\n",
              "      <td>180000.0</td>\n",
              "      <td>191880.0</td>\n",
              "      <td>NaN</td>\n",
              "      <td>180000.0</td>\n",
              "      <td>WEDNESDAY</td>\n",
              "      <td>9</td>\n",
              "      <td>...</td>\n",
              "      <td>XNA</td>\n",
              "      <td>12.0</td>\n",
              "      <td>low_normal</td>\n",
              "      <td>Cash X-Sell: low</td>\n",
              "      <td>365243.0</td>\n",
              "      <td>-1155.0</td>\n",
              "      <td>-825.0</td>\n",
              "      <td>-825.0</td>\n",
              "      <td>-817.0</td>\n",
              "      <td>1.0</td>\n",
              "    </tr>\n",
              "    <tr>\n",
              "      <th>1670213</th>\n",
              "      <td>2418762</td>\n",
              "      <td>261212</td>\n",
              "      <td>Cash loans</td>\n",
              "      <td>16431.300</td>\n",
              "      <td>360000.0</td>\n",
              "      <td>360000.0</td>\n",
              "      <td>NaN</td>\n",
              "      <td>360000.0</td>\n",
              "      <td>SUNDAY</td>\n",
              "      <td>10</td>\n",
              "      <td>...</td>\n",
              "      <td>XNA</td>\n",
              "      <td>48.0</td>\n",
              "      <td>middle</td>\n",
              "      <td>Cash X-Sell: middle</td>\n",
              "      <td>365243.0</td>\n",
              "      <td>-1163.0</td>\n",
              "      <td>247.0</td>\n",
              "      <td>-443.0</td>\n",
              "      <td>-423.0</td>\n",
              "      <td>0.0</td>\n",
              "    </tr>\n",
              "  </tbody>\n",
              "</table>\n",
              "<p>5 rows × 37 columns</p>\n",
              "</div>\n",
              "      <button class=\"colab-df-convert\" onclick=\"convertToInteractive('df-dacbbb26-c103-4829-a2db-81f9a6886ffd')\"\n",
              "              title=\"Convert this dataframe to an interactive table.\"\n",
              "              style=\"display:none;\">\n",
              "        \n",
              "  <svg xmlns=\"http://www.w3.org/2000/svg\" height=\"24px\"viewBox=\"0 0 24 24\"\n",
              "       width=\"24px\">\n",
              "    <path d=\"M0 0h24v24H0V0z\" fill=\"none\"/>\n",
              "    <path d=\"M18.56 5.44l.94 2.06.94-2.06 2.06-.94-2.06-.94-.94-2.06-.94 2.06-2.06.94zm-11 1L8.5 8.5l.94-2.06 2.06-.94-2.06-.94L8.5 2.5l-.94 2.06-2.06.94zm10 10l.94 2.06.94-2.06 2.06-.94-2.06-.94-.94-2.06-.94 2.06-2.06.94z\"/><path d=\"M17.41 7.96l-1.37-1.37c-.4-.4-.92-.59-1.43-.59-.52 0-1.04.2-1.43.59L10.3 9.45l-7.72 7.72c-.78.78-.78 2.05 0 2.83L4 21.41c.39.39.9.59 1.41.59.51 0 1.02-.2 1.41-.59l7.78-7.78 2.81-2.81c.8-.78.8-2.07 0-2.86zM5.41 20L4 18.59l7.72-7.72 1.47 1.35L5.41 20z\"/>\n",
              "  </svg>\n",
              "      </button>\n",
              "      \n",
              "  <style>\n",
              "    .colab-df-container {\n",
              "      display:flex;\n",
              "      flex-wrap:wrap;\n",
              "      gap: 12px;\n",
              "    }\n",
              "\n",
              "    .colab-df-convert {\n",
              "      background-color: #E8F0FE;\n",
              "      border: none;\n",
              "      border-radius: 50%;\n",
              "      cursor: pointer;\n",
              "      display: none;\n",
              "      fill: #1967D2;\n",
              "      height: 32px;\n",
              "      padding: 0 0 0 0;\n",
              "      width: 32px;\n",
              "    }\n",
              "\n",
              "    .colab-df-convert:hover {\n",
              "      background-color: #E2EBFA;\n",
              "      box-shadow: 0px 1px 2px rgba(60, 64, 67, 0.3), 0px 1px 3px 1px rgba(60, 64, 67, 0.15);\n",
              "      fill: #174EA6;\n",
              "    }\n",
              "\n",
              "    [theme=dark] .colab-df-convert {\n",
              "      background-color: #3B4455;\n",
              "      fill: #D2E3FC;\n",
              "    }\n",
              "\n",
              "    [theme=dark] .colab-df-convert:hover {\n",
              "      background-color: #434B5C;\n",
              "      box-shadow: 0px 1px 3px 1px rgba(0, 0, 0, 0.15);\n",
              "      filter: drop-shadow(0px 1px 2px rgba(0, 0, 0, 0.3));\n",
              "      fill: #FFFFFF;\n",
              "    }\n",
              "  </style>\n",
              "\n",
              "      <script>\n",
              "        const buttonEl =\n",
              "          document.querySelector('#df-dacbbb26-c103-4829-a2db-81f9a6886ffd button.colab-df-convert');\n",
              "        buttonEl.style.display =\n",
              "          google.colab.kernel.accessAllowed ? 'block' : 'none';\n",
              "\n",
              "        async function convertToInteractive(key) {\n",
              "          const element = document.querySelector('#df-dacbbb26-c103-4829-a2db-81f9a6886ffd');\n",
              "          const dataTable =\n",
              "            await google.colab.kernel.invokeFunction('convertToInteractive',\n",
              "                                                     [key], {});\n",
              "          if (!dataTable) return;\n",
              "\n",
              "          const docLinkHtml = 'Like what you see? Visit the ' +\n",
              "            '<a target=\"_blank\" href=https://colab.research.google.com/notebooks/data_table.ipynb>data table notebook</a>'\n",
              "            + ' to learn more about interactive tables.';\n",
              "          element.innerHTML = '';\n",
              "          dataTable['output_type'] = 'display_data';\n",
              "          await google.colab.output.renderOutput(dataTable, element);\n",
              "          const docLink = document.createElement('div');\n",
              "          docLink.innerHTML = docLinkHtml;\n",
              "          element.appendChild(docLink);\n",
              "        }\n",
              "      </script>\n",
              "    </div>\n",
              "  </div>\n",
              "  "
            ]
          },
          "metadata": {},
          "execution_count": 14
        }
      ]
    },
    {
      "cell_type": "code",
      "source": [
        "#checking the data types of columns of data set \"previous_application\"\n",
        "pa_df.dtypes"
      ],
      "metadata": {
        "id": "iLNXaaW7xrsy",
        "colab": {
          "base_uri": "https://localhost:8080/"
        },
        "outputId": "596dff58-9d1f-40ac-f2ba-e3afaaf978a0"
      },
      "execution_count": null,
      "outputs": [
        {
          "output_type": "execute_result",
          "data": {
            "text/plain": [
              "SK_ID_PREV                       int64\n",
              "SK_ID_CURR                       int64\n",
              "NAME_CONTRACT_TYPE              object\n",
              "AMT_ANNUITY                    float64\n",
              "AMT_APPLICATION                float64\n",
              "AMT_CREDIT                     float64\n",
              "AMT_DOWN_PAYMENT               float64\n",
              "AMT_GOODS_PRICE                float64\n",
              "WEEKDAY_APPR_PROCESS_START      object\n",
              "HOUR_APPR_PROCESS_START          int64\n",
              "FLAG_LAST_APPL_PER_CONTRACT     object\n",
              "NFLAG_LAST_APPL_IN_DAY           int64\n",
              "RATE_DOWN_PAYMENT              float64\n",
              "RATE_INTEREST_PRIMARY          float64\n",
              "RATE_INTEREST_PRIVILEGED       float64\n",
              "NAME_CASH_LOAN_PURPOSE          object\n",
              "NAME_CONTRACT_STATUS            object\n",
              "DAYS_DECISION                    int64\n",
              "NAME_PAYMENT_TYPE               object\n",
              "CODE_REJECT_REASON              object\n",
              "NAME_TYPE_SUITE                 object\n",
              "NAME_CLIENT_TYPE                object\n",
              "NAME_GOODS_CATEGORY             object\n",
              "NAME_PORTFOLIO                  object\n",
              "NAME_PRODUCT_TYPE               object\n",
              "CHANNEL_TYPE                    object\n",
              "SELLERPLACE_AREA                 int64\n",
              "NAME_SELLER_INDUSTRY            object\n",
              "CNT_PAYMENT                    float64\n",
              "NAME_YIELD_GROUP                object\n",
              "PRODUCT_COMBINATION             object\n",
              "DAYS_FIRST_DRAWING             float64\n",
              "DAYS_FIRST_DUE                 float64\n",
              "DAYS_LAST_DUE_1ST_VERSION      float64\n",
              "DAYS_LAST_DUE                  float64\n",
              "DAYS_TERMINATION               float64\n",
              "NFLAG_INSURED_ON_APPROVAL      float64\n",
              "dtype: object"
            ]
          },
          "metadata": {},
          "execution_count": 15
        }
      ]
    },
    {
      "cell_type": "code",
      "source": [
        "pa_df.info()"
      ],
      "metadata": {
        "id": "slzyszrxxutF",
        "colab": {
          "base_uri": "https://localhost:8080/"
        },
        "outputId": "a6fed941-8ace-4693-ad80-7c5a0f8ad967"
      },
      "execution_count": null,
      "outputs": [
        {
          "output_type": "stream",
          "name": "stdout",
          "text": [
            "<class 'pandas.core.frame.DataFrame'>\n",
            "RangeIndex: 1670214 entries, 0 to 1670213\n",
            "Data columns (total 37 columns):\n",
            " #   Column                       Non-Null Count    Dtype  \n",
            "---  ------                       --------------    -----  \n",
            " 0   SK_ID_PREV                   1670214 non-null  int64  \n",
            " 1   SK_ID_CURR                   1670214 non-null  int64  \n",
            " 2   NAME_CONTRACT_TYPE           1670214 non-null  object \n",
            " 3   AMT_ANNUITY                  1297979 non-null  float64\n",
            " 4   AMT_APPLICATION              1670214 non-null  float64\n",
            " 5   AMT_CREDIT                   1670213 non-null  float64\n",
            " 6   AMT_DOWN_PAYMENT             774370 non-null   float64\n",
            " 7   AMT_GOODS_PRICE              1284699 non-null  float64\n",
            " 8   WEEKDAY_APPR_PROCESS_START   1670214 non-null  object \n",
            " 9   HOUR_APPR_PROCESS_START      1670214 non-null  int64  \n",
            " 10  FLAG_LAST_APPL_PER_CONTRACT  1670214 non-null  object \n",
            " 11  NFLAG_LAST_APPL_IN_DAY       1670214 non-null  int64  \n",
            " 12  RATE_DOWN_PAYMENT            774370 non-null   float64\n",
            " 13  RATE_INTEREST_PRIMARY        5951 non-null     float64\n",
            " 14  RATE_INTEREST_PRIVILEGED     5951 non-null     float64\n",
            " 15  NAME_CASH_LOAN_PURPOSE       1670214 non-null  object \n",
            " 16  NAME_CONTRACT_STATUS         1670214 non-null  object \n",
            " 17  DAYS_DECISION                1670214 non-null  int64  \n",
            " 18  NAME_PAYMENT_TYPE            1670214 non-null  object \n",
            " 19  CODE_REJECT_REASON           1670214 non-null  object \n",
            " 20  NAME_TYPE_SUITE              849809 non-null   object \n",
            " 21  NAME_CLIENT_TYPE             1670214 non-null  object \n",
            " 22  NAME_GOODS_CATEGORY          1670214 non-null  object \n",
            " 23  NAME_PORTFOLIO               1670214 non-null  object \n",
            " 24  NAME_PRODUCT_TYPE            1670214 non-null  object \n",
            " 25  CHANNEL_TYPE                 1670214 non-null  object \n",
            " 26  SELLERPLACE_AREA             1670214 non-null  int64  \n",
            " 27  NAME_SELLER_INDUSTRY         1670214 non-null  object \n",
            " 28  CNT_PAYMENT                  1297984 non-null  float64\n",
            " 29  NAME_YIELD_GROUP             1670214 non-null  object \n",
            " 30  PRODUCT_COMBINATION          1669868 non-null  object \n",
            " 31  DAYS_FIRST_DRAWING           997149 non-null   float64\n",
            " 32  DAYS_FIRST_DUE               997149 non-null   float64\n",
            " 33  DAYS_LAST_DUE_1ST_VERSION    997149 non-null   float64\n",
            " 34  DAYS_LAST_DUE                997149 non-null   float64\n",
            " 35  DAYS_TERMINATION             997149 non-null   float64\n",
            " 36  NFLAG_INSURED_ON_APPROVAL    997149 non-null   float64\n",
            "dtypes: float64(15), int64(6), object(16)\n",
            "memory usage: 471.5+ MB\n"
          ]
        }
      ]
    },
    {
      "cell_type": "code",
      "source": [
        "pa_df.describe()"
      ],
      "metadata": {
        "id": "2LmhJEpHxzCZ",
        "colab": {
          "base_uri": "https://localhost:8080/",
          "height": 394
        },
        "outputId": "ba284a1c-9d21-4803-bb85-ff9f4232ae72"
      },
      "execution_count": null,
      "outputs": [
        {
          "output_type": "execute_result",
          "data": {
            "text/plain": [
              "         SK_ID_PREV    SK_ID_CURR   AMT_ANNUITY  AMT_APPLICATION  \\\n",
              "count  1.670214e+06  1.670214e+06  1.297979e+06     1.670214e+06   \n",
              "mean   1.923089e+06  2.783572e+05  1.595512e+04     1.752339e+05   \n",
              "std    5.325980e+05  1.028148e+05  1.478214e+04     2.927798e+05   \n",
              "min    1.000001e+06  1.000010e+05  0.000000e+00     0.000000e+00   \n",
              "25%    1.461857e+06  1.893290e+05  6.321780e+03     1.872000e+04   \n",
              "50%    1.923110e+06  2.787145e+05  1.125000e+04     7.104600e+04   \n",
              "75%    2.384280e+06  3.675140e+05  2.065842e+04     1.803600e+05   \n",
              "max    2.845382e+06  4.562550e+05  4.180581e+05     6.905160e+06   \n",
              "\n",
              "         AMT_CREDIT  AMT_DOWN_PAYMENT  AMT_GOODS_PRICE  \\\n",
              "count  1.670213e+06      7.743700e+05     1.284699e+06   \n",
              "mean   1.961140e+05      6.697402e+03     2.278473e+05   \n",
              "std    3.185746e+05      2.092150e+04     3.153966e+05   \n",
              "min    0.000000e+00     -9.000000e-01     0.000000e+00   \n",
              "25%    2.416050e+04      0.000000e+00     5.084100e+04   \n",
              "50%    8.054100e+04      1.638000e+03     1.123200e+05   \n",
              "75%    2.164185e+05      7.740000e+03     2.340000e+05   \n",
              "max    6.905160e+06      3.060045e+06     6.905160e+06   \n",
              "\n",
              "       HOUR_APPR_PROCESS_START  NFLAG_LAST_APPL_IN_DAY  RATE_DOWN_PAYMENT  \\\n",
              "count             1.670214e+06            1.670214e+06      774370.000000   \n",
              "mean              1.248418e+01            9.964675e-01           0.079637   \n",
              "std               3.334028e+00            5.932963e-02           0.107823   \n",
              "min               0.000000e+00            0.000000e+00          -0.000015   \n",
              "25%               1.000000e+01            1.000000e+00           0.000000   \n",
              "50%               1.200000e+01            1.000000e+00           0.051605   \n",
              "75%               1.500000e+01            1.000000e+00           0.108909   \n",
              "max               2.300000e+01            1.000000e+00           1.000000   \n",
              "\n",
              "       ...  RATE_INTEREST_PRIVILEGED  DAYS_DECISION  SELLERPLACE_AREA  \\\n",
              "count  ...               5951.000000   1.670214e+06      1.670214e+06   \n",
              "mean   ...                  0.773503  -8.806797e+02      3.139511e+02   \n",
              "std    ...                  0.100879   7.790997e+02      7.127443e+03   \n",
              "min    ...                  0.373150  -2.922000e+03     -1.000000e+00   \n",
              "25%    ...                  0.715645  -1.300000e+03     -1.000000e+00   \n",
              "50%    ...                  0.835095  -5.810000e+02      3.000000e+00   \n",
              "75%    ...                  0.852537  -2.800000e+02      8.200000e+01   \n",
              "max    ...                  1.000000  -1.000000e+00      4.000000e+06   \n",
              "\n",
              "        CNT_PAYMENT  DAYS_FIRST_DRAWING  DAYS_FIRST_DUE  \\\n",
              "count  1.297984e+06       997149.000000   997149.000000   \n",
              "mean   1.605408e+01       342209.855039    13826.269337   \n",
              "std    1.456729e+01        88916.115833    72444.869708   \n",
              "min    0.000000e+00        -2922.000000    -2892.000000   \n",
              "25%    6.000000e+00       365243.000000    -1628.000000   \n",
              "50%    1.200000e+01       365243.000000     -831.000000   \n",
              "75%    2.400000e+01       365243.000000     -411.000000   \n",
              "max    8.400000e+01       365243.000000   365243.000000   \n",
              "\n",
              "       DAYS_LAST_DUE_1ST_VERSION  DAYS_LAST_DUE  DAYS_TERMINATION  \\\n",
              "count              997149.000000  997149.000000     997149.000000   \n",
              "mean                33767.774054   76582.403064      81992.343838   \n",
              "std                106857.034789  149647.415123     153303.516729   \n",
              "min                 -2801.000000   -2889.000000      -2874.000000   \n",
              "25%                 -1242.000000   -1314.000000      -1270.000000   \n",
              "50%                  -361.000000    -537.000000       -499.000000   \n",
              "75%                   129.000000     -74.000000        -44.000000   \n",
              "max                365243.000000  365243.000000     365243.000000   \n",
              "\n",
              "       NFLAG_INSURED_ON_APPROVAL  \n",
              "count              997149.000000  \n",
              "mean                    0.332570  \n",
              "std                     0.471134  \n",
              "min                     0.000000  \n",
              "25%                     0.000000  \n",
              "50%                     0.000000  \n",
              "75%                     1.000000  \n",
              "max                     1.000000  \n",
              "\n",
              "[8 rows x 21 columns]"
            ],
            "text/html": [
              "\n",
              "  <div id=\"df-493cbdb1-37e1-4bc1-ad65-a589b1d1ed50\">\n",
              "    <div class=\"colab-df-container\">\n",
              "      <div>\n",
              "<style scoped>\n",
              "    .dataframe tbody tr th:only-of-type {\n",
              "        vertical-align: middle;\n",
              "    }\n",
              "\n",
              "    .dataframe tbody tr th {\n",
              "        vertical-align: top;\n",
              "    }\n",
              "\n",
              "    .dataframe thead th {\n",
              "        text-align: right;\n",
              "    }\n",
              "</style>\n",
              "<table border=\"1\" class=\"dataframe\">\n",
              "  <thead>\n",
              "    <tr style=\"text-align: right;\">\n",
              "      <th></th>\n",
              "      <th>SK_ID_PREV</th>\n",
              "      <th>SK_ID_CURR</th>\n",
              "      <th>AMT_ANNUITY</th>\n",
              "      <th>AMT_APPLICATION</th>\n",
              "      <th>AMT_CREDIT</th>\n",
              "      <th>AMT_DOWN_PAYMENT</th>\n",
              "      <th>AMT_GOODS_PRICE</th>\n",
              "      <th>HOUR_APPR_PROCESS_START</th>\n",
              "      <th>NFLAG_LAST_APPL_IN_DAY</th>\n",
              "      <th>RATE_DOWN_PAYMENT</th>\n",
              "      <th>...</th>\n",
              "      <th>RATE_INTEREST_PRIVILEGED</th>\n",
              "      <th>DAYS_DECISION</th>\n",
              "      <th>SELLERPLACE_AREA</th>\n",
              "      <th>CNT_PAYMENT</th>\n",
              "      <th>DAYS_FIRST_DRAWING</th>\n",
              "      <th>DAYS_FIRST_DUE</th>\n",
              "      <th>DAYS_LAST_DUE_1ST_VERSION</th>\n",
              "      <th>DAYS_LAST_DUE</th>\n",
              "      <th>DAYS_TERMINATION</th>\n",
              "      <th>NFLAG_INSURED_ON_APPROVAL</th>\n",
              "    </tr>\n",
              "  </thead>\n",
              "  <tbody>\n",
              "    <tr>\n",
              "      <th>count</th>\n",
              "      <td>1.670214e+06</td>\n",
              "      <td>1.670214e+06</td>\n",
              "      <td>1.297979e+06</td>\n",
              "      <td>1.670214e+06</td>\n",
              "      <td>1.670213e+06</td>\n",
              "      <td>7.743700e+05</td>\n",
              "      <td>1.284699e+06</td>\n",
              "      <td>1.670214e+06</td>\n",
              "      <td>1.670214e+06</td>\n",
              "      <td>774370.000000</td>\n",
              "      <td>...</td>\n",
              "      <td>5951.000000</td>\n",
              "      <td>1.670214e+06</td>\n",
              "      <td>1.670214e+06</td>\n",
              "      <td>1.297984e+06</td>\n",
              "      <td>997149.000000</td>\n",
              "      <td>997149.000000</td>\n",
              "      <td>997149.000000</td>\n",
              "      <td>997149.000000</td>\n",
              "      <td>997149.000000</td>\n",
              "      <td>997149.000000</td>\n",
              "    </tr>\n",
              "    <tr>\n",
              "      <th>mean</th>\n",
              "      <td>1.923089e+06</td>\n",
              "      <td>2.783572e+05</td>\n",
              "      <td>1.595512e+04</td>\n",
              "      <td>1.752339e+05</td>\n",
              "      <td>1.961140e+05</td>\n",
              "      <td>6.697402e+03</td>\n",
              "      <td>2.278473e+05</td>\n",
              "      <td>1.248418e+01</td>\n",
              "      <td>9.964675e-01</td>\n",
              "      <td>0.079637</td>\n",
              "      <td>...</td>\n",
              "      <td>0.773503</td>\n",
              "      <td>-8.806797e+02</td>\n",
              "      <td>3.139511e+02</td>\n",
              "      <td>1.605408e+01</td>\n",
              "      <td>342209.855039</td>\n",
              "      <td>13826.269337</td>\n",
              "      <td>33767.774054</td>\n",
              "      <td>76582.403064</td>\n",
              "      <td>81992.343838</td>\n",
              "      <td>0.332570</td>\n",
              "    </tr>\n",
              "    <tr>\n",
              "      <th>std</th>\n",
              "      <td>5.325980e+05</td>\n",
              "      <td>1.028148e+05</td>\n",
              "      <td>1.478214e+04</td>\n",
              "      <td>2.927798e+05</td>\n",
              "      <td>3.185746e+05</td>\n",
              "      <td>2.092150e+04</td>\n",
              "      <td>3.153966e+05</td>\n",
              "      <td>3.334028e+00</td>\n",
              "      <td>5.932963e-02</td>\n",
              "      <td>0.107823</td>\n",
              "      <td>...</td>\n",
              "      <td>0.100879</td>\n",
              "      <td>7.790997e+02</td>\n",
              "      <td>7.127443e+03</td>\n",
              "      <td>1.456729e+01</td>\n",
              "      <td>88916.115833</td>\n",
              "      <td>72444.869708</td>\n",
              "      <td>106857.034789</td>\n",
              "      <td>149647.415123</td>\n",
              "      <td>153303.516729</td>\n",
              "      <td>0.471134</td>\n",
              "    </tr>\n",
              "    <tr>\n",
              "      <th>min</th>\n",
              "      <td>1.000001e+06</td>\n",
              "      <td>1.000010e+05</td>\n",
              "      <td>0.000000e+00</td>\n",
              "      <td>0.000000e+00</td>\n",
              "      <td>0.000000e+00</td>\n",
              "      <td>-9.000000e-01</td>\n",
              "      <td>0.000000e+00</td>\n",
              "      <td>0.000000e+00</td>\n",
              "      <td>0.000000e+00</td>\n",
              "      <td>-0.000015</td>\n",
              "      <td>...</td>\n",
              "      <td>0.373150</td>\n",
              "      <td>-2.922000e+03</td>\n",
              "      <td>-1.000000e+00</td>\n",
              "      <td>0.000000e+00</td>\n",
              "      <td>-2922.000000</td>\n",
              "      <td>-2892.000000</td>\n",
              "      <td>-2801.000000</td>\n",
              "      <td>-2889.000000</td>\n",
              "      <td>-2874.000000</td>\n",
              "      <td>0.000000</td>\n",
              "    </tr>\n",
              "    <tr>\n",
              "      <th>25%</th>\n",
              "      <td>1.461857e+06</td>\n",
              "      <td>1.893290e+05</td>\n",
              "      <td>6.321780e+03</td>\n",
              "      <td>1.872000e+04</td>\n",
              "      <td>2.416050e+04</td>\n",
              "      <td>0.000000e+00</td>\n",
              "      <td>5.084100e+04</td>\n",
              "      <td>1.000000e+01</td>\n",
              "      <td>1.000000e+00</td>\n",
              "      <td>0.000000</td>\n",
              "      <td>...</td>\n",
              "      <td>0.715645</td>\n",
              "      <td>-1.300000e+03</td>\n",
              "      <td>-1.000000e+00</td>\n",
              "      <td>6.000000e+00</td>\n",
              "      <td>365243.000000</td>\n",
              "      <td>-1628.000000</td>\n",
              "      <td>-1242.000000</td>\n",
              "      <td>-1314.000000</td>\n",
              "      <td>-1270.000000</td>\n",
              "      <td>0.000000</td>\n",
              "    </tr>\n",
              "    <tr>\n",
              "      <th>50%</th>\n",
              "      <td>1.923110e+06</td>\n",
              "      <td>2.787145e+05</td>\n",
              "      <td>1.125000e+04</td>\n",
              "      <td>7.104600e+04</td>\n",
              "      <td>8.054100e+04</td>\n",
              "      <td>1.638000e+03</td>\n",
              "      <td>1.123200e+05</td>\n",
              "      <td>1.200000e+01</td>\n",
              "      <td>1.000000e+00</td>\n",
              "      <td>0.051605</td>\n",
              "      <td>...</td>\n",
              "      <td>0.835095</td>\n",
              "      <td>-5.810000e+02</td>\n",
              "      <td>3.000000e+00</td>\n",
              "      <td>1.200000e+01</td>\n",
              "      <td>365243.000000</td>\n",
              "      <td>-831.000000</td>\n",
              "      <td>-361.000000</td>\n",
              "      <td>-537.000000</td>\n",
              "      <td>-499.000000</td>\n",
              "      <td>0.000000</td>\n",
              "    </tr>\n",
              "    <tr>\n",
              "      <th>75%</th>\n",
              "      <td>2.384280e+06</td>\n",
              "      <td>3.675140e+05</td>\n",
              "      <td>2.065842e+04</td>\n",
              "      <td>1.803600e+05</td>\n",
              "      <td>2.164185e+05</td>\n",
              "      <td>7.740000e+03</td>\n",
              "      <td>2.340000e+05</td>\n",
              "      <td>1.500000e+01</td>\n",
              "      <td>1.000000e+00</td>\n",
              "      <td>0.108909</td>\n",
              "      <td>...</td>\n",
              "      <td>0.852537</td>\n",
              "      <td>-2.800000e+02</td>\n",
              "      <td>8.200000e+01</td>\n",
              "      <td>2.400000e+01</td>\n",
              "      <td>365243.000000</td>\n",
              "      <td>-411.000000</td>\n",
              "      <td>129.000000</td>\n",
              "      <td>-74.000000</td>\n",
              "      <td>-44.000000</td>\n",
              "      <td>1.000000</td>\n",
              "    </tr>\n",
              "    <tr>\n",
              "      <th>max</th>\n",
              "      <td>2.845382e+06</td>\n",
              "      <td>4.562550e+05</td>\n",
              "      <td>4.180581e+05</td>\n",
              "      <td>6.905160e+06</td>\n",
              "      <td>6.905160e+06</td>\n",
              "      <td>3.060045e+06</td>\n",
              "      <td>6.905160e+06</td>\n",
              "      <td>2.300000e+01</td>\n",
              "      <td>1.000000e+00</td>\n",
              "      <td>1.000000</td>\n",
              "      <td>...</td>\n",
              "      <td>1.000000</td>\n",
              "      <td>-1.000000e+00</td>\n",
              "      <td>4.000000e+06</td>\n",
              "      <td>8.400000e+01</td>\n",
              "      <td>365243.000000</td>\n",
              "      <td>365243.000000</td>\n",
              "      <td>365243.000000</td>\n",
              "      <td>365243.000000</td>\n",
              "      <td>365243.000000</td>\n",
              "      <td>1.000000</td>\n",
              "    </tr>\n",
              "  </tbody>\n",
              "</table>\n",
              "<p>8 rows × 21 columns</p>\n",
              "</div>\n",
              "      <button class=\"colab-df-convert\" onclick=\"convertToInteractive('df-493cbdb1-37e1-4bc1-ad65-a589b1d1ed50')\"\n",
              "              title=\"Convert this dataframe to an interactive table.\"\n",
              "              style=\"display:none;\">\n",
              "        \n",
              "  <svg xmlns=\"http://www.w3.org/2000/svg\" height=\"24px\"viewBox=\"0 0 24 24\"\n",
              "       width=\"24px\">\n",
              "    <path d=\"M0 0h24v24H0V0z\" fill=\"none\"/>\n",
              "    <path d=\"M18.56 5.44l.94 2.06.94-2.06 2.06-.94-2.06-.94-.94-2.06-.94 2.06-2.06.94zm-11 1L8.5 8.5l.94-2.06 2.06-.94-2.06-.94L8.5 2.5l-.94 2.06-2.06.94zm10 10l.94 2.06.94-2.06 2.06-.94-2.06-.94-.94-2.06-.94 2.06-2.06.94z\"/><path d=\"M17.41 7.96l-1.37-1.37c-.4-.4-.92-.59-1.43-.59-.52 0-1.04.2-1.43.59L10.3 9.45l-7.72 7.72c-.78.78-.78 2.05 0 2.83L4 21.41c.39.39.9.59 1.41.59.51 0 1.02-.2 1.41-.59l7.78-7.78 2.81-2.81c.8-.78.8-2.07 0-2.86zM5.41 20L4 18.59l7.72-7.72 1.47 1.35L5.41 20z\"/>\n",
              "  </svg>\n",
              "      </button>\n",
              "      \n",
              "  <style>\n",
              "    .colab-df-container {\n",
              "      display:flex;\n",
              "      flex-wrap:wrap;\n",
              "      gap: 12px;\n",
              "    }\n",
              "\n",
              "    .colab-df-convert {\n",
              "      background-color: #E8F0FE;\n",
              "      border: none;\n",
              "      border-radius: 50%;\n",
              "      cursor: pointer;\n",
              "      display: none;\n",
              "      fill: #1967D2;\n",
              "      height: 32px;\n",
              "      padding: 0 0 0 0;\n",
              "      width: 32px;\n",
              "    }\n",
              "\n",
              "    .colab-df-convert:hover {\n",
              "      background-color: #E2EBFA;\n",
              "      box-shadow: 0px 1px 2px rgba(60, 64, 67, 0.3), 0px 1px 3px 1px rgba(60, 64, 67, 0.15);\n",
              "      fill: #174EA6;\n",
              "    }\n",
              "\n",
              "    [theme=dark] .colab-df-convert {\n",
              "      background-color: #3B4455;\n",
              "      fill: #D2E3FC;\n",
              "    }\n",
              "\n",
              "    [theme=dark] .colab-df-convert:hover {\n",
              "      background-color: #434B5C;\n",
              "      box-shadow: 0px 1px 3px 1px rgba(0, 0, 0, 0.15);\n",
              "      filter: drop-shadow(0px 1px 2px rgba(0, 0, 0, 0.3));\n",
              "      fill: #FFFFFF;\n",
              "    }\n",
              "  </style>\n",
              "\n",
              "      <script>\n",
              "        const buttonEl =\n",
              "          document.querySelector('#df-493cbdb1-37e1-4bc1-ad65-a589b1d1ed50 button.colab-df-convert');\n",
              "        buttonEl.style.display =\n",
              "          google.colab.kernel.accessAllowed ? 'block' : 'none';\n",
              "\n",
              "        async function convertToInteractive(key) {\n",
              "          const element = document.querySelector('#df-493cbdb1-37e1-4bc1-ad65-a589b1d1ed50');\n",
              "          const dataTable =\n",
              "            await google.colab.kernel.invokeFunction('convertToInteractive',\n",
              "                                                     [key], {});\n",
              "          if (!dataTable) return;\n",
              "\n",
              "          const docLinkHtml = 'Like what you see? Visit the ' +\n",
              "            '<a target=\"_blank\" href=https://colab.research.google.com/notebooks/data_table.ipynb>data table notebook</a>'\n",
              "            + ' to learn more about interactive tables.';\n",
              "          element.innerHTML = '';\n",
              "          dataTable['output_type'] = 'display_data';\n",
              "          await google.colab.output.renderOutput(dataTable, element);\n",
              "          const docLink = document.createElement('div');\n",
              "          docLink.innerHTML = docLinkHtml;\n",
              "          element.appendChild(docLink);\n",
              "        }\n",
              "      </script>\n",
              "    </div>\n",
              "  </div>\n",
              "  "
            ]
          },
          "metadata": {},
          "execution_count": 17
        }
      ]
    },
    {
      "cell_type": "code",
      "source": [
        "# checking all the columns including those that are of type object\n",
        "pa_df.describe(include='all')"
      ],
      "metadata": {
        "id": "RZRrWUeZx82G",
        "colab": {
          "base_uri": "https://localhost:8080/",
          "height": 488
        },
        "outputId": "495e376a-8cfb-44f9-9f40-1943d2e4f582"
      },
      "execution_count": null,
      "outputs": [
        {
          "output_type": "execute_result",
          "data": {
            "text/plain": [
              "          SK_ID_PREV    SK_ID_CURR NAME_CONTRACT_TYPE   AMT_ANNUITY  \\\n",
              "count   1.670214e+06  1.670214e+06            1670214  1.297979e+06   \n",
              "unique           NaN           NaN                  4           NaN   \n",
              "top              NaN           NaN         Cash loans           NaN   \n",
              "freq             NaN           NaN             747553           NaN   \n",
              "mean    1.923089e+06  2.783572e+05                NaN  1.595512e+04   \n",
              "std     5.325980e+05  1.028148e+05                NaN  1.478214e+04   \n",
              "min     1.000001e+06  1.000010e+05                NaN  0.000000e+00   \n",
              "25%     1.461857e+06  1.893290e+05                NaN  6.321780e+03   \n",
              "50%     1.923110e+06  2.787145e+05                NaN  1.125000e+04   \n",
              "75%     2.384280e+06  3.675140e+05                NaN  2.065842e+04   \n",
              "max     2.845382e+06  4.562550e+05                NaN  4.180581e+05   \n",
              "\n",
              "        AMT_APPLICATION    AMT_CREDIT  AMT_DOWN_PAYMENT  AMT_GOODS_PRICE  \\\n",
              "count      1.670214e+06  1.670213e+06      7.743700e+05     1.284699e+06   \n",
              "unique              NaN           NaN               NaN              NaN   \n",
              "top                 NaN           NaN               NaN              NaN   \n",
              "freq                NaN           NaN               NaN              NaN   \n",
              "mean       1.752339e+05  1.961140e+05      6.697402e+03     2.278473e+05   \n",
              "std        2.927798e+05  3.185746e+05      2.092150e+04     3.153966e+05   \n",
              "min        0.000000e+00  0.000000e+00     -9.000000e-01     0.000000e+00   \n",
              "25%        1.872000e+04  2.416050e+04      0.000000e+00     5.084100e+04   \n",
              "50%        7.104600e+04  8.054100e+04      1.638000e+03     1.123200e+05   \n",
              "75%        1.803600e+05  2.164185e+05      7.740000e+03     2.340000e+05   \n",
              "max        6.905160e+06  6.905160e+06      3.060045e+06     6.905160e+06   \n",
              "\n",
              "       WEEKDAY_APPR_PROCESS_START  HOUR_APPR_PROCESS_START  ...  \\\n",
              "count                     1670214             1.670214e+06  ...   \n",
              "unique                          7                      NaN  ...   \n",
              "top                       TUESDAY                      NaN  ...   \n",
              "freq                       255118                      NaN  ...   \n",
              "mean                          NaN             1.248418e+01  ...   \n",
              "std                           NaN             3.334028e+00  ...   \n",
              "min                           NaN             0.000000e+00  ...   \n",
              "25%                           NaN             1.000000e+01  ...   \n",
              "50%                           NaN             1.200000e+01  ...   \n",
              "75%                           NaN             1.500000e+01  ...   \n",
              "max                           NaN             2.300000e+01  ...   \n",
              "\n",
              "       NAME_SELLER_INDUSTRY   CNT_PAYMENT  NAME_YIELD_GROUP  \\\n",
              "count               1670214  1.297984e+06           1670214   \n",
              "unique                   11           NaN                 5   \n",
              "top                     XNA           NaN               XNA   \n",
              "freq                 855720           NaN            517215   \n",
              "mean                    NaN  1.605408e+01               NaN   \n",
              "std                     NaN  1.456729e+01               NaN   \n",
              "min                     NaN  0.000000e+00               NaN   \n",
              "25%                     NaN  6.000000e+00               NaN   \n",
              "50%                     NaN  1.200000e+01               NaN   \n",
              "75%                     NaN  2.400000e+01               NaN   \n",
              "max                     NaN  8.400000e+01               NaN   \n",
              "\n",
              "        PRODUCT_COMBINATION  DAYS_FIRST_DRAWING DAYS_FIRST_DUE  \\\n",
              "count               1669868       997149.000000  997149.000000   \n",
              "unique                   17                 NaN            NaN   \n",
              "top                    Cash                 NaN            NaN   \n",
              "freq                 285990                 NaN            NaN   \n",
              "mean                    NaN       342209.855039   13826.269337   \n",
              "std                     NaN        88916.115833   72444.869708   \n",
              "min                     NaN        -2922.000000   -2892.000000   \n",
              "25%                     NaN       365243.000000   -1628.000000   \n",
              "50%                     NaN       365243.000000    -831.000000   \n",
              "75%                     NaN       365243.000000    -411.000000   \n",
              "max                     NaN       365243.000000  365243.000000   \n",
              "\n",
              "       DAYS_LAST_DUE_1ST_VERSION  DAYS_LAST_DUE DAYS_TERMINATION  \\\n",
              "count              997149.000000  997149.000000    997149.000000   \n",
              "unique                       NaN            NaN              NaN   \n",
              "top                          NaN            NaN              NaN   \n",
              "freq                         NaN            NaN              NaN   \n",
              "mean                33767.774054   76582.403064     81992.343838   \n",
              "std                106857.034789  149647.415123    153303.516729   \n",
              "min                 -2801.000000   -2889.000000     -2874.000000   \n",
              "25%                 -1242.000000   -1314.000000     -1270.000000   \n",
              "50%                  -361.000000    -537.000000      -499.000000   \n",
              "75%                   129.000000     -74.000000       -44.000000   \n",
              "max                365243.000000  365243.000000    365243.000000   \n",
              "\n",
              "       NFLAG_INSURED_ON_APPROVAL  \n",
              "count              997149.000000  \n",
              "unique                       NaN  \n",
              "top                          NaN  \n",
              "freq                         NaN  \n",
              "mean                    0.332570  \n",
              "std                     0.471134  \n",
              "min                     0.000000  \n",
              "25%                     0.000000  \n",
              "50%                     0.000000  \n",
              "75%                     1.000000  \n",
              "max                     1.000000  \n",
              "\n",
              "[11 rows x 37 columns]"
            ],
            "text/html": [
              "\n",
              "  <div id=\"df-fe7eeab2-d359-4a59-970f-38e6a2dd210b\">\n",
              "    <div class=\"colab-df-container\">\n",
              "      <div>\n",
              "<style scoped>\n",
              "    .dataframe tbody tr th:only-of-type {\n",
              "        vertical-align: middle;\n",
              "    }\n",
              "\n",
              "    .dataframe tbody tr th {\n",
              "        vertical-align: top;\n",
              "    }\n",
              "\n",
              "    .dataframe thead th {\n",
              "        text-align: right;\n",
              "    }\n",
              "</style>\n",
              "<table border=\"1\" class=\"dataframe\">\n",
              "  <thead>\n",
              "    <tr style=\"text-align: right;\">\n",
              "      <th></th>\n",
              "      <th>SK_ID_PREV</th>\n",
              "      <th>SK_ID_CURR</th>\n",
              "      <th>NAME_CONTRACT_TYPE</th>\n",
              "      <th>AMT_ANNUITY</th>\n",
              "      <th>AMT_APPLICATION</th>\n",
              "      <th>AMT_CREDIT</th>\n",
              "      <th>AMT_DOWN_PAYMENT</th>\n",
              "      <th>AMT_GOODS_PRICE</th>\n",
              "      <th>WEEKDAY_APPR_PROCESS_START</th>\n",
              "      <th>HOUR_APPR_PROCESS_START</th>\n",
              "      <th>...</th>\n",
              "      <th>NAME_SELLER_INDUSTRY</th>\n",
              "      <th>CNT_PAYMENT</th>\n",
              "      <th>NAME_YIELD_GROUP</th>\n",
              "      <th>PRODUCT_COMBINATION</th>\n",
              "      <th>DAYS_FIRST_DRAWING</th>\n",
              "      <th>DAYS_FIRST_DUE</th>\n",
              "      <th>DAYS_LAST_DUE_1ST_VERSION</th>\n",
              "      <th>DAYS_LAST_DUE</th>\n",
              "      <th>DAYS_TERMINATION</th>\n",
              "      <th>NFLAG_INSURED_ON_APPROVAL</th>\n",
              "    </tr>\n",
              "  </thead>\n",
              "  <tbody>\n",
              "    <tr>\n",
              "      <th>count</th>\n",
              "      <td>1.670214e+06</td>\n",
              "      <td>1.670214e+06</td>\n",
              "      <td>1670214</td>\n",
              "      <td>1.297979e+06</td>\n",
              "      <td>1.670214e+06</td>\n",
              "      <td>1.670213e+06</td>\n",
              "      <td>7.743700e+05</td>\n",
              "      <td>1.284699e+06</td>\n",
              "      <td>1670214</td>\n",
              "      <td>1.670214e+06</td>\n",
              "      <td>...</td>\n",
              "      <td>1670214</td>\n",
              "      <td>1.297984e+06</td>\n",
              "      <td>1670214</td>\n",
              "      <td>1669868</td>\n",
              "      <td>997149.000000</td>\n",
              "      <td>997149.000000</td>\n",
              "      <td>997149.000000</td>\n",
              "      <td>997149.000000</td>\n",
              "      <td>997149.000000</td>\n",
              "      <td>997149.000000</td>\n",
              "    </tr>\n",
              "    <tr>\n",
              "      <th>unique</th>\n",
              "      <td>NaN</td>\n",
              "      <td>NaN</td>\n",
              "      <td>4</td>\n",
              "      <td>NaN</td>\n",
              "      <td>NaN</td>\n",
              "      <td>NaN</td>\n",
              "      <td>NaN</td>\n",
              "      <td>NaN</td>\n",
              "      <td>7</td>\n",
              "      <td>NaN</td>\n",
              "      <td>...</td>\n",
              "      <td>11</td>\n",
              "      <td>NaN</td>\n",
              "      <td>5</td>\n",
              "      <td>17</td>\n",
              "      <td>NaN</td>\n",
              "      <td>NaN</td>\n",
              "      <td>NaN</td>\n",
              "      <td>NaN</td>\n",
              "      <td>NaN</td>\n",
              "      <td>NaN</td>\n",
              "    </tr>\n",
              "    <tr>\n",
              "      <th>top</th>\n",
              "      <td>NaN</td>\n",
              "      <td>NaN</td>\n",
              "      <td>Cash loans</td>\n",
              "      <td>NaN</td>\n",
              "      <td>NaN</td>\n",
              "      <td>NaN</td>\n",
              "      <td>NaN</td>\n",
              "      <td>NaN</td>\n",
              "      <td>TUESDAY</td>\n",
              "      <td>NaN</td>\n",
              "      <td>...</td>\n",
              "      <td>XNA</td>\n",
              "      <td>NaN</td>\n",
              "      <td>XNA</td>\n",
              "      <td>Cash</td>\n",
              "      <td>NaN</td>\n",
              "      <td>NaN</td>\n",
              "      <td>NaN</td>\n",
              "      <td>NaN</td>\n",
              "      <td>NaN</td>\n",
              "      <td>NaN</td>\n",
              "    </tr>\n",
              "    <tr>\n",
              "      <th>freq</th>\n",
              "      <td>NaN</td>\n",
              "      <td>NaN</td>\n",
              "      <td>747553</td>\n",
              "      <td>NaN</td>\n",
              "      <td>NaN</td>\n",
              "      <td>NaN</td>\n",
              "      <td>NaN</td>\n",
              "      <td>NaN</td>\n",
              "      <td>255118</td>\n",
              "      <td>NaN</td>\n",
              "      <td>...</td>\n",
              "      <td>855720</td>\n",
              "      <td>NaN</td>\n",
              "      <td>517215</td>\n",
              "      <td>285990</td>\n",
              "      <td>NaN</td>\n",
              "      <td>NaN</td>\n",
              "      <td>NaN</td>\n",
              "      <td>NaN</td>\n",
              "      <td>NaN</td>\n",
              "      <td>NaN</td>\n",
              "    </tr>\n",
              "    <tr>\n",
              "      <th>mean</th>\n",
              "      <td>1.923089e+06</td>\n",
              "      <td>2.783572e+05</td>\n",
              "      <td>NaN</td>\n",
              "      <td>1.595512e+04</td>\n",
              "      <td>1.752339e+05</td>\n",
              "      <td>1.961140e+05</td>\n",
              "      <td>6.697402e+03</td>\n",
              "      <td>2.278473e+05</td>\n",
              "      <td>NaN</td>\n",
              "      <td>1.248418e+01</td>\n",
              "      <td>...</td>\n",
              "      <td>NaN</td>\n",
              "      <td>1.605408e+01</td>\n",
              "      <td>NaN</td>\n",
              "      <td>NaN</td>\n",
              "      <td>342209.855039</td>\n",
              "      <td>13826.269337</td>\n",
              "      <td>33767.774054</td>\n",
              "      <td>76582.403064</td>\n",
              "      <td>81992.343838</td>\n",
              "      <td>0.332570</td>\n",
              "    </tr>\n",
              "    <tr>\n",
              "      <th>std</th>\n",
              "      <td>5.325980e+05</td>\n",
              "      <td>1.028148e+05</td>\n",
              "      <td>NaN</td>\n",
              "      <td>1.478214e+04</td>\n",
              "      <td>2.927798e+05</td>\n",
              "      <td>3.185746e+05</td>\n",
              "      <td>2.092150e+04</td>\n",
              "      <td>3.153966e+05</td>\n",
              "      <td>NaN</td>\n",
              "      <td>3.334028e+00</td>\n",
              "      <td>...</td>\n",
              "      <td>NaN</td>\n",
              "      <td>1.456729e+01</td>\n",
              "      <td>NaN</td>\n",
              "      <td>NaN</td>\n",
              "      <td>88916.115833</td>\n",
              "      <td>72444.869708</td>\n",
              "      <td>106857.034789</td>\n",
              "      <td>149647.415123</td>\n",
              "      <td>153303.516729</td>\n",
              "      <td>0.471134</td>\n",
              "    </tr>\n",
              "    <tr>\n",
              "      <th>min</th>\n",
              "      <td>1.000001e+06</td>\n",
              "      <td>1.000010e+05</td>\n",
              "      <td>NaN</td>\n",
              "      <td>0.000000e+00</td>\n",
              "      <td>0.000000e+00</td>\n",
              "      <td>0.000000e+00</td>\n",
              "      <td>-9.000000e-01</td>\n",
              "      <td>0.000000e+00</td>\n",
              "      <td>NaN</td>\n",
              "      <td>0.000000e+00</td>\n",
              "      <td>...</td>\n",
              "      <td>NaN</td>\n",
              "      <td>0.000000e+00</td>\n",
              "      <td>NaN</td>\n",
              "      <td>NaN</td>\n",
              "      <td>-2922.000000</td>\n",
              "      <td>-2892.000000</td>\n",
              "      <td>-2801.000000</td>\n",
              "      <td>-2889.000000</td>\n",
              "      <td>-2874.000000</td>\n",
              "      <td>0.000000</td>\n",
              "    </tr>\n",
              "    <tr>\n",
              "      <th>25%</th>\n",
              "      <td>1.461857e+06</td>\n",
              "      <td>1.893290e+05</td>\n",
              "      <td>NaN</td>\n",
              "      <td>6.321780e+03</td>\n",
              "      <td>1.872000e+04</td>\n",
              "      <td>2.416050e+04</td>\n",
              "      <td>0.000000e+00</td>\n",
              "      <td>5.084100e+04</td>\n",
              "      <td>NaN</td>\n",
              "      <td>1.000000e+01</td>\n",
              "      <td>...</td>\n",
              "      <td>NaN</td>\n",
              "      <td>6.000000e+00</td>\n",
              "      <td>NaN</td>\n",
              "      <td>NaN</td>\n",
              "      <td>365243.000000</td>\n",
              "      <td>-1628.000000</td>\n",
              "      <td>-1242.000000</td>\n",
              "      <td>-1314.000000</td>\n",
              "      <td>-1270.000000</td>\n",
              "      <td>0.000000</td>\n",
              "    </tr>\n",
              "    <tr>\n",
              "      <th>50%</th>\n",
              "      <td>1.923110e+06</td>\n",
              "      <td>2.787145e+05</td>\n",
              "      <td>NaN</td>\n",
              "      <td>1.125000e+04</td>\n",
              "      <td>7.104600e+04</td>\n",
              "      <td>8.054100e+04</td>\n",
              "      <td>1.638000e+03</td>\n",
              "      <td>1.123200e+05</td>\n",
              "      <td>NaN</td>\n",
              "      <td>1.200000e+01</td>\n",
              "      <td>...</td>\n",
              "      <td>NaN</td>\n",
              "      <td>1.200000e+01</td>\n",
              "      <td>NaN</td>\n",
              "      <td>NaN</td>\n",
              "      <td>365243.000000</td>\n",
              "      <td>-831.000000</td>\n",
              "      <td>-361.000000</td>\n",
              "      <td>-537.000000</td>\n",
              "      <td>-499.000000</td>\n",
              "      <td>0.000000</td>\n",
              "    </tr>\n",
              "    <tr>\n",
              "      <th>75%</th>\n",
              "      <td>2.384280e+06</td>\n",
              "      <td>3.675140e+05</td>\n",
              "      <td>NaN</td>\n",
              "      <td>2.065842e+04</td>\n",
              "      <td>1.803600e+05</td>\n",
              "      <td>2.164185e+05</td>\n",
              "      <td>7.740000e+03</td>\n",
              "      <td>2.340000e+05</td>\n",
              "      <td>NaN</td>\n",
              "      <td>1.500000e+01</td>\n",
              "      <td>...</td>\n",
              "      <td>NaN</td>\n",
              "      <td>2.400000e+01</td>\n",
              "      <td>NaN</td>\n",
              "      <td>NaN</td>\n",
              "      <td>365243.000000</td>\n",
              "      <td>-411.000000</td>\n",
              "      <td>129.000000</td>\n",
              "      <td>-74.000000</td>\n",
              "      <td>-44.000000</td>\n",
              "      <td>1.000000</td>\n",
              "    </tr>\n",
              "    <tr>\n",
              "      <th>max</th>\n",
              "      <td>2.845382e+06</td>\n",
              "      <td>4.562550e+05</td>\n",
              "      <td>NaN</td>\n",
              "      <td>4.180581e+05</td>\n",
              "      <td>6.905160e+06</td>\n",
              "      <td>6.905160e+06</td>\n",
              "      <td>3.060045e+06</td>\n",
              "      <td>6.905160e+06</td>\n",
              "      <td>NaN</td>\n",
              "      <td>2.300000e+01</td>\n",
              "      <td>...</td>\n",
              "      <td>NaN</td>\n",
              "      <td>8.400000e+01</td>\n",
              "      <td>NaN</td>\n",
              "      <td>NaN</td>\n",
              "      <td>365243.000000</td>\n",
              "      <td>365243.000000</td>\n",
              "      <td>365243.000000</td>\n",
              "      <td>365243.000000</td>\n",
              "      <td>365243.000000</td>\n",
              "      <td>1.000000</td>\n",
              "    </tr>\n",
              "  </tbody>\n",
              "</table>\n",
              "<p>11 rows × 37 columns</p>\n",
              "</div>\n",
              "      <button class=\"colab-df-convert\" onclick=\"convertToInteractive('df-fe7eeab2-d359-4a59-970f-38e6a2dd210b')\"\n",
              "              title=\"Convert this dataframe to an interactive table.\"\n",
              "              style=\"display:none;\">\n",
              "        \n",
              "  <svg xmlns=\"http://www.w3.org/2000/svg\" height=\"24px\"viewBox=\"0 0 24 24\"\n",
              "       width=\"24px\">\n",
              "    <path d=\"M0 0h24v24H0V0z\" fill=\"none\"/>\n",
              "    <path d=\"M18.56 5.44l.94 2.06.94-2.06 2.06-.94-2.06-.94-.94-2.06-.94 2.06-2.06.94zm-11 1L8.5 8.5l.94-2.06 2.06-.94-2.06-.94L8.5 2.5l-.94 2.06-2.06.94zm10 10l.94 2.06.94-2.06 2.06-.94-2.06-.94-.94-2.06-.94 2.06-2.06.94z\"/><path d=\"M17.41 7.96l-1.37-1.37c-.4-.4-.92-.59-1.43-.59-.52 0-1.04.2-1.43.59L10.3 9.45l-7.72 7.72c-.78.78-.78 2.05 0 2.83L4 21.41c.39.39.9.59 1.41.59.51 0 1.02-.2 1.41-.59l7.78-7.78 2.81-2.81c.8-.78.8-2.07 0-2.86zM5.41 20L4 18.59l7.72-7.72 1.47 1.35L5.41 20z\"/>\n",
              "  </svg>\n",
              "      </button>\n",
              "      \n",
              "  <style>\n",
              "    .colab-df-container {\n",
              "      display:flex;\n",
              "      flex-wrap:wrap;\n",
              "      gap: 12px;\n",
              "    }\n",
              "\n",
              "    .colab-df-convert {\n",
              "      background-color: #E8F0FE;\n",
              "      border: none;\n",
              "      border-radius: 50%;\n",
              "      cursor: pointer;\n",
              "      display: none;\n",
              "      fill: #1967D2;\n",
              "      height: 32px;\n",
              "      padding: 0 0 0 0;\n",
              "      width: 32px;\n",
              "    }\n",
              "\n",
              "    .colab-df-convert:hover {\n",
              "      background-color: #E2EBFA;\n",
              "      box-shadow: 0px 1px 2px rgba(60, 64, 67, 0.3), 0px 1px 3px 1px rgba(60, 64, 67, 0.15);\n",
              "      fill: #174EA6;\n",
              "    }\n",
              "\n",
              "    [theme=dark] .colab-df-convert {\n",
              "      background-color: #3B4455;\n",
              "      fill: #D2E3FC;\n",
              "    }\n",
              "\n",
              "    [theme=dark] .colab-df-convert:hover {\n",
              "      background-color: #434B5C;\n",
              "      box-shadow: 0px 1px 3px 1px rgba(0, 0, 0, 0.15);\n",
              "      filter: drop-shadow(0px 1px 2px rgba(0, 0, 0, 0.3));\n",
              "      fill: #FFFFFF;\n",
              "    }\n",
              "  </style>\n",
              "\n",
              "      <script>\n",
              "        const buttonEl =\n",
              "          document.querySelector('#df-fe7eeab2-d359-4a59-970f-38e6a2dd210b button.colab-df-convert');\n",
              "        buttonEl.style.display =\n",
              "          google.colab.kernel.accessAllowed ? 'block' : 'none';\n",
              "\n",
              "        async function convertToInteractive(key) {\n",
              "          const element = document.querySelector('#df-fe7eeab2-d359-4a59-970f-38e6a2dd210b');\n",
              "          const dataTable =\n",
              "            await google.colab.kernel.invokeFunction('convertToInteractive',\n",
              "                                                     [key], {});\n",
              "          if (!dataTable) return;\n",
              "\n",
              "          const docLinkHtml = 'Like what you see? Visit the ' +\n",
              "            '<a target=\"_blank\" href=https://colab.research.google.com/notebooks/data_table.ipynb>data table notebook</a>'\n",
              "            + ' to learn more about interactive tables.';\n",
              "          element.innerHTML = '';\n",
              "          dataTable['output_type'] = 'display_data';\n",
              "          await google.colab.output.renderOutput(dataTable, element);\n",
              "          const docLink = document.createElement('div');\n",
              "          docLink.innerHTML = docLinkHtml;\n",
              "          element.appendChild(docLink);\n",
              "        }\n",
              "      </script>\n",
              "    </div>\n",
              "  </div>\n",
              "  "
            ]
          },
          "metadata": {},
          "execution_count": 18
        }
      ]
    },
    {
      "cell_type": "markdown",
      "source": [
        "# Data Preparation"
      ],
      "metadata": {
        "id": "AhS-Jeb1vW5Y"
      }
    },
    {
      "cell_type": "code",
      "source": [
        "newtest_df= pa_df[['SK_ID_PREV','SK_ID_CURR','NAME_CONTRACT_TYPE','AMT_ANNUITY',\n",
        "                   'AMT_APPLICATION','AMT_CREDIT','AMT_DOWN_PAYMENT','AMT_GOODS_PRICE',\n",
        "                   'NFLAG_LAST_APPL_IN_DAY','RATE_DOWN_PAYMENT','RATE_INTEREST_PRIMARY',\n",
        "                   'RATE_INTEREST_PRIVILEGED','NAME_CASH_LOAN_PURPOSE','NAME_CONTRACT_STATUS',\n",
        "                   'NAME_PAYMENT_TYPE','CODE_REJECT_REASON','NAME_CLIENT_TYPE','NAME_GOODS_CATEGORY',\n",
        "                   'NAME_PORTFOLIO','CHANNEL_TYPE','NAME_SELLER_INDUSTRY','NAME_YIELD_GROUP',\n",
        "                   'DAYS_FIRST_DUE','DAYS_LAST_DUE','DAYS_TERMINATION','NFLAG_INSURED_ON_APPROVAL']]"
      ],
      "metadata": {
        "id": "_sy27psINbB6"
      },
      "execution_count": null,
      "outputs": []
    },
    {
      "cell_type": "code",
      "source": [
        "#creating a new data set using the columns of pa_df\n",
        "\n",
        "list2= ['PREV_CustID', \n",
        "'CURR_CustID',\n",
        "'CONTRACT_TYPE',\n",
        "'AMT_ANNUITY',\n",
        "'AMT_APPLICATION',\n",
        "'AMT_CREDIT',\n",
        "'AMT_DOWN_PAYMENT',\n",
        "'AMT_GOODS_PRICE',\n",
        "'LASTAPPL_PerDAY',\n",
        "'RATE_DOWN_PAYMENT',\n",
        "'RATE_INTEREST_PRIMARY',\n",
        "'RATE_INTEREST_PRIVILEGED',\n",
        "'CASH_LOAN_PURPOSE',\n",
        "'CONTRACT_STATUS',\n",
        "'PAYMENT_TYPE',\n",
        "'CODE_REJECT_REASON',\n",
        "'CLIENT_TYPE',\n",
        "'GOODS_CATEGORY',\n",
        "'PORTFOLIO',\n",
        "'CHANNEL_TYPE',\n",
        "'SELLER_INDUSTRY',\n",
        "'YIELD_GROUP',\n",
        "'FIRST_DUEDay',\n",
        "'LAST_DUEDay',\n",
        "'DAYS_TERMINATION',\n",
        "'INSURED_ON_APPROVAL']"
      ],
      "metadata": {
        "id": "Lsjwq42-KrC4"
      },
      "execution_count": null,
      "outputs": []
    },
    {
      "cell_type": "code",
      "source": [
        "#new dataframe created for pa_df -- \"previous_application\" with change in column names \n",
        "newtest_df.columns= list2"
      ],
      "metadata": {
        "id": "BT1Y40k5NCTj"
      },
      "execution_count": null,
      "outputs": []
    },
    {
      "cell_type": "code",
      "source": [
        "#checking if the list2 concatenated to new dataframe has changed the column names\n",
        "newtest_df.head()"
      ],
      "metadata": {
        "colab": {
          "base_uri": "https://localhost:8080/",
          "height": 369
        },
        "id": "5eJCoYn-RaXk",
        "outputId": "9a245909-87a6-4643-aa50-c71c6a5741bf"
      },
      "execution_count": null,
      "outputs": [
        {
          "output_type": "execute_result",
          "data": {
            "text/plain": [
              "   PREV_CustID  CURR_CustID   CONTRACT_TYPE  AMT_ANNUITY  AMT_APPLICATION  \\\n",
              "0      2030495       271877  Consumer loans     1730.430          17145.0   \n",
              "1      2802425       108129      Cash loans    25188.615         607500.0   \n",
              "2      2523466       122040      Cash loans    15060.735         112500.0   \n",
              "3      2819243       176158      Cash loans    47041.335         450000.0   \n",
              "4      1784265       202054      Cash loans    31924.395         337500.0   \n",
              "\n",
              "   AMT_CREDIT  AMT_DOWN_PAYMENT  AMT_GOODS_PRICE  LASTAPPL_PerDAY  \\\n",
              "0     17145.0               0.0          17145.0                1   \n",
              "1    679671.0               NaN         607500.0                1   \n",
              "2    136444.5               NaN         112500.0                1   \n",
              "3    470790.0               NaN         450000.0                1   \n",
              "4    404055.0               NaN         337500.0                1   \n",
              "\n",
              "   RATE_DOWN_PAYMENT  ...  CLIENT_TYPE  GOODS_CATEGORY PORTFOLIO  \\\n",
              "0                0.0  ...     Repeater          Mobile       POS   \n",
              "1                NaN  ...     Repeater             XNA      Cash   \n",
              "2                NaN  ...     Repeater             XNA      Cash   \n",
              "3                NaN  ...     Repeater             XNA      Cash   \n",
              "4                NaN  ...     Repeater             XNA      Cash   \n",
              "\n",
              "              CHANNEL_TYPE SELLER_INDUSTRY YIELD_GROUP FIRST_DUEDay  \\\n",
              "0             Country-wide    Connectivity      middle        -42.0   \n",
              "1           Contact center             XNA  low_action       -134.0   \n",
              "2  Credit and cash offices             XNA        high       -271.0   \n",
              "3  Credit and cash offices             XNA      middle       -482.0   \n",
              "4  Credit and cash offices             XNA        high          NaN   \n",
              "\n",
              "  LAST_DUEDay DAYS_TERMINATION INSURED_ON_APPROVAL  \n",
              "0       -42.0            -37.0                 0.0  \n",
              "1    365243.0         365243.0                 1.0  \n",
              "2    365243.0         365243.0                 1.0  \n",
              "3      -182.0           -177.0                 1.0  \n",
              "4         NaN              NaN                 NaN  \n",
              "\n",
              "[5 rows x 26 columns]"
            ],
            "text/html": [
              "\n",
              "  <div id=\"df-c23a07c3-1e91-4ae1-beff-c8d38adaaeb7\">\n",
              "    <div class=\"colab-df-container\">\n",
              "      <div>\n",
              "<style scoped>\n",
              "    .dataframe tbody tr th:only-of-type {\n",
              "        vertical-align: middle;\n",
              "    }\n",
              "\n",
              "    .dataframe tbody tr th {\n",
              "        vertical-align: top;\n",
              "    }\n",
              "\n",
              "    .dataframe thead th {\n",
              "        text-align: right;\n",
              "    }\n",
              "</style>\n",
              "<table border=\"1\" class=\"dataframe\">\n",
              "  <thead>\n",
              "    <tr style=\"text-align: right;\">\n",
              "      <th></th>\n",
              "      <th>PREV_CustID</th>\n",
              "      <th>CURR_CustID</th>\n",
              "      <th>CONTRACT_TYPE</th>\n",
              "      <th>AMT_ANNUITY</th>\n",
              "      <th>AMT_APPLICATION</th>\n",
              "      <th>AMT_CREDIT</th>\n",
              "      <th>AMT_DOWN_PAYMENT</th>\n",
              "      <th>AMT_GOODS_PRICE</th>\n",
              "      <th>LASTAPPL_PerDAY</th>\n",
              "      <th>RATE_DOWN_PAYMENT</th>\n",
              "      <th>...</th>\n",
              "      <th>CLIENT_TYPE</th>\n",
              "      <th>GOODS_CATEGORY</th>\n",
              "      <th>PORTFOLIO</th>\n",
              "      <th>CHANNEL_TYPE</th>\n",
              "      <th>SELLER_INDUSTRY</th>\n",
              "      <th>YIELD_GROUP</th>\n",
              "      <th>FIRST_DUEDay</th>\n",
              "      <th>LAST_DUEDay</th>\n",
              "      <th>DAYS_TERMINATION</th>\n",
              "      <th>INSURED_ON_APPROVAL</th>\n",
              "    </tr>\n",
              "  </thead>\n",
              "  <tbody>\n",
              "    <tr>\n",
              "      <th>0</th>\n",
              "      <td>2030495</td>\n",
              "      <td>271877</td>\n",
              "      <td>Consumer loans</td>\n",
              "      <td>1730.430</td>\n",
              "      <td>17145.0</td>\n",
              "      <td>17145.0</td>\n",
              "      <td>0.0</td>\n",
              "      <td>17145.0</td>\n",
              "      <td>1</td>\n",
              "      <td>0.0</td>\n",
              "      <td>...</td>\n",
              "      <td>Repeater</td>\n",
              "      <td>Mobile</td>\n",
              "      <td>POS</td>\n",
              "      <td>Country-wide</td>\n",
              "      <td>Connectivity</td>\n",
              "      <td>middle</td>\n",
              "      <td>-42.0</td>\n",
              "      <td>-42.0</td>\n",
              "      <td>-37.0</td>\n",
              "      <td>0.0</td>\n",
              "    </tr>\n",
              "    <tr>\n",
              "      <th>1</th>\n",
              "      <td>2802425</td>\n",
              "      <td>108129</td>\n",
              "      <td>Cash loans</td>\n",
              "      <td>25188.615</td>\n",
              "      <td>607500.0</td>\n",
              "      <td>679671.0</td>\n",
              "      <td>NaN</td>\n",
              "      <td>607500.0</td>\n",
              "      <td>1</td>\n",
              "      <td>NaN</td>\n",
              "      <td>...</td>\n",
              "      <td>Repeater</td>\n",
              "      <td>XNA</td>\n",
              "      <td>Cash</td>\n",
              "      <td>Contact center</td>\n",
              "      <td>XNA</td>\n",
              "      <td>low_action</td>\n",
              "      <td>-134.0</td>\n",
              "      <td>365243.0</td>\n",
              "      <td>365243.0</td>\n",
              "      <td>1.0</td>\n",
              "    </tr>\n",
              "    <tr>\n",
              "      <th>2</th>\n",
              "      <td>2523466</td>\n",
              "      <td>122040</td>\n",
              "      <td>Cash loans</td>\n",
              "      <td>15060.735</td>\n",
              "      <td>112500.0</td>\n",
              "      <td>136444.5</td>\n",
              "      <td>NaN</td>\n",
              "      <td>112500.0</td>\n",
              "      <td>1</td>\n",
              "      <td>NaN</td>\n",
              "      <td>...</td>\n",
              "      <td>Repeater</td>\n",
              "      <td>XNA</td>\n",
              "      <td>Cash</td>\n",
              "      <td>Credit and cash offices</td>\n",
              "      <td>XNA</td>\n",
              "      <td>high</td>\n",
              "      <td>-271.0</td>\n",
              "      <td>365243.0</td>\n",
              "      <td>365243.0</td>\n",
              "      <td>1.0</td>\n",
              "    </tr>\n",
              "    <tr>\n",
              "      <th>3</th>\n",
              "      <td>2819243</td>\n",
              "      <td>176158</td>\n",
              "      <td>Cash loans</td>\n",
              "      <td>47041.335</td>\n",
              "      <td>450000.0</td>\n",
              "      <td>470790.0</td>\n",
              "      <td>NaN</td>\n",
              "      <td>450000.0</td>\n",
              "      <td>1</td>\n",
              "      <td>NaN</td>\n",
              "      <td>...</td>\n",
              "      <td>Repeater</td>\n",
              "      <td>XNA</td>\n",
              "      <td>Cash</td>\n",
              "      <td>Credit and cash offices</td>\n",
              "      <td>XNA</td>\n",
              "      <td>middle</td>\n",
              "      <td>-482.0</td>\n",
              "      <td>-182.0</td>\n",
              "      <td>-177.0</td>\n",
              "      <td>1.0</td>\n",
              "    </tr>\n",
              "    <tr>\n",
              "      <th>4</th>\n",
              "      <td>1784265</td>\n",
              "      <td>202054</td>\n",
              "      <td>Cash loans</td>\n",
              "      <td>31924.395</td>\n",
              "      <td>337500.0</td>\n",
              "      <td>404055.0</td>\n",
              "      <td>NaN</td>\n",
              "      <td>337500.0</td>\n",
              "      <td>1</td>\n",
              "      <td>NaN</td>\n",
              "      <td>...</td>\n",
              "      <td>Repeater</td>\n",
              "      <td>XNA</td>\n",
              "      <td>Cash</td>\n",
              "      <td>Credit and cash offices</td>\n",
              "      <td>XNA</td>\n",
              "      <td>high</td>\n",
              "      <td>NaN</td>\n",
              "      <td>NaN</td>\n",
              "      <td>NaN</td>\n",
              "      <td>NaN</td>\n",
              "    </tr>\n",
              "  </tbody>\n",
              "</table>\n",
              "<p>5 rows × 26 columns</p>\n",
              "</div>\n",
              "      <button class=\"colab-df-convert\" onclick=\"convertToInteractive('df-c23a07c3-1e91-4ae1-beff-c8d38adaaeb7')\"\n",
              "              title=\"Convert this dataframe to an interactive table.\"\n",
              "              style=\"display:none;\">\n",
              "        \n",
              "  <svg xmlns=\"http://www.w3.org/2000/svg\" height=\"24px\"viewBox=\"0 0 24 24\"\n",
              "       width=\"24px\">\n",
              "    <path d=\"M0 0h24v24H0V0z\" fill=\"none\"/>\n",
              "    <path d=\"M18.56 5.44l.94 2.06.94-2.06 2.06-.94-2.06-.94-.94-2.06-.94 2.06-2.06.94zm-11 1L8.5 8.5l.94-2.06 2.06-.94-2.06-.94L8.5 2.5l-.94 2.06-2.06.94zm10 10l.94 2.06.94-2.06 2.06-.94-2.06-.94-.94-2.06-.94 2.06-2.06.94z\"/><path d=\"M17.41 7.96l-1.37-1.37c-.4-.4-.92-.59-1.43-.59-.52 0-1.04.2-1.43.59L10.3 9.45l-7.72 7.72c-.78.78-.78 2.05 0 2.83L4 21.41c.39.39.9.59 1.41.59.51 0 1.02-.2 1.41-.59l7.78-7.78 2.81-2.81c.8-.78.8-2.07 0-2.86zM5.41 20L4 18.59l7.72-7.72 1.47 1.35L5.41 20z\"/>\n",
              "  </svg>\n",
              "      </button>\n",
              "      \n",
              "  <style>\n",
              "    .colab-df-container {\n",
              "      display:flex;\n",
              "      flex-wrap:wrap;\n",
              "      gap: 12px;\n",
              "    }\n",
              "\n",
              "    .colab-df-convert {\n",
              "      background-color: #E8F0FE;\n",
              "      border: none;\n",
              "      border-radius: 50%;\n",
              "      cursor: pointer;\n",
              "      display: none;\n",
              "      fill: #1967D2;\n",
              "      height: 32px;\n",
              "      padding: 0 0 0 0;\n",
              "      width: 32px;\n",
              "    }\n",
              "\n",
              "    .colab-df-convert:hover {\n",
              "      background-color: #E2EBFA;\n",
              "      box-shadow: 0px 1px 2px rgba(60, 64, 67, 0.3), 0px 1px 3px 1px rgba(60, 64, 67, 0.15);\n",
              "      fill: #174EA6;\n",
              "    }\n",
              "\n",
              "    [theme=dark] .colab-df-convert {\n",
              "      background-color: #3B4455;\n",
              "      fill: #D2E3FC;\n",
              "    }\n",
              "\n",
              "    [theme=dark] .colab-df-convert:hover {\n",
              "      background-color: #434B5C;\n",
              "      box-shadow: 0px 1px 3px 1px rgba(0, 0, 0, 0.15);\n",
              "      filter: drop-shadow(0px 1px 2px rgba(0, 0, 0, 0.3));\n",
              "      fill: #FFFFFF;\n",
              "    }\n",
              "  </style>\n",
              "\n",
              "      <script>\n",
              "        const buttonEl =\n",
              "          document.querySelector('#df-c23a07c3-1e91-4ae1-beff-c8d38adaaeb7 button.colab-df-convert');\n",
              "        buttonEl.style.display =\n",
              "          google.colab.kernel.accessAllowed ? 'block' : 'none';\n",
              "\n",
              "        async function convertToInteractive(key) {\n",
              "          const element = document.querySelector('#df-c23a07c3-1e91-4ae1-beff-c8d38adaaeb7');\n",
              "          const dataTable =\n",
              "            await google.colab.kernel.invokeFunction('convertToInteractive',\n",
              "                                                     [key], {});\n",
              "          if (!dataTable) return;\n",
              "\n",
              "          const docLinkHtml = 'Like what you see? Visit the ' +\n",
              "            '<a target=\"_blank\" href=https://colab.research.google.com/notebooks/data_table.ipynb>data table notebook</a>'\n",
              "            + ' to learn more about interactive tables.';\n",
              "          element.innerHTML = '';\n",
              "          dataTable['output_type'] = 'display_data';\n",
              "          await google.colab.output.renderOutput(dataTable, element);\n",
              "          const docLink = document.createElement('div');\n",
              "          docLink.innerHTML = docLinkHtml;\n",
              "          element.appendChild(docLink);\n",
              "        }\n",
              "      </script>\n",
              "    </div>\n",
              "  </div>\n",
              "  "
            ]
          },
          "metadata": {},
          "execution_count": 22
        }
      ]
    },
    {
      "cell_type": "markdown",
      "source": [
        "--> checking for columns with null values"
      ],
      "metadata": {
        "id": "9IQcJ-bmI-4C"
      }
    },
    {
      "cell_type": "code",
      "source": [
        "#creating a function to find null values for the dataframe appl_data --> previous_data\n",
        "def null_values(pa_df):\n",
        "    return round((pa_df.isnull().sum()*100/len(pa_df)).sort_values(ascending = False),2)"
      ],
      "metadata": {
        "id": "ny1jG6DyyLzm"
      },
      "execution_count": null,
      "outputs": []
    },
    {
      "cell_type": "code",
      "source": [
        "#displaying the column names and displaying the percentage of columns having null values in newtest_df\n",
        "null_values(newtest_df)"
      ],
      "metadata": {
        "id": "11Y7zTyFwZmH",
        "colab": {
          "base_uri": "https://localhost:8080/"
        },
        "outputId": "025c4aff-ac2b-49d9-fd07-f52e2182a17a"
      },
      "execution_count": null,
      "outputs": [
        {
          "output_type": "execute_result",
          "data": {
            "text/plain": [
              "RATE_INTEREST_PRIMARY       99.64\n",
              "RATE_INTEREST_PRIVILEGED    99.64\n",
              "AMT_DOWN_PAYMENT            53.64\n",
              "RATE_DOWN_PAYMENT           53.64\n",
              "INSURED_ON_APPROVAL         40.30\n",
              "DAYS_TERMINATION            40.30\n",
              "LAST_DUEDay                 40.30\n",
              "FIRST_DUEDay                40.30\n",
              "AMT_GOODS_PRICE             23.08\n",
              "AMT_ANNUITY                 22.29\n",
              "AMT_CREDIT                   0.00\n",
              "GOODS_CATEGORY               0.00\n",
              "YIELD_GROUP                  0.00\n",
              "SELLER_INDUSTRY              0.00\n",
              "CHANNEL_TYPE                 0.00\n",
              "PORTFOLIO                    0.00\n",
              "PREV_CustID                  0.00\n",
              "CLIENT_TYPE                  0.00\n",
              "CODE_REJECT_REASON           0.00\n",
              "PAYMENT_TYPE                 0.00\n",
              "CURR_CustID                  0.00\n",
              "CASH_LOAN_PURPOSE            0.00\n",
              "LASTAPPL_PerDAY              0.00\n",
              "AMT_APPLICATION              0.00\n",
              "CONTRACT_TYPE                0.00\n",
              "CONTRACT_STATUS              0.00\n",
              "dtype: float64"
            ]
          },
          "metadata": {},
          "execution_count": 142
        }
      ]
    },
    {
      "cell_type": "markdown",
      "source": [
        "--> these are the columns having maximum null values\n",
        "\n",
        "\n",
        "1.   RATE_INTEREST_PRIMARY       99.64\n",
        "2. RATE_INTEREST_PRIVILEGED    99.64\n",
        "3. AMT_DOWN_PAYMENT            53.64\n",
        "4. RATE_DOWN_PAYMENT           53.64\n",
        "5. INSURED_ON_APPROVAL         40.30\n",
        "6. DAYS_TERMINATION            40.30\n",
        "7. LAST_DUEDay                 40.30\n",
        "8. FIRST_DUEDay                40.30\n",
        "9. AMT_GOODS_PRICE             23.08\n",
        "10. AMT_ANNUITY                 22.29\n",
        "\n"
      ],
      "metadata": {
        "id": "MsCcB5aMSzK9"
      }
    },
    {
      "cell_type": "code",
      "source": [
        "#number of null values per column\n",
        "print(\"missing values : \",newtest_df.isna().sum().sort_values(ascending = False))"
      ],
      "metadata": {
        "colab": {
          "base_uri": "https://localhost:8080/"
        },
        "id": "EzdPtiu-RxHi",
        "outputId": "90b09031-940a-42a0-aa8a-d7ec4000e7ff"
      },
      "execution_count": null,
      "outputs": [
        {
          "output_type": "stream",
          "name": "stdout",
          "text": [
            "missing values :  RATE_INTEREST_PRIMARY       1664263\n",
            "RATE_INTEREST_PRIVILEGED    1664263\n",
            "AMT_DOWN_PAYMENT             895844\n",
            "RATE_DOWN_PAYMENT            895844\n",
            "INSURED_ON_APPROVAL          673065\n",
            "DAYS_TERMINATION             673065\n",
            "LAST_DUEDay                  673065\n",
            "FIRST_DUEDay                 673065\n",
            "AMT_GOODS_PRICE              385515\n",
            "AMT_ANNUITY                  372235\n",
            "AMT_CREDIT                        1\n",
            "GOODS_CATEGORY                    0\n",
            "YIELD_GROUP                       0\n",
            "SELLER_INDUSTRY                   0\n",
            "CHANNEL_TYPE                      0\n",
            "PORTFOLIO                         0\n",
            "PREV_CustID                       0\n",
            "CLIENT_TYPE                       0\n",
            "CODE_REJECT_REASON                0\n",
            "PAYMENT_TYPE                      0\n",
            "CURR_CustID                       0\n",
            "CASH_LOAN_PURPOSE                 0\n",
            "LASTAPPL_PerDAY                   0\n",
            "AMT_APPLICATION                   0\n",
            "CONTRACT_TYPE                     0\n",
            "CONTRACT_STATUS                   0\n",
            "dtype: int64\n"
          ]
        }
      ]
    },
    {
      "cell_type": "code",
      "source": [
        "newtest_df.describe(include='all')"
      ],
      "metadata": {
        "colab": {
          "base_uri": "https://localhost:8080/",
          "height": 505
        },
        "id": "WEaQU-NPU4LD",
        "outputId": "00d6a150-a6bb-48c2-d2a8-f3bb36fa5c76"
      },
      "execution_count": null,
      "outputs": [
        {
          "output_type": "execute_result",
          "data": {
            "text/plain": [
              "         PREV_CustID   CURR_CustID CONTRACT_TYPE   AMT_ANNUITY  \\\n",
              "count   1.670214e+06  1.670214e+06       1670214  1.297979e+06   \n",
              "unique           NaN           NaN             4           NaN   \n",
              "top              NaN           NaN    Cash loans           NaN   \n",
              "freq             NaN           NaN        747553           NaN   \n",
              "mean    1.923089e+06  2.783572e+05           NaN  1.595512e+04   \n",
              "std     5.325980e+05  1.028148e+05           NaN  1.478214e+04   \n",
              "min     1.000001e+06  1.000010e+05           NaN  0.000000e+00   \n",
              "25%     1.461857e+06  1.893290e+05           NaN  6.321780e+03   \n",
              "50%     1.923110e+06  2.787145e+05           NaN  1.125000e+04   \n",
              "75%     2.384280e+06  3.675140e+05           NaN  2.065842e+04   \n",
              "max     2.845382e+06  4.562550e+05           NaN  4.180581e+05   \n",
              "\n",
              "        AMT_APPLICATION    AMT_CREDIT  AMT_DOWN_PAYMENT  AMT_GOODS_PRICE  \\\n",
              "count      1.670214e+06  1.670213e+06      7.743700e+05     1.284699e+06   \n",
              "unique              NaN           NaN               NaN              NaN   \n",
              "top                 NaN           NaN               NaN              NaN   \n",
              "freq                NaN           NaN               NaN              NaN   \n",
              "mean       1.752339e+05  1.961140e+05      6.697402e+03     2.278473e+05   \n",
              "std        2.927798e+05  3.185746e+05      2.092150e+04     3.153966e+05   \n",
              "min        0.000000e+00  0.000000e+00     -9.000000e-01     0.000000e+00   \n",
              "25%        1.872000e+04  2.416050e+04      0.000000e+00     5.084100e+04   \n",
              "50%        7.104600e+04  8.054100e+04      1.638000e+03     1.123200e+05   \n",
              "75%        1.803600e+05  2.164185e+05      7.740000e+03     2.340000e+05   \n",
              "max        6.905160e+06  6.905160e+06      3.060045e+06     6.905160e+06   \n",
              "\n",
              "        LASTAPPL_PerDAY  RATE_DOWN_PAYMENT  ...  CLIENT_TYPE  GOODS_CATEGORY  \\\n",
              "count      1.670214e+06      774370.000000  ...      1670214         1670214   \n",
              "unique              NaN                NaN  ...            4              28   \n",
              "top                 NaN                NaN  ...     Repeater             XNA   \n",
              "freq                NaN                NaN  ...      1231261          950809   \n",
              "mean       9.964675e-01           0.079637  ...          NaN             NaN   \n",
              "std        5.932963e-02           0.107823  ...          NaN             NaN   \n",
              "min        0.000000e+00          -0.000015  ...          NaN             NaN   \n",
              "25%        1.000000e+00           0.000000  ...          NaN             NaN   \n",
              "50%        1.000000e+00           0.051605  ...          NaN             NaN   \n",
              "75%        1.000000e+00           0.108909  ...          NaN             NaN   \n",
              "max        1.000000e+00           1.000000  ...          NaN             NaN   \n",
              "\n",
              "       PORTFOLIO             CHANNEL_TYPE SELLER_INDUSTRY YIELD_GROUP  \\\n",
              "count    1670214                  1670214         1670214     1670214   \n",
              "unique         5                        8              11           5   \n",
              "top          POS  Credit and cash offices             XNA         XNA   \n",
              "freq      691011                   719968          855720      517215   \n",
              "mean         NaN                      NaN             NaN         NaN   \n",
              "std          NaN                      NaN             NaN         NaN   \n",
              "min          NaN                      NaN             NaN         NaN   \n",
              "25%          NaN                      NaN             NaN         NaN   \n",
              "50%          NaN                      NaN             NaN         NaN   \n",
              "75%          NaN                      NaN             NaN         NaN   \n",
              "max          NaN                      NaN             NaN         NaN   \n",
              "\n",
              "         FIRST_DUEDay    LAST_DUEDay DAYS_TERMINATION INSURED_ON_APPROVAL  \n",
              "count   997149.000000  997149.000000    997149.000000       997149.000000  \n",
              "unique            NaN            NaN              NaN                 NaN  \n",
              "top               NaN            NaN              NaN                 NaN  \n",
              "freq              NaN            NaN              NaN                 NaN  \n",
              "mean     13826.269337   76582.403064     81992.343838            0.332570  \n",
              "std      72444.869708  149647.415123    153303.516729            0.471134  \n",
              "min      -2892.000000   -2889.000000     -2874.000000            0.000000  \n",
              "25%      -1628.000000   -1314.000000     -1270.000000            0.000000  \n",
              "50%       -831.000000    -537.000000      -499.000000            0.000000  \n",
              "75%       -411.000000     -74.000000       -44.000000            1.000000  \n",
              "max     365243.000000  365243.000000    365243.000000            1.000000  \n",
              "\n",
              "[11 rows x 26 columns]"
            ],
            "text/html": [
              "\n",
              "  <div id=\"df-e84c8072-cfab-407e-9117-4e2b4e423112\">\n",
              "    <div class=\"colab-df-container\">\n",
              "      <div>\n",
              "<style scoped>\n",
              "    .dataframe tbody tr th:only-of-type {\n",
              "        vertical-align: middle;\n",
              "    }\n",
              "\n",
              "    .dataframe tbody tr th {\n",
              "        vertical-align: top;\n",
              "    }\n",
              "\n",
              "    .dataframe thead th {\n",
              "        text-align: right;\n",
              "    }\n",
              "</style>\n",
              "<table border=\"1\" class=\"dataframe\">\n",
              "  <thead>\n",
              "    <tr style=\"text-align: right;\">\n",
              "      <th></th>\n",
              "      <th>PREV_CustID</th>\n",
              "      <th>CURR_CustID</th>\n",
              "      <th>CONTRACT_TYPE</th>\n",
              "      <th>AMT_ANNUITY</th>\n",
              "      <th>AMT_APPLICATION</th>\n",
              "      <th>AMT_CREDIT</th>\n",
              "      <th>AMT_DOWN_PAYMENT</th>\n",
              "      <th>AMT_GOODS_PRICE</th>\n",
              "      <th>LASTAPPL_PerDAY</th>\n",
              "      <th>RATE_DOWN_PAYMENT</th>\n",
              "      <th>...</th>\n",
              "      <th>CLIENT_TYPE</th>\n",
              "      <th>GOODS_CATEGORY</th>\n",
              "      <th>PORTFOLIO</th>\n",
              "      <th>CHANNEL_TYPE</th>\n",
              "      <th>SELLER_INDUSTRY</th>\n",
              "      <th>YIELD_GROUP</th>\n",
              "      <th>FIRST_DUEDay</th>\n",
              "      <th>LAST_DUEDay</th>\n",
              "      <th>DAYS_TERMINATION</th>\n",
              "      <th>INSURED_ON_APPROVAL</th>\n",
              "    </tr>\n",
              "  </thead>\n",
              "  <tbody>\n",
              "    <tr>\n",
              "      <th>count</th>\n",
              "      <td>1.670214e+06</td>\n",
              "      <td>1.670214e+06</td>\n",
              "      <td>1670214</td>\n",
              "      <td>1.297979e+06</td>\n",
              "      <td>1.670214e+06</td>\n",
              "      <td>1.670213e+06</td>\n",
              "      <td>7.743700e+05</td>\n",
              "      <td>1.284699e+06</td>\n",
              "      <td>1.670214e+06</td>\n",
              "      <td>774370.000000</td>\n",
              "      <td>...</td>\n",
              "      <td>1670214</td>\n",
              "      <td>1670214</td>\n",
              "      <td>1670214</td>\n",
              "      <td>1670214</td>\n",
              "      <td>1670214</td>\n",
              "      <td>1670214</td>\n",
              "      <td>997149.000000</td>\n",
              "      <td>997149.000000</td>\n",
              "      <td>997149.000000</td>\n",
              "      <td>997149.000000</td>\n",
              "    </tr>\n",
              "    <tr>\n",
              "      <th>unique</th>\n",
              "      <td>NaN</td>\n",
              "      <td>NaN</td>\n",
              "      <td>4</td>\n",
              "      <td>NaN</td>\n",
              "      <td>NaN</td>\n",
              "      <td>NaN</td>\n",
              "      <td>NaN</td>\n",
              "      <td>NaN</td>\n",
              "      <td>NaN</td>\n",
              "      <td>NaN</td>\n",
              "      <td>...</td>\n",
              "      <td>4</td>\n",
              "      <td>28</td>\n",
              "      <td>5</td>\n",
              "      <td>8</td>\n",
              "      <td>11</td>\n",
              "      <td>5</td>\n",
              "      <td>NaN</td>\n",
              "      <td>NaN</td>\n",
              "      <td>NaN</td>\n",
              "      <td>NaN</td>\n",
              "    </tr>\n",
              "    <tr>\n",
              "      <th>top</th>\n",
              "      <td>NaN</td>\n",
              "      <td>NaN</td>\n",
              "      <td>Cash loans</td>\n",
              "      <td>NaN</td>\n",
              "      <td>NaN</td>\n",
              "      <td>NaN</td>\n",
              "      <td>NaN</td>\n",
              "      <td>NaN</td>\n",
              "      <td>NaN</td>\n",
              "      <td>NaN</td>\n",
              "      <td>...</td>\n",
              "      <td>Repeater</td>\n",
              "      <td>XNA</td>\n",
              "      <td>POS</td>\n",
              "      <td>Credit and cash offices</td>\n",
              "      <td>XNA</td>\n",
              "      <td>XNA</td>\n",
              "      <td>NaN</td>\n",
              "      <td>NaN</td>\n",
              "      <td>NaN</td>\n",
              "      <td>NaN</td>\n",
              "    </tr>\n",
              "    <tr>\n",
              "      <th>freq</th>\n",
              "      <td>NaN</td>\n",
              "      <td>NaN</td>\n",
              "      <td>747553</td>\n",
              "      <td>NaN</td>\n",
              "      <td>NaN</td>\n",
              "      <td>NaN</td>\n",
              "      <td>NaN</td>\n",
              "      <td>NaN</td>\n",
              "      <td>NaN</td>\n",
              "      <td>NaN</td>\n",
              "      <td>...</td>\n",
              "      <td>1231261</td>\n",
              "      <td>950809</td>\n",
              "      <td>691011</td>\n",
              "      <td>719968</td>\n",
              "      <td>855720</td>\n",
              "      <td>517215</td>\n",
              "      <td>NaN</td>\n",
              "      <td>NaN</td>\n",
              "      <td>NaN</td>\n",
              "      <td>NaN</td>\n",
              "    </tr>\n",
              "    <tr>\n",
              "      <th>mean</th>\n",
              "      <td>1.923089e+06</td>\n",
              "      <td>2.783572e+05</td>\n",
              "      <td>NaN</td>\n",
              "      <td>1.595512e+04</td>\n",
              "      <td>1.752339e+05</td>\n",
              "      <td>1.961140e+05</td>\n",
              "      <td>6.697402e+03</td>\n",
              "      <td>2.278473e+05</td>\n",
              "      <td>9.964675e-01</td>\n",
              "      <td>0.079637</td>\n",
              "      <td>...</td>\n",
              "      <td>NaN</td>\n",
              "      <td>NaN</td>\n",
              "      <td>NaN</td>\n",
              "      <td>NaN</td>\n",
              "      <td>NaN</td>\n",
              "      <td>NaN</td>\n",
              "      <td>13826.269337</td>\n",
              "      <td>76582.403064</td>\n",
              "      <td>81992.343838</td>\n",
              "      <td>0.332570</td>\n",
              "    </tr>\n",
              "    <tr>\n",
              "      <th>std</th>\n",
              "      <td>5.325980e+05</td>\n",
              "      <td>1.028148e+05</td>\n",
              "      <td>NaN</td>\n",
              "      <td>1.478214e+04</td>\n",
              "      <td>2.927798e+05</td>\n",
              "      <td>3.185746e+05</td>\n",
              "      <td>2.092150e+04</td>\n",
              "      <td>3.153966e+05</td>\n",
              "      <td>5.932963e-02</td>\n",
              "      <td>0.107823</td>\n",
              "      <td>...</td>\n",
              "      <td>NaN</td>\n",
              "      <td>NaN</td>\n",
              "      <td>NaN</td>\n",
              "      <td>NaN</td>\n",
              "      <td>NaN</td>\n",
              "      <td>NaN</td>\n",
              "      <td>72444.869708</td>\n",
              "      <td>149647.415123</td>\n",
              "      <td>153303.516729</td>\n",
              "      <td>0.471134</td>\n",
              "    </tr>\n",
              "    <tr>\n",
              "      <th>min</th>\n",
              "      <td>1.000001e+06</td>\n",
              "      <td>1.000010e+05</td>\n",
              "      <td>NaN</td>\n",
              "      <td>0.000000e+00</td>\n",
              "      <td>0.000000e+00</td>\n",
              "      <td>0.000000e+00</td>\n",
              "      <td>-9.000000e-01</td>\n",
              "      <td>0.000000e+00</td>\n",
              "      <td>0.000000e+00</td>\n",
              "      <td>-0.000015</td>\n",
              "      <td>...</td>\n",
              "      <td>NaN</td>\n",
              "      <td>NaN</td>\n",
              "      <td>NaN</td>\n",
              "      <td>NaN</td>\n",
              "      <td>NaN</td>\n",
              "      <td>NaN</td>\n",
              "      <td>-2892.000000</td>\n",
              "      <td>-2889.000000</td>\n",
              "      <td>-2874.000000</td>\n",
              "      <td>0.000000</td>\n",
              "    </tr>\n",
              "    <tr>\n",
              "      <th>25%</th>\n",
              "      <td>1.461857e+06</td>\n",
              "      <td>1.893290e+05</td>\n",
              "      <td>NaN</td>\n",
              "      <td>6.321780e+03</td>\n",
              "      <td>1.872000e+04</td>\n",
              "      <td>2.416050e+04</td>\n",
              "      <td>0.000000e+00</td>\n",
              "      <td>5.084100e+04</td>\n",
              "      <td>1.000000e+00</td>\n",
              "      <td>0.000000</td>\n",
              "      <td>...</td>\n",
              "      <td>NaN</td>\n",
              "      <td>NaN</td>\n",
              "      <td>NaN</td>\n",
              "      <td>NaN</td>\n",
              "      <td>NaN</td>\n",
              "      <td>NaN</td>\n",
              "      <td>-1628.000000</td>\n",
              "      <td>-1314.000000</td>\n",
              "      <td>-1270.000000</td>\n",
              "      <td>0.000000</td>\n",
              "    </tr>\n",
              "    <tr>\n",
              "      <th>50%</th>\n",
              "      <td>1.923110e+06</td>\n",
              "      <td>2.787145e+05</td>\n",
              "      <td>NaN</td>\n",
              "      <td>1.125000e+04</td>\n",
              "      <td>7.104600e+04</td>\n",
              "      <td>8.054100e+04</td>\n",
              "      <td>1.638000e+03</td>\n",
              "      <td>1.123200e+05</td>\n",
              "      <td>1.000000e+00</td>\n",
              "      <td>0.051605</td>\n",
              "      <td>...</td>\n",
              "      <td>NaN</td>\n",
              "      <td>NaN</td>\n",
              "      <td>NaN</td>\n",
              "      <td>NaN</td>\n",
              "      <td>NaN</td>\n",
              "      <td>NaN</td>\n",
              "      <td>-831.000000</td>\n",
              "      <td>-537.000000</td>\n",
              "      <td>-499.000000</td>\n",
              "      <td>0.000000</td>\n",
              "    </tr>\n",
              "    <tr>\n",
              "      <th>75%</th>\n",
              "      <td>2.384280e+06</td>\n",
              "      <td>3.675140e+05</td>\n",
              "      <td>NaN</td>\n",
              "      <td>2.065842e+04</td>\n",
              "      <td>1.803600e+05</td>\n",
              "      <td>2.164185e+05</td>\n",
              "      <td>7.740000e+03</td>\n",
              "      <td>2.340000e+05</td>\n",
              "      <td>1.000000e+00</td>\n",
              "      <td>0.108909</td>\n",
              "      <td>...</td>\n",
              "      <td>NaN</td>\n",
              "      <td>NaN</td>\n",
              "      <td>NaN</td>\n",
              "      <td>NaN</td>\n",
              "      <td>NaN</td>\n",
              "      <td>NaN</td>\n",
              "      <td>-411.000000</td>\n",
              "      <td>-74.000000</td>\n",
              "      <td>-44.000000</td>\n",
              "      <td>1.000000</td>\n",
              "    </tr>\n",
              "    <tr>\n",
              "      <th>max</th>\n",
              "      <td>2.845382e+06</td>\n",
              "      <td>4.562550e+05</td>\n",
              "      <td>NaN</td>\n",
              "      <td>4.180581e+05</td>\n",
              "      <td>6.905160e+06</td>\n",
              "      <td>6.905160e+06</td>\n",
              "      <td>3.060045e+06</td>\n",
              "      <td>6.905160e+06</td>\n",
              "      <td>1.000000e+00</td>\n",
              "      <td>1.000000</td>\n",
              "      <td>...</td>\n",
              "      <td>NaN</td>\n",
              "      <td>NaN</td>\n",
              "      <td>NaN</td>\n",
              "      <td>NaN</td>\n",
              "      <td>NaN</td>\n",
              "      <td>NaN</td>\n",
              "      <td>365243.000000</td>\n",
              "      <td>365243.000000</td>\n",
              "      <td>365243.000000</td>\n",
              "      <td>1.000000</td>\n",
              "    </tr>\n",
              "  </tbody>\n",
              "</table>\n",
              "<p>11 rows × 26 columns</p>\n",
              "</div>\n",
              "      <button class=\"colab-df-convert\" onclick=\"convertToInteractive('df-e84c8072-cfab-407e-9117-4e2b4e423112')\"\n",
              "              title=\"Convert this dataframe to an interactive table.\"\n",
              "              style=\"display:none;\">\n",
              "        \n",
              "  <svg xmlns=\"http://www.w3.org/2000/svg\" height=\"24px\"viewBox=\"0 0 24 24\"\n",
              "       width=\"24px\">\n",
              "    <path d=\"M0 0h24v24H0V0z\" fill=\"none\"/>\n",
              "    <path d=\"M18.56 5.44l.94 2.06.94-2.06 2.06-.94-2.06-.94-.94-2.06-.94 2.06-2.06.94zm-11 1L8.5 8.5l.94-2.06 2.06-.94-2.06-.94L8.5 2.5l-.94 2.06-2.06.94zm10 10l.94 2.06.94-2.06 2.06-.94-2.06-.94-.94-2.06-.94 2.06-2.06.94z\"/><path d=\"M17.41 7.96l-1.37-1.37c-.4-.4-.92-.59-1.43-.59-.52 0-1.04.2-1.43.59L10.3 9.45l-7.72 7.72c-.78.78-.78 2.05 0 2.83L4 21.41c.39.39.9.59 1.41.59.51 0 1.02-.2 1.41-.59l7.78-7.78 2.81-2.81c.8-.78.8-2.07 0-2.86zM5.41 20L4 18.59l7.72-7.72 1.47 1.35L5.41 20z\"/>\n",
              "  </svg>\n",
              "      </button>\n",
              "      \n",
              "  <style>\n",
              "    .colab-df-container {\n",
              "      display:flex;\n",
              "      flex-wrap:wrap;\n",
              "      gap: 12px;\n",
              "    }\n",
              "\n",
              "    .colab-df-convert {\n",
              "      background-color: #E8F0FE;\n",
              "      border: none;\n",
              "      border-radius: 50%;\n",
              "      cursor: pointer;\n",
              "      display: none;\n",
              "      fill: #1967D2;\n",
              "      height: 32px;\n",
              "      padding: 0 0 0 0;\n",
              "      width: 32px;\n",
              "    }\n",
              "\n",
              "    .colab-df-convert:hover {\n",
              "      background-color: #E2EBFA;\n",
              "      box-shadow: 0px 1px 2px rgba(60, 64, 67, 0.3), 0px 1px 3px 1px rgba(60, 64, 67, 0.15);\n",
              "      fill: #174EA6;\n",
              "    }\n",
              "\n",
              "    [theme=dark] .colab-df-convert {\n",
              "      background-color: #3B4455;\n",
              "      fill: #D2E3FC;\n",
              "    }\n",
              "\n",
              "    [theme=dark] .colab-df-convert:hover {\n",
              "      background-color: #434B5C;\n",
              "      box-shadow: 0px 1px 3px 1px rgba(0, 0, 0, 0.15);\n",
              "      filter: drop-shadow(0px 1px 2px rgba(0, 0, 0, 0.3));\n",
              "      fill: #FFFFFF;\n",
              "    }\n",
              "  </style>\n",
              "\n",
              "      <script>\n",
              "        const buttonEl =\n",
              "          document.querySelector('#df-e84c8072-cfab-407e-9117-4e2b4e423112 button.colab-df-convert');\n",
              "        buttonEl.style.display =\n",
              "          google.colab.kernel.accessAllowed ? 'block' : 'none';\n",
              "\n",
              "        async function convertToInteractive(key) {\n",
              "          const element = document.querySelector('#df-e84c8072-cfab-407e-9117-4e2b4e423112');\n",
              "          const dataTable =\n",
              "            await google.colab.kernel.invokeFunction('convertToInteractive',\n",
              "                                                     [key], {});\n",
              "          if (!dataTable) return;\n",
              "\n",
              "          const docLinkHtml = 'Like what you see? Visit the ' +\n",
              "            '<a target=\"_blank\" href=https://colab.research.google.com/notebooks/data_table.ipynb>data table notebook</a>'\n",
              "            + ' to learn more about interactive tables.';\n",
              "          element.innerHTML = '';\n",
              "          dataTable['output_type'] = 'display_data';\n",
              "          await google.colab.output.renderOutput(dataTable, element);\n",
              "          const docLink = document.createElement('div');\n",
              "          docLink.innerHTML = docLinkHtml;\n",
              "          element.appendChild(docLink);\n",
              "        }\n",
              "      </script>\n",
              "    </div>\n",
              "  </div>\n",
              "  "
            ]
          },
          "metadata": {},
          "execution_count": 143
        }
      ]
    },
    {
      "cell_type": "markdown",
      "source": [
        "#checking unique values for categorical columns and vizualizing data\n"
      ],
      "metadata": {
        "id": "IcX-TevgYm87"
      }
    },
    {
      "cell_type": "code",
      "source": [
        "#importing vizualisation libraries\n",
        "import matplotlib\n",
        "import matplotlib.pyplot as plt\n",
        "import seaborn as sns"
      ],
      "metadata": {
        "id": "h5vNZL-iba8R"
      },
      "execution_count": null,
      "outputs": []
    },
    {
      "cell_type": "code",
      "source": [
        "#unique value CONTRACT_TYPE\n",
        "newtest_df.CONTRACT_TYPE.unique()"
      ],
      "metadata": {
        "colab": {
          "base_uri": "https://localhost:8080/"
        },
        "id": "Rd1PsRM6Wy_x",
        "outputId": "52fc7a65-8881-43dd-cc3b-d4f00f6c11e6"
      },
      "execution_count": null,
      "outputs": [
        {
          "output_type": "execute_result",
          "data": {
            "text/plain": [
              "array(['Consumer loans', 'Cash loans', 'Revolving loans', 'XNA'],\n",
              "      dtype=object)"
            ]
          },
          "metadata": {},
          "execution_count": 146
        }
      ]
    },
    {
      "cell_type": "code",
      "source": [
        "#count of unique value CONTRACT_TYPE  \n",
        "ct=newtest_df.CONTRACT_TYPE.value_counts()\n",
        "ct"
      ],
      "metadata": {
        "colab": {
          "base_uri": "https://localhost:8080/"
        },
        "id": "Y5XKOf_oZEhx",
        "outputId": "54e675cc-7e88-4a4a-bdad-17f22cc857e7"
      },
      "execution_count": null,
      "outputs": [
        {
          "output_type": "execute_result",
          "data": {
            "text/plain": [
              "Cash loans         747553\n",
              "Consumer loans     729151\n",
              "Revolving loans    193164\n",
              "XNA                   346\n",
              "Name: CONTRACT_TYPE, dtype: int64"
            ]
          },
          "metadata": {},
          "execution_count": 162
        }
      ]
    },
    {
      "cell_type": "code",
      "source": [
        "#plotting bar chart for CONTRACT_TYPE categorical data\n",
        "plt.barh(ct.index, ct)"
      ],
      "metadata": {
        "colab": {
          "base_uri": "https://localhost:8080/",
          "height": 282
        },
        "id": "503wzmJCbkEp",
        "outputId": "f8be4c5b-beaa-49e7-bb47-b324dfcc246a"
      },
      "execution_count": null,
      "outputs": [
        {
          "output_type": "execute_result",
          "data": {
            "text/plain": [
              "<BarContainer object of 4 artists>"
            ]
          },
          "metadata": {},
          "execution_count": 163
        },
        {
          "output_type": "display_data",
          "data": {
            "text/plain": [
              "<Figure size 432x288 with 1 Axes>"
            ],
            "image/png": "[encoded data removed]"
          },
          "metadata": {
            "needs_background": "light"
          }
        }
      ]
    },
    {
      "cell_type": "code",
      "source": [
        "# Plot clearly shows that, Customer taking cash loans and customer loans are more than compared to those taking revovling loans"
      ],
      "metadata": {
        "id": "TIRLL-Vz5vwH"
      },
      "execution_count": null,
      "outputs": []
    },
    {
      "cell_type": "code",
      "source": [
        "#plotting pie chart for CONTRACT_TYPE categorical data\n",
        "plt.pie(x=ct, labels=ct.index, autopct='%1.2f%%')\n",
        "plt.legend()\n",
        "plt.show()"
      ],
      "metadata": {
        "colab": {
          "base_uri": "https://localhost:8080/",
          "height": 248
        },
        "id": "_1T0xoudb0Jm",
        "outputId": "c54eb698-0fc8-42be-9478-904dcd141de6"
      },
      "execution_count": null,
      "outputs": [
        {
          "output_type": "display_data",
          "data": {
            "text/plain": [
              "<Figure size 432x288 with 1 Axes>"
            ],
            "image/png": "[encoded data removed]"
          },
          "metadata": {}
        }
      ]
    },
    {
      "cell_type": "code",
      "source": [
        "#unique value CLIENT_TYPE\n",
        "newtest_df.CLIENT_TYPE.unique()"
      ],
      "metadata": {
        "colab": {
          "base_uri": "https://localhost:8080/"
        },
        "id": "0uoWyKSnZggh",
        "outputId": "4cd75d18-b6ec-4cfb-aa8c-088a63207f6b"
      },
      "execution_count": null,
      "outputs": [
        {
          "output_type": "execute_result",
          "data": {
            "text/plain": [
              "array(['Repeater', 'New', 'Refreshed', 'XNA'], dtype=object)"
            ]
          },
          "metadata": {},
          "execution_count": 148
        }
      ]
    },
    {
      "cell_type": "code",
      "source": [
        "#count of unique value CLIENT_TYPE  \n",
        "clt= newtest_df.CLIENT_TYPE.value_counts()\n",
        "clt"
      ],
      "metadata": {
        "colab": {
          "base_uri": "https://localhost:8080/"
        },
        "id": "vDPDtPxwZt8I",
        "outputId": "0f5af388-bf9b-4a9f-bff3-8420763f4ad6"
      },
      "execution_count": null,
      "outputs": [
        {
          "output_type": "execute_result",
          "data": {
            "text/plain": [
              "Repeater     1231261\n",
              "New           301363\n",
              "Refreshed     135649\n",
              "XNA             1941\n",
              "Name: CLIENT_TYPE, dtype: int64"
            ]
          },
          "metadata": {},
          "execution_count": 166
        }
      ]
    },
    {
      "cell_type": "code",
      "source": [
        "#plotting bar chart for CLIENT_TYPE categorical data\n",
        "plt.barh(clt.index, clt)"
      ],
      "metadata": {
        "colab": {
          "base_uri": "https://localhost:8080/",
          "height": 295
        },
        "id": "IRMoUU0mcePk",
        "outputId": "16c247a5-3a0c-4b6f-c424-bd0cfec293c3"
      },
      "execution_count": null,
      "outputs": [
        {
          "output_type": "execute_result",
          "data": {
            "text/plain": [
              "<BarContainer object of 4 artists>"
            ]
          },
          "metadata": {},
          "execution_count": 169
        },
        {
          "output_type": "display_data",
          "data": {
            "text/plain": [
              "<Figure size 432x288 with 1 Axes>"
            ],
            "image/png": "[encoded data removed]"
          },
          "metadata": {
            "needs_background": "light"
          }
        }
      ]
    },
    {
      "cell_type": "code",
      "source": [
        "# from the bar graph its concluded that those client who are repeaters are more as compared to new and refreshed clients"
      ],
      "metadata": {
        "id": "wX0fhZ5f6Wwt"
      },
      "execution_count": null,
      "outputs": []
    },
    {
      "cell_type": "code",
      "source": [
        "##plotting pie chart for CLIENT_TYPE categorical data\n",
        "plt.pie(x=clt, labels=clt.index, autopct='%1.2f%%')\n",
        "plt.legend()\n",
        "plt.show()"
      ],
      "metadata": {
        "colab": {
          "base_uri": "https://localhost:8080/",
          "height": 248
        },
        "id": "G7IFYBxqceBY",
        "outputId": "a307a2fe-f09d-4cb6-b86e-d6c1ea23082c"
      },
      "execution_count": null,
      "outputs": [
        {
          "output_type": "display_data",
          "data": {
            "text/plain": [
              "<Figure size 432x288 with 1 Axes>"
            ],
            "image/png": "[encoded data removed]"
          },
          "metadata": {}
        }
      ]
    },
    {
      "cell_type": "code",
      "source": [
        "#unique value GOODS_CATEGORY\t\n",
        "newtest_df.GOODS_CATEGORY.unique()"
      ],
      "metadata": {
        "colab": {
          "base_uri": "https://localhost:8080/"
        },
        "id": "CBrARJ5YZy2c",
        "outputId": "c4c50245-e5fe-4cd0-b464-ba62e14b674a"
      },
      "execution_count": null,
      "outputs": [
        {
          "output_type": "execute_result",
          "data": {
            "text/plain": [
              "array(['Mobile', 'XNA', 'Consumer Electronics', 'Construction Materials',\n",
              "       'Auto Accessories', 'Photo / Cinema Equipment', 'Computers',\n",
              "       'Audio/Video', 'Medicine', 'Clothing and Accessories', 'Furniture',\n",
              "       'Sport and Leisure', 'Homewares', 'Gardening', 'Jewelry',\n",
              "       'Vehicles', 'Education', 'Medical Supplies', 'Other',\n",
              "       'Direct Sales', 'Office Appliances', 'Fitness', 'Tourism',\n",
              "       'Insurance', 'Additional Service', 'Weapon', 'Animals',\n",
              "       'House Construction'], dtype=object)"
            ]
          },
          "metadata": {},
          "execution_count": 150
        }
      ]
    },
    {
      "cell_type": "code",
      "source": [
        "#count of unique value GOODS_CATEGORY  \n",
        "gt=newtest_df.GOODS_CATEGORY.value_counts()\n",
        "gt"
      ],
      "metadata": {
        "colab": {
          "base_uri": "https://localhost:8080/"
        },
        "id": "9gBNgvgVZ7KV",
        "outputId": "ea345df8-37bd-487b-e2dc-40fc80889f41"
      },
      "execution_count": null,
      "outputs": [
        {
          "output_type": "execute_result",
          "data": {
            "text/plain": [
              "XNA                         950809\n",
              "Mobile                      224708\n",
              "Consumer Electronics        121576\n",
              "Computers                   105769\n",
              "Audio/Video                  99441\n",
              "Furniture                    53656\n",
              "Photo / Cinema Equipment     25021\n",
              "Construction Materials       24995\n",
              "Clothing and Accessories     23554\n",
              "Auto Accessories              7381\n",
              "Jewelry                       6290\n",
              "Homewares                     5023\n",
              "Medical Supplies              3843\n",
              "Vehicles                      3370\n",
              "Sport and Leisure             2981\n",
              "Gardening                     2668\n",
              "Other                         2554\n",
              "Office Appliances             2333\n",
              "Tourism                       1659\n",
              "Medicine                      1550\n",
              "Direct Sales                   446\n",
              "Fitness                        209\n",
              "Additional Service             128\n",
              "Education                      107\n",
              "Weapon                          77\n",
              "Insurance                       64\n",
              "Animals                          1\n",
              "House Construction               1\n",
              "Name: GOODS_CATEGORY, dtype: int64"
            ]
          },
          "metadata": {},
          "execution_count": 171
        }
      ]
    },
    {
      "cell_type": "code",
      "source": [
        "#plotting bar chart for GOODS_CATEGORY categorical data\n",
        "plt.barh(gt.index, gt)"
      ],
      "metadata": {
        "colab": {
          "base_uri": "https://localhost:8080/",
          "height": 282
        },
        "id": "njr3RBLNc2Xu",
        "outputId": "3b235a00-e033-4bd1-dd83-9f725383f580"
      },
      "execution_count": null,
      "outputs": [
        {
          "output_type": "execute_result",
          "data": {
            "text/plain": [
              "<BarContainer object of 28 artists>"
            ]
          },
          "metadata": {},
          "execution_count": 172
        },
        {
          "output_type": "display_data",
          "data": {
            "text/plain": [
              "<Figure size 432x288 with 1 Axes>"
            ],
            "image/png": "[encoded data removed]"
          },
          "metadata": {
            "needs_background": "light"
          }
        }
      ]
    },
    {
      "cell_type": "code",
      "source": [
        "# People taking loan for electronics equipment are more as compared to people taking loans for house construction or insurance."
      ],
      "metadata": {
        "id": "EHQUmzZn7CWB"
      },
      "execution_count": null,
      "outputs": []
    },
    {
      "cell_type": "code",
      "source": [
        "#plotting pie chart for GOODS_CATEGORY categorical data\n",
        "plt.pie(x=gt, labels=gt.index, autopct='%1.2f%%')\n",
        "plt.legend()\n",
        "plt.show()"
      ],
      "metadata": {
        "colab": {
          "base_uri": "https://localhost:8080/",
          "height": 459
        },
        "id": "KltW7WCLc2Mi",
        "outputId": "aca2ecf7-c253-4779-9686-edf71f192070"
      },
      "execution_count": null,
      "outputs": [
        {
          "output_type": "display_data",
          "data": {
            "text/plain": [
              "<Figure size 432x288 with 1 Axes>"
            ],
            "image/png": "[encoded data removed]"
          },
          "metadata": {}
        }
      ]
    },
    {
      "cell_type": "code",
      "source": [
        "#unique value PORTFOLIO\t\n",
        "newtest_df.PORTFOLIO.unique()"
      ],
      "metadata": {
        "colab": {
          "base_uri": "https://localhost:8080/"
        },
        "id": "Q3aBLQeMZ_4g",
        "outputId": "a2d106df-1205-4e94-b319-dd4e8c5ff994"
      },
      "execution_count": null,
      "outputs": [
        {
          "output_type": "execute_result",
          "data": {
            "text/plain": [
              "array(['POS', 'Cash', 'XNA', 'Cards', 'Cars'], dtype=object)"
            ]
          },
          "metadata": {},
          "execution_count": 152
        }
      ]
    },
    {
      "cell_type": "code",
      "source": [
        "#count of unique value PORTFOLIO  \n",
        "pf=newtest_df.PORTFOLIO.value_counts()\n",
        "pf"
      ],
      "metadata": {
        "colab": {
          "base_uri": "https://localhost:8080/"
        },
        "id": "PDRo75npaHfn",
        "outputId": "195eece7-a8b3-4afb-8548-855d288be072"
      },
      "execution_count": null,
      "outputs": [
        {
          "output_type": "execute_result",
          "data": {
            "text/plain": [
              "POS      691011\n",
              "Cash     461563\n",
              "XNA      372230\n",
              "Cards    144985\n",
              "Cars        425\n",
              "Name: PORTFOLIO, dtype: int64"
            ]
          },
          "metadata": {},
          "execution_count": 174
        }
      ]
    },
    {
      "cell_type": "code",
      "source": [
        "#plotting bar chart for PORTFOLIO categorical data\n",
        "plt.barh(pf.index, pf)"
      ],
      "metadata": {
        "colab": {
          "base_uri": "https://localhost:8080/",
          "height": 282
        },
        "id": "eVcyf2tqdMh2",
        "outputId": "46da88de-e66d-4d06-bfe2-cf8049e30c19"
      },
      "execution_count": null,
      "outputs": [
        {
          "output_type": "execute_result",
          "data": {
            "text/plain": [
              "<BarContainer object of 5 artists>"
            ]
          },
          "metadata": {},
          "execution_count": 175
        },
        {
          "output_type": "display_data",
          "data": {
            "text/plain": [
              "<Figure size 432x288 with 1 Axes>"
            ],
            "image/png": "[encoded data removed]"
          },
          "metadata": {
            "needs_background": "light"
          }
        }
      ]
    },
    {
      "cell_type": "code",
      "source": [
        "#plotting pie chart for PORTFOLIO categorical data\n",
        "plt.pie(x=pf, labels=pf.index, autopct='%1.2f%%')\n",
        "plt.legend()\n",
        "plt.show()"
      ],
      "metadata": {
        "colab": {
          "base_uri": "https://localhost:8080/",
          "height": 248
        },
        "id": "e_OH1xA_dMV3",
        "outputId": "990c67fe-edd4-4ebd-f8df-62e3a25a9508"
      },
      "execution_count": null,
      "outputs": [
        {
          "output_type": "display_data",
          "data": {
            "text/plain": [
              "<Figure size 432x288 with 1 Axes>"
            ],
            "image/png": "[encoded data removed]"
          },
          "metadata": {}
        }
      ]
    },
    {
      "cell_type": "code",
      "source": [
        "#unique value CHANNEL_TYPE\t\n",
        "newtest_df.CHANNEL_TYPE.unique()"
      ],
      "metadata": {
        "colab": {
          "base_uri": "https://localhost:8080/"
        },
        "id": "RSOlfoT9aMS6",
        "outputId": "e22547e3-bc2d-49b8-82fa-e228a95c6fea"
      },
      "execution_count": null,
      "outputs": [
        {
          "output_type": "execute_result",
          "data": {
            "text/plain": [
              "array(['Country-wide', 'Contact center', 'Credit and cash offices',\n",
              "       'Stone', 'Regional / Local', 'AP+ (Cash loan)',\n",
              "       'Channel of corporate sales', 'Car dealer'], dtype=object)"
            ]
          },
          "metadata": {},
          "execution_count": 155
        }
      ]
    },
    {
      "cell_type": "code",
      "source": [
        "#count of unique value CHANNEL_TYPE  \n",
        "cht=newtest_df.CHANNEL_TYPE.value_counts()\n",
        "cht"
      ],
      "metadata": {
        "colab": {
          "base_uri": "https://localhost:8080/"
        },
        "id": "q4vvhQnnaO5X",
        "outputId": "c20ba882-6a29-403e-a10b-f925722fa1fc"
      },
      "execution_count": null,
      "outputs": [
        {
          "output_type": "execute_result",
          "data": {
            "text/plain": [
              "Credit and cash offices       719968\n",
              "Country-wide                  494690\n",
              "Stone                         212083\n",
              "Regional / Local              108528\n",
              "Contact center                 71297\n",
              "AP+ (Cash loan)                57046\n",
              "Channel of corporate sales      6150\n",
              "Car dealer                       452\n",
              "Name: CHANNEL_TYPE, dtype: int64"
            ]
          },
          "metadata": {},
          "execution_count": 177
        }
      ]
    },
    {
      "cell_type": "code",
      "source": [
        "#plotting bar chart for CHANNEL_TYPE categorical data\n",
        "plt.barh(cht.index, cht)"
      ],
      "metadata": {
        "colab": {
          "base_uri": "https://localhost:8080/",
          "height": 282
        },
        "id": "9kgeH6_0de6D",
        "outputId": "663e50cb-c6b7-43fc-b21b-28271f444ccc"
      },
      "execution_count": null,
      "outputs": [
        {
          "output_type": "execute_result",
          "data": {
            "text/plain": [
              "<BarContainer object of 8 artists>"
            ]
          },
          "metadata": {},
          "execution_count": 178
        },
        {
          "output_type": "display_data",
          "data": {
            "text/plain": [
              "<Figure size 432x288 with 1 Axes>"
            ],
            "image/png": "[encoded data removed]"
          },
          "metadata": {
            "needs_background": "light"
          }
        }
      ]
    },
    {
      "cell_type": "code",
      "source": [
        "#plotting pie chart for CHANNEL_TYPE categorical data\n",
        "plt.pie(x=cht, labels=cht.index, autopct='%1.2f%%')\n",
        "plt.legend()\n",
        "plt.show()"
      ],
      "metadata": {
        "colab": {
          "base_uri": "https://localhost:8080/",
          "height": 248
        },
        "id": "D_ZiFNJwdewi",
        "outputId": "1b133a8d-9d9b-483b-e955-a3aa89446eec"
      },
      "execution_count": null,
      "outputs": [
        {
          "output_type": "display_data",
          "data": {
            "text/plain": [
              "<Figure size 432x288 with 1 Axes>"
            ],
            "image/png": "[encoded data removed]"
          },
          "metadata": {}
        }
      ]
    },
    {
      "cell_type": "code",
      "source": [
        "#unique value SELLER_INDUSTRY\t\n",
        "newtest_df.SELLER_INDUSTRY.unique()"
      ],
      "metadata": {
        "colab": {
          "base_uri": "https://localhost:8080/"
        },
        "id": "vbEvkRR4aZUt",
        "outputId": "da9f777b-ba47-4a4f-df2d-032fa2c867c3"
      },
      "execution_count": null,
      "outputs": [
        {
          "output_type": "execute_result",
          "data": {
            "text/plain": [
              "array(['Connectivity', 'XNA', 'Consumer electronics', 'Industry',\n",
              "       'Clothing', 'Furniture', 'Construction', 'Jewelry',\n",
              "       'Auto technology', 'MLM partners', 'Tourism'], dtype=object)"
            ]
          },
          "metadata": {},
          "execution_count": 157
        }
      ]
    },
    {
      "cell_type": "code",
      "source": [
        "#count of unique value SELLER_INDUSTRY  \n",
        "si=newtest_df.SELLER_INDUSTRY.value_counts()\n",
        "si"
      ],
      "metadata": {
        "colab": {
          "base_uri": "https://localhost:8080/"
        },
        "id": "XyEvMBm_aneP",
        "outputId": "dfc85536-7112-4b2f-d731-8eaf9ac82836"
      },
      "execution_count": null,
      "outputs": [
        {
          "output_type": "execute_result",
          "data": {
            "text/plain": [
              "XNA                     855720\n",
              "Consumer electronics    398265\n",
              "Connectivity            276029\n",
              "Furniture                57849\n",
              "Construction             29781\n",
              "Clothing                 23949\n",
              "Industry                 19194\n",
              "Auto technology           4990\n",
              "Jewelry                   2709\n",
              "MLM partners              1215\n",
              "Tourism                    513\n",
              "Name: SELLER_INDUSTRY, dtype: int64"
            ]
          },
          "metadata": {},
          "execution_count": 180
        }
      ]
    },
    {
      "cell_type": "code",
      "source": [
        "#plotting bar chart for SELLER_INDUSTRY categorical data\n",
        "plt.barh(si.index, si)"
      ],
      "metadata": {
        "colab": {
          "base_uri": "https://localhost:8080/",
          "height": 282
        },
        "id": "BlRlSzYpd4XD",
        "outputId": "66f7dbbf-0449-4abd-c4ba-4983104b89fe"
      },
      "execution_count": null,
      "outputs": [
        {
          "output_type": "execute_result",
          "data": {
            "text/plain": [
              "<BarContainer object of 11 artists>"
            ]
          },
          "metadata": {},
          "execution_count": 181
        },
        {
          "output_type": "display_data",
          "data": {
            "text/plain": [
              "<Figure size 432x288 with 1 Axes>"
            ],
            "image/png": "[encoded data removed]"
          },
          "metadata": {
            "needs_background": "light"
          }
        }
      ]
    },
    {
      "cell_type": "code",
      "source": [
        "#plotting pie chart for SELLER_INDUSTRY categorical data\n",
        "plt.pie(x=si, labels=si.index, autopct='%1.2f%%')\n",
        "plt.legend()\n",
        "plt.show()"
      ],
      "metadata": {
        "colab": {
          "base_uri": "https://localhost:8080/",
          "height": 248
        },
        "id": "LHi4Qebvd4N4",
        "outputId": "96f3f5d9-06a2-44b9-a95a-d65da7f11b44"
      },
      "execution_count": null,
      "outputs": [
        {
          "output_type": "display_data",
          "data": {
            "text/plain": [
              "<Figure size 432x288 with 1 Axes>"
            ],
            "image/png": "[encoded data removed]"
          },
          "metadata": {}
        }
      ]
    },
    {
      "cell_type": "code",
      "source": [
        "#unique value YIELD_GROUP\t\n",
        "newtest_df.YIELD_GROUP.unique()"
      ],
      "metadata": {
        "colab": {
          "base_uri": "https://localhost:8080/"
        },
        "id": "jjHwuN1lau6j",
        "outputId": "48638a6a-c446-4ada-e23a-db257c6ab6d1"
      },
      "execution_count": null,
      "outputs": [
        {
          "output_type": "execute_result",
          "data": {
            "text/plain": [
              "array(['middle', 'low_action', 'high', 'low_normal', 'XNA'], dtype=object)"
            ]
          },
          "metadata": {},
          "execution_count": 183
        }
      ]
    },
    {
      "cell_type": "code",
      "source": [
        "#count of unique value YIELD_GROUP  \n",
        "yg=newtest_df.YIELD_GROUP.value_counts()\n",
        "yg"
      ],
      "metadata": {
        "colab": {
          "base_uri": "https://localhost:8080/"
        },
        "id": "-A_DCgZha65M",
        "outputId": "4e39ec26-4e8a-4774-c3a6-021a12198f01"
      },
      "execution_count": null,
      "outputs": [
        {
          "output_type": "execute_result",
          "data": {
            "text/plain": [
              "XNA           517215\n",
              "middle        385532\n",
              "high          353331\n",
              "low_normal    322095\n",
              "low_action     92041\n",
              "Name: YIELD_GROUP, dtype: int64"
            ]
          },
          "metadata": {},
          "execution_count": 185
        }
      ]
    },
    {
      "cell_type": "code",
      "source": [
        "#plotting bar chart for YIELD_GROUP categorical data\n",
        "plt.barh(yg.index, yg)"
      ],
      "metadata": {
        "colab": {
          "base_uri": "https://localhost:8080/",
          "height": 282
        },
        "id": "gZkCvXc_eJDt",
        "outputId": "9ed2001f-e61a-46aa-e90a-b90b365587ab"
      },
      "execution_count": null,
      "outputs": [
        {
          "output_type": "execute_result",
          "data": {
            "text/plain": [
              "<BarContainer object of 5 artists>"
            ]
          },
          "metadata": {},
          "execution_count": 186
        },
        {
          "output_type": "display_data",
          "data": {
            "text/plain": [
              "<Figure size 432x288 with 1 Axes>"
            ],
            "image/png": "[encoded data removed]"
          },
          "metadata": {
            "needs_background": "light"
          }
        }
      ]
    },
    {
      "cell_type": "code",
      "source": [
        "#plotting pie chart for YIELD_GROUP categorical data\n",
        "plt.pie(x=yg, labels=yg.index, autopct='%1.2f%%')\n",
        "plt.legend()\n",
        "plt.show()"
      ],
      "metadata": {
        "colab": {
          "base_uri": "https://localhost:8080/",
          "height": 248
        },
        "id": "2lRP2nz9eIyP",
        "outputId": "96b70e04-5685-4b3d-fdbf-502b40b58e49"
      },
      "execution_count": null,
      "outputs": [
        {
          "output_type": "display_data",
          "data": {
            "text/plain": [
              "<Figure size 432x288 with 1 Axes>"
            ],
            "image/png": "[encoded data removed]"
          },
          "metadata": {}
        }
      ]
    },
    {
      "cell_type": "markdown",
      "source": [
        "--> for categorical data"
      ],
      "metadata": {
        "id": "ciTgPxdVexCi"
      }
    },
    {
      "cell_type": "code",
      "source": [
        "#checking the data types of newtest data to find out the continuous categorical data to find the correlation\n",
        "newtest_df.dtypes"
      ],
      "metadata": {
        "colab": {
          "base_uri": "https://localhost:8080/"
        },
        "id": "5qF21plKcOAy",
        "outputId": "56de9346-fa82-4f35-a48f-7b64c0cc1c0b"
      },
      "execution_count": null,
      "outputs": [
        {
          "output_type": "execute_result",
          "data": {
            "text/plain": [
              "PREV_CustID                   int64\n",
              "CURR_CustID                   int64\n",
              "CONTRACT_TYPE                object\n",
              "AMT_ANNUITY                 float64\n",
              "AMT_APPLICATION             float64\n",
              "AMT_CREDIT                  float64\n",
              "AMT_DOWN_PAYMENT            float64\n",
              "AMT_GOODS_PRICE             float64\n",
              "LASTAPPL_PerDAY               int64\n",
              "RATE_DOWN_PAYMENT           float64\n",
              "RATE_INTEREST_PRIMARY       float64\n",
              "RATE_INTEREST_PRIVILEGED    float64\n",
              "CASH_LOAN_PURPOSE            object\n",
              "CONTRACT_STATUS              object\n",
              "PAYMENT_TYPE                 object\n",
              "CODE_REJECT_REASON           object\n",
              "CLIENT_TYPE                  object\n",
              "GOODS_CATEGORY               object\n",
              "PORTFOLIO                    object\n",
              "CHANNEL_TYPE                 object\n",
              "SELLER_INDUSTRY              object\n",
              "YIELD_GROUP                  object\n",
              "FIRST_DUEDay                float64\n",
              "LAST_DUEDay                 float64\n",
              "DAYS_TERMINATION            float64\n",
              "INSURED_ON_APPROVAL         float64\n",
              "dtype: object"
            ]
          },
          "metadata": {},
          "execution_count": 168
        }
      ]
    },
    {
      "cell_type": "code",
      "source": [
        "#taking only continuous data into account\n",
        "cat2_df=newtest_df[['CURR_CustID','AMT_ANNUITY', 'AMT_APPLICATION','AMT_CREDIT','AMT_GOODS_PRICE','FIRST_DUEDay','LAST_DUEDay','DAYS_TERMINATION','INSURED_ON_APPROVAL']]"
      ],
      "metadata": {
        "id": "548NMs2ccTNH"
      },
      "execution_count": null,
      "outputs": []
    },
    {
      "cell_type": "code",
      "source": [
        "cat2_df.head()"
      ],
      "metadata": {
        "colab": {
          "base_uri": "https://localhost:8080/",
          "height": 270
        },
        "id": "7frE9INFfn0Y",
        "outputId": "2efd42c4-ade4-464a-e987-5d5ef38464b9"
      },
      "execution_count": null,
      "outputs": [
        {
          "output_type": "execute_result",
          "data": {
            "text/plain": [
              "   CURR_CustID  AMT_ANNUITY  AMT_APPLICATION  AMT_CREDIT  AMT_GOODS_PRICE  \\\n",
              "0       271877     1730.430          17145.0     17145.0          17145.0   \n",
              "1       108129    25188.615         607500.0    679671.0         607500.0   \n",
              "2       122040    15060.735         112500.0    136444.5         112500.0   \n",
              "3       176158    47041.335         450000.0    470790.0         450000.0   \n",
              "4       202054    31924.395         337500.0    404055.0         337500.0   \n",
              "\n",
              "   FIRST_DUEDay  LAST_DUEDay  DAYS_TERMINATION  INSURED_ON_APPROVAL  \n",
              "0         -42.0        -42.0             -37.0                  0.0  \n",
              "1        -134.0     365243.0          365243.0                  1.0  \n",
              "2        -271.0     365243.0          365243.0                  1.0  \n",
              "3        -482.0       -182.0            -177.0                  1.0  \n",
              "4           NaN          NaN               NaN                  NaN  "
            ],
            "text/html": [
              "\n",
              "  <div id=\"df-b8d54747-84a4-489b-91ae-526987fecfe6\">\n",
              "    <div class=\"colab-df-container\">\n",
              "      <div>\n",
              "<style scoped>\n",
              "    .dataframe tbody tr th:only-of-type {\n",
              "        vertical-align: middle;\n",
              "    }\n",
              "\n",
              "    .dataframe tbody tr th {\n",
              "        vertical-align: top;\n",
              "    }\n",
              "\n",
              "    .dataframe thead th {\n",
              "        text-align: right;\n",
              "    }\n",
              "</style>\n",
              "<table border=\"1\" class=\"dataframe\">\n",
              "  <thead>\n",
              "    <tr style=\"text-align: right;\">\n",
              "      <th></th>\n",
              "      <th>CURR_CustID</th>\n",
              "      <th>AMT_ANNUITY</th>\n",
              "      <th>AMT_APPLICATION</th>\n",
              "      <th>AMT_CREDIT</th>\n",
              "      <th>AMT_GOODS_PRICE</th>\n",
              "      <th>FIRST_DUEDay</th>\n",
              "      <th>LAST_DUEDay</th>\n",
              "      <th>DAYS_TERMINATION</th>\n",
              "      <th>INSURED_ON_APPROVAL</th>\n",
              "    </tr>\n",
              "  </thead>\n",
              "  <tbody>\n",
              "    <tr>\n",
              "      <th>0</th>\n",
              "      <td>271877</td>\n",
              "      <td>1730.430</td>\n",
              "      <td>17145.0</td>\n",
              "      <td>17145.0</td>\n",
              "      <td>17145.0</td>\n",
              "      <td>-42.0</td>\n",
              "      <td>-42.0</td>\n",
              "      <td>-37.0</td>\n",
              "      <td>0.0</td>\n",
              "    </tr>\n",
              "    <tr>\n",
              "      <th>1</th>\n",
              "      <td>108129</td>\n",
              "      <td>25188.615</td>\n",
              "      <td>607500.0</td>\n",
              "      <td>679671.0</td>\n",
              "      <td>607500.0</td>\n",
              "      <td>-134.0</td>\n",
              "      <td>365243.0</td>\n",
              "      <td>365243.0</td>\n",
              "      <td>1.0</td>\n",
              "    </tr>\n",
              "    <tr>\n",
              "      <th>2</th>\n",
              "      <td>122040</td>\n",
              "      <td>15060.735</td>\n",
              "      <td>112500.0</td>\n",
              "      <td>136444.5</td>\n",
              "      <td>112500.0</td>\n",
              "      <td>-271.0</td>\n",
              "      <td>365243.0</td>\n",
              "      <td>365243.0</td>\n",
              "      <td>1.0</td>\n",
              "    </tr>\n",
              "    <tr>\n",
              "      <th>3</th>\n",
              "      <td>176158</td>\n",
              "      <td>47041.335</td>\n",
              "      <td>450000.0</td>\n",
              "      <td>470790.0</td>\n",
              "      <td>450000.0</td>\n",
              "      <td>-482.0</td>\n",
              "      <td>-182.0</td>\n",
              "      <td>-177.0</td>\n",
              "      <td>1.0</td>\n",
              "    </tr>\n",
              "    <tr>\n",
              "      <th>4</th>\n",
              "      <td>202054</td>\n",
              "      <td>31924.395</td>\n",
              "      <td>337500.0</td>\n",
              "      <td>404055.0</td>\n",
              "      <td>337500.0</td>\n",
              "      <td>NaN</td>\n",
              "      <td>NaN</td>\n",
              "      <td>NaN</td>\n",
              "      <td>NaN</td>\n",
              "    </tr>\n",
              "  </tbody>\n",
              "</table>\n",
              "</div>\n",
              "      <button class=\"colab-df-convert\" onclick=\"convertToInteractive('df-b8d54747-84a4-489b-91ae-526987fecfe6')\"\n",
              "              title=\"Convert this dataframe to an interactive table.\"\n",
              "              style=\"display:none;\">\n",
              "        \n",
              "  <svg xmlns=\"http://www.w3.org/2000/svg\" height=\"24px\"viewBox=\"0 0 24 24\"\n",
              "       width=\"24px\">\n",
              "    <path d=\"M0 0h24v24H0V0z\" fill=\"none\"/>\n",
              "    <path d=\"M18.56 5.44l.94 2.06.94-2.06 2.06-.94-2.06-.94-.94-2.06-.94 2.06-2.06.94zm-11 1L8.5 8.5l.94-2.06 2.06-.94-2.06-.94L8.5 2.5l-.94 2.06-2.06.94zm10 10l.94 2.06.94-2.06 2.06-.94-2.06-.94-.94-2.06-.94 2.06-2.06.94z\"/><path d=\"M17.41 7.96l-1.37-1.37c-.4-.4-.92-.59-1.43-.59-.52 0-1.04.2-1.43.59L10.3 9.45l-7.72 7.72c-.78.78-.78 2.05 0 2.83L4 21.41c.39.39.9.59 1.41.59.51 0 1.02-.2 1.41-.59l7.78-7.78 2.81-2.81c.8-.78.8-2.07 0-2.86zM5.41 20L4 18.59l7.72-7.72 1.47 1.35L5.41 20z\"/>\n",
              "  </svg>\n",
              "      </button>\n",
              "      \n",
              "  <style>\n",
              "    .colab-df-container {\n",
              "      display:flex;\n",
              "      flex-wrap:wrap;\n",
              "      gap: 12px;\n",
              "    }\n",
              "\n",
              "    .colab-df-convert {\n",
              "      background-color: #E8F0FE;\n",
              "      border: none;\n",
              "      border-radius: 50%;\n",
              "      cursor: pointer;\n",
              "      display: none;\n",
              "      fill: #1967D2;\n",
              "      height: 32px;\n",
              "      padding: 0 0 0 0;\n",
              "      width: 32px;\n",
              "    }\n",
              "\n",
              "    .colab-df-convert:hover {\n",
              "      background-color: #E2EBFA;\n",
              "      box-shadow: 0px 1px 2px rgba(60, 64, 67, 0.3), 0px 1px 3px 1px rgba(60, 64, 67, 0.15);\n",
              "      fill: #174EA6;\n",
              "    }\n",
              "\n",
              "    [theme=dark] .colab-df-convert {\n",
              "      background-color: #3B4455;\n",
              "      fill: #D2E3FC;\n",
              "    }\n",
              "\n",
              "    [theme=dark] .colab-df-convert:hover {\n",
              "      background-color: #434B5C;\n",
              "      box-shadow: 0px 1px 3px 1px rgba(0, 0, 0, 0.15);\n",
              "      filter: drop-shadow(0px 1px 2px rgba(0, 0, 0, 0.3));\n",
              "      fill: #FFFFFF;\n",
              "    }\n",
              "  </style>\n",
              "\n",
              "      <script>\n",
              "        const buttonEl =\n",
              "          document.querySelector('#df-b8d54747-84a4-489b-91ae-526987fecfe6 button.colab-df-convert');\n",
              "        buttonEl.style.display =\n",
              "          google.colab.kernel.accessAllowed ? 'block' : 'none';\n",
              "\n",
              "        async function convertToInteractive(key) {\n",
              "          const element = document.querySelector('#df-b8d54747-84a4-489b-91ae-526987fecfe6');\n",
              "          const dataTable =\n",
              "            await google.colab.kernel.invokeFunction('convertToInteractive',\n",
              "                                                     [key], {});\n",
              "          if (!dataTable) return;\n",
              "\n",
              "          const docLinkHtml = 'Like what you see? Visit the ' +\n",
              "            '<a target=\"_blank\" href=https://colab.research.google.com/notebooks/data_table.ipynb>data table notebook</a>'\n",
              "            + ' to learn more about interactive tables.';\n",
              "          element.innerHTML = '';\n",
              "          dataTable['output_type'] = 'display_data';\n",
              "          await google.colab.output.renderOutput(dataTable, element);\n",
              "          const docLink = document.createElement('div');\n",
              "          docLink.innerHTML = docLinkHtml;\n",
              "          element.appendChild(docLink);\n",
              "        }\n",
              "      </script>\n",
              "    </div>\n",
              "  </div>\n",
              "  "
            ]
          },
          "metadata": {},
          "execution_count": 194
        }
      ]
    },
    {
      "cell_type": "code",
      "source": [
        "#Checking Corrilation Between columns of numeric continues data\n",
        "cat2_df.corr()"
      ],
      "metadata": {
        "colab": {
          "base_uri": "https://localhost:8080/",
          "height": 396
        },
        "id": "Gm38zM_5fr3C",
        "outputId": "6f904db4-77c2-40aa-f108-8f3ad6c76dc9"
      },
      "execution_count": null,
      "outputs": [
        {
          "output_type": "execute_result",
          "data": {
            "text/plain": [
              "                     CURR_CustID  AMT_ANNUITY  AMT_APPLICATION  AMT_CREDIT  \\\n",
              "CURR_CustID             1.000000     0.000577         0.000280    0.000195   \n",
              "AMT_ANNUITY             0.000577     1.000000         0.808872    0.816429   \n",
              "AMT_APPLICATION         0.000280     0.808872         1.000000    0.975824   \n",
              "AMT_CREDIT              0.000195     0.816429         0.975824    1.000000   \n",
              "AMT_GOODS_PRICE         0.000369     0.820895         0.999884    0.993087   \n",
              "FIRST_DUEDay           -0.000757    -0.053295        -0.049532    0.002881   \n",
              "LAST_DUEDay            -0.000318     0.082659         0.172627    0.224829   \n",
              "DAYS_TERMINATION       -0.000020     0.068022         0.148618    0.214320   \n",
              "INSURED_ON_APPROVAL     0.000876     0.283080         0.259219    0.263932   \n",
              "\n",
              "                     AMT_GOODS_PRICE  FIRST_DUEDay  LAST_DUEDay  \\\n",
              "CURR_CustID                 0.000369     -0.000757    -0.000318   \n",
              "AMT_ANNUITY                 0.820895     -0.053295     0.082659   \n",
              "AMT_APPLICATION             0.999884     -0.049532     0.172627   \n",
              "AMT_CREDIT                  0.993087      0.002881     0.224829   \n",
              "AMT_GOODS_PRICE             1.000000     -0.021062     0.211696   \n",
              "FIRST_DUEDay               -0.021062      1.000000     0.401838   \n",
              "LAST_DUEDay                 0.211696      0.401838     1.000000   \n",
              "DAYS_TERMINATION            0.209296      0.323608     0.927990   \n",
              "INSURED_ON_APPROVAL         0.243400     -0.119048     0.012560   \n",
              "\n",
              "                     DAYS_TERMINATION  INSURED_ON_APPROVAL  \n",
              "CURR_CustID                 -0.000020             0.000876  \n",
              "AMT_ANNUITY                  0.068022             0.283080  \n",
              "AMT_APPLICATION              0.148618             0.259219  \n",
              "AMT_CREDIT                   0.214320             0.263932  \n",
              "AMT_GOODS_PRICE              0.209296             0.243400  \n",
              "FIRST_DUEDay                 0.323608            -0.119048  \n",
              "LAST_DUEDay                  0.927990             0.012560  \n",
              "DAYS_TERMINATION             1.000000            -0.003065  \n",
              "INSURED_ON_APPROVAL         -0.003065             1.000000  "
            ],
            "text/html": [
              "\n",
              "  <div id=\"df-f06f3022-e906-4dd9-a24c-fcdf89fc1be8\">\n",
              "    <div class=\"colab-df-container\">\n",
              "      <div>\n",
              "<style scoped>\n",
              "    .dataframe tbody tr th:only-of-type {\n",
              "        vertical-align: middle;\n",
              "    }\n",
              "\n",
              "    .dataframe tbody tr th {\n",
              "        vertical-align: top;\n",
              "    }\n",
              "\n",
              "    .dataframe thead th {\n",
              "        text-align: right;\n",
              "    }\n",
              "</style>\n",
              "<table border=\"1\" class=\"dataframe\">\n",
              "  <thead>\n",
              "    <tr style=\"text-align: right;\">\n",
              "      <th></th>\n",
              "      <th>CURR_CustID</th>\n",
              "      <th>AMT_ANNUITY</th>\n",
              "      <th>AMT_APPLICATION</th>\n",
              "      <th>AMT_CREDIT</th>\n",
              "      <th>AMT_GOODS_PRICE</th>\n",
              "      <th>FIRST_DUEDay</th>\n",
              "      <th>LAST_DUEDay</th>\n",
              "      <th>DAYS_TERMINATION</th>\n",
              "      <th>INSURED_ON_APPROVAL</th>\n",
              "    </tr>\n",
              "  </thead>\n",
              "  <tbody>\n",
              "    <tr>\n",
              "      <th>CURR_CustID</th>\n",
              "      <td>1.000000</td>\n",
              "      <td>0.000577</td>\n",
              "      <td>0.000280</td>\n",
              "      <td>0.000195</td>\n",
              "      <td>0.000369</td>\n",
              "      <td>-0.000757</td>\n",
              "      <td>-0.000318</td>\n",
              "      <td>-0.000020</td>\n",
              "      <td>0.000876</td>\n",
              "    </tr>\n",
              "    <tr>\n",
              "      <th>AMT_ANNUITY</th>\n",
              "      <td>0.000577</td>\n",
              "      <td>1.000000</td>\n",
              "      <td>0.808872</td>\n",
              "      <td>0.816429</td>\n",
              "      <td>0.820895</td>\n",
              "      <td>-0.053295</td>\n",
              "      <td>0.082659</td>\n",
              "      <td>0.068022</td>\n",
              "      <td>0.283080</td>\n",
              "    </tr>\n",
              "    <tr>\n",
              "      <th>AMT_APPLICATION</th>\n",
              "      <td>0.000280</td>\n",
              "      <td>0.808872</td>\n",
              "      <td>1.000000</td>\n",
              "      <td>0.975824</td>\n",
              "      <td>0.999884</td>\n",
              "      <td>-0.049532</td>\n",
              "      <td>0.172627</td>\n",
              "      <td>0.148618</td>\n",
              "      <td>0.259219</td>\n",
              "    </tr>\n",
              "    <tr>\n",
              "      <th>AMT_CREDIT</th>\n",
              "      <td>0.000195</td>\n",
              "      <td>0.816429</td>\n",
              "      <td>0.975824</td>\n",
              "      <td>1.000000</td>\n",
              "      <td>0.993087</td>\n",
              "      <td>0.002881</td>\n",
              "      <td>0.224829</td>\n",
              "      <td>0.214320</td>\n",
              "      <td>0.263932</td>\n",
              "    </tr>\n",
              "    <tr>\n",
              "      <th>AMT_GOODS_PRICE</th>\n",
              "      <td>0.000369</td>\n",
              "      <td>0.820895</td>\n",
              "      <td>0.999884</td>\n",
              "      <td>0.993087</td>\n",
              "      <td>1.000000</td>\n",
              "      <td>-0.021062</td>\n",
              "      <td>0.211696</td>\n",
              "      <td>0.209296</td>\n",
              "      <td>0.243400</td>\n",
              "    </tr>\n",
              "    <tr>\n",
              "      <th>FIRST_DUEDay</th>\n",
              "      <td>-0.000757</td>\n",
              "      <td>-0.053295</td>\n",
              "      <td>-0.049532</td>\n",
              "      <td>0.002881</td>\n",
              "      <td>-0.021062</td>\n",
              "      <td>1.000000</td>\n",
              "      <td>0.401838</td>\n",
              "      <td>0.323608</td>\n",
              "      <td>-0.119048</td>\n",
              "    </tr>\n",
              "    <tr>\n",
              "      <th>LAST_DUEDay</th>\n",
              "      <td>-0.000318</td>\n",
              "      <td>0.082659</td>\n",
              "      <td>0.172627</td>\n",
              "      <td>0.224829</td>\n",
              "      <td>0.211696</td>\n",
              "      <td>0.401838</td>\n",
              "      <td>1.000000</td>\n",
              "      <td>0.927990</td>\n",
              "      <td>0.012560</td>\n",
              "    </tr>\n",
              "    <tr>\n",
              "      <th>DAYS_TERMINATION</th>\n",
              "      <td>-0.000020</td>\n",
              "      <td>0.068022</td>\n",
              "      <td>0.148618</td>\n",
              "      <td>0.214320</td>\n",
              "      <td>0.209296</td>\n",
              "      <td>0.323608</td>\n",
              "      <td>0.927990</td>\n",
              "      <td>1.000000</td>\n",
              "      <td>-0.003065</td>\n",
              "    </tr>\n",
              "    <tr>\n",
              "      <th>INSURED_ON_APPROVAL</th>\n",
              "      <td>0.000876</td>\n",
              "      <td>0.283080</td>\n",
              "      <td>0.259219</td>\n",
              "      <td>0.263932</td>\n",
              "      <td>0.243400</td>\n",
              "      <td>-0.119048</td>\n",
              "      <td>0.012560</td>\n",
              "      <td>-0.003065</td>\n",
              "      <td>1.000000</td>\n",
              "    </tr>\n",
              "  </tbody>\n",
              "</table>\n",
              "</div>\n",
              "      <button class=\"colab-df-convert\" onclick=\"convertToInteractive('df-f06f3022-e906-4dd9-a24c-fcdf89fc1be8')\"\n",
              "              title=\"Convert this dataframe to an interactive table.\"\n",
              "              style=\"display:none;\">\n",
              "        \n",
              "  <svg xmlns=\"http://www.w3.org/2000/svg\" height=\"24px\"viewBox=\"0 0 24 24\"\n",
              "       width=\"24px\">\n",
              "    <path d=\"M0 0h24v24H0V0z\" fill=\"none\"/>\n",
              "    <path d=\"M18.56 5.44l.94 2.06.94-2.06 2.06-.94-2.06-.94-.94-2.06-.94 2.06-2.06.94zm-11 1L8.5 8.5l.94-2.06 2.06-.94-2.06-.94L8.5 2.5l-.94 2.06-2.06.94zm10 10l.94 2.06.94-2.06 2.06-.94-2.06-.94-.94-2.06-.94 2.06-2.06.94z\"/><path d=\"M17.41 7.96l-1.37-1.37c-.4-.4-.92-.59-1.43-.59-.52 0-1.04.2-1.43.59L10.3 9.45l-7.72 7.72c-.78.78-.78 2.05 0 2.83L4 21.41c.39.39.9.59 1.41.59.51 0 1.02-.2 1.41-.59l7.78-7.78 2.81-2.81c.8-.78.8-2.07 0-2.86zM5.41 20L4 18.59l7.72-7.72 1.47 1.35L5.41 20z\"/>\n",
              "  </svg>\n",
              "      </button>\n",
              "      \n",
              "  <style>\n",
              "    .colab-df-container {\n",
              "      display:flex;\n",
              "      flex-wrap:wrap;\n",
              "      gap: 12px;\n",
              "    }\n",
              "\n",
              "    .colab-df-convert {\n",
              "      background-color: #E8F0FE;\n",
              "      border: none;\n",
              "      border-radius: 50%;\n",
              "      cursor: pointer;\n",
              "      display: none;\n",
              "      fill: #1967D2;\n",
              "      height: 32px;\n",
              "      padding: 0 0 0 0;\n",
              "      width: 32px;\n",
              "    }\n",
              "\n",
              "    .colab-df-convert:hover {\n",
              "      background-color: #E2EBFA;\n",
              "      box-shadow: 0px 1px 2px rgba(60, 64, 67, 0.3), 0px 1px 3px 1px rgba(60, 64, 67, 0.15);\n",
              "      fill: #174EA6;\n",
              "    }\n",
              "\n",
              "    [theme=dark] .colab-df-convert {\n",
              "      background-color: #3B4455;\n",
              "      fill: #D2E3FC;\n",
              "    }\n",
              "\n",
              "    [theme=dark] .colab-df-convert:hover {\n",
              "      background-color: #434B5C;\n",
              "      box-shadow: 0px 1px 3px 1px rgba(0, 0, 0, 0.15);\n",
              "      filter: drop-shadow(0px 1px 2px rgba(0, 0, 0, 0.3));\n",
              "      fill: #FFFFFF;\n",
              "    }\n",
              "  </style>\n",
              "\n",
              "      <script>\n",
              "        const buttonEl =\n",
              "          document.querySelector('#df-f06f3022-e906-4dd9-a24c-fcdf89fc1be8 button.colab-df-convert');\n",
              "        buttonEl.style.display =\n",
              "          google.colab.kernel.accessAllowed ? 'block' : 'none';\n",
              "\n",
              "        async function convertToInteractive(key) {\n",
              "          const element = document.querySelector('#df-f06f3022-e906-4dd9-a24c-fcdf89fc1be8');\n",
              "          const dataTable =\n",
              "            await google.colab.kernel.invokeFunction('convertToInteractive',\n",
              "                                                     [key], {});\n",
              "          if (!dataTable) return;\n",
              "\n",
              "          const docLinkHtml = 'Like what you see? Visit the ' +\n",
              "            '<a target=\"_blank\" href=https://colab.research.google.com/notebooks/data_table.ipynb>data table notebook</a>'\n",
              "            + ' to learn more about interactive tables.';\n",
              "          element.innerHTML = '';\n",
              "          dataTable['output_type'] = 'display_data';\n",
              "          await google.colab.output.renderOutput(dataTable, element);\n",
              "          const docLink = document.createElement('div');\n",
              "          docLink.innerHTML = docLinkHtml;\n",
              "          element.appendChild(docLink);\n",
              "        }\n",
              "      </script>\n",
              "    </div>\n",
              "  </div>\n",
              "  "
            ]
          },
          "metadata": {},
          "execution_count": 195
        }
      ]
    },
    {
      "cell_type": "code",
      "source": [
        "#dropping the columns having null vvalues and creating new dataframe\n",
        "cat2_df[['CURR_CustID','AMT_ANNUITY', 'AMT_APPLICATION','AMT_CREDIT','AMT_GOODS_PRICE']]"
      ],
      "metadata": {
        "colab": {
          "base_uri": "https://localhost:8080/",
          "height": 468
        },
        "id": "F7T0DfBdfyoY",
        "outputId": "279d1d76-195e-46f1-bbe2-38151ad5236a"
      },
      "execution_count": null,
      "outputs": [
        {
          "output_type": "execute_result",
          "data": {
            "text/plain": [
              "         CURR_CustID  AMT_ANNUITY  AMT_APPLICATION  AMT_CREDIT  \\\n",
              "0             271877     1730.430          17145.0     17145.0   \n",
              "1             108129    25188.615         607500.0    679671.0   \n",
              "2             122040    15060.735         112500.0    136444.5   \n",
              "3             176158    47041.335         450000.0    470790.0   \n",
              "4             202054    31924.395         337500.0    404055.0   \n",
              "...              ...          ...              ...         ...   \n",
              "1670209       352015    14704.290         267295.5    311400.0   \n",
              "1670210       334635     6622.020          87750.0     64291.5   \n",
              "1670211       249544    11520.855         105237.0    102523.5   \n",
              "1670212       400317    18821.520         180000.0    191880.0   \n",
              "1670213       261212    16431.300         360000.0    360000.0   \n",
              "\n",
              "         AMT_GOODS_PRICE  \n",
              "0                17145.0  \n",
              "1               607500.0  \n",
              "2               112500.0  \n",
              "3               450000.0  \n",
              "4               337500.0  \n",
              "...                  ...  \n",
              "1670209         267295.5  \n",
              "1670210          87750.0  \n",
              "1670211         105237.0  \n",
              "1670212         180000.0  \n",
              "1670213         360000.0  \n",
              "\n",
              "[1670214 rows x 5 columns]"
            ],
            "text/html": [
              "\n",
              "  <div id=\"df-e0dfff72-2c73-40fe-bc3a-ff37c779342b\">\n",
              "    <div class=\"colab-df-container\">\n",
              "      <div>\n",
              "<style scoped>\n",
              "    .dataframe tbody tr th:only-of-type {\n",
              "        vertical-align: middle;\n",
              "    }\n",
              "\n",
              "    .dataframe tbody tr th {\n",
              "        vertical-align: top;\n",
              "    }\n",
              "\n",
              "    .dataframe thead th {\n",
              "        text-align: right;\n",
              "    }\n",
              "</style>\n",
              "<table border=\"1\" class=\"dataframe\">\n",
              "  <thead>\n",
              "    <tr style=\"text-align: right;\">\n",
              "      <th></th>\n",
              "      <th>CURR_CustID</th>\n",
              "      <th>AMT_ANNUITY</th>\n",
              "      <th>AMT_APPLICATION</th>\n",
              "      <th>AMT_CREDIT</th>\n",
              "      <th>AMT_GOODS_PRICE</th>\n",
              "    </tr>\n",
              "  </thead>\n",
              "  <tbody>\n",
              "    <tr>\n",
              "      <th>0</th>\n",
              "      <td>271877</td>\n",
              "      <td>1730.430</td>\n",
              "      <td>17145.0</td>\n",
              "      <td>17145.0</td>\n",
              "      <td>17145.0</td>\n",
              "    </tr>\n",
              "    <tr>\n",
              "      <th>1</th>\n",
              "      <td>108129</td>\n",
              "      <td>25188.615</td>\n",
              "      <td>607500.0</td>\n",
              "      <td>679671.0</td>\n",
              "      <td>607500.0</td>\n",
              "    </tr>\n",
              "    <tr>\n",
              "      <th>2</th>\n",
              "      <td>122040</td>\n",
              "      <td>15060.735</td>\n",
              "      <td>112500.0</td>\n",
              "      <td>136444.5</td>\n",
              "      <td>112500.0</td>\n",
              "    </tr>\n",
              "    <tr>\n",
              "      <th>3</th>\n",
              "      <td>176158</td>\n",
              "      <td>47041.335</td>\n",
              "      <td>450000.0</td>\n",
              "      <td>470790.0</td>\n",
              "      <td>450000.0</td>\n",
              "    </tr>\n",
              "    <tr>\n",
              "      <th>4</th>\n",
              "      <td>202054</td>\n",
              "      <td>31924.395</td>\n",
              "      <td>337500.0</td>\n",
              "      <td>404055.0</td>\n",
              "      <td>337500.0</td>\n",
              "    </tr>\n",
              "    <tr>\n",
              "      <th>...</th>\n",
              "      <td>...</td>\n",
              "      <td>...</td>\n",
              "      <td>...</td>\n",
              "      <td>...</td>\n",
              "      <td>...</td>\n",
              "    </tr>\n",
              "    <tr>\n",
              "      <th>1670209</th>\n",
              "      <td>352015</td>\n",
              "      <td>14704.290</td>\n",
              "      <td>267295.5</td>\n",
              "      <td>311400.0</td>\n",
              "      <td>267295.5</td>\n",
              "    </tr>\n",
              "    <tr>\n",
              "      <th>1670210</th>\n",
              "      <td>334635</td>\n",
              "      <td>6622.020</td>\n",
              "      <td>87750.0</td>\n",
              "      <td>64291.5</td>\n",
              "      <td>87750.0</td>\n",
              "    </tr>\n",
              "    <tr>\n",
              "      <th>1670211</th>\n",
              "      <td>249544</td>\n",
              "      <td>11520.855</td>\n",
              "      <td>105237.0</td>\n",
              "      <td>102523.5</td>\n",
              "      <td>105237.0</td>\n",
              "    </tr>\n",
              "    <tr>\n",
              "      <th>1670212</th>\n",
              "      <td>400317</td>\n",
              "      <td>18821.520</td>\n",
              "      <td>180000.0</td>\n",
              "      <td>191880.0</td>\n",
              "      <td>180000.0</td>\n",
              "    </tr>\n",
              "    <tr>\n",
              "      <th>1670213</th>\n",
              "      <td>261212</td>\n",
              "      <td>16431.300</td>\n",
              "      <td>360000.0</td>\n",
              "      <td>360000.0</td>\n",
              "      <td>360000.0</td>\n",
              "    </tr>\n",
              "  </tbody>\n",
              "</table>\n",
              "<p>1670214 rows × 5 columns</p>\n",
              "</div>\n",
              "      <button class=\"colab-df-convert\" onclick=\"convertToInteractive('df-e0dfff72-2c73-40fe-bc3a-ff37c779342b')\"\n",
              "              title=\"Convert this dataframe to an interactive table.\"\n",
              "              style=\"display:none;\">\n",
              "        \n",
              "  <svg xmlns=\"http://www.w3.org/2000/svg\" height=\"24px\"viewBox=\"0 0 24 24\"\n",
              "       width=\"24px\">\n",
              "    <path d=\"M0 0h24v24H0V0z\" fill=\"none\"/>\n",
              "    <path d=\"M18.56 5.44l.94 2.06.94-2.06 2.06-.94-2.06-.94-.94-2.06-.94 2.06-2.06.94zm-11 1L8.5 8.5l.94-2.06 2.06-.94-2.06-.94L8.5 2.5l-.94 2.06-2.06.94zm10 10l.94 2.06.94-2.06 2.06-.94-2.06-.94-.94-2.06-.94 2.06-2.06.94z\"/><path d=\"M17.41 7.96l-1.37-1.37c-.4-.4-.92-.59-1.43-.59-.52 0-1.04.2-1.43.59L10.3 9.45l-7.72 7.72c-.78.78-.78 2.05 0 2.83L4 21.41c.39.39.9.59 1.41.59.51 0 1.02-.2 1.41-.59l7.78-7.78 2.81-2.81c.8-.78.8-2.07 0-2.86zM5.41 20L4 18.59l7.72-7.72 1.47 1.35L5.41 20z\"/>\n",
              "  </svg>\n",
              "      </button>\n",
              "      \n",
              "  <style>\n",
              "    .colab-df-container {\n",
              "      display:flex;\n",
              "      flex-wrap:wrap;\n",
              "      gap: 12px;\n",
              "    }\n",
              "\n",
              "    .colab-df-convert {\n",
              "      background-color: #E8F0FE;\n",
              "      border: none;\n",
              "      border-radius: 50%;\n",
              "      cursor: pointer;\n",
              "      display: none;\n",
              "      fill: #1967D2;\n",
              "      height: 32px;\n",
              "      padding: 0 0 0 0;\n",
              "      width: 32px;\n",
              "    }\n",
              "\n",
              "    .colab-df-convert:hover {\n",
              "      background-color: #E2EBFA;\n",
              "      box-shadow: 0px 1px 2px rgba(60, 64, 67, 0.3), 0px 1px 3px 1px rgba(60, 64, 67, 0.15);\n",
              "      fill: #174EA6;\n",
              "    }\n",
              "\n",
              "    [theme=dark] .colab-df-convert {\n",
              "      background-color: #3B4455;\n",
              "      fill: #D2E3FC;\n",
              "    }\n",
              "\n",
              "    [theme=dark] .colab-df-convert:hover {\n",
              "      background-color: #434B5C;\n",
              "      box-shadow: 0px 1px 3px 1px rgba(0, 0, 0, 0.15);\n",
              "      filter: drop-shadow(0px 1px 2px rgba(0, 0, 0, 0.3));\n",
              "      fill: #FFFFFF;\n",
              "    }\n",
              "  </style>\n",
              "\n",
              "      <script>\n",
              "        const buttonEl =\n",
              "          document.querySelector('#df-e0dfff72-2c73-40fe-bc3a-ff37c779342b button.colab-df-convert');\n",
              "        buttonEl.style.display =\n",
              "          google.colab.kernel.accessAllowed ? 'block' : 'none';\n",
              "\n",
              "        async function convertToInteractive(key) {\n",
              "          const element = document.querySelector('#df-e0dfff72-2c73-40fe-bc3a-ff37c779342b');\n",
              "          const dataTable =\n",
              "            await google.colab.kernel.invokeFunction('convertToInteractive',\n",
              "                                                     [key], {});\n",
              "          if (!dataTable) return;\n",
              "\n",
              "          const docLinkHtml = 'Like what you see? Visit the ' +\n",
              "            '<a target=\"_blank\" href=https://colab.research.google.com/notebooks/data_table.ipynb>data table notebook</a>'\n",
              "            + ' to learn more about interactive tables.';\n",
              "          element.innerHTML = '';\n",
              "          dataTable['output_type'] = 'display_data';\n",
              "          await google.colab.output.renderOutput(dataTable, element);\n",
              "          const docLink = document.createElement('div');\n",
              "          docLink.innerHTML = docLinkHtml;\n",
              "          element.appendChild(docLink);\n",
              "        }\n",
              "      </script>\n",
              "    </div>\n",
              "  </div>\n",
              "  "
            ]
          },
          "metadata": {},
          "execution_count": 196
        }
      ]
    },
    {
      "cell_type": "code",
      "source": [
        "cat3_df=cat2_df[['CURR_CustID','AMT_ANNUITY', 'AMT_APPLICATION','AMT_CREDIT','AMT_GOODS_PRICE']].corr()\n",
        "cat3_df"
      ],
      "metadata": {
        "colab": {
          "base_uri": "https://localhost:8080/",
          "height": 270
        },
        "id": "HFo_16CgjIFV",
        "outputId": "20e97181-57b5-45ca-ab8f-066321b0e23d"
      },
      "execution_count": null,
      "outputs": [
        {
          "output_type": "execute_result",
          "data": {
            "text/plain": [
              "                 CURR_CustID  AMT_ANNUITY  AMT_APPLICATION  AMT_CREDIT  \\\n",
              "CURR_CustID         1.000000     0.000577         0.000280    0.000195   \n",
              "AMT_ANNUITY         0.000577     1.000000         0.808872    0.816429   \n",
              "AMT_APPLICATION     0.000280     0.808872         1.000000    0.975824   \n",
              "AMT_CREDIT          0.000195     0.816429         0.975824    1.000000   \n",
              "AMT_GOODS_PRICE     0.000369     0.820895         0.999884    0.993087   \n",
              "\n",
              "                 AMT_GOODS_PRICE  \n",
              "CURR_CustID             0.000369  \n",
              "AMT_ANNUITY             0.820895  \n",
              "AMT_APPLICATION         0.999884  \n",
              "AMT_CREDIT              0.993087  \n",
              "AMT_GOODS_PRICE         1.000000  "
            ],
            "text/html": [
              "\n",
              "  <div id=\"df-ddb7dc61-f9be-4327-81c2-f9887f0949c4\">\n",
              "    <div class=\"colab-df-container\">\n",
              "      <div>\n",
              "<style scoped>\n",
              "    .dataframe tbody tr th:only-of-type {\n",
              "        vertical-align: middle;\n",
              "    }\n",
              "\n",
              "    .dataframe tbody tr th {\n",
              "        vertical-align: top;\n",
              "    }\n",
              "\n",
              "    .dataframe thead th {\n",
              "        text-align: right;\n",
              "    }\n",
              "</style>\n",
              "<table border=\"1\" class=\"dataframe\">\n",
              "  <thead>\n",
              "    <tr style=\"text-align: right;\">\n",
              "      <th></th>\n",
              "      <th>CURR_CustID</th>\n",
              "      <th>AMT_ANNUITY</th>\n",
              "      <th>AMT_APPLICATION</th>\n",
              "      <th>AMT_CREDIT</th>\n",
              "      <th>AMT_GOODS_PRICE</th>\n",
              "    </tr>\n",
              "  </thead>\n",
              "  <tbody>\n",
              "    <tr>\n",
              "      <th>CURR_CustID</th>\n",
              "      <td>1.000000</td>\n",
              "      <td>0.000577</td>\n",
              "      <td>0.000280</td>\n",
              "      <td>0.000195</td>\n",
              "      <td>0.000369</td>\n",
              "    </tr>\n",
              "    <tr>\n",
              "      <th>AMT_ANNUITY</th>\n",
              "      <td>0.000577</td>\n",
              "      <td>1.000000</td>\n",
              "      <td>0.808872</td>\n",
              "      <td>0.816429</td>\n",
              "      <td>0.820895</td>\n",
              "    </tr>\n",
              "    <tr>\n",
              "      <th>AMT_APPLICATION</th>\n",
              "      <td>0.000280</td>\n",
              "      <td>0.808872</td>\n",
              "      <td>1.000000</td>\n",
              "      <td>0.975824</td>\n",
              "      <td>0.999884</td>\n",
              "    </tr>\n",
              "    <tr>\n",
              "      <th>AMT_CREDIT</th>\n",
              "      <td>0.000195</td>\n",
              "      <td>0.816429</td>\n",
              "      <td>0.975824</td>\n",
              "      <td>1.000000</td>\n",
              "      <td>0.993087</td>\n",
              "    </tr>\n",
              "    <tr>\n",
              "      <th>AMT_GOODS_PRICE</th>\n",
              "      <td>0.000369</td>\n",
              "      <td>0.820895</td>\n",
              "      <td>0.999884</td>\n",
              "      <td>0.993087</td>\n",
              "      <td>1.000000</td>\n",
              "    </tr>\n",
              "  </tbody>\n",
              "</table>\n",
              "</div>\n",
              "      <button class=\"colab-df-convert\" onclick=\"convertToInteractive('df-ddb7dc61-f9be-4327-81c2-f9887f0949c4')\"\n",
              "              title=\"Convert this dataframe to an interactive table.\"\n",
              "              style=\"display:none;\">\n",
              "        \n",
              "  <svg xmlns=\"http://www.w3.org/2000/svg\" height=\"24px\"viewBox=\"0 0 24 24\"\n",
              "       width=\"24px\">\n",
              "    <path d=\"M0 0h24v24H0V0z\" fill=\"none\"/>\n",
              "    <path d=\"M18.56 5.44l.94 2.06.94-2.06 2.06-.94-2.06-.94-.94-2.06-.94 2.06-2.06.94zm-11 1L8.5 8.5l.94-2.06 2.06-.94-2.06-.94L8.5 2.5l-.94 2.06-2.06.94zm10 10l.94 2.06.94-2.06 2.06-.94-2.06-.94-.94-2.06-.94 2.06-2.06.94z\"/><path d=\"M17.41 7.96l-1.37-1.37c-.4-.4-.92-.59-1.43-.59-.52 0-1.04.2-1.43.59L10.3 9.45l-7.72 7.72c-.78.78-.78 2.05 0 2.83L4 21.41c.39.39.9.59 1.41.59.51 0 1.02-.2 1.41-.59l7.78-7.78 2.81-2.81c.8-.78.8-2.07 0-2.86zM5.41 20L4 18.59l7.72-7.72 1.47 1.35L5.41 20z\"/>\n",
              "  </svg>\n",
              "      </button>\n",
              "      \n",
              "  <style>\n",
              "    .colab-df-container {\n",
              "      display:flex;\n",
              "      flex-wrap:wrap;\n",
              "      gap: 12px;\n",
              "    }\n",
              "\n",
              "    .colab-df-convert {\n",
              "      background-color: #E8F0FE;\n",
              "      border: none;\n",
              "      border-radius: 50%;\n",
              "      cursor: pointer;\n",
              "      display: none;\n",
              "      fill: #1967D2;\n",
              "      height: 32px;\n",
              "      padding: 0 0 0 0;\n",
              "      width: 32px;\n",
              "    }\n",
              "\n",
              "    .colab-df-convert:hover {\n",
              "      background-color: #E2EBFA;\n",
              "      box-shadow: 0px 1px 2px rgba(60, 64, 67, 0.3), 0px 1px 3px 1px rgba(60, 64, 67, 0.15);\n",
              "      fill: #174EA6;\n",
              "    }\n",
              "\n",
              "    [theme=dark] .colab-df-convert {\n",
              "      background-color: #3B4455;\n",
              "      fill: #D2E3FC;\n",
              "    }\n",
              "\n",
              "    [theme=dark] .colab-df-convert:hover {\n",
              "      background-color: #434B5C;\n",
              "      box-shadow: 0px 1px 3px 1px rgba(0, 0, 0, 0.15);\n",
              "      filter: drop-shadow(0px 1px 2px rgba(0, 0, 0, 0.3));\n",
              "      fill: #FFFFFF;\n",
              "    }\n",
              "  </style>\n",
              "\n",
              "      <script>\n",
              "        const buttonEl =\n",
              "          document.querySelector('#df-ddb7dc61-f9be-4327-81c2-f9887f0949c4 button.colab-df-convert');\n",
              "        buttonEl.style.display =\n",
              "          google.colab.kernel.accessAllowed ? 'block' : 'none';\n",
              "\n",
              "        async function convertToInteractive(key) {\n",
              "          const element = document.querySelector('#df-ddb7dc61-f9be-4327-81c2-f9887f0949c4');\n",
              "          const dataTable =\n",
              "            await google.colab.kernel.invokeFunction('convertToInteractive',\n",
              "                                                     [key], {});\n",
              "          if (!dataTable) return;\n",
              "\n",
              "          const docLinkHtml = 'Like what you see? Visit the ' +\n",
              "            '<a target=\"_blank\" href=https://colab.research.google.com/notebooks/data_table.ipynb>data table notebook</a>'\n",
              "            + ' to learn more about interactive tables.';\n",
              "          element.innerHTML = '';\n",
              "          dataTable['output_type'] = 'display_data';\n",
              "          await google.colab.output.renderOutput(dataTable, element);\n",
              "          const docLink = document.createElement('div');\n",
              "          docLink.innerHTML = docLinkHtml;\n",
              "          element.appendChild(docLink);\n",
              "        }\n",
              "      </script>\n",
              "    </div>\n",
              "  </div>\n",
              "  "
            ]
          },
          "metadata": {},
          "execution_count": 199
        }
      ]
    },
    {
      "cell_type": "markdown",
      "source": [
        "Conclusion--> \n",
        "1. AMT_ANNUITY is strongly correlated with\n",
        "*   AMT_APPLICATION by corelation coefficient 0.808872\t\n",
        "*   AMT_CREDIT by corelation coefficient 0.816429\n",
        "*   AMT_GOODS_PRICE by corelation coefficient 0.820895\n",
        "\n",
        "\n",
        "2. AMT_APPLICATION is strongly correlated with\t\n",
        "*   AMT_CREDIT by corelation coefficient 0.975824\n",
        "*   AMT_GOODS_PRICE by corelation coefficient 0.999884\n",
        "\n",
        "\n",
        "3. AMT_CREDIT is strongly correlated with\n",
        "*   AMT_GOODS_PRICE by corelation coefficient 0.993087\n"
      ],
      "metadata": {
        "id": "kV6P7-kUjZoG"
      }
    },
    {
      "cell_type": "markdown",
      "source": [
        "#ploting pairplot for continues data to check the retaion between columns"
      ],
      "metadata": {
        "id": "JogtVdHApNat"
      }
    },
    {
      "cell_type": "code",
      "source": [
        "#creating pairplot graph\n",
        "sns.pairplot(data=cat3_df)\n"
      ],
      "metadata": {
        "colab": {
          "base_uri": "https://localhost:8080/",
          "height": 940
        },
        "id": "jrVpkBmRjOUW",
        "outputId": "f20431cf-c08a-4ebd-929d-a83f0a3d8dd3"
      },
      "execution_count": null,
      "outputs": [
        {
          "output_type": "execute_result",
          "data": {
            "text/plain": [
              "<seaborn.axisgrid.PairGrid at 0x7f4aa5bddfa0>"
            ]
          },
          "metadata": {},
          "execution_count": 200
        },
        {
          "output_type": "display_data",
          "data": {
            "text/plain": [
              "<Figure size 900x900 with 30 Axes>"
            ],
            "image/png": "[encoded data removed]"
          },
          "metadata": {
            "needs_background": "light"
          }
        }
      ]
    },
    {
      "cell_type": "markdown",
      "source": [
        "# Handling Outliers"
      ],
      "metadata": {
        "id": "du1WtdW_pR0s"
      }
    },
    {
      "cell_type": "code",
      "source": [
        "# AMT_APPLICATION"
      ],
      "metadata": {
        "id": "n36-C-tWli4H"
      },
      "execution_count": null,
      "outputs": []
    },
    {
      "cell_type": "code",
      "source": [
        "#Checking outliers for INCOME\n",
        "cat3_df.AMT_APPLICATION.describe()"
      ],
      "metadata": {
        "colab": {
          "base_uri": "https://localhost:8080/"
        },
        "id": "aPz31j1fpfaC",
        "outputId": "c1a27376-bd72-42ba-f4ce-1dd61bc300b9"
      },
      "execution_count": null,
      "outputs": [
        {
          "output_type": "execute_result",
          "data": {
            "text/plain": [
              "count    5.000000\n",
              "mean     0.756972\n",
              "std      0.430477\n",
              "min      0.000280\n",
              "25%      0.808872\n",
              "50%      0.975824\n",
              "75%      0.999884\n",
              "max      1.000000\n",
              "Name: AMT_APPLICATION, dtype: float64"
            ]
          },
          "metadata": {},
          "execution_count": 202
        }
      ]
    },
    {
      "cell_type": "code",
      "source": [
        "sns.boxplot(cat3_df.AMT_APPLICATION)\n",
        "plt.title('Distribution of AMT_APPLICATION')\n",
        "plt.show()"
      ],
      "metadata": {
        "colab": {
          "base_uri": "https://localhost:8080/",
          "height": 351
        },
        "id": "CJVXDzfIpoKA",
        "outputId": "fd14d37b-7139-484a-81d8-93a93ba19f15"
      },
      "execution_count": null,
      "outputs": [
        {
          "output_type": "stream",
          "name": "stderr",
          "text": [
            "/usr/local/lib/python3.8/dist-packages/seaborn/_decorators.py:36: FutureWarning: Pass the following variable as a keyword arg: x. From version 0.12, the only valid positional argument will be `data`, and passing other arguments without an explicit keyword will result in an error or misinterpretation.\n",
            "  warnings.warn(\n"
          ]
        },
        {
          "output_type": "display_data",
          "data": {
            "text/plain": [
              "<Figure size 432x288 with 1 Axes>"
            ],
            "image/png": "[encoded data removed]"
          },
          "metadata": {
            "needs_background": "light"
          }
        }
      ]
    },
    {
      "cell_type": "code",
      "source": [
        "# AMT_CREDIT"
      ],
      "metadata": {
        "id": "hwPzKT_BpucU"
      },
      "execution_count": null,
      "outputs": []
    },
    {
      "cell_type": "code",
      "source": [
        "#Checking outliers for AMT_CREDIT\n",
        "cat3_df.AMT_CREDIT.describe()"
      ],
      "metadata": {
        "colab": {
          "base_uri": "https://localhost:8080/"
        },
        "id": "MylO8prYp2ep",
        "outputId": "5f07722d-4a83-4470-f277-d3319d61e2b5"
      },
      "execution_count": null,
      "outputs": [
        {
          "output_type": "execute_result",
          "data": {
            "text/plain": [
              "count    5.000000\n",
              "mean     0.757107\n",
              "std      0.429813\n",
              "min      0.000195\n",
              "25%      0.816429\n",
              "50%      0.975824\n",
              "75%      0.993087\n",
              "max      1.000000\n",
              "Name: AMT_CREDIT, dtype: float64"
            ]
          },
          "metadata": {},
          "execution_count": 205
        }
      ]
    },
    {
      "cell_type": "code",
      "source": [
        "sns.boxplot(cat3_df.AMT_CREDIT)\n",
        "plt.title('Distribution of AMT_CREDIT')\n",
        "plt.show()"
      ],
      "metadata": {
        "colab": {
          "base_uri": "https://localhost:8080/",
          "height": 351
        },
        "id": "ngk9gLiJp9Oc",
        "outputId": "c66d6b2c-9eae-427b-f22c-4ea993833ae9"
      },
      "execution_count": null,
      "outputs": [
        {
          "output_type": "stream",
          "name": "stderr",
          "text": [
            "/usr/local/lib/python3.8/dist-packages/seaborn/_decorators.py:36: FutureWarning: Pass the following variable as a keyword arg: x. From version 0.12, the only valid positional argument will be `data`, and passing other arguments without an explicit keyword will result in an error or misinterpretation.\n",
            "  warnings.warn(\n"
          ]
        },
        {
          "output_type": "display_data",
          "data": {
            "text/plain": [
              "<Figure size 432x288 with 1 Axes>"
            ],
            "image/png": "[encoded data removed]"
          },
          "metadata": {
            "needs_background": "light"
          }
        }
      ]
    },
    {
      "cell_type": "code",
      "source": [
        "# AMT_GOODS_PRICE"
      ],
      "metadata": {
        "id": "AoKLwTgjqIFA"
      },
      "execution_count": null,
      "outputs": []
    },
    {
      "cell_type": "code",
      "source": [
        "#Checking outliers for AMT_GOODS_PRICE\n",
        "cat3_df.AMT_GOODS_PRICE.describe()"
      ],
      "metadata": {
        "colab": {
          "base_uri": "https://localhost:8080/"
        },
        "id": "ocGHdgL6quvU",
        "outputId": "f3d122a2-e88f-4666-da1e-de5eeb54915f"
      },
      "execution_count": null,
      "outputs": [
        {
          "output_type": "execute_result",
          "data": {
            "text/plain": [
              "count    5.000000\n",
              "mean     0.762847\n",
              "std      0.433065\n",
              "min      0.000369\n",
              "25%      0.820895\n",
              "50%      0.993087\n",
              "75%      0.999884\n",
              "max      1.000000\n",
              "Name: AMT_GOODS_PRICE, dtype: float64"
            ]
          },
          "metadata": {},
          "execution_count": 208
        }
      ]
    },
    {
      "cell_type": "code",
      "source": [
        "plt.figure(figsize=(9,2))\n",
        "sns.boxplot(cat3_df.AMT_GOODS_PRICE)\n",
        "plt.title('Distribution of AMT_GOODS_PRICE')\n",
        "plt.show()"
      ],
      "metadata": {
        "colab": {
          "base_uri": "https://localhost:8080/",
          "height": 243
        },
        "id": "Fg9Z9gZUq31C",
        "outputId": "2be06bd3-65ea-44f5-ac29-690ef6f9df77"
      },
      "execution_count": null,
      "outputs": [
        {
          "output_type": "stream",
          "name": "stderr",
          "text": [
            "/usr/local/lib/python3.8/dist-packages/seaborn/_decorators.py:36: FutureWarning: Pass the following variable as a keyword arg: x. From version 0.12, the only valid positional argument will be `data`, and passing other arguments without an explicit keyword will result in an error or misinterpretation.\n",
            "  warnings.warn(\n"
          ]
        },
        {
          "output_type": "display_data",
          "data": {
            "text/plain": [
              "<Figure size 648x144 with 1 Axes>"
            ],
            "image/png": "[encoded data removed]"
          },
          "metadata": {
            "needs_background": "light"
          }
        }
      ]
    },
    {
      "cell_type": "code",
      "source": [
        "import numpy as np\n",
        "import matplotlib.pyplot as plt\n",
        "from sklearn.linear_model import LinearRegression"
      ],
      "metadata": {
        "id": "7cSpuJQSri_k"
      },
      "execution_count": null,
      "outputs": []
    },
    {
      "cell_type": "code",
      "source": [
        "sns.regplot(x=\"AMT_ANNUITY\", y=\"AMT_CREDIT\", data=cat3_df)\n",
        "plt.ylim(0,)\n",
        "plt.show()"
      ],
      "metadata": {
        "colab": {
          "base_uri": "https://localhost:8080/",
          "height": 280
        },
        "id": "zfxKm1gpq8yl",
        "outputId": "906f006e-7754-48d3-9b21-47890c695719"
      },
      "execution_count": null,
      "outputs": [
        {
          "output_type": "display_data",
          "data": {
            "text/plain": [
              "<Figure size 432x288 with 1 Axes>"
            ],
            "image/png": "[encoded data removed]"
          },
          "metadata": {
            "needs_background": "light"
          }
        }
      ]
    },
    {
      "cell_type": "code",
      "source": [
        "sns.regplot(x=\"AMT_ANNUITY\", y=\"AMT_GOODS_PRICE\", data=cat3_df)\n",
        "plt.ylim(0,)\n",
        "plt.show()"
      ],
      "metadata": {
        "colab": {
          "base_uri": "https://localhost:8080/",
          "height": 280
        },
        "id": "BIgMoI0trQ0c",
        "outputId": "a80bd6c8-06c0-4668-e970-a0cde476ed41"
      },
      "execution_count": null,
      "outputs": [
        {
          "output_type": "display_data",
          "data": {
            "text/plain": [
              "<Figure size 432x288 with 1 Axes>"
            ],
            "image/png": "[encoded data removed]"
          },
          "metadata": {
            "needs_background": "light"
          }
        }
      ]
    },
    {
      "cell_type": "markdown",
      "source": [
        "Q. Filterring data on bases of Loan amount for top 10 loan amounts"
      ],
      "metadata": {
        "id": "p6ufKovpysrD"
      }
    },
    {
      "cell_type": "code",
      "source": [
        "df_amt=cat2_df.nlargest(10,columns='AMT_APPLICATION')\n",
        "df_amt.head()"
      ],
      "metadata": {
        "colab": {
          "base_uri": "https://localhost:8080/",
          "height": 270
        },
        "id": "2gLPAD2Oswi2",
        "outputId": "ea6d3ed9-799a-4e3e-97a5-9a23a6b8dd2a"
      },
      "execution_count": null,
      "outputs": [
        {
          "output_type": "execute_result",
          "data": {
            "text/plain": [
              "         CURR_CustID  AMT_ANNUITY  AMT_APPLICATION  AMT_CREDIT  \\\n",
              "779304        412009          NaN        6905160.0   6905160.0   \n",
              "1058067       346243   103498.650        5850000.0   4095000.0   \n",
              "1163698       346243   113979.690        5850000.0   4509688.5   \n",
              "1348406       324681    83707.830        5085000.0   3051000.0   \n",
              "1245539       173326   119443.005        4455000.0   4009500.0   \n",
              "\n",
              "         AMT_GOODS_PRICE  FIRST_DUEDay  LAST_DUEDay  DAYS_TERMINATION  \\\n",
              "779304         6905160.0           NaN          NaN               NaN   \n",
              "1058067        5850000.0           NaN          NaN               NaN   \n",
              "1163698        5850000.0       -2443.0      -1513.0           -1505.0   \n",
              "1348406        5085000.0       -2598.0      -2598.0           -2591.0   \n",
              "1245539        4455000.0           NaN          NaN               NaN   \n",
              "\n",
              "         INSURED_ON_APPROVAL  \n",
              "779304                   NaN  \n",
              "1058067                  NaN  \n",
              "1163698                  1.0  \n",
              "1348406                  0.0  \n",
              "1245539                  NaN  "
            ],
            "text/html": [
              "\n",
              "  <div id=\"df-4315615b-15a5-49ed-99a5-34396f1e1333\">\n",
              "    <div class=\"colab-df-container\">\n",
              "      <div>\n",
              "<style scoped>\n",
              "    .dataframe tbody tr th:only-of-type {\n",
              "        vertical-align: middle;\n",
              "    }\n",
              "\n",
              "    .dataframe tbody tr th {\n",
              "        vertical-align: top;\n",
              "    }\n",
              "\n",
              "    .dataframe thead th {\n",
              "        text-align: right;\n",
              "    }\n",
              "</style>\n",
              "<table border=\"1\" class=\"dataframe\">\n",
              "  <thead>\n",
              "    <tr style=\"text-align: right;\">\n",
              "      <th></th>\n",
              "      <th>CURR_CustID</th>\n",
              "      <th>AMT_ANNUITY</th>\n",
              "      <th>AMT_APPLICATION</th>\n",
              "      <th>AMT_CREDIT</th>\n",
              "      <th>AMT_GOODS_PRICE</th>\n",
              "      <th>FIRST_DUEDay</th>\n",
              "      <th>LAST_DUEDay</th>\n",
              "      <th>DAYS_TERMINATION</th>\n",
              "      <th>INSURED_ON_APPROVAL</th>\n",
              "    </tr>\n",
              "  </thead>\n",
              "  <tbody>\n",
              "    <tr>\n",
              "      <th>779304</th>\n",
              "      <td>412009</td>\n",
              "      <td>NaN</td>\n",
              "      <td>6905160.0</td>\n",
              "      <td>6905160.0</td>\n",
              "      <td>6905160.0</td>\n",
              "      <td>NaN</td>\n",
              "      <td>NaN</td>\n",
              "      <td>NaN</td>\n",
              "      <td>NaN</td>\n",
              "    </tr>\n",
              "    <tr>\n",
              "      <th>1058067</th>\n",
              "      <td>346243</td>\n",
              "      <td>103498.650</td>\n",
              "      <td>5850000.0</td>\n",
              "      <td>4095000.0</td>\n",
              "      <td>5850000.0</td>\n",
              "      <td>NaN</td>\n",
              "      <td>NaN</td>\n",
              "      <td>NaN</td>\n",
              "      <td>NaN</td>\n",
              "    </tr>\n",
              "    <tr>\n",
              "      <th>1163698</th>\n",
              "      <td>346243</td>\n",
              "      <td>113979.690</td>\n",
              "      <td>5850000.0</td>\n",
              "      <td>4509688.5</td>\n",
              "      <td>5850000.0</td>\n",
              "      <td>-2443.0</td>\n",
              "      <td>-1513.0</td>\n",
              "      <td>-1505.0</td>\n",
              "      <td>1.0</td>\n",
              "    </tr>\n",
              "    <tr>\n",
              "      <th>1348406</th>\n",
              "      <td>324681</td>\n",
              "      <td>83707.830</td>\n",
              "      <td>5085000.0</td>\n",
              "      <td>3051000.0</td>\n",
              "      <td>5085000.0</td>\n",
              "      <td>-2598.0</td>\n",
              "      <td>-2598.0</td>\n",
              "      <td>-2591.0</td>\n",
              "      <td>0.0</td>\n",
              "    </tr>\n",
              "    <tr>\n",
              "      <th>1245539</th>\n",
              "      <td>173326</td>\n",
              "      <td>119443.005</td>\n",
              "      <td>4455000.0</td>\n",
              "      <td>4009500.0</td>\n",
              "      <td>4455000.0</td>\n",
              "      <td>NaN</td>\n",
              "      <td>NaN</td>\n",
              "      <td>NaN</td>\n",
              "      <td>NaN</td>\n",
              "    </tr>\n",
              "  </tbody>\n",
              "</table>\n",
              "</div>\n",
              "      <button class=\"colab-df-convert\" onclick=\"convertToInteractive('df-4315615b-15a5-49ed-99a5-34396f1e1333')\"\n",
              "              title=\"Convert this dataframe to an interactive table.\"\n",
              "              style=\"display:none;\">\n",
              "        \n",
              "  <svg xmlns=\"http://www.w3.org/2000/svg\" height=\"24px\"viewBox=\"0 0 24 24\"\n",
              "       width=\"24px\">\n",
              "    <path d=\"M0 0h24v24H0V0z\" fill=\"none\"/>\n",
              "    <path d=\"M18.56 5.44l.94 2.06.94-2.06 2.06-.94-2.06-.94-.94-2.06-.94 2.06-2.06.94zm-11 1L8.5 8.5l.94-2.06 2.06-.94-2.06-.94L8.5 2.5l-.94 2.06-2.06.94zm10 10l.94 2.06.94-2.06 2.06-.94-2.06-.94-.94-2.06-.94 2.06-2.06.94z\"/><path d=\"M17.41 7.96l-1.37-1.37c-.4-.4-.92-.59-1.43-.59-.52 0-1.04.2-1.43.59L10.3 9.45l-7.72 7.72c-.78.78-.78 2.05 0 2.83L4 21.41c.39.39.9.59 1.41.59.51 0 1.02-.2 1.41-.59l7.78-7.78 2.81-2.81c.8-.78.8-2.07 0-2.86zM5.41 20L4 18.59l7.72-7.72 1.47 1.35L5.41 20z\"/>\n",
              "  </svg>\n",
              "      </button>\n",
              "      \n",
              "  <style>\n",
              "    .colab-df-container {\n",
              "      display:flex;\n",
              "      flex-wrap:wrap;\n",
              "      gap: 12px;\n",
              "    }\n",
              "\n",
              "    .colab-df-convert {\n",
              "      background-color: #E8F0FE;\n",
              "      border: none;\n",
              "      border-radius: 50%;\n",
              "      cursor: pointer;\n",
              "      display: none;\n",
              "      fill: #1967D2;\n",
              "      height: 32px;\n",
              "      padding: 0 0 0 0;\n",
              "      width: 32px;\n",
              "    }\n",
              "\n",
              "    .colab-df-convert:hover {\n",
              "      background-color: #E2EBFA;\n",
              "      box-shadow: 0px 1px 2px rgba(60, 64, 67, 0.3), 0px 1px 3px 1px rgba(60, 64, 67, 0.15);\n",
              "      fill: #174EA6;\n",
              "    }\n",
              "\n",
              "    [theme=dark] .colab-df-convert {\n",
              "      background-color: #3B4455;\n",
              "      fill: #D2E3FC;\n",
              "    }\n",
              "\n",
              "    [theme=dark] .colab-df-convert:hover {\n",
              "      background-color: #434B5C;\n",
              "      box-shadow: 0px 1px 3px 1px rgba(0, 0, 0, 0.15);\n",
              "      filter: drop-shadow(0px 1px 2px rgba(0, 0, 0, 0.3));\n",
              "      fill: #FFFFFF;\n",
              "    }\n",
              "  </style>\n",
              "\n",
              "      <script>\n",
              "        const buttonEl =\n",
              "          document.querySelector('#df-4315615b-15a5-49ed-99a5-34396f1e1333 button.colab-df-convert');\n",
              "        buttonEl.style.display =\n",
              "          google.colab.kernel.accessAllowed ? 'block' : 'none';\n",
              "\n",
              "        async function convertToInteractive(key) {\n",
              "          const element = document.querySelector('#df-4315615b-15a5-49ed-99a5-34396f1e1333');\n",
              "          const dataTable =\n",
              "            await google.colab.kernel.invokeFunction('convertToInteractive',\n",
              "                                                     [key], {});\n",
              "          if (!dataTable) return;\n",
              "\n",
              "          const docLinkHtml = 'Like what you see? Visit the ' +\n",
              "            '<a target=\"_blank\" href=https://colab.research.google.com/notebooks/data_table.ipynb>data table notebook</a>'\n",
              "            + ' to learn more about interactive tables.';\n",
              "          element.innerHTML = '';\n",
              "          dataTable['output_type'] = 'display_data';\n",
              "          await google.colab.output.renderOutput(dataTable, element);\n",
              "          const docLink = document.createElement('div');\n",
              "          docLink.innerHTML = docLinkHtml;\n",
              "          element.appendChild(docLink);\n",
              "        }\n",
              "      </script>\n",
              "    </div>\n",
              "  </div>\n",
              "  "
            ]
          },
          "metadata": {},
          "execution_count": 222
        }
      ]
    },
    {
      "cell_type": "code",
      "source": [
        "#Plotting graph for approved loan amount \n",
        "df_amt.plot.bar()"
      ],
      "metadata": {
        "colab": {
          "base_uri": "https://localhost:8080/",
          "height": 328
        },
        "id": "WMA_ErRFyETe",
        "outputId": "a69912fe-1438-4158-a6cd-88bbfdfd345d"
      },
      "execution_count": null,
      "outputs": [
        {
          "output_type": "execute_result",
          "data": {
            "text/plain": [
              "<matplotlib.axes._subplots.AxesSubplot at 0x7f4a9ef86d00>"
            ]
          },
          "metadata": {},
          "execution_count": 223
        },
        {
          "output_type": "display_data",
          "data": {
            "text/plain": [
              "<Figure size 432x288 with 1 Axes>"
            ],
            "image/png": "[encoded data removed]"
          },
          "metadata": {
            "needs_background": "light"
          }
        }
      ]
    },
    {
      "cell_type": "code",
      "source": [],
      "metadata": {
        "id": "UYBUGsaqzNdH"
      },
      "execution_count": null,
      "outputs": []
    }
  ]
}